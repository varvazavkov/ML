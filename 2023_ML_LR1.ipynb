{
 "cells": [
  {
   "cell_type": "markdown",
   "id": "25369ced",
   "metadata": {},
   "source": [
    "# <font color = 'red'> ЛР 1. Введение. Инструменты python для базовых задач МО. </font>"
   ]
  },
  {
   "cell_type": "markdown",
   "id": "427f8b1e",
   "metadata": {},
   "source": [
    "Сложность: <font color = 'green'> Легко  </font>.\n",
    "\n",
    "Дата: 02.09.2023\n",
    "\n",
    "Срок выполнения: 1 неделя."
   ]
  },
  {
   "cell_type": "markdown",
   "id": "3f1b6159",
   "metadata": {},
   "source": [
    "## <font color = 'green'> 1. Библиотека numpy. База.  </font>"
   ]
  },
  {
   "cell_type": "markdown",
   "id": "d47e0589",
   "metadata": {},
   "source": [
    "**NumPy (Numerical Python)** — это библиотека языка Python, добавляющая поддержку больших многомерных массивов и матриц, вместе с большой библиотекой высокоуровневых (и очень быстрых) математических функций для операций с этими массивами."
   ]
  },
  {
   "cell_type": "code",
   "execution_count": 4,
   "id": "3a219691",
   "metadata": {},
   "outputs": [
    {
     "data": {
      "text/plain": [
       "'1.20.3'"
      ]
     },
     "execution_count": 4,
     "metadata": {},
     "output_type": "execute_result"
    }
   ],
   "source": [
    "import numpy as np\n",
    "np.__version__"
   ]
  },
  {
   "cell_type": "code",
   "execution_count": 2,
   "id": "ba8b6896",
   "metadata": {},
   "outputs": [
    {
     "data": {
      "text/plain": [
       "1.4711276743037347"
      ]
     },
     "execution_count": 2,
     "metadata": {},
     "output_type": "execute_result"
    }
   ],
   "source": [
    "np.arctan(10)"
   ]
  },
  {
   "cell_type": "code",
   "execution_count": 3,
   "id": "37ff9468",
   "metadata": {},
   "outputs": [
    {
     "data": {
      "text/plain": [
       "\u001b[1;31mCall signature:\u001b[0m  \u001b[0mnp\u001b[0m\u001b[1;33m.\u001b[0m\u001b[0marctan\u001b[0m\u001b[1;33m(\u001b[0m\u001b[1;33m*\u001b[0m\u001b[0margs\u001b[0m\u001b[1;33m,\u001b[0m \u001b[1;33m**\u001b[0m\u001b[0mkwargs\u001b[0m\u001b[1;33m)\u001b[0m\u001b[1;33m\u001b[0m\u001b[1;33m\u001b[0m\u001b[0m\n",
       "\u001b[1;31mType:\u001b[0m            ufunc\n",
       "\u001b[1;31mString form:\u001b[0m     <ufunc 'arctan'>\n",
       "\u001b[1;31mFile:\u001b[0m            c:\\users\\user\\anaconda3\\lib\\site-packages\\numpy\\__init__.py\n",
       "\u001b[1;31mDocstring:\u001b[0m      \n",
       "arctan(x, /, out=None, *, where=True, casting='same_kind', order='K', dtype=None, subok=True[, signature, extobj])\n",
       "\n",
       "Trigonometric inverse tangent, element-wise.\n",
       "\n",
       "The inverse of tan, so that if ``y = tan(x)`` then ``x = arctan(y)``.\n",
       "\n",
       "Parameters\n",
       "----------\n",
       "x : array_like\n",
       "out : ndarray, None, or tuple of ndarray and None, optional\n",
       "    A location into which the result is stored. If provided, it must have\n",
       "    a shape that the inputs broadcast to. If not provided or None,\n",
       "    a freshly-allocated array is returned. A tuple (possible only as a\n",
       "    keyword argument) must have length equal to the number of outputs.\n",
       "where : array_like, optional\n",
       "    This condition is broadcast over the input. At locations where the\n",
       "    condition is True, the `out` array will be set to the ufunc result.\n",
       "    Elsewhere, the `out` array will retain its original value.\n",
       "    Note that if an uninitialized `out` array is created via the default\n",
       "    ``out=None``, locations within it where the condition is False will\n",
       "    remain uninitialized.\n",
       "**kwargs\n",
       "    For other keyword-only arguments, see the\n",
       "    :ref:`ufunc docs <ufuncs.kwargs>`.\n",
       "\n",
       "Returns\n",
       "-------\n",
       "out : ndarray or scalar\n",
       "    Out has the same shape as `x`.  Its real part is in\n",
       "    ``[-pi/2, pi/2]`` (``arctan(+/-inf)`` returns ``+/-pi/2``).\n",
       "    This is a scalar if `x` is a scalar.\n",
       "\n",
       "See Also\n",
       "--------\n",
       "arctan2 : The \"four quadrant\" arctan of the angle formed by (`x`, `y`)\n",
       "    and the positive `x`-axis.\n",
       "angle : Argument of complex values.\n",
       "\n",
       "Notes\n",
       "-----\n",
       "`arctan` is a multi-valued function: for each `x` there are infinitely\n",
       "many numbers `z` such that tan(`z`) = `x`.  The convention is to return\n",
       "the angle `z` whose real part lies in [-pi/2, pi/2].\n",
       "\n",
       "For real-valued input data types, `arctan` always returns real output.\n",
       "For each value that cannot be expressed as a real number or infinity,\n",
       "it yields ``nan`` and sets the `invalid` floating point error flag.\n",
       "\n",
       "For complex-valued input, `arctan` is a complex analytic function that\n",
       "has [`1j, infj`] and [`-1j, -infj`] as branch cuts, and is continuous\n",
       "from the left on the former and from the right on the latter.\n",
       "\n",
       "The inverse tangent is also known as `atan` or tan^{-1}.\n",
       "\n",
       "References\n",
       "----------\n",
       "Abramowitz, M. and Stegun, I. A., *Handbook of Mathematical Functions*,\n",
       "10th printing, New York: Dover, 1964, pp. 79.\n",
       "http://www.math.sfu.ca/~cbm/aands/\n",
       "\n",
       "Examples\n",
       "--------\n",
       "We expect the arctan of 0 to be 0, and of 1 to be pi/4:\n",
       "\n",
       ">>> np.arctan([0, 1])\n",
       "array([ 0.        ,  0.78539816])\n",
       "\n",
       ">>> np.pi/4\n",
       "0.78539816339744828\n",
       "\n",
       "Plot arctan:\n",
       "\n",
       ">>> import matplotlib.pyplot as plt\n",
       ">>> x = np.linspace(-10, 10)\n",
       ">>> plt.plot(x, np.arctan(x))\n",
       ">>> plt.axis('tight')\n",
       ">>> plt.show()\n",
       "\u001b[1;31mClass docstring:\u001b[0m\n",
       "Functions that operate element by element on whole arrays.\n",
       "\n",
       "To see the documentation for a specific ufunc, use `info`.  For\n",
       "example, ``np.info(np.sin)``.  Because ufuncs are written in C\n",
       "(for speed) and linked into Python with NumPy's ufunc facility,\n",
       "Python's help() function finds this page whenever help() is called\n",
       "on a ufunc.\n",
       "\n",
       "A detailed explanation of ufuncs can be found in the docs for :ref:`ufuncs`.\n",
       "\n",
       "**Calling ufuncs:** ``op(*x[, out], where=True, **kwargs)``\n",
       "\n",
       "Apply `op` to the arguments `*x` elementwise, broadcasting the arguments.\n",
       "\n",
       "The broadcasting rules are:\n",
       "\n",
       "* Dimensions of length 1 may be prepended to either array.\n",
       "* Arrays may be repeated along dimensions of length 1.\n",
       "\n",
       "Parameters\n",
       "----------\n",
       "*x : array_like\n",
       "    Input arrays.\n",
       "out : ndarray, None, or tuple of ndarray and None, optional\n",
       "    Alternate array object(s) in which to put the result; if provided, it\n",
       "    must have a shape that the inputs broadcast to. A tuple of arrays\n",
       "    (possible only as a keyword argument) must have length equal to the\n",
       "    number of outputs; use None for uninitialized outputs to be\n",
       "    allocated by the ufunc.\n",
       "where : array_like, optional\n",
       "    This condition is broadcast over the input. At locations where the\n",
       "    condition is True, the `out` array will be set to the ufunc result.\n",
       "    Elsewhere, the `out` array will retain its original value.\n",
       "    Note that if an uninitialized `out` array is created via the default\n",
       "    ``out=None``, locations within it where the condition is False will\n",
       "    remain uninitialized.\n",
       "**kwargs\n",
       "    For other keyword-only arguments, see the :ref:`ufunc docs <ufuncs.kwargs>`.\n",
       "\n",
       "Returns\n",
       "-------\n",
       "r : ndarray or tuple of ndarray\n",
       "    `r` will have the shape that the arrays in `x` broadcast to; if `out` is\n",
       "    provided, it will be returned. If not, `r` will be allocated and\n",
       "    may contain uninitialized values. If the function has more than one\n",
       "    output, then the result will be a tuple of arrays.\n"
      ]
     },
     "metadata": {},
     "output_type": "display_data"
    }
   ],
   "source": [
    "np.arctan?"
   ]
  },
  {
   "cell_type": "markdown",
   "id": "d38e1c04",
   "metadata": {},
   "source": [
    "**Создаём массивы**"
   ]
  },
  {
   "cell_type": "code",
   "execution_count": 4,
   "id": "3a41d324",
   "metadata": {},
   "outputs": [
    {
     "data": {
      "text/plain": [
       "array([1, 2, 3, 4])"
      ]
     },
     "execution_count": 4,
     "metadata": {},
     "output_type": "execute_result"
    }
   ],
   "source": [
    "np.array([1, 2, 3, 4])"
   ]
  },
  {
   "cell_type": "code",
   "execution_count": 5,
   "id": "ce955ece",
   "metadata": {},
   "outputs": [
    {
     "data": {
      "text/plain": [
       "array([1., 2., 3., 4.], dtype=float32)"
      ]
     },
     "execution_count": 5,
     "metadata": {},
     "output_type": "execute_result"
    }
   ],
   "source": [
    "a = np.array([1, 2, 3, 4], dtype = 'float32')\n",
    "a"
   ]
  },
  {
   "cell_type": "code",
   "execution_count": 6,
   "id": "c6058a53",
   "metadata": {},
   "outputs": [
    {
     "data": {
      "text/plain": [
       "array([1., 2., 3., 4., 2.])"
      ]
     },
     "execution_count": 6,
     "metadata": {},
     "output_type": "execute_result"
    }
   ],
   "source": [
    "np.append(a,2)"
   ]
  },
  {
   "cell_type": "code",
   "execution_count": 7,
   "id": "d611a17d",
   "metadata": {},
   "outputs": [
    {
     "data": {
      "text/plain": [
       "array([1., 2., 3., 4.], dtype=float32)"
      ]
     },
     "execution_count": 7,
     "metadata": {},
     "output_type": "execute_result"
    }
   ],
   "source": [
    "a"
   ]
  },
  {
   "cell_type": "code",
   "execution_count": 11,
   "id": "c916ac35",
   "metadata": {},
   "outputs": [
    {
     "data": {
      "text/plain": [
       "array([[2, 3, 4],\n",
       "       [4, 5, 6],\n",
       "       [6, 7, 8]])"
      ]
     },
     "execution_count": 11,
     "metadata": {},
     "output_type": "execute_result"
    }
   ],
   "source": [
    "np.array([range(i, i + 3) for i in [2, 4, 6]]) #преобразование вложенных данных в массив"
   ]
  },
  {
   "cell_type": "code",
   "execution_count": 12,
   "id": "e550c1cd",
   "metadata": {},
   "outputs": [
    {
     "data": {
      "text/plain": [
       "array([0, 0, 0, 0, 0, 0, 0, 0, 0, 0])"
      ]
     },
     "execution_count": 12,
     "metadata": {},
     "output_type": "execute_result"
    }
   ],
   "source": [
    "np.zeros(10, dtype=int)"
   ]
  },
  {
   "cell_type": "code",
   "execution_count": 13,
   "id": "451c436c",
   "metadata": {},
   "outputs": [
    {
     "data": {
      "text/plain": [
       "array([[0, 0, 0],\n",
       "       [0, 0, 0],\n",
       "       [0, 0, 0]])"
      ]
     },
     "execution_count": 13,
     "metadata": {},
     "output_type": "execute_result"
    }
   ],
   "source": [
    "np.zeros((3,3), dtype=int)"
   ]
  },
  {
   "cell_type": "code",
   "execution_count": 14,
   "id": "2ea24e27",
   "metadata": {},
   "outputs": [
    {
     "data": {
      "text/plain": [
       "array([[1, 1, 1],\n",
       "       [1, 1, 1],\n",
       "       [1, 1, 1]])"
      ]
     },
     "execution_count": 14,
     "metadata": {},
     "output_type": "execute_result"
    }
   ],
   "source": [
    "np.ones((3,3), dtype=int)"
   ]
  },
  {
   "cell_type": "code",
   "execution_count": 15,
   "id": "fd93b12f",
   "metadata": {},
   "outputs": [
    {
     "data": {
      "text/plain": [
       "array([[3.14159265, 3.14159265, 3.14159265],\n",
       "       [3.14159265, 3.14159265, 3.14159265],\n",
       "       [3.14159265, 3.14159265, 3.14159265]])"
      ]
     },
     "execution_count": 15,
     "metadata": {},
     "output_type": "execute_result"
    }
   ],
   "source": [
    "np.full((3,3), np.pi)"
   ]
  },
  {
   "cell_type": "code",
   "execution_count": 18,
   "id": "7ef9c51d",
   "metadata": {},
   "outputs": [
    {
     "data": {
      "text/plain": [
       "array([ 0,  2,  4,  6,  8, 10, 12, 14, 16, 18])"
      ]
     },
     "execution_count": 18,
     "metadata": {},
     "output_type": "execute_result"
    }
   ],
   "source": [
    "np.arange(0,20,2)"
   ]
  },
  {
   "cell_type": "code",
   "execution_count": 19,
   "id": "e10ea8b7",
   "metadata": {},
   "outputs": [
    {
     "data": {
      "text/plain": [
       "array([0.  , 0.25, 0.5 , 0.75, 1.  ])"
      ]
     },
     "execution_count": 19,
     "metadata": {},
     "output_type": "execute_result"
    }
   ],
   "source": [
    "np.linspace(0,1,5)"
   ]
  },
  {
   "cell_type": "code",
   "execution_count": 20,
   "id": "768129bf",
   "metadata": {},
   "outputs": [
    {
     "data": {
      "text/plain": [
       "array([ 1.        ,  1.77827941,  3.16227766,  5.62341325, 10.        ])"
      ]
     },
     "execution_count": 20,
     "metadata": {},
     "output_type": "execute_result"
    }
   ],
   "source": [
    "np.logspace(0,1,5) # последовательность степеней"
   ]
  },
  {
   "cell_type": "code",
   "execution_count": 21,
   "id": "9b4dd54f",
   "metadata": {},
   "outputs": [
    {
     "data": {
      "text/plain": [
       "array([ 1.        ,  1.77827941,  3.16227766,  5.62341325, 10.        ])"
      ]
     },
     "execution_count": 21,
     "metadata": {},
     "output_type": "execute_result"
    }
   ],
   "source": [
    "10**np.linspace(0,1,5)"
   ]
  },
  {
   "cell_type": "code",
   "execution_count": 22,
   "id": "2c722b72",
   "metadata": {},
   "outputs": [
    {
     "data": {
      "text/plain": [
       "array([ 1.,  2.,  4.,  8., 16., 32.])"
      ]
     },
     "execution_count": 22,
     "metadata": {},
     "output_type": "execute_result"
    }
   ],
   "source": [
    "np.logspace(0,5,6,base = 2)"
   ]
  },
  {
   "cell_type": "code",
   "execution_count": 23,
   "id": "f0263e51",
   "metadata": {},
   "outputs": [
    {
     "data": {
      "text/plain": [
       "array([[0.05256927, 0.0218212 , 0.84311197],\n",
       "       [0.23616875, 0.66301062, 0.10615262],\n",
       "       [0.21262527, 0.21085619, 0.21437151]])"
      ]
     },
     "execution_count": 23,
     "metadata": {},
     "output_type": "execute_result"
    }
   ],
   "source": [
    "np.random.random((3,3))"
   ]
  },
  {
   "cell_type": "code",
   "execution_count": 24,
   "id": "02db635a",
   "metadata": {},
   "outputs": [
    {
     "data": {
      "text/plain": [
       "array([[6, 1, 9],\n",
       "       [4, 2, 9],\n",
       "       [0, 4, 0]])"
      ]
     },
     "execution_count": 24,
     "metadata": {},
     "output_type": "execute_result"
    }
   ],
   "source": [
    "np.random.randint(0, 10, (3, 3))"
   ]
  },
  {
   "cell_type": "code",
   "execution_count": 25,
   "id": "56c7e8b6",
   "metadata": {},
   "outputs": [
    {
     "data": {
      "text/plain": [
       "array([[1., 0., 0.],\n",
       "       [0., 1., 0.],\n",
       "       [0., 0., 1.]])"
      ]
     },
     "execution_count": 25,
     "metadata": {},
     "output_type": "execute_result"
    }
   ],
   "source": [
    "np.eye(3)"
   ]
  },
  {
   "cell_type": "code",
   "execution_count": 26,
   "id": "5daa8529",
   "metadata": {},
   "outputs": [
    {
     "data": {
      "text/plain": [
       "array([[1, 2],\n",
       "       [3, 4]])"
      ]
     },
     "execution_count": 26,
     "metadata": {},
     "output_type": "execute_result"
    }
   ],
   "source": [
    "test = np.array([[1,2],[3,4]],dtype = 'int32')\n",
    "test"
   ]
  },
  {
   "cell_type": "code",
   "execution_count": 27,
   "id": "7fe6ae03",
   "metadata": {},
   "outputs": [],
   "source": [
    "test[0]=[3.14,2.0001]"
   ]
  },
  {
   "cell_type": "code",
   "execution_count": 28,
   "id": "d3186a41",
   "metadata": {},
   "outputs": [
    {
     "data": {
      "text/plain": [
       "array([[3, 2],\n",
       "       [3, 4]])"
      ]
     },
     "execution_count": 28,
     "metadata": {},
     "output_type": "execute_result"
    }
   ],
   "source": [
    "test"
   ]
  },
  {
   "cell_type": "code",
   "execution_count": 29,
   "id": "df81e8ab",
   "metadata": {},
   "outputs": [],
   "source": [
    "test = np.append(test,[3.14,2.0001])"
   ]
  },
  {
   "cell_type": "code",
   "execution_count": 30,
   "id": "c4242929",
   "metadata": {},
   "outputs": [
    {
     "data": {
      "text/plain": [
       "array([3.    , 2.    , 3.    , 4.    , 3.14  , 2.0001])"
      ]
     },
     "execution_count": 30,
     "metadata": {},
     "output_type": "execute_result"
    }
   ],
   "source": [
    "test"
   ]
  },
  {
   "cell_type": "code",
   "execution_count": 31,
   "id": "a15758ee",
   "metadata": {},
   "outputs": [
    {
     "data": {
      "text/plain": [
       "dtype('float64')"
      ]
     },
     "execution_count": 31,
     "metadata": {},
     "output_type": "execute_result"
    }
   ],
   "source": [
    "test.dtype"
   ]
  },
  {
   "cell_type": "code",
   "execution_count": 32,
   "id": "6ee03f6f",
   "metadata": {},
   "outputs": [
    {
     "data": {
      "text/plain": [
       "48"
      ]
     },
     "execution_count": 32,
     "metadata": {},
     "output_type": "execute_result"
    }
   ],
   "source": [
    "test.nbytes"
   ]
  },
  {
   "cell_type": "code",
   "execution_count": 33,
   "id": "2483960a",
   "metadata": {},
   "outputs": [
    {
     "data": {
      "text/plain": [
       "array([[0, 1, 2],\n",
       "       [1, 2, 3],\n",
       "       [2, 3, 4]])"
      ]
     },
     "execution_count": 33,
     "metadata": {},
     "output_type": "execute_result"
    }
   ],
   "source": [
    "np.fromfunction(lambda i, j: i + j, (3, 3), dtype=int) #элементы зависят от индекса"
   ]
  },
  {
   "cell_type": "code",
   "execution_count": 34,
   "id": "a81484e3",
   "metadata": {},
   "outputs": [
    {
     "data": {
      "text/plain": [
       "array([0., 0., 0., 0., 0., 0.])"
      ]
     },
     "execution_count": 34,
     "metadata": {},
     "output_type": "execute_result"
    }
   ],
   "source": [
    "np.zeros_like(test)"
   ]
  },
  {
   "cell_type": "markdown",
   "id": "402704fb",
   "metadata": {},
   "source": [
    "**Доступ к элементам массива**"
   ]
  },
  {
   "cell_type": "code",
   "execution_count": 35,
   "id": "0ba425d6",
   "metadata": {},
   "outputs": [],
   "source": [
    "x1 = np.random.randint(10, size=6)  \n",
    "x2 = np.random.randint(10, size=(3, 4))  \n",
    "x3 = np.random.randint(10, size=(3, 4, 5))  "
   ]
  },
  {
   "cell_type": "code",
   "execution_count": 36,
   "id": "708a94df",
   "metadata": {},
   "outputs": [
    {
     "data": {
      "text/plain": [
       "array([9, 1, 4, 0, 7, 3])"
      ]
     },
     "execution_count": 36,
     "metadata": {},
     "output_type": "execute_result"
    }
   ],
   "source": [
    "x1"
   ]
  },
  {
   "cell_type": "code",
   "execution_count": 38,
   "id": "982e1e35",
   "metadata": {},
   "outputs": [
    {
     "data": {
      "text/plain": [
       "array([[5, 1, 4, 8],\n",
       "       [5, 1, 2, 3],\n",
       "       [8, 8, 9, 8]])"
      ]
     },
     "execution_count": 38,
     "metadata": {},
     "output_type": "execute_result"
    }
   ],
   "source": [
    "x2"
   ]
  },
  {
   "cell_type": "code",
   "execution_count": 39,
   "id": "78b57b52",
   "metadata": {},
   "outputs": [
    {
     "data": {
      "text/plain": [
       "array([[[5, 3, 7, 3, 3],\n",
       "        [8, 6, 6, 4, 7],\n",
       "        [6, 1, 8, 6, 7],\n",
       "        [8, 3, 3, 4, 5]],\n",
       "\n",
       "       [[9, 2, 9, 1, 5],\n",
       "        [8, 7, 4, 1, 7],\n",
       "        [0, 0, 3, 9, 3],\n",
       "        [8, 1, 7, 1, 3]],\n",
       "\n",
       "       [[6, 7, 1, 2, 2],\n",
       "        [6, 9, 5, 0, 7],\n",
       "        [7, 6, 3, 5, 1],\n",
       "        [0, 6, 7, 0, 9]]])"
      ]
     },
     "execution_count": 39,
     "metadata": {},
     "output_type": "execute_result"
    }
   ],
   "source": [
    "x3"
   ]
  },
  {
   "cell_type": "code",
   "execution_count": 40,
   "id": "21ad96b4",
   "metadata": {},
   "outputs": [
    {
     "data": {
      "text/plain": [
       "9"
      ]
     },
     "execution_count": 40,
     "metadata": {},
     "output_type": "execute_result"
    }
   ],
   "source": [
    "x1[0]"
   ]
  },
  {
   "cell_type": "code",
   "execution_count": 41,
   "id": "c5cd2cd0",
   "metadata": {},
   "outputs": [
    {
     "data": {
      "text/plain": [
       "3"
      ]
     },
     "execution_count": 41,
     "metadata": {},
     "output_type": "execute_result"
    }
   ],
   "source": [
    "x1[-1]"
   ]
  },
  {
   "cell_type": "code",
   "execution_count": 42,
   "id": "a2a21d99",
   "metadata": {},
   "outputs": [
    {
     "data": {
      "text/plain": [
       "array([[5, 1, 4, 8],\n",
       "       [5, 1, 2, 3],\n",
       "       [8, 8, 9, 8]])"
      ]
     },
     "execution_count": 42,
     "metadata": {},
     "output_type": "execute_result"
    }
   ],
   "source": [
    "x2"
   ]
  },
  {
   "cell_type": "code",
   "execution_count": 43,
   "id": "0ec83b80",
   "metadata": {},
   "outputs": [
    {
     "data": {
      "text/plain": [
       "1"
      ]
     },
     "execution_count": 43,
     "metadata": {},
     "output_type": "execute_result"
    }
   ],
   "source": [
    "x2[0,1]"
   ]
  },
  {
   "cell_type": "code",
   "execution_count": 44,
   "id": "599b0db6",
   "metadata": {},
   "outputs": [
    {
     "data": {
      "text/plain": [
       "8"
      ]
     },
     "execution_count": 44,
     "metadata": {},
     "output_type": "execute_result"
    }
   ],
   "source": [
    "x2[0,-1]"
   ]
  },
  {
   "cell_type": "code",
   "execution_count": 45,
   "id": "91f4720f",
   "metadata": {},
   "outputs": [
    {
     "data": {
      "text/plain": [
       "array([9, 1, 4, 0, 7, 3])"
      ]
     },
     "execution_count": 45,
     "metadata": {},
     "output_type": "execute_result"
    }
   ],
   "source": [
    "x1"
   ]
  },
  {
   "cell_type": "code",
   "execution_count": 46,
   "id": "f1b24ff8",
   "metadata": {},
   "outputs": [
    {
     "data": {
      "text/plain": [
       "array([1, 0])"
      ]
     },
     "execution_count": 46,
     "metadata": {},
     "output_type": "execute_result"
    }
   ],
   "source": [
    "# x[start:stop:step]\n",
    "x1[1:-1:2]"
   ]
  },
  {
   "cell_type": "code",
   "execution_count": 47,
   "id": "ecd0c090",
   "metadata": {},
   "outputs": [
    {
     "data": {
      "text/plain": [
       "array([9, 1, 4, 0, 7])"
      ]
     },
     "execution_count": 47,
     "metadata": {},
     "output_type": "execute_result"
    }
   ],
   "source": [
    "x1[:5]"
   ]
  },
  {
   "cell_type": "code",
   "execution_count": 48,
   "id": "7556c785",
   "metadata": {},
   "outputs": [
    {
     "data": {
      "text/plain": [
       "array([9, 4, 7])"
      ]
     },
     "execution_count": 48,
     "metadata": {},
     "output_type": "execute_result"
    }
   ],
   "source": [
    "x1[::2]"
   ]
  },
  {
   "cell_type": "code",
   "execution_count": 49,
   "id": "ecebc759",
   "metadata": {},
   "outputs": [
    {
     "data": {
      "text/plain": [
       "array([3, 7, 0, 4, 1, 9])"
      ]
     },
     "execution_count": 49,
     "metadata": {},
     "output_type": "execute_result"
    }
   ],
   "source": [
    "x1[::-1] # разворот"
   ]
  },
  {
   "cell_type": "code",
   "execution_count": 50,
   "id": "691a3505",
   "metadata": {},
   "outputs": [
    {
     "data": {
      "text/plain": [
       "array([[5, 1, 4, 8],\n",
       "       [5, 1, 2, 3],\n",
       "       [8, 8, 9, 8]])"
      ]
     },
     "execution_count": 50,
     "metadata": {},
     "output_type": "execute_result"
    }
   ],
   "source": [
    "x2"
   ]
  },
  {
   "cell_type": "code",
   "execution_count": 51,
   "id": "e6f1c88c",
   "metadata": {},
   "outputs": [
    {
     "data": {
      "text/plain": [
       "array([[5, 1],\n",
       "       [5, 1]])"
      ]
     },
     "execution_count": 51,
     "metadata": {},
     "output_type": "execute_result"
    }
   ],
   "source": [
    "x2[:2,:2]"
   ]
  },
  {
   "cell_type": "code",
   "execution_count": 52,
   "id": "210da55e",
   "metadata": {},
   "outputs": [
    {
     "data": {
      "text/plain": [
       "array([[8, 4, 1, 5],\n",
       "       [3, 2, 1, 5],\n",
       "       [8, 9, 8, 8]])"
      ]
     },
     "execution_count": 52,
     "metadata": {},
     "output_type": "execute_result"
    }
   ],
   "source": [
    "x2[:,::-1]"
   ]
  },
  {
   "cell_type": "code",
   "execution_count": 53,
   "id": "3adb41fc",
   "metadata": {},
   "outputs": [
    {
     "data": {
      "text/plain": [
       "array([[8, 4, 1],\n",
       "       [3, 2, 1],\n",
       "       [8, 9, 8]])"
      ]
     },
     "execution_count": 53,
     "metadata": {},
     "output_type": "execute_result"
    }
   ],
   "source": [
    "x2[:,[3,2,1]]"
   ]
  },
  {
   "cell_type": "code",
   "execution_count": 54,
   "id": "c165e2a9",
   "metadata": {},
   "outputs": [
    {
     "data": {
      "text/plain": [
       "array([4, 2, 9])"
      ]
     },
     "execution_count": 54,
     "metadata": {},
     "output_type": "execute_result"
    }
   ],
   "source": [
    "x2[:,2] #столбец"
   ]
  },
  {
   "cell_type": "code",
   "execution_count": 55,
   "id": "cd99d0e6",
   "metadata": {},
   "outputs": [
    {
     "data": {
      "text/plain": [
       "array([8, 8, 9, 8])"
      ]
     },
     "execution_count": 55,
     "metadata": {},
     "output_type": "execute_result"
    }
   ],
   "source": [
    "x2[2,:] #строка"
   ]
  },
  {
   "cell_type": "code",
   "execution_count": 56,
   "id": "a9bac177",
   "metadata": {},
   "outputs": [],
   "source": [
    "x2_child = x2[2,:] # подмассив"
   ]
  },
  {
   "cell_type": "code",
   "execution_count": 57,
   "id": "9e199a73",
   "metadata": {},
   "outputs": [],
   "source": [
    "x2_child[0] = 2023"
   ]
  },
  {
   "cell_type": "code",
   "execution_count": 58,
   "id": "203a4c18",
   "metadata": {},
   "outputs": [
    {
     "data": {
      "text/plain": [
       "array([2023,    8,    9,    8])"
      ]
     },
     "execution_count": 58,
     "metadata": {},
     "output_type": "execute_result"
    }
   ],
   "source": [
    "x2_child"
   ]
  },
  {
   "cell_type": "code",
   "execution_count": 59,
   "id": "70fa49b7",
   "metadata": {},
   "outputs": [
    {
     "data": {
      "text/plain": [
       "array([[   5,    1,    4,    8],\n",
       "       [   5,    1,    2,    3],\n",
       "       [2023,    8,    9,    8]])"
      ]
     },
     "execution_count": 59,
     "metadata": {},
     "output_type": "execute_result"
    }
   ],
   "source": [
    "x2"
   ]
  },
  {
   "cell_type": "code",
   "execution_count": 60,
   "id": "7a8eaa1f",
   "metadata": {},
   "outputs": [],
   "source": [
    "x2_grownup_child = x2[0,:].copy() # копия для разрыва связи с базовым массивом"
   ]
  },
  {
   "cell_type": "code",
   "execution_count": 61,
   "id": "4d3ff5a8",
   "metadata": {},
   "outputs": [
    {
     "data": {
      "text/plain": [
       "array([5, 1, 4, 8])"
      ]
     },
     "execution_count": 61,
     "metadata": {},
     "output_type": "execute_result"
    }
   ],
   "source": [
    "x2_grownup_child"
   ]
  },
  {
   "cell_type": "code",
   "execution_count": 62,
   "id": "5048c813",
   "metadata": {},
   "outputs": [],
   "source": [
    "x2_grownup_child[0] = 2023"
   ]
  },
  {
   "cell_type": "code",
   "execution_count": 63,
   "id": "b1937ac6",
   "metadata": {},
   "outputs": [
    {
     "data": {
      "text/plain": [
       "array([2023,    1,    4,    8])"
      ]
     },
     "execution_count": 63,
     "metadata": {},
     "output_type": "execute_result"
    }
   ],
   "source": [
    "x2_grownup_child"
   ]
  },
  {
   "cell_type": "code",
   "execution_count": 64,
   "id": "6341435b",
   "metadata": {},
   "outputs": [
    {
     "data": {
      "text/plain": [
       "array([[   5,    1,    4,    8],\n",
       "       [   5,    1,    2,    3],\n",
       "       [2023,    8,    9,    8]])"
      ]
     },
     "execution_count": 64,
     "metadata": {},
     "output_type": "execute_result"
    }
   ],
   "source": [
    "x2"
   ]
  },
  {
   "cell_type": "markdown",
   "id": "fdef8bc6",
   "metadata": {},
   "source": [
    "**Изменение структуры массива**"
   ]
  },
  {
   "cell_type": "code",
   "execution_count": 65,
   "id": "9a00bed6",
   "metadata": {},
   "outputs": [
    {
     "name": "stdout",
     "output_type": "stream",
     "text": [
      "[[1 2 3]\n",
      " [4 5 6]\n",
      " [7 8 9]]\n"
     ]
    }
   ],
   "source": [
    "grid = np.arange(1, 10).reshape(3, 3) #создаём массив потом меняем его форму\n",
    "print(grid)"
   ]
  },
  {
   "cell_type": "code",
   "execution_count": 66,
   "id": "2d6254c5",
   "metadata": {
    "scrolled": true
   },
   "outputs": [
    {
     "ename": "ValueError",
     "evalue": "cannot reshape array of size 9 into shape (3,2)",
     "output_type": "error",
     "traceback": [
      "\u001b[1;31m---------------------------------------------------------------------------\u001b[0m",
      "\u001b[1;31mValueError\u001b[0m                                Traceback (most recent call last)",
      "\u001b[1;32m~\\AppData\\Local\\Temp/ipykernel_16540/217425583.py\u001b[0m in \u001b[0;36m<module>\u001b[1;34m\u001b[0m\n\u001b[1;32m----> 1\u001b[1;33m \u001b[0mnp\u001b[0m\u001b[1;33m.\u001b[0m\u001b[0marange\u001b[0m\u001b[1;33m(\u001b[0m\u001b[1;36m1\u001b[0m\u001b[1;33m,\u001b[0m \u001b[1;36m10\u001b[0m\u001b[1;33m)\u001b[0m\u001b[1;33m.\u001b[0m\u001b[0mreshape\u001b[0m\u001b[1;33m(\u001b[0m\u001b[1;36m3\u001b[0m\u001b[1;33m,\u001b[0m \u001b[1;36m2\u001b[0m\u001b[1;33m)\u001b[0m\u001b[1;33m\u001b[0m\u001b[1;33m\u001b[0m\u001b[0m\n\u001b[0m",
      "\u001b[1;31mValueError\u001b[0m: cannot reshape array of size 9 into shape (3,2)"
     ]
    }
   ],
   "source": [
    "np.arange(1, 10).reshape(3, 2)"
   ]
  },
  {
   "cell_type": "code",
   "execution_count": 67,
   "id": "2de2cc8f",
   "metadata": {},
   "outputs": [
    {
     "data": {
      "text/plain": [
       "array([[1, 2, 3]])"
      ]
     },
     "execution_count": 67,
     "metadata": {},
     "output_type": "execute_result"
    }
   ],
   "source": [
    "x = np.array([1, 2, 3])\n",
    "x.reshape((1, 3)) "
   ]
  },
  {
   "cell_type": "code",
   "execution_count": 74,
   "id": "08db440d",
   "metadata": {},
   "outputs": [
    {
     "data": {
      "text/plain": [
       "array([[1],\n",
       "       [2],\n",
       "       [3]])"
      ]
     },
     "execution_count": 74,
     "metadata": {},
     "output_type": "execute_result"
    }
   ],
   "source": [
    "x.reshape((3, 1)) "
   ]
  },
  {
   "cell_type": "code",
   "execution_count": 76,
   "id": "84a8ed07",
   "metadata": {},
   "outputs": [
    {
     "data": {
      "text/plain": [
       "array([[1, 2, 3]])"
      ]
     },
     "execution_count": 76,
     "metadata": {},
     "output_type": "execute_result"
    }
   ],
   "source": [
    "x[np.newaxis,:]"
   ]
  },
  {
   "cell_type": "code",
   "execution_count": 77,
   "id": "ae2cef61",
   "metadata": {},
   "outputs": [
    {
     "data": {
      "text/plain": [
       "array([1, 2, 3, 3, 2, 1])"
      ]
     },
     "execution_count": 77,
     "metadata": {},
     "output_type": "execute_result"
    }
   ],
   "source": [
    "x = np.array([1, 2, 3])\n",
    "y = np.array([3, 2, 1])\n",
    "np.concatenate([x, y])"
   ]
  },
  {
   "cell_type": "code",
   "execution_count": 78,
   "id": "35af2ebe",
   "metadata": {},
   "outputs": [
    {
     "name": "stdout",
     "output_type": "stream",
     "text": [
      "[ 1  2  3  3  2  1 99 99 99]\n"
     ]
    }
   ],
   "source": [
    "z = np.array([99, 99, 99])\n",
    "print(np.concatenate([x, y, z]))"
   ]
  },
  {
   "cell_type": "code",
   "execution_count": 79,
   "id": "bad2b508",
   "metadata": {},
   "outputs": [],
   "source": [
    "grid1 = np.array([[1, 2, 3],\n",
    "                 [4, 5, 6]])"
   ]
  },
  {
   "cell_type": "code",
   "execution_count": 80,
   "id": "fd9b9691",
   "metadata": {},
   "outputs": [
    {
     "data": {
      "text/plain": [
       "array([[0., 0., 0.],\n",
       "       [0., 0., 0.]])"
      ]
     },
     "execution_count": 80,
     "metadata": {},
     "output_type": "execute_result"
    }
   ],
   "source": [
    "grid2 = np.zeros((2,3))\n",
    "grid2"
   ]
  },
  {
   "cell_type": "code",
   "execution_count": 81,
   "id": "d292bfcb",
   "metadata": {},
   "outputs": [
    {
     "data": {
      "text/plain": [
       "array([[1., 2., 3.],\n",
       "       [4., 5., 6.],\n",
       "       [0., 0., 0.],\n",
       "       [0., 0., 0.]])"
      ]
     },
     "execution_count": 81,
     "metadata": {},
     "output_type": "execute_result"
    }
   ],
   "source": [
    "np.concatenate([grid1, grid2]) # конкатенация по 1 - ому измерению"
   ]
  },
  {
   "cell_type": "code",
   "execution_count": 82,
   "id": "15eebaf5",
   "metadata": {},
   "outputs": [
    {
     "data": {
      "text/plain": [
       "array([[1., 2., 3., 0., 0., 0.],\n",
       "       [4., 5., 6., 0., 0., 0.]])"
      ]
     },
     "execution_count": 82,
     "metadata": {},
     "output_type": "execute_result"
    }
   ],
   "source": [
    "np.concatenate([grid1, grid2],axis = 1) # конкатенация по 2 - ому измерению"
   ]
  },
  {
   "cell_type": "code",
   "execution_count": 83,
   "id": "632b6dbe",
   "metadata": {},
   "outputs": [
    {
     "data": {
      "text/plain": [
       "array([[1., 2., 3.],\n",
       "       [4., 5., 6.],\n",
       "       [0., 0., 0.],\n",
       "       [0., 0., 0.]])"
      ]
     },
     "execution_count": 83,
     "metadata": {},
     "output_type": "execute_result"
    }
   ],
   "source": [
    "np.vstack([grid1, grid2])"
   ]
  },
  {
   "cell_type": "code",
   "execution_count": 84,
   "id": "b15d6b56",
   "metadata": {},
   "outputs": [
    {
     "data": {
      "text/plain": [
       "array([[1., 2., 3., 0., 0., 0.],\n",
       "       [4., 5., 6., 0., 0., 0.]])"
      ]
     },
     "execution_count": 84,
     "metadata": {},
     "output_type": "execute_result"
    }
   ],
   "source": [
    "np.hstack([grid1, grid2])"
   ]
  },
  {
   "cell_type": "code",
   "execution_count": 86,
   "id": "37b46913",
   "metadata": {},
   "outputs": [
    {
     "name": "stdout",
     "output_type": "stream",
     "text": [
      "[ 1  2  3 99 99  3  2  1]\n"
     ]
    },
    {
     "data": {
      "text/plain": [
       "[array([1, 2]), array([ 3, 99]), array([99,  3]), array([2, 1])]"
      ]
     },
     "execution_count": 86,
     "metadata": {},
     "output_type": "execute_result"
    }
   ],
   "source": [
    "x = np.array([1, 2, 3, 99, 99, 3, 2, 1])\n",
    "print(x)\n",
    "np.split(x, 4) # разделение массива"
   ]
  },
  {
   "cell_type": "code",
   "execution_count": 90,
   "id": "e57e37ef",
   "metadata": {},
   "outputs": [
    {
     "data": {
      "text/plain": [
       "[array([1, 2, 3]), array([99, 99]), array([3, 2, 1])]"
      ]
     },
     "execution_count": 90,
     "metadata": {},
     "output_type": "execute_result"
    }
   ],
   "source": [
    "np.split(x,[3,5])"
   ]
  },
  {
   "cell_type": "code",
   "execution_count": 91,
   "id": "4bbe52d9",
   "metadata": {},
   "outputs": [
    {
     "data": {
      "text/plain": [
       "array([[ 0,  1,  2,  3],\n",
       "       [ 4,  5,  6,  7],\n",
       "       [ 8,  9, 10, 11],\n",
       "       [12, 13, 14, 15]])"
      ]
     },
     "execution_count": 91,
     "metadata": {},
     "output_type": "execute_result"
    }
   ],
   "source": [
    "grid = np.arange(16).reshape((4, 4))\n",
    "grid"
   ]
  },
  {
   "cell_type": "code",
   "execution_count": 99,
   "id": "f37f1009-8342-430a-a6d1-b9c612acc150",
   "metadata": {},
   "outputs": [
    {
     "data": {
      "text/plain": [
       "[array([[0, 1, 2, 3],\n",
       "        [4, 5, 6, 7]]),\n",
       " array([[ 8,  9, 10, 11],\n",
       "        [12, 13, 14, 15]])]"
      ]
     },
     "execution_count": 99,
     "metadata": {},
     "output_type": "execute_result"
    }
   ],
   "source": [
    "np.vsplit(grid, [2])"
   ]
  },
  {
   "cell_type": "code",
   "execution_count": 104,
   "id": "6ddcc00a",
   "metadata": {},
   "outputs": [
    {
     "name": "stdout",
     "output_type": "stream",
     "text": [
      "[[0 1 2 3]\n",
      " [4 5 6 7]]\n",
      "[[ 8  9 10 11]\n",
      " [12 13 14 15]]\n"
     ]
    }
   ],
   "source": [
    "upper, lower = np.vsplit(grid, [2])\n",
    "print(upper)\n",
    "print(lower)"
   ]
  },
  {
   "cell_type": "code",
   "execution_count": 101,
   "id": "2aad96a6",
   "metadata": {},
   "outputs": [
    {
     "name": "stdout",
     "output_type": "stream",
     "text": [
      "[[ 0  1]\n",
      " [ 4  5]\n",
      " [ 8  9]\n",
      " [12 13]]\n",
      "[[ 2  3]\n",
      " [ 6  7]\n",
      " [10 11]\n",
      " [14 15]]\n"
     ]
    }
   ],
   "source": [
    "left, right = np.hsplit(grid, [2])\n",
    "print(left)\n",
    "print(right)"
   ]
  },
  {
   "attachments": {
    "%D0%B8%D0%B7%D0%BE%D0%B1%D1%80%D0%B0%D0%B6%D0%B5%D0%BD%D0%B8%D0%B5.png": {
     "image/png": "[encoded data removed]"
    }
   },
   "cell_type": "markdown",
   "id": "fb4883cb",
   "metadata": {},
   "source": [
    "<font color = 'red' size = 5>Задание 1 </font>\n",
    "\n",
    "1. Изучите иструменты для создания массивов библиотеки numpy.Используя возможности библиотеки (без циклов) выполните следующие задания.\n",
    "2. Реализуйте функцию для создания \"шахматной\" квадратной двоичной матрицы произвольного размера.\n",
    "![%D0%B8%D0%B7%D0%BE%D0%B1%D1%80%D0%B0%D0%B6%D0%B5%D0%BD%D0%B8%D0%B5.png](attachment:%D0%B8%D0%B7%D0%BE%D0%B1%D1%80%D0%B0%D0%B6%D0%B5%D0%BD%D0%B8%D0%B5.png)\n",
    "3. Реализуйте функцию для создания матрицы для сетки координа x и y, покрывающими область [0,1] x [0,1] на плоскости. На вход функция принимает количество точек сетки.\n"
   ]
  },
  {
   "cell_type": "code",
   "execution_count": 121,
   "id": "581fdfce-2685-496d-9477-50875d99741f",
   "metadata": {},
   "outputs": [
    {
     "data": {
      "text/plain": [
       "array([[0, 0, 0, 0, 0],\n",
       "       [0, 0, 0, 0, 0],\n",
       "       [0, 0, 0, 0, 0],\n",
       "       [0, 0, 0, 0, 0],\n",
       "       [0, 0, 0, 0, 0]])"
      ]
     },
     "execution_count": 121,
     "metadata": {},
     "output_type": "execute_result"
    }
   ],
   "source": [
    "board = np.zeros((5,5), dtype = int)\n",
    "board"
   ]
  },
  {
   "cell_type": "code",
   "execution_count": 122,
   "id": "7105c4b6-9d34-4c11-bc5f-4e6dd431906b",
   "metadata": {},
   "outputs": [
    {
     "data": {
      "text/plain": [
       "array([[0, 1, 0, 1, 0],\n",
       "       [0, 0, 0, 0, 0],\n",
       "       [0, 1, 0, 1, 0],\n",
       "       [0, 0, 0, 0, 0],\n",
       "       [0, 1, 0, 1, 0]])"
      ]
     },
     "execution_count": 122,
     "metadata": {},
     "output_type": "execute_result"
    }
   ],
   "source": [
    "board[::2, 1::2] = 1\n",
    "board"
   ]
  },
  {
   "cell_type": "code",
   "execution_count": 123,
   "id": "7801c289-63eb-4a74-bbfc-f3fdd6d5ba2d",
   "metadata": {},
   "outputs": [
    {
     "data": {
      "text/plain": [
       "array([[0, 1, 0, 1, 0],\n",
       "       [1, 0, 1, 0, 1],\n",
       "       [0, 1, 0, 1, 0],\n",
       "       [1, 0, 1, 0, 1],\n",
       "       [0, 1, 0, 1, 0]])"
      ]
     },
     "execution_count": 123,
     "metadata": {},
     "output_type": "execute_result"
    }
   ],
   "source": [
    "board[1::2, ::2] = 1\n",
    "board"
   ]
  },
  {
   "cell_type": "code",
   "execution_count": 124,
   "id": "efcafb30-42ad-406b-95ea-1ac4d0ecd780",
   "metadata": {},
   "outputs": [],
   "source": [
    "def chess_board(n):\n",
    "    \n",
    "    board = np.zeros((n, n), dtype = int)\n",
    "    board[::2, 1::2] = 1\n",
    "    board[1::2, ::2] = 1\n",
    "    \n",
    "    return board"
   ]
  },
  {
   "cell_type": "code",
   "execution_count": 125,
   "id": "8830d047-7c9f-474e-ae01-798e5aa47190",
   "metadata": {},
   "outputs": [
    {
     "data": {
      "text/plain": [
       "array([[0, 1, 0, 1, 0, 1, 0, 1],\n",
       "       [1, 0, 1, 0, 1, 0, 1, 0],\n",
       "       [0, 1, 0, 1, 0, 1, 0, 1],\n",
       "       [1, 0, 1, 0, 1, 0, 1, 0],\n",
       "       [0, 1, 0, 1, 0, 1, 0, 1],\n",
       "       [1, 0, 1, 0, 1, 0, 1, 0],\n",
       "       [0, 1, 0, 1, 0, 1, 0, 1],\n",
       "       [1, 0, 1, 0, 1, 0, 1, 0]])"
      ]
     },
     "execution_count": 125,
     "metadata": {},
     "output_type": "execute_result"
    }
   ],
   "source": [
    "chess_board(8)"
   ]
  },
  {
   "cell_type": "code",
   "execution_count": 4,
   "id": "faf37d51-6765-40aa-9cc4-dcefd26420a9",
   "metadata": {},
   "outputs": [
    {
     "data": {
      "text/plain": [
       "array([0. , 0.5, 1. ])"
      ]
     },
     "execution_count": 4,
     "metadata": {},
     "output_type": "execute_result"
    }
   ],
   "source": [
    "x = np.linspace(0,1,3)\n",
    "x"
   ]
  },
  {
   "cell_type": "code",
   "execution_count": 5,
   "id": "e7f41507-7b51-439b-ad5b-b2669bd8ac37",
   "metadata": {},
   "outputs": [
    {
     "name": "stdout",
     "output_type": "stream",
     "text": [
      "[[0.  0.5 1. ]\n",
      " [0.  0.5 1. ]\n",
      " [0.  0.5 1. ]]\n",
      "[[1.  1.  1. ]\n",
      " [0.5 0.5 0.5]\n",
      " [0.  0.  0. ]]\n"
     ]
    }
   ],
   "source": [
    "x_grid, y_grid = np.meshgrid(x, x)\n",
    "print(x_grid)\n",
    "print(y_grid[::-1])"
   ]
  },
  {
   "cell_type": "code",
   "execution_count": 7,
   "id": "ee9a1526-1cf8-4136-b3b8-6240ad5d588f",
   "metadata": {},
   "outputs": [
    {
     "data": {
      "text/plain": [
       "array([[0. , 0.5, 1. ],\n",
       "       [0. , 0.5, 1. ],\n",
       "       [0. , 0.5, 1. ]])"
      ]
     },
     "execution_count": 7,
     "metadata": {},
     "output_type": "execute_result"
    }
   ],
   "source": [
    "x_grid"
   ]
  },
  {
   "cell_type": "code",
   "execution_count": 16,
   "id": "f716b9e8-e803-4193-84fc-f6774703a622",
   "metadata": {},
   "outputs": [
    {
     "data": {
      "text/plain": [
       "array([[[0. , 1. ],\n",
       "        [0.5, 1. ],\n",
       "        [1. , 1. ]],\n",
       "\n",
       "       [[0. , 0.5],\n",
       "        [0.5, 0.5],\n",
       "        [1. , 0.5]],\n",
       "\n",
       "       [[0. , 0. ],\n",
       "        [0.5, 0. ],\n",
       "        [1. , 0. ]]])"
      ]
     },
     "execution_count": 16,
     "metadata": {},
     "output_type": "execute_result"
    }
   ],
   "source": [
    "np.stack((x_grid, y_grid[::-1]), axis=2)"
   ]
  },
  {
   "cell_type": "code",
   "execution_count": 13,
   "id": "43e2638c-efa9-4876-996b-d811be4bbab3",
   "metadata": {},
   "outputs": [],
   "source": [
    "def coordgrid(n):\n",
    "    x = np.linspace(0,1,n)\n",
    "    x_grid, y_grid = np.meshgrid(x, x)\n",
    "    \n",
    "    return np.stack((x_grid, y_grid[::-1]), axis=2)"
   ]
  },
  {
   "cell_type": "code",
   "execution_count": 14,
   "id": "42e69b7f-a6ff-4ec2-9f86-9f55e0948a9b",
   "metadata": {},
   "outputs": [
    {
     "data": {
      "text/plain": [
       "array([[[0. , 1. ],\n",
       "        [0.5, 1. ],\n",
       "        [1. , 1. ]],\n",
       "\n",
       "       [[0. , 0.5],\n",
       "        [0.5, 0.5],\n",
       "        [1. , 0.5]],\n",
       "\n",
       "       [[0. , 0. ],\n",
       "        [0.5, 0. ],\n",
       "        [1. , 0. ]]])"
      ]
     },
     "execution_count": 14,
     "metadata": {},
     "output_type": "execute_result"
    }
   ],
   "source": [
    "coordgrid(3)"
   ]
  },
  {
   "cell_type": "markdown",
   "id": "425d3cf0",
   "metadata": {},
   "source": [
    "## <font color = 'green'> 2. Библиотека numpy. Вычисления.  </font>"
   ]
  },
  {
   "cell_type": "markdown",
   "id": "fd15d030",
   "metadata": {},
   "source": [
    "**Векторизация**"
   ]
  },
  {
   "cell_type": "code",
   "execution_count": 17,
   "id": "406a1b76",
   "metadata": {},
   "outputs": [],
   "source": [
    "big_array = np.random.randint(1,100,1000000)"
   ]
  },
  {
   "cell_type": "code",
   "execution_count": 18,
   "id": "7ce81637",
   "metadata": {},
   "outputs": [
    {
     "data": {
      "text/plain": [
       "array([0.02439024, 0.01020408, 0.01176471, ..., 0.01111111, 0.02631579,\n",
       "       0.01388889])"
      ]
     },
     "execution_count": 18,
     "metadata": {},
     "output_type": "execute_result"
    }
   ],
   "source": [
    "1/big_array"
   ]
  },
  {
   "cell_type": "code",
   "execution_count": 19,
   "id": "220fa5fd",
   "metadata": {},
   "outputs": [
    {
     "name": "stdout",
     "output_type": "stream",
     "text": [
      "1.39 ms ± 27.7 µs per loop (mean ± std. dev. of 7 runs, 1000 loops each)\n"
     ]
    }
   ],
   "source": [
    "%timeit 1/big_array"
   ]
  },
  {
   "cell_type": "code",
   "execution_count": 20,
   "id": "48081c24",
   "metadata": {},
   "outputs": [
    {
     "data": {
      "text/plain": [
       "array([0.        , 0.5       , 0.66666667, 0.75      , 0.8       ])"
      ]
     },
     "execution_count": 20,
     "metadata": {},
     "output_type": "execute_result"
    }
   ],
   "source": [
    "np.arange(5) / np.arange(1, 6)"
   ]
  },
  {
   "cell_type": "code",
   "execution_count": 21,
   "id": "9acb692d",
   "metadata": {},
   "outputs": [
    {
     "data": {
      "text/plain": [
       "array([0, 2, 4, 6, 8])"
      ]
     },
     "execution_count": 21,
     "metadata": {},
     "output_type": "execute_result"
    }
   ],
   "source": [
    "2*np.arange(5) "
   ]
  },
  {
   "cell_type": "code",
   "execution_count": 22,
   "id": "ccf463ad",
   "metadata": {},
   "outputs": [
    {
     "data": {
      "text/plain": [
       "array([[  1,   2,   4],\n",
       "       [  8,  16,  32],\n",
       "       [ 64, 128, 256]], dtype=int32)"
      ]
     },
     "execution_count": 22,
     "metadata": {},
     "output_type": "execute_result"
    }
   ],
   "source": [
    "x = np.arange(9).reshape((3, 3))\n",
    "2 ** x"
   ]
  },
  {
   "cell_type": "code",
   "execution_count": 23,
   "id": "b2ced406",
   "metadata": {},
   "outputs": [
    {
     "data": {
      "text/plain": [
       "array([[0, 1, 2],\n",
       "       [3, 4, 5],\n",
       "       [6, 7, 8]])"
      ]
     },
     "execution_count": 23,
     "metadata": {},
     "output_type": "execute_result"
    }
   ],
   "source": [
    "x"
   ]
  },
  {
   "cell_type": "code",
   "execution_count": 24,
   "id": "1056b681",
   "metadata": {
    "scrolled": true
   },
   "outputs": [
    {
     "data": {
      "text/plain": [
       "array([[       1,        1,        4],\n",
       "       [      27,      256,     3125],\n",
       "       [   46656,   823543, 16777216]], dtype=int32)"
      ]
     },
     "execution_count": 24,
     "metadata": {},
     "output_type": "execute_result"
    }
   ],
   "source": [
    "x**x"
   ]
  },
  {
   "cell_type": "code",
   "execution_count": 25,
   "id": "1ee096cc",
   "metadata": {},
   "outputs": [
    {
     "name": "stdout",
     "output_type": "stream",
     "text": [
      "x      = [0 1 2 3]\n",
      "x + 5  = [5 6 7 8]\n",
      "x - 5  = [-5 -4 -3 -2]\n",
      "x * 2  = [0 2 4 6]\n",
      "x / 2  = [0.  0.5 1.  1.5]\n",
      "x // 2 = [0 0 1 1]\n",
      "-x     =  [ 0 -1 -2 -3]\n",
      "x ** 2 =  [0 1 4 9]\n",
      "x % 2  =  [0 1 0 1]\n"
     ]
    }
   ],
   "source": [
    "x = np.arange(4)\n",
    "print(\"x      =\", x)\n",
    "print(\"x + 5  =\", x + 5)\n",
    "print(\"x - 5  =\", x - 5)\n",
    "print(\"x * 2  =\", x * 2)\n",
    "print(\"x / 2  =\", x / 2)\n",
    "print(\"x // 2 =\", x // 2)\n",
    "print(\"-x     = \", -x)\n",
    "print(\"x ** 2 = \", x ** 2)\n",
    "print(\"x % 2  = \", x % 2)"
   ]
  },
  {
   "cell_type": "code",
   "execution_count": 26,
   "id": "69fc49de",
   "metadata": {},
   "outputs": [
    {
     "name": "stdout",
     "output_type": "stream",
     "text": [
      "x        = [1, 2, 4, 10]\n",
      "ln(x)    = [0.         0.69314718 1.38629436 2.30258509]\n",
      "log2(x)  = [0.         1.         2.         3.32192809]\n",
      "log10(x) = [0.         0.30103    0.60205999 1.        ]\n"
     ]
    }
   ],
   "source": [
    "x = [1, 2, 4, 10]\n",
    "print(\"x        =\", x)\n",
    "print(\"ln(x)    =\", np.log(x))\n",
    "print(\"log2(x)  =\", np.log2(x))\n",
    "print(\"log10(x) =\", np.log10(x)) # куча математических функций и все с векторизацией"
   ]
  },
  {
   "cell_type": "code",
   "execution_count": 27,
   "id": "2b8bde1a",
   "metadata": {},
   "outputs": [
    {
     "data": {
      "text/plain": [
       "15"
      ]
     },
     "execution_count": 27,
     "metadata": {},
     "output_type": "execute_result"
    }
   ],
   "source": [
    "x = np.arange(1, 6)\n",
    "np.add.reduce(x)"
   ]
  },
  {
   "cell_type": "code",
   "execution_count": 28,
   "id": "59b05363",
   "metadata": {},
   "outputs": [
    {
     "data": {
      "text/plain": [
       "120"
      ]
     },
     "execution_count": 28,
     "metadata": {},
     "output_type": "execute_result"
    }
   ],
   "source": [
    "np.multiply.reduce(x)"
   ]
  },
  {
   "cell_type": "code",
   "execution_count": 29,
   "id": "2bacf796",
   "metadata": {},
   "outputs": [
    {
     "data": {
      "text/plain": [
       "array([ 1,  3,  6, 10, 15], dtype=int32)"
      ]
     },
     "execution_count": 29,
     "metadata": {},
     "output_type": "execute_result"
    }
   ],
   "source": [
    "x = np.arange(1, 6)\n",
    "np.add.accumulate(x)"
   ]
  },
  {
   "cell_type": "code",
   "execution_count": 30,
   "id": "82cae2b0",
   "metadata": {},
   "outputs": [
    {
     "data": {
      "text/plain": [
       "array([  1,   2,   6,  24, 120], dtype=int32)"
      ]
     },
     "execution_count": 30,
     "metadata": {},
     "output_type": "execute_result"
    }
   ],
   "source": [
    "np.multiply.accumulate(x)"
   ]
  },
  {
   "cell_type": "code",
   "execution_count": 31,
   "id": "585cd33a",
   "metadata": {},
   "outputs": [
    {
     "name": "stdout",
     "output_type": "stream",
     "text": [
      "57.3 ms ± 239 µs per loop (mean ± std. dev. of 7 runs, 10 loops each)\n",
      "333 µs ± 43.7 µs per loop (mean ± std. dev. of 7 runs, 1000 loops each)\n"
     ]
    }
   ],
   "source": [
    "big_array = np.random.random(1000000)\n",
    "%timeit sum(big_array)\n",
    "%timeit np.sum(big_array)"
   ]
  },
  {
   "cell_type": "code",
   "execution_count": 32,
   "id": "62990936",
   "metadata": {},
   "outputs": [
    {
     "data": {
      "text/plain": [
       "(4.413221095234121e-07, 0.9999996933885124)"
      ]
     },
     "execution_count": 32,
     "metadata": {},
     "output_type": "execute_result"
    }
   ],
   "source": [
    "np.min(big_array), np.max(big_array)"
   ]
  },
  {
   "cell_type": "code",
   "execution_count": 33,
   "id": "f63af87d",
   "metadata": {},
   "outputs": [
    {
     "data": {
      "text/plain": [
       "array([[31, 62, 68, 88, 14, 55, 48, 24, 72, 35],\n",
       "       [52, 14, 33, 26, 29, 17, 53, 70, 53, 41],\n",
       "       [19,  5, 42, 77, 31,  0, 19, 54, 22, 44],\n",
       "       [48, 78, 81, 22, 68, 48, 31, 66, 31, 89],\n",
       "       [10, 72, 84,  0, 25, 42, 80, 15,  3, 55],\n",
       "       [ 1, 37, 98, 30, 13,  8, 27, 84, 25, 30],\n",
       "       [50, 23, 42, 80, 66, 35, 77, 77, 12, 71],\n",
       "       [78, 53, 30, 55, 58, 17, 46, 36, 64,  7],\n",
       "       [24, 30, 11, 10, 60, 13, 83, 16, 41,  8],\n",
       "       [ 7, 16, 36, 57, 99, 50, 99, 87, 66, 29]])"
      ]
     },
     "execution_count": 33,
     "metadata": {},
     "output_type": "execute_result"
    }
   ],
   "source": [
    "test= np.random.randint(100,size=(10,10))\n",
    "test"
   ]
  },
  {
   "cell_type": "code",
   "execution_count": 34,
   "id": "843befdb",
   "metadata": {},
   "outputs": [
    {
     "data": {
      "text/plain": [
       "array([ 1,  5, 11,  0, 13,  0, 19, 15,  3,  7])"
      ]
     },
     "execution_count": 34,
     "metadata": {},
     "output_type": "execute_result"
    }
   ],
   "source": [
    "test.min(axis=0) # минимум по столбцам"
   ]
  },
  {
   "cell_type": "markdown",
   "id": "9966bb25",
   "metadata": {},
   "source": [
    "**Операции с массивами и матрицами**"
   ]
  },
  {
   "cell_type": "code",
   "execution_count": 35,
   "id": "8a2d5e04",
   "metadata": {},
   "outputs": [
    {
     "data": {
      "text/plain": [
       "array([5, 6, 7])"
      ]
     },
     "execution_count": 35,
     "metadata": {},
     "output_type": "execute_result"
    }
   ],
   "source": [
    "a = np.array([0, 1, 2])\n",
    "b = np.array([5, 5, 5])\n",
    "a + b\n",
    "\n"
   ]
  },
  {
   "cell_type": "code",
   "execution_count": 36,
   "id": "b6c148da",
   "metadata": {},
   "outputs": [
    {
     "data": {
      "text/plain": [
       "array([[1., 1., 1.],\n",
       "       [1., 1., 1.],\n",
       "       [1., 1., 1.]])"
      ]
     },
     "execution_count": 36,
     "metadata": {},
     "output_type": "execute_result"
    }
   ],
   "source": [
    "M = np.ones((3, 3))\n",
    "M"
   ]
  },
  {
   "cell_type": "code",
   "execution_count": 37,
   "id": "9fcc0058",
   "metadata": {},
   "outputs": [
    {
     "data": {
      "text/plain": [
       "array([[1., 2., 3.],\n",
       "       [1., 2., 3.],\n",
       "       [1., 2., 3.]])"
      ]
     },
     "execution_count": 37,
     "metadata": {},
     "output_type": "execute_result"
    }
   ],
   "source": [
    "M + a # numpy array broadcasting"
   ]
  },
  {
   "cell_type": "code",
   "execution_count": 38,
   "id": "b5f9ef40",
   "metadata": {},
   "outputs": [
    {
     "name": "stdout",
     "output_type": "stream",
     "text": [
      "[0 1 2]\n",
      "[[0]\n",
      " [1]\n",
      " [2]]\n"
     ]
    }
   ],
   "source": [
    "a = np.arange(3)\n",
    "b = np.arange(3)[:, np.newaxis]\n",
    "\n",
    "print(a)\n",
    "print(b)"
   ]
  },
  {
   "cell_type": "code",
   "execution_count": 39,
   "id": "c1aa98f7",
   "metadata": {},
   "outputs": [
    {
     "data": {
      "text/plain": [
       "array([[0, 1, 2],\n",
       "       [1, 2, 3],\n",
       "       [2, 3, 4]])"
      ]
     },
     "execution_count": 39,
     "metadata": {},
     "output_type": "execute_result"
    }
   ],
   "source": [
    "a + b"
   ]
  },
  {
   "cell_type": "code",
   "execution_count": 40,
   "id": "b90c93fe",
   "metadata": {},
   "outputs": [
    {
     "data": {
      "text/plain": [
       "array([[0, 1, 2],\n",
       "       [0, 1, 2],\n",
       "       [0, 1, 2]])"
      ]
     },
     "execution_count": 40,
     "metadata": {},
     "output_type": "execute_result"
    }
   ],
   "source": [
    "np.repeat([a],3,axis=0)"
   ]
  },
  {
   "cell_type": "code",
   "execution_count": 41,
   "id": "6855ae42",
   "metadata": {},
   "outputs": [
    {
     "data": {
      "text/plain": [
       "array([[0, 0, 0],\n",
       "       [1, 1, 1],\n",
       "       [2, 2, 2]])"
      ]
     },
     "execution_count": 41,
     "metadata": {},
     "output_type": "execute_result"
    }
   ],
   "source": [
    "np.repeat(b,3,axis=1)"
   ]
  },
  {
   "cell_type": "code",
   "execution_count": 42,
   "id": "7ebee9c4",
   "metadata": {
    "scrolled": true
   },
   "outputs": [
    {
     "data": {
      "text/plain": [
       "(array([[0, 1, 2],\n",
       "        [1, 2, 3],\n",
       "        [2, 3, 4]]),\n",
       " array([[0, 1, 2],\n",
       "        [1, 2, 3],\n",
       "        [2, 3, 4]]))"
      ]
     },
     "execution_count": 42,
     "metadata": {},
     "output_type": "execute_result"
    }
   ],
   "source": [
    "(np.repeat(b,3,axis=1) + np.repeat([a],3,axis=0), a + b)"
   ]
  },
  {
   "cell_type": "code",
   "execution_count": 43,
   "id": "af1e4ce3",
   "metadata": {},
   "outputs": [],
   "source": [
    "M = np.ones((3, 2))\n",
    "a = np.arange(3)"
   ]
  },
  {
   "cell_type": "code",
   "execution_count": 44,
   "id": "67112d2d",
   "metadata": {},
   "outputs": [
    {
     "data": {
      "text/plain": [
       "array([0, 1, 2])"
      ]
     },
     "execution_count": 44,
     "metadata": {},
     "output_type": "execute_result"
    }
   ],
   "source": [
    "a"
   ]
  },
  {
   "cell_type": "code",
   "execution_count": 45,
   "id": "71ab4001",
   "metadata": {
    "scrolled": true
   },
   "outputs": [
    {
     "data": {
      "text/plain": [
       "array([[1., 1.],\n",
       "       [1., 1.],\n",
       "       [1., 1.]])"
      ]
     },
     "execution_count": 45,
     "metadata": {},
     "output_type": "execute_result"
    }
   ],
   "source": [
    "M"
   ]
  },
  {
   "cell_type": "code",
   "execution_count": 46,
   "id": "9a411b41",
   "metadata": {},
   "outputs": [
    {
     "ename": "ValueError",
     "evalue": "operands could not be broadcast together with shapes (3,2) (3,) ",
     "output_type": "error",
     "traceback": [
      "\u001b[1;31m---------------------------------------------------------------------------\u001b[0m",
      "\u001b[1;31mValueError\u001b[0m                                Traceback (most recent call last)",
      "\u001b[1;32m~\\AppData\\Local\\Temp/ipykernel_2716/1686222398.py\u001b[0m in \u001b[0;36m<module>\u001b[1;34m\u001b[0m\n\u001b[1;32m----> 1\u001b[1;33m \u001b[0mM\u001b[0m\u001b[1;33m+\u001b[0m \u001b[0ma\u001b[0m\u001b[1;33m\u001b[0m\u001b[1;33m\u001b[0m\u001b[0m\n\u001b[0m",
      "\u001b[1;31mValueError\u001b[0m: operands could not be broadcast together with shapes (3,2) (3,) "
     ]
    }
   ],
   "source": [
    "M+ a"
   ]
  },
  {
   "cell_type": "code",
   "execution_count": 47,
   "id": "01af533f",
   "metadata": {},
   "outputs": [
    {
     "ename": "ValueError",
     "evalue": "operands could not be broadcast together with shapes (4,) (8,) ",
     "output_type": "error",
     "traceback": [
      "\u001b[1;31m---------------------------------------------------------------------------\u001b[0m",
      "\u001b[1;31mValueError\u001b[0m                                Traceback (most recent call last)",
      "\u001b[1;32m~\\AppData\\Local\\Temp/ipykernel_2716/284508096.py\u001b[0m in \u001b[0;36m<module>\u001b[1;34m\u001b[0m\n\u001b[0;32m      1\u001b[0m \u001b[0ma\u001b[0m \u001b[1;33m=\u001b[0m \u001b[0mnp\u001b[0m\u001b[1;33m.\u001b[0m\u001b[0marray\u001b[0m\u001b[1;33m(\u001b[0m\u001b[1;33m[\u001b[0m\u001b[1;36m4\u001b[0m\u001b[1;33m,\u001b[0m\u001b[1;36m5\u001b[0m\u001b[1;33m,\u001b[0m\u001b[1;36m6\u001b[0m\u001b[1;33m,\u001b[0m\u001b[1;36m7\u001b[0m\u001b[1;33m]\u001b[0m\u001b[1;33m)\u001b[0m\u001b[1;33m\u001b[0m\u001b[1;33m\u001b[0m\u001b[0m\n\u001b[0;32m      2\u001b[0m \u001b[0mb\u001b[0m \u001b[1;33m=\u001b[0m \u001b[0mnp\u001b[0m\u001b[1;33m.\u001b[0m\u001b[0marray\u001b[0m\u001b[1;33m(\u001b[0m\u001b[1;33m[\u001b[0m\u001b[1;36m1\u001b[0m\u001b[1;33m,\u001b[0m\u001b[1;36m3\u001b[0m\u001b[1;33m,\u001b[0m\u001b[1;36m5\u001b[0m\u001b[1;33m,\u001b[0m\u001b[1;36m7\u001b[0m\u001b[1;33m,\u001b[0m\u001b[1;36m9\u001b[0m\u001b[1;33m,\u001b[0m\u001b[1;36m11\u001b[0m\u001b[1;33m,\u001b[0m\u001b[1;36m14\u001b[0m\u001b[1;33m,\u001b[0m\u001b[1;36m10\u001b[0m\u001b[1;33m]\u001b[0m\u001b[1;33m)\u001b[0m\u001b[1;33m\u001b[0m\u001b[1;33m\u001b[0m\u001b[0m\n\u001b[1;32m----> 3\u001b[1;33m \u001b[0mc\u001b[0m \u001b[1;33m=\u001b[0m \u001b[0ma\u001b[0m\u001b[1;33m+\u001b[0m\u001b[0mb\u001b[0m\u001b[1;33m;\u001b[0m\u001b[1;33m\u001b[0m\u001b[1;33m\u001b[0m\u001b[0m\n\u001b[0m",
      "\u001b[1;31mValueError\u001b[0m: operands could not be broadcast together with shapes (4,) (8,) "
     ]
    }
   ],
   "source": [
    "a = np.array([4,5,6,7])  \n",
    "b = np.array([1,3,5,7,9,11,14,10])  \n",
    "c = a+b;  "
   ]
  },
  {
   "cell_type": "code",
   "execution_count": 48,
   "id": "f3e789ba",
   "metadata": {},
   "outputs": [
    {
     "name": "stdout",
     "output_type": "stream",
     "text": [
      "matrix1 x matrix2: \n",
      " [[14 30]\n",
      " [38 86]]\n"
     ]
    }
   ],
   "source": [
    "matrix1 = np.array([[1, 3], [5, 7]])\n",
    "             \n",
    "matrix2 = np.array([[2, 6], [4, 8]])\n",
    "\n",
    "result = np.dot(matrix1, matrix2)\n",
    "\n",
    "print(\"matrix1 x matrix2: \\n\",result)"
   ]
  },
  {
   "cell_type": "code",
   "execution_count": 49,
   "id": "b5e91a4e",
   "metadata": {},
   "outputs": [
    {
     "data": {
      "text/plain": [
       "array([[2, 7],\n",
       "       [5, 7],\n",
       "       [7, 5]])"
      ]
     },
     "execution_count": 49,
     "metadata": {},
     "output_type": "execute_result"
    }
   ],
   "source": [
    "matrix1 = np.random.randint(10,size=(3,2))\n",
    "matrix1"
   ]
  },
  {
   "cell_type": "code",
   "execution_count": 50,
   "id": "6b904f4e",
   "metadata": {},
   "outputs": [
    {
     "data": {
      "text/plain": [
       "array([[6, 2, 7],\n",
       "       [7, 7, 7]])"
      ]
     },
     "execution_count": 50,
     "metadata": {},
     "output_type": "execute_result"
    }
   ],
   "source": [
    "matrix2 = np.random.randint(10,size=(2,3))\n",
    "matrix2"
   ]
  },
  {
   "cell_type": "code",
   "execution_count": 51,
   "id": "7cfd6b66",
   "metadata": {},
   "outputs": [
    {
     "data": {
      "text/plain": [
       "array([[61, 53, 63],\n",
       "       [79, 59, 84],\n",
       "       [77, 49, 84]])"
      ]
     },
     "execution_count": 51,
     "metadata": {},
     "output_type": "execute_result"
    }
   ],
   "source": [
    "np.dot(matrix1,matrix2)"
   ]
  },
  {
   "cell_type": "code",
   "execution_count": 52,
   "id": "123fe78e",
   "metadata": {},
   "outputs": [
    {
     "data": {
      "text/plain": [
       "array([[ 71,  91],\n",
       "       [ 98, 133]])"
      ]
     },
     "execution_count": 52,
     "metadata": {},
     "output_type": "execute_result"
    }
   ],
   "source": [
    "np.dot(matrix2,matrix1)"
   ]
  },
  {
   "cell_type": "code",
   "execution_count": 53,
   "id": "52505092",
   "metadata": {},
   "outputs": [
    {
     "ename": "ValueError",
     "evalue": "shapes (3,2) and (3,2) not aligned: 2 (dim 1) != 3 (dim 0)",
     "output_type": "error",
     "traceback": [
      "\u001b[1;31m---------------------------------------------------------------------------\u001b[0m",
      "\u001b[1;31mValueError\u001b[0m                                Traceback (most recent call last)",
      "\u001b[1;32m~\\AppData\\Local\\Temp/ipykernel_2716/3945525237.py\u001b[0m in \u001b[0;36m<module>\u001b[1;34m\u001b[0m\n\u001b[1;32m----> 1\u001b[1;33m \u001b[0mnp\u001b[0m\u001b[1;33m.\u001b[0m\u001b[0mdot\u001b[0m\u001b[1;33m(\u001b[0m\u001b[0mmatrix1\u001b[0m\u001b[1;33m,\u001b[0m\u001b[0mmatrix1\u001b[0m\u001b[1;33m)\u001b[0m\u001b[1;33m\u001b[0m\u001b[1;33m\u001b[0m\u001b[0m\n\u001b[0m",
      "\u001b[1;32m<__array_function__ internals>\u001b[0m in \u001b[0;36mdot\u001b[1;34m(*args, **kwargs)\u001b[0m\n",
      "\u001b[1;31mValueError\u001b[0m: shapes (3,2) and (3,2) not aligned: 2 (dim 1) != 3 (dim 0)"
     ]
    }
   ],
   "source": [
    "np.dot(matrix1,matrix1)"
   ]
  },
  {
   "cell_type": "code",
   "execution_count": 31,
   "id": "306a9483",
   "metadata": {},
   "outputs": [],
   "source": [
    "matrix1=np.array([1,2,3])"
   ]
  },
  {
   "cell_type": "code",
   "execution_count": 56,
   "id": "9bd5ac66",
   "metadata": {},
   "outputs": [],
   "source": [
    "matrix2 = np.random.randint(10,size=(3,3))"
   ]
  },
  {
   "cell_type": "code",
   "execution_count": 57,
   "id": "7b2aabab-a647-4799-b015-d74095ae2521",
   "metadata": {},
   "outputs": [
    {
     "name": "stdout",
     "output_type": "stream",
     "text": [
      "[1 2 3]\n",
      "[[0 5 3]\n",
      " [9 4 7]\n",
      " [2 8 9]]\n"
     ]
    }
   ],
   "source": [
    "print(matrix1)\n",
    "print(matrix2)"
   ]
  },
  {
   "cell_type": "code",
   "execution_count": 58,
   "id": "c29bdfdd-5fc1-4322-b5dc-28c23189bd9f",
   "metadata": {},
   "outputs": [
    {
     "data": {
      "text/plain": [
       "(3, 3)"
      ]
     },
     "execution_count": 58,
     "metadata": {},
     "output_type": "execute_result"
    }
   ],
   "source": [
    "matrix2.shape"
   ]
  },
  {
   "cell_type": "code",
   "execution_count": 62,
   "id": "deb482a1",
   "metadata": {},
   "outputs": [
    {
     "data": {
      "text/plain": [
       "array([19, 38, 45])"
      ]
     },
     "execution_count": 62,
     "metadata": {},
     "output_type": "execute_result"
    }
   ],
   "source": [
    "np.dot(matrix2,matrix1)"
   ]
  },
  {
   "cell_type": "code",
   "execution_count": 65,
   "id": "6ed34763",
   "metadata": {
    "scrolled": true
   },
   "outputs": [
    {
     "data": {
      "text/plain": [
       "array([19, 38, 45])"
      ]
     },
     "execution_count": 65,
     "metadata": {},
     "output_type": "execute_result"
    }
   ],
   "source": [
    "np.matmul(matrix2,matrix1)"
   ]
  },
  {
   "cell_type": "code",
   "execution_count": 58,
   "id": "21fbe4a4",
   "metadata": {},
   "outputs": [
    {
     "data": {
      "text/plain": [
       "array([1, 2, 3])"
      ]
     },
     "execution_count": 58,
     "metadata": {},
     "output_type": "execute_result"
    }
   ],
   "source": [
    "matrix1"
   ]
  },
  {
   "cell_type": "code",
   "execution_count": 45,
   "id": "0ed4c1fb",
   "metadata": {},
   "outputs": [
    {
     "data": {
      "text/plain": [
       "array([1, 4, 9])"
      ]
     },
     "execution_count": 45,
     "metadata": {},
     "output_type": "execute_result"
    }
   ],
   "source": [
    "np.multiply(matrix1,matrix1)"
   ]
  },
  {
   "cell_type": "code",
   "execution_count": 60,
   "id": "92ec53b4",
   "metadata": {},
   "outputs": [],
   "source": [
    "matrix1 = np.array([[1, 3], [5, 7]])"
   ]
  },
  {
   "cell_type": "code",
   "execution_count": 61,
   "id": "0dd6506b",
   "metadata": {
    "scrolled": true
   },
   "outputs": [
    {
     "data": {
      "text/plain": [
       "array([[0, 0],\n",
       "       [0, 0]])"
      ]
     },
     "execution_count": 61,
     "metadata": {},
     "output_type": "execute_result"
    }
   ],
   "source": [
    "matrix1 - matrix1 "
   ]
  },
  {
   "cell_type": "code",
   "execution_count": 62,
   "id": "bd360ec5",
   "metadata": {},
   "outputs": [
    {
     "data": {
      "text/plain": [
       "array([[ 2,  6],\n",
       "       [10, 14]])"
      ]
     },
     "execution_count": 62,
     "metadata": {},
     "output_type": "execute_result"
    }
   ],
   "source": [
    "matrix1 = matrix1 + matrix1\n",
    "matrix1"
   ]
  },
  {
   "cell_type": "code",
   "execution_count": 63,
   "id": "3901538c",
   "metadata": {},
   "outputs": [
    {
     "data": {
      "text/plain": [
       "array([[ 4, 12],\n",
       "       [20, 28]])"
      ]
     },
     "execution_count": 63,
     "metadata": {},
     "output_type": "execute_result"
    }
   ],
   "source": [
    "np.add(matrix1,matrix1,out=matrix1)\n",
    "matrix1"
   ]
  },
  {
   "cell_type": "code",
   "execution_count": 64,
   "id": "c2e03766",
   "metadata": {},
   "outputs": [
    {
     "data": {
      "text/plain": [
       "array([[ 4, 20],\n",
       "       [12, 28]])"
      ]
     },
     "execution_count": 64,
     "metadata": {},
     "output_type": "execute_result"
    }
   ],
   "source": [
    "matrix1.T"
   ]
  },
  {
   "cell_type": "code",
   "execution_count": 65,
   "id": "dd15a2b8",
   "metadata": {},
   "outputs": [
    {
     "data": {
      "text/plain": [
       "-127.99999999999997"
      ]
     },
     "execution_count": 65,
     "metadata": {},
     "output_type": "execute_result"
    }
   ],
   "source": [
    "np.linalg.det(matrix1)"
   ]
  },
  {
   "cell_type": "code",
   "execution_count": 66,
   "id": "4b8e73f8",
   "metadata": {},
   "outputs": [
    {
     "data": {
      "text/plain": [
       "array([[-0.21875,  0.09375],\n",
       "       [ 0.15625, -0.03125]])"
      ]
     },
     "execution_count": 66,
     "metadata": {},
     "output_type": "execute_result"
    }
   ],
   "source": [
    "np.linalg.inv(matrix1)"
   ]
  },
  {
   "cell_type": "code",
   "execution_count": 67,
   "id": "297ba019",
   "metadata": {},
   "outputs": [
    {
     "data": {
      "text/plain": [
       "array([[1, 0],\n",
       "       [0, 1]])"
      ]
     },
     "execution_count": 67,
     "metadata": {},
     "output_type": "execute_result"
    }
   ],
   "source": [
    "np.dot(matrix1, np.linalg.inv(matrix1)).astype(int)"
   ]
  },
  {
   "cell_type": "markdown",
   "id": "eab7e03a",
   "metadata": {},
   "source": [
    "**Булевы операции**"
   ]
  },
  {
   "cell_type": "code",
   "execution_count": 68,
   "id": "a7e136e3",
   "metadata": {},
   "outputs": [
    {
     "data": {
      "text/plain": [
       "array([1, 2, 3, 4, 5])"
      ]
     },
     "execution_count": 68,
     "metadata": {},
     "output_type": "execute_result"
    }
   ],
   "source": [
    "x"
   ]
  },
  {
   "cell_type": "code",
   "execution_count": 69,
   "id": "0ad0d270",
   "metadata": {},
   "outputs": [
    {
     "data": {
      "text/plain": [
       "array([False, False,  True,  True,  True])"
      ]
     },
     "execution_count": 69,
     "metadata": {},
     "output_type": "execute_result"
    }
   ],
   "source": [
    "x>2"
   ]
  },
  {
   "cell_type": "code",
   "execution_count": 70,
   "id": "a96e92f4",
   "metadata": {},
   "outputs": [],
   "source": [
    "x[x>2]=0"
   ]
  },
  {
   "cell_type": "code",
   "execution_count": 71,
   "id": "05aef8f8",
   "metadata": {},
   "outputs": [
    {
     "data": {
      "text/plain": [
       "array([1, 2, 0, 0, 0])"
      ]
     },
     "execution_count": 71,
     "metadata": {},
     "output_type": "execute_result"
    }
   ],
   "source": [
    "x"
   ]
  },
  {
   "cell_type": "code",
   "execution_count": 72,
   "id": "41231176",
   "metadata": {},
   "outputs": [
    {
     "data": {
      "text/plain": [
       "True"
      ]
     },
     "execution_count": 72,
     "metadata": {},
     "output_type": "execute_result"
    }
   ],
   "source": [
    "np.any(x==0)"
   ]
  },
  {
   "cell_type": "code",
   "execution_count": 73,
   "id": "d5fe8615",
   "metadata": {},
   "outputs": [
    {
     "data": {
      "text/plain": [
       "False"
      ]
     },
     "execution_count": 73,
     "metadata": {},
     "output_type": "execute_result"
    }
   ],
   "source": [
    "np.all(x==0)"
   ]
  },
  {
   "cell_type": "code",
   "execution_count": 74,
   "id": "a8fde226",
   "metadata": {},
   "outputs": [
    {
     "data": {
      "text/plain": [
       "1"
      ]
     },
     "execution_count": 74,
     "metadata": {},
     "output_type": "execute_result"
    }
   ],
   "source": [
    "np.sum(x>1)"
   ]
  },
  {
   "cell_type": "code",
   "execution_count": 75,
   "id": "55ca6c9f",
   "metadata": {},
   "outputs": [
    {
     "data": {
      "text/plain": [
       "2"
      ]
     },
     "execution_count": 75,
     "metadata": {},
     "output_type": "execute_result"
    }
   ],
   "source": [
    "np.sum(x[x>1])"
   ]
  },
  {
   "cell_type": "code",
   "execution_count": 76,
   "id": "e51fbb7b",
   "metadata": {},
   "outputs": [
    {
     "data": {
      "text/plain": [
       "array([[ 4, 12],\n",
       "       [20, 28]])"
      ]
     },
     "execution_count": 76,
     "metadata": {},
     "output_type": "execute_result"
    }
   ],
   "source": [
    "matrix1"
   ]
  },
  {
   "cell_type": "code",
   "execution_count": 77,
   "id": "3d4449a0",
   "metadata": {},
   "outputs": [
    {
     "data": {
      "text/plain": [
       "(array([], dtype=int64), array([], dtype=int64))"
      ]
     },
     "execution_count": 77,
     "metadata": {},
     "output_type": "execute_result"
    }
   ],
   "source": [
    "np.where(matrix1 == 3)"
   ]
  },
  {
   "cell_type": "code",
   "execution_count": 78,
   "id": "07b068ab",
   "metadata": {},
   "outputs": [
    {
     "name": "stdout",
     "output_type": "stream",
     "text": [
      "[5 9 5 2 7 5 2 2 3 3]\n",
      "[5 0 5 2 7 5 2 2 3 3]\n"
     ]
    }
   ],
   "source": [
    "Z = np.random.randint(1,10, 10)\n",
    "print(Z)\n",
    "\n",
    "Z[Z.argmax()] = 0\n",
    "print(Z)"
   ]
  },
  {
   "cell_type": "code",
   "execution_count": 79,
   "id": "a54b2dc3",
   "metadata": {},
   "outputs": [
    {
     "data": {
      "text/plain": [
       "1"
      ]
     },
     "execution_count": 79,
     "metadata": {},
     "output_type": "execute_result"
    }
   ],
   "source": [
    "Z.argmin()"
   ]
  },
  {
   "attachments": {
    "%D0%B8%D0%B7%D0%BE%D0%B1%D1%80%D0%B0%D0%B6%D0%B5%D0%BD%D0%B8%D0%B5.png": {
     "image/png": "[encoded data removed]"
    }
   },
   "cell_type": "markdown",
   "id": "e004ed3a",
   "metadata": {},
   "source": [
    "<font color = 'red' size = 5>Задание 2 </font>\n",
    "\n",
    "Используя векторизацию и матричные вычисления выполните задачи.\n",
    "\n",
    "1. Реализуйте учебную модель [Игры \"Жизнь\"](https://en.wikipedia.org/wiki/Conway%27s_Game_of_Life). Создайте также динамическое изображение.\n",
    "![%D0%B8%D0%B7%D0%BE%D0%B1%D1%80%D0%B0%D0%B6%D0%B5%D0%BD%D0%B8%D0%B5.png](attachment:%D0%B8%D0%B7%D0%BE%D0%B1%D1%80%D0%B0%D0%B6%D0%B5%D0%BD%D0%B8%D0%B5.png)\n",
    "\n",
    "2. Реализуйте [расширенный алгоритм Евклида](https://en.wikipedia.org/wiki/Extended_Euclidean_algorithm) в матричном виде. "
   ]
  },
  {
   "cell_type": "code",
   "execution_count": 29,
   "id": "7c1b27d8-5fc1-442a-a547-3bd7a62b6bb3",
   "metadata": {},
   "outputs": [
    {
     "data": {
      "application/vnd.jupyter.widget-view+json": {
       "model_id": "47d6b00beb4543f5871c554bbd647401",
       "version_major": 2,
       "version_minor": 0
      },
      "image/png": "[encoded data removed]",
      "text/html": [
       "\n",
       "            <div style=\"display: inline-block;\">\n",
       "                <div class=\"jupyter-widgets widget-label\" style=\"text-align: center;\">\n",
       "                    Figure\n",
       "                </div>\n",
       "                <img src='data:image/png;base64,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' width=640.0/>\n",
       "            </div>\n",
       "        "
      ],
      "text/plain": [
       "Canvas(toolbar=Toolbar(toolitems=[('Home', 'Reset original view', 'home', 'home'), ('Back', 'Back to previous …"
      ]
     },
     "metadata": {},
     "output_type": "display_data"
    }
   ],
   "source": [
    "import numpy as np\n",
    "import matplotlib.pyplot as plt\n",
    "from matplotlib.animation import FuncAnimation\n",
    "%matplotlib widget\n",
    "\n",
    "M = 101\n",
    "n = np.append(np.arange(1, M), 0)\n",
    "p = np.concatenate(([M - 1], np.arange(0, M - 1)))\n",
    "X = np.random.rand(M, M) < 0.1\n",
    "X = X.astype(int)\n",
    "\n",
    "fig = plt.figure()\n",
    "ax = plt.axes()\n",
    "image = ax.imshow(X, cmap='binary')\n",
    "\n",
    "def update(frame):\n",
    "    global X\n",
    "    N = (\n",
    "        X[p, :] + X[n, :] + X[:, n] + X[:, p] +\n",
    "        X[n, :][:, n] + X[n, :][:, p] + X[p, :][:, n] + X[p, :][:, p]\n",
    "    )\n",
    "    X = (N == 3) | (X & (N == 2))\n",
    "    image.set_data(X)\n",
    "    return image,\n",
    "\n",
    "ani = FuncAnimation(fig, update, frames=100, blit=True, repeat=False)\n",
    "plt.show()"
   ]
  },
  {
   "cell_type": "code",
   "execution_count": 148,
   "id": "0ce146c5-0f4e-4e3a-896d-62d63df08d7a",
   "metadata": {},
   "outputs": [
    {
     "data": {
      "text/plain": [
       "array([[1., 0.],\n",
       "       [0., 1.]])"
      ]
     },
     "execution_count": 148,
     "metadata": {},
     "output_type": "execute_result"
    }
   ],
   "source": [
    "M = np.eye(2)\n",
    "M"
   ]
  },
  {
   "cell_type": "code",
   "execution_count": 149,
   "id": "45f25338-2b48-4180-9fb0-b23dcab76d22",
   "metadata": {},
   "outputs": [
    {
     "data": {
      "text/plain": [
       "array([1., 0.])"
      ]
     },
     "execution_count": 149,
     "metadata": {},
     "output_type": "execute_result"
    }
   ],
   "source": [
    "M[0]"
   ]
  },
  {
   "cell_type": "markdown",
   "id": "81adfdd6-c527-43f4-af9c-25ebb2d3e2e3",
   "metadata": {},
   "source": [
    "## Расширенный алгоритм Евклида.\n",
    "Вход: $a\\in\\mathbb{Z}, b\\in\\mathbb{N}.$  \n",
    "Выход: $u,v\\in\\mathbb{Z},$ удовлетворяющие условию $u*a+v*b=НОД(a,b).$  \n",
    "1. Задаем начальное значение матрицы  $$M:=\\begin{pmatrix} 1 & 0 \\\\ 0 & 1\\end{pmatrix}.$$                 \n",
    "2. Пока $b\\neq0$ вычисляем:  \n",
    "    2.1. Делим $a$ на $b$ с остатком, вычисляя при этом числа $q$ и\n",
    " $r$ такие, что \n",
    " $$a=b*q+r,\\qquad 0\\leq r<b.$$    \n",
    "    2.2. Выполняем следующие операции присваивания\n",
    " $$\n",
    "  a:=b,\\quad b:=r,\\quad M:=M*\\begin{pmatrix} 0 & 1 \\\\ 1 & -q\\end{pmatrix}.\n",
    "$$\n",
    "\n",
    "3. Выдаем результат  $\\;u:=M_{1,1},\\; v:=M_{2,1}.$"
   ]
  },
  {
   "cell_type": "code",
   "execution_count": 417,
   "id": "6c92fbef-7745-4377-b97c-624b96801bf7",
   "metadata": {},
   "outputs": [],
   "source": [
    "def ExtendedGCD_matrix(a, b):\n",
    "    M = np.eye(2)\n",
    "    while b:\n",
    "        q = a // b\n",
    "        a, b = b, a % b\n",
    "        M = np.dot(M, np.array([[0, 1], [1, -q]]))\n",
    "    return (int(M[0,0]), int(M[1,0]))"
   ]
  },
  {
   "cell_type": "code",
   "execution_count": 418,
   "id": "80af7118-6e2b-4c81-94f3-06524214a8ce",
   "metadata": {},
   "outputs": [
    {
     "name": "stdout",
     "output_type": "stream",
     "text": [
      "u = -7; v = -1\n",
      "1\n"
     ]
    }
   ],
   "source": [
    "a = -3\n",
    "b = 20\n",
    "u, v = ExtendedGCD_matrix(a,b)\n",
    "print('u = %d; v = %d' % (u, v))\n",
    "print(u*a + v*b)"
   ]
  },
  {
   "cell_type": "markdown",
   "id": "fc8f15ba",
   "metadata": {},
   "source": [
    "## <font color = 'green'> 3. Простейшая лин. регрессия  </font>"
   ]
  },
  {
   "cell_type": "markdown",
   "id": "9bd30ec5",
   "metadata": {},
   "source": [
    "<font color = 'red' size = 5>Задание 3 </font>\n",
    "\n",
    "Модель линейной регрессии в самом простом виде предполагает следующее.\n",
    "\n",
    "Пусть заданы два набора числовых данных $X=\\{x_1,x_2,...x_k\\}$ и $Y=\\{y_1,y_2,...y_k\\}$. Необходимо по известным данным отыскать такую функцию вида $f(x) = a*x +b $ максимально описывающую зависимость представителей набора $Y$ от представителей набора $X$.\n",
    "\n",
    "Задача обучения в данном случае состоит в нахождении коэффициентов $a$ и $b$ таких, чтобы минимизировать значение квадратичной ошибки $SSE(a,b) = \\displaystyle\\sum_{i=1}^{k}(y_i - f(x_i))^2$ на исходных данных. \n",
    "\n",
    "Разрешив полученную задачу оптимизации можно получить формулы для коэффициентов $a$ и $b$.\n",
    "\n",
    "$$a = \\frac{\\displaystyle\\sum_{i=1}^{k}(x_k - \\overline{x})(y_k - \\overline{y})}{\\displaystyle\\sum_{i=1}^{k}(x_k - \\overline{x})^2}$$\n",
    "\n",
    "$$b = \\overline{y}- a \\overline{x} $$\n",
    "\n",
    "Полученные формулы можно представить в **матричном виде**, если записать исходные данные в вектор столбцы или вектор строки. \n",
    "\n",
    "\n",
    "1. Преобразуйте формулы для коэффициентов регрессии в матричный вид и запишите их.\n",
    "2. Релиазуйте собственную модель линейной регрессии используя возможности numpy b формулы из п 1. На вход модель принимает набор $X$ и $Y$, а возвращает коэффициенты $a$ и $b$. Используйте векторизацию! \n",
    "3. Проверьте правильность модели с помощью рисунка.\n",
    "4. Сверьте полученные данные с встроенным классом библиотеки sklearn.\n",
    "5. Протестируйте полученную вами модель на [реальных данных](https://www.kaggle.com/datasets/abhishek14398/salary-dataset-simple-linear-regression). "
   ]
  },
  {
   "cell_type": "markdown",
   "id": "318d2a45-a94e-461d-9927-132aa02bf4be",
   "metadata": {},
   "source": [
    "$$a = \\frac{(X - \\overline{x})(Y - \\overline{y})}{(X - \\overline{x})^2}$$\n",
    "\n",
    "$$b = \\overline{y}- a \\overline{x} $$"
   ]
  },
  {
   "cell_type": "code",
   "execution_count": 5,
   "id": "5d57125b-2f4d-49dd-a2ba-4f86a857dbe6",
   "metadata": {},
   "outputs": [],
   "source": [
    "def linear_regression(X, Y):\n",
    "    A = np.dot(X - np.mean(X), Y - np.mean(Y))\n",
    "    B = np.dot(X - np.mean(X), X - np.mean(X))\n",
    "    \n",
    "    a = A / B \n",
    "    b = np.mean(Y) - a*np.mean(X)\n",
    "    \n",
    "    return a, b"
   ]
  },
  {
   "cell_type": "code",
   "execution_count": 7,
   "id": "20674414",
   "metadata": {},
   "outputs": [
    {
     "data": {
      "image/png": "[encoded data removed]",
      "text/plain": [
       "<Figure size 432x288 with 1 Axes>"
      ]
     },
     "metadata": {
      "needs_background": "light"
     },
     "output_type": "display_data"
    }
   ],
   "source": [
    "import matplotlib.pyplot as plt\n",
    "rng = np.random\n",
    "x = 10 * rng.rand(50)\n",
    "y = 2 * x - 1 + rng.randn(50)\n",
    "plt.scatter(x, y);"
   ]
  },
  {
   "cell_type": "code",
   "execution_count": 8,
   "id": "551a1195",
   "metadata": {},
   "outputs": [
    {
     "data": {
      "text/plain": [
       "array([9.41829956, 7.74096193, 6.24654991, 4.1263341 , 9.39656165,\n",
       "       1.2026495 , 3.53553774, 7.07298269, 1.79549345, 2.75087919,\n",
       "       2.73990795, 1.18517553, 7.63793447, 0.37798845, 2.0375483 ,\n",
       "       3.10391545, 3.77961318, 5.36949873, 7.48429479, 3.78054182,\n",
       "       7.18162467, 0.72196639, 1.07623553, 7.76076908, 8.27116484,\n",
       "       7.2279695 , 3.7709875 , 1.798542  , 1.51137881, 5.80907403,\n",
       "       1.73620439, 7.27762193, 6.27038795, 2.09023474, 8.25922088,\n",
       "       7.26410868, 7.97932797, 9.73356848, 8.05816007, 0.37562537,\n",
       "       3.27564882, 1.91021952, 0.99887114, 5.07018642, 1.77145022,\n",
       "       1.93620675, 3.62579986, 7.41385561, 9.01263704, 9.99180114])"
      ]
     },
     "execution_count": 8,
     "metadata": {},
     "output_type": "execute_result"
    }
   ],
   "source": [
    "x"
   ]
  },
  {
   "cell_type": "code",
   "execution_count": 9,
   "id": "22eb1199",
   "metadata": {},
   "outputs": [
    {
     "data": {
      "text/plain": [
       "array([17.40906795, 15.13114778, 11.92038984,  6.79585841, 14.30250605,\n",
       "        2.26127457,  7.04012719, 14.45321833,  2.18346347,  6.60118061,\n",
       "        6.06628103,  1.43009588, 12.23110537,  0.13977016,  4.16697379,\n",
       "        5.43775843,  7.23911285,  8.99242988, 13.18101901,  5.11301459,\n",
       "       12.90842386,  0.79771479,  1.59320589, 12.62977432, 15.8287245 ,\n",
       "       12.10469419,  6.69555981,  1.45452788,  2.1478962 , 10.52656473,\n",
       "        2.81439573, 14.27095108, 11.05948955,  3.47063349, 15.78254127,\n",
       "       15.48453884, 16.09347083, 17.97968467, 13.94365894, -0.30996663,\n",
       "        6.87090074,  3.08646244,  3.24925134,  8.52738613,  4.25689065,\n",
       "        4.20170941,  4.34099324, 14.44747589, 17.43206913, 17.45766001])"
      ]
     },
     "execution_count": 9,
     "metadata": {},
     "output_type": "execute_result"
    }
   ],
   "source": [
    "y"
   ]
  },
  {
   "cell_type": "code",
   "execution_count": 10,
   "id": "6d9f5622",
   "metadata": {},
   "outputs": [
    {
     "data": {
      "text/plain": [
       "LinearRegression()"
      ]
     },
     "execution_count": 10,
     "metadata": {},
     "output_type": "execute_result"
    }
   ],
   "source": [
    "from sklearn.linear_model import LinearRegression\n",
    "model = LinearRegression(fit_intercept=True)\n",
    "model"
   ]
  },
  {
   "cell_type": "code",
   "execution_count": 11,
   "id": "9f0fef39",
   "metadata": {},
   "outputs": [
    {
     "data": {
      "text/plain": [
       "((50, 1), (50,))"
      ]
     },
     "execution_count": 11,
     "metadata": {},
     "output_type": "execute_result"
    }
   ],
   "source": [
    "X = x[:, np.newaxis]\n",
    "(X.shape,x.shape)"
   ]
  },
  {
   "cell_type": "code",
   "execution_count": 12,
   "id": "7c167936",
   "metadata": {},
   "outputs": [
    {
     "data": {
      "text/plain": [
       "array([[9.41829956],\n",
       "       [7.74096193],\n",
       "       [6.24654991],\n",
       "       [4.1263341 ],\n",
       "       [9.39656165],\n",
       "       [1.2026495 ],\n",
       "       [3.53553774],\n",
       "       [7.07298269],\n",
       "       [1.79549345],\n",
       "       [2.75087919],\n",
       "       [2.73990795],\n",
       "       [1.18517553],\n",
       "       [7.63793447],\n",
       "       [0.37798845],\n",
       "       [2.0375483 ],\n",
       "       [3.10391545],\n",
       "       [3.77961318],\n",
       "       [5.36949873],\n",
       "       [7.48429479],\n",
       "       [3.78054182],\n",
       "       [7.18162467],\n",
       "       [0.72196639],\n",
       "       [1.07623553],\n",
       "       [7.76076908],\n",
       "       [8.27116484],\n",
       "       [7.2279695 ],\n",
       "       [3.7709875 ],\n",
       "       [1.798542  ],\n",
       "       [1.51137881],\n",
       "       [5.80907403],\n",
       "       [1.73620439],\n",
       "       [7.27762193],\n",
       "       [6.27038795],\n",
       "       [2.09023474],\n",
       "       [8.25922088],\n",
       "       [7.26410868],\n",
       "       [7.97932797],\n",
       "       [9.73356848],\n",
       "       [8.05816007],\n",
       "       [0.37562537],\n",
       "       [3.27564882],\n",
       "       [1.91021952],\n",
       "       [0.99887114],\n",
       "       [5.07018642],\n",
       "       [1.77145022],\n",
       "       [1.93620675],\n",
       "       [3.62579986],\n",
       "       [7.41385561],\n",
       "       [9.01263704],\n",
       "       [9.99180114]])"
      ]
     },
     "execution_count": 12,
     "metadata": {},
     "output_type": "execute_result"
    }
   ],
   "source": [
    "X"
   ]
  },
  {
   "cell_type": "code",
   "execution_count": 13,
   "id": "f8a8e440",
   "metadata": {},
   "outputs": [
    {
     "data": {
      "text/plain": [
       "LinearRegression()"
      ]
     },
     "execution_count": 13,
     "metadata": {},
     "output_type": "execute_result"
    }
   ],
   "source": [
    "model.fit(X, y)"
   ]
  },
  {
   "cell_type": "code",
   "execution_count": 14,
   "id": "6aca349e",
   "metadata": {},
   "outputs": [
    {
     "data": {
      "text/plain": [
       "(array([1.85155374]), -0.2212454354169182)"
      ]
     },
     "execution_count": 14,
     "metadata": {},
     "output_type": "execute_result"
    }
   ],
   "source": [
    "(model.coef_, model.intercept_)"
   ]
  },
  {
   "cell_type": "code",
   "execution_count": 15,
   "id": "f36cb81c",
   "metadata": {},
   "outputs": [
    {
     "data": {
      "text/plain": [
       "0.9637646822256153"
      ]
     },
     "execution_count": 15,
     "metadata": {},
     "output_type": "execute_result"
    }
   ],
   "source": [
    "model.score(X,y)"
   ]
  },
  {
   "cell_type": "code",
   "execution_count": 16,
   "id": "691ec0e3-7f73-4c8d-ace2-8fb0b6364695",
   "metadata": {},
   "outputs": [
    {
     "data": {
      "text/plain": [
       "(1.8515537448248285, -0.22124543541691644)"
      ]
     },
     "execution_count": 16,
     "metadata": {},
     "output_type": "execute_result"
    }
   ],
   "source": [
    "a,b = linear_regression(x, y)\n",
    "a, b"
   ]
  },
  {
   "cell_type": "code",
   "execution_count": 17,
   "id": "ff4577a4-75d8-48cb-8431-ab4c7e3e29d5",
   "metadata": {},
   "outputs": [
    {
     "data": {
      "image/png": "[encoded data removed]",
      "text/plain": [
       "<Figure size 432x288 with 1 Axes>"
      ]
     },
     "metadata": {
      "needs_background": "light"
     },
     "output_type": "display_data"
    }
   ],
   "source": [
    "import matplotlib.pyplot as plt\n",
    "import numpy as np\n",
    "\n",
    "plt.scatter(x, y, c='blue')\n",
    "plt.plot(x, a*x + b, c='red')\n",
    "plt.show()\n"
   ]
  },
  {
   "cell_type": "code",
   "execution_count": 18,
   "id": "6731c88b-bc09-4329-90b3-316e561a705a",
   "metadata": {},
   "outputs": [],
   "source": [
    "import pandas as pd"
   ]
  },
  {
   "cell_type": "code",
   "execution_count": 19,
   "id": "17a44c97-8cb0-4ed1-a029-b9235ecbda00",
   "metadata": {},
   "outputs": [
    {
     "name": "stdout",
     "output_type": "stream",
     "text": [
      "    Unnamed: 0  YearsExperience    Salary\n",
      "0            0              1.2   39344.0\n",
      "1            1              1.4   46206.0\n",
      "2            2              1.6   37732.0\n",
      "3            3              2.1   43526.0\n",
      "4            4              2.3   39892.0\n",
      "5            5              3.0   56643.0\n",
      "6            6              3.1   60151.0\n",
      "7            7              3.3   54446.0\n",
      "8            8              3.3   64446.0\n",
      "9            9              3.8   57190.0\n",
      "10          10              4.0   63219.0\n",
      "11          11              4.1   55795.0\n",
      "12          12              4.1   56958.0\n",
      "13          13              4.2   57082.0\n",
      "14          14              4.6   61112.0\n",
      "15          15              5.0   67939.0\n",
      "16          16              5.2   66030.0\n",
      "17          17              5.4   83089.0\n",
      "18          18              6.0   81364.0\n",
      "19          19              6.1   93941.0\n",
      "20          20              6.9   91739.0\n",
      "21          21              7.2   98274.0\n",
      "22          22              8.0  101303.0\n",
      "23          23              8.3  113813.0\n",
      "24          24              8.8  109432.0\n",
      "25          25              9.1  105583.0\n",
      "26          26              9.6  116970.0\n",
      "27          27              9.7  112636.0\n",
      "28          28             10.4  122392.0\n",
      "29          29             10.6  121873.0\n"
     ]
    }
   ],
   "source": [
    "data = pd.read_csv('D:\\dataset\\Salary_dataset.csv')\n",
    "print(data)"
   ]
  },
  {
   "cell_type": "code",
   "execution_count": 20,
   "id": "e6595caa-33a0-4f3d-ae15-1b53eda9bda0",
   "metadata": {},
   "outputs": [],
   "source": [
    "x = np.array(data['YearsExperience'])\n",
    "y = np.array(data['Salary'])"
   ]
  },
  {
   "cell_type": "code",
   "execution_count": 21,
   "id": "265ffcbd-e541-4471-bd35-c8f5b955143d",
   "metadata": {},
   "outputs": [
    {
     "data": {
      "text/plain": [
       "(9449.962321455076, 24848.2039665232)"
      ]
     },
     "execution_count": 21,
     "metadata": {},
     "output_type": "execute_result"
    }
   ],
   "source": [
    "a,b = linear_regression(x, y)\n",
    "a, b"
   ]
  },
  {
   "cell_type": "code",
   "execution_count": 22,
   "id": "89e4c86d-b21e-43ef-8d11-344561841548",
   "metadata": {},
   "outputs": [
    {
     "data": {
      "text/plain": [
       "LinearRegression()"
      ]
     },
     "execution_count": 22,
     "metadata": {},
     "output_type": "execute_result"
    }
   ],
   "source": [
    "from sklearn.linear_model import LinearRegression\n",
    "model = LinearRegression(fit_intercept=True)\n",
    "model"
   ]
  },
  {
   "cell_type": "code",
   "execution_count": 23,
   "id": "858c5067-d48a-4836-a4cc-8ac9ce1f3499",
   "metadata": {},
   "outputs": [
    {
     "data": {
      "text/plain": [
       "((30, 1), (30,))"
      ]
     },
     "execution_count": 23,
     "metadata": {},
     "output_type": "execute_result"
    }
   ],
   "source": [
    "X = x[:, np.newaxis]\n",
    "(X.shape,x.shape)"
   ]
  },
  {
   "cell_type": "code",
   "execution_count": 24,
   "id": "f367ff85-ffe9-408d-a4f6-59b3eb77bd63",
   "metadata": {},
   "outputs": [
    {
     "data": {
      "text/plain": [
       "LinearRegression()"
      ]
     },
     "execution_count": 24,
     "metadata": {},
     "output_type": "execute_result"
    }
   ],
   "source": [
    "model.fit(X, y)"
   ]
  },
  {
   "cell_type": "code",
   "execution_count": 25,
   "id": "67d51fc5-b9a5-4bce-8032-3f5324fbac5a",
   "metadata": {},
   "outputs": [
    {
     "data": {
      "text/plain": [
       "(array([9449.96232146]), 24848.203966523193)"
      ]
     },
     "execution_count": 25,
     "metadata": {},
     "output_type": "execute_result"
    }
   ],
   "source": [
    "(model.coef_, model.intercept_)"
   ]
  },
  {
   "cell_type": "code",
   "execution_count": 26,
   "id": "91b8e0d1-de7e-47bd-9421-f83e497cb660",
   "metadata": {},
   "outputs": [
    {
     "data": {
      "text/plain": [
       "0.9569566641435086"
      ]
     },
     "execution_count": 26,
     "metadata": {},
     "output_type": "execute_result"
    }
   ],
   "source": [
    "model.score(X,y)"
   ]
  },
  {
   "cell_type": "code",
   "execution_count": 27,
   "id": "d568dc4a-64c5-49ca-83ee-6a02695d954e",
   "metadata": {},
   "outputs": [
    {
     "data": {
      "image/png": "[encoded data removed]",
      "text/plain": [
       "<Figure size 432x288 with 1 Axes>"
      ]
     },
     "metadata": {
      "needs_background": "light"
     },
     "output_type": "display_data"
    }
   ],
   "source": [
    "import matplotlib.pyplot as plt\n",
    "import numpy as np\n",
    "\n",
    "plt.scatter(x, y, c='blue')\n",
    "plt.plot(x, a*x + b, c='red')\n",
    "plt.show()"
   ]
  },
  {
   "cell_type": "code",
   "execution_count": null,
   "id": "da6f3671-df73-4584-810f-9dd443aae8b7",
   "metadata": {},
   "outputs": [],
   "source": []
  }
 ],
 "metadata": {
  "kernelspec": {
   "display_name": "Python 3 (ipykernel)",
   "language": "python",
   "name": "python3"
  },
  "language_info": {
   "codemirror_mode": {
    "name": "ipython",
    "version": 3
   },
   "file_extension": ".py",
   "mimetype": "text/x-python",
   "name": "python",
   "nbconvert_exporter": "python",
   "pygments_lexer": "ipython3",
   "version": "3.9.7"
  }
 },
 "nbformat": 4,
 "nbformat_minor": 5
}
