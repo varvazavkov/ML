{
 "cells": [
  {
   "cell_type": "code",
   "execution_count": 6,
   "id": "c0688b91",
   "metadata": {},
   "outputs": [],
   "source": [
    "import numpy as np\n",
    "import pandas as pd\n",
    "import seaborn as sns\n",
    "import matplotlib.pyplot as plt\n",
    "from scipy.stats import entropy\n",
    "from sklearn.datasets import make_blobs, make_moons\n",
    "import matplotlib.pyplot as plt\n",
    "from sklearn.tree import DecisionTreeClassifier\n",
    "from sklearn.metrics import f1_score, precision_score, recall_score\n",
    "from sklearn.model_selection import train_test_split\n",
    "from sklearn.model_selection import GridSearchCV\n",
    "from sklearn.preprocessing import OneHotEncoder, LabelEncoder\n",
    "from sklearn.tree import DecisionTreeRegressor\n",
    "from sklearn.metrics import accuracy_score\n",
    "from sklearn.preprocessing import StandardScaler\n",
    "from sklearn.preprocessing import PolynomialFeatures"
   ]
  },
  {
   "cell_type": "markdown",
   "id": "50072746",
   "metadata": {},
   "source": [
    "# <font color = 'red'> ЛР 5. Дерево принятия решений </font>"
   ]
  },
  {
   "cell_type": "markdown",
   "id": "2b1bdbfb",
   "metadata": {},
   "source": [
    "Сложность: <font color = 'green'> Легко  </font>.\n",
    "\n",
    "Дата составления: 21.10.2023\n",
    "\n",
    "Срок выполнения: 1 неделя (с момента первой практики после выдачи).\n",
    "\n",
    "Автор: ст. преподаватель Кушнеров А.В."
   ]
  },
  {
   "cell_type": "markdown",
   "id": "b61b8275",
   "metadata": {},
   "source": [
    "## <font color = 'green'> 1. Энтропия.  </font>"
   ]
  },
  {
   "cell_type": "markdown",
   "id": "1745e687",
   "metadata": {},
   "source": [
    "**Энтропия Шеннона** - мера хаотичности множества. Пусть задано множество из $N$ представителей $s$ различных классов. $X = (x_{1},x_{1},x_{1},...,x_{2},x_{2},...,...x_{s},x_{s},...)$.\n",
    "\n",
    "Энтропия тогда может быть вычислена по формуле:\n",
    "\n",
    "$$S(X)=-\\displaystyle\\sum_{i=1}^{s} p_{i}\\log_2 p_{i}$$\n",
    "\n",
    "Где, $p_{i}=N_{i}/N$."
   ]
  },
  {
   "cell_type": "markdown",
   "id": "4de55f55",
   "metadata": {},
   "source": [
    "<font color = 'red' size = 5>Задание 1 </font>\n",
    "\n",
    "Реализуйте функцию для подсчёта энтропии Шеннонна для заданной выборки. Сравните результат работы со встроенной функцией.\n",
    "\n",
    "\n",
    "[Справочная информация](https://ru.wikipedia.org/wiki/%D0%98%D0%BD%D1%84%D0%BE%D1%80%D0%BC%D0%B0%D1%86%D0%B8%D0%BE%D0%BD%D0%BD%D0%B0%D1%8F_%D1%8D%D0%BD%D1%82%D1%80%D0%BE%D0%BF%D0%B8%D1%8F)\n"
   ]
  },
  {
   "cell_type": "code",
   "execution_count": 12,
   "id": "e92121a9",
   "metadata": {},
   "outputs": [],
   "source": [
    "test = np.random.randint(0,3,100)\n",
    "test\n",
    "\n",
    "unique, counts = np.unique(test, return_counts=True) #находит уникальные элементы в массиве"
   ]
  },
  {
   "cell_type": "code",
   "execution_count": 13,
   "id": "2e04a85c-4690-4b1e-8687-1d42e0576282",
   "metadata": {},
   "outputs": [
    {
     "data": {
      "text/plain": [
       "array([0, 1, 0, 0, 1, 1, 0, 2, 0, 1, 2, 1, 2, 2, 0, 1, 0, 0, 0, 1, 1, 1,\n",
       "       0, 2, 1, 0, 0, 0, 1, 0, 1, 1, 2, 1, 1, 1, 0, 2, 1, 1, 0, 0, 2, 1,\n",
       "       0, 1, 1, 0, 1, 2, 2, 0, 2, 0, 1, 0, 1, 0, 0, 1, 1, 2, 0, 2, 2, 1,\n",
       "       2, 0, 1, 2, 0, 1, 2, 0, 0, 1, 1, 2, 2, 2, 2, 1, 0, 2, 0, 0, 2, 2,\n",
       "       0, 2, 0, 1, 1, 2, 0, 0, 2, 2, 2, 2])"
      ]
     },
     "execution_count": 13,
     "metadata": {},
     "output_type": "execute_result"
    }
   ],
   "source": [
    "test"
   ]
  },
  {
   "cell_type": "code",
   "execution_count": 14,
   "id": "720d91e4-05c6-4e9f-86c9-de19cf5907c0",
   "metadata": {},
   "outputs": [
    {
     "data": {
      "text/plain": [
       "(array([0, 1, 2]), array([36, 34, 30], dtype=int64))"
      ]
     },
     "execution_count": 14,
     "metadata": {},
     "output_type": "execute_result"
    }
   ],
   "source": [
    "unique, counts"
   ]
  },
  {
   "cell_type": "code",
   "execution_count": 15,
   "id": "3188b011",
   "metadata": {},
   "outputs": [
    {
     "data": {
      "text/plain": [
       "1.5808786445478213"
      ]
     },
     "execution_count": 15,
     "metadata": {},
     "output_type": "execute_result"
    }
   ],
   "source": [
    "entropy(counts,base=2)"
   ]
  },
  {
   "cell_type": "code",
   "execution_count": 16,
   "id": "a5eb91ee-24ee-4207-80a0-a818a64f107b",
   "metadata": {},
   "outputs": [],
   "source": [
    "def entropy_sh(arr):\n",
    "    unique, counts = np.unique(arr, return_counts=True)\n",
    "    s = len(unique)\n",
    "    N = np.sum(counts)\n",
    "    S = 0\n",
    "    for i in range(s):\n",
    "        pi = counts[i] / N\n",
    "        S += pi * np.log2(pi)\n",
    "        \n",
    "    return -S    "
   ]
  },
  {
   "cell_type": "code",
   "execution_count": 17,
   "id": "a38e7fa7-d9d6-4c4b-9af7-00f1e6f03ce3",
   "metadata": {},
   "outputs": [
    {
     "data": {
      "text/plain": [
       "1.5808786445478216"
      ]
     },
     "execution_count": 17,
     "metadata": {},
     "output_type": "execute_result"
    }
   ],
   "source": [
    "entropy_sh(test)"
   ]
  },
  {
   "cell_type": "markdown",
   "id": "c8d607c8-914f-47e6-bb21-4674daf5c0ef",
   "metadata": {},
   "source": [
    "100 элементов, 2 мно-ва каждое по 50, у каждого по 3"
   ]
  },
  {
   "cell_type": "markdown",
   "id": "a56618ad",
   "metadata": {},
   "source": [
    "## <font color = 'green'> 2. Прирост информации и дерево принятия решений  </font>"
   ]
  },
  {
   "cell_type": "markdown",
   "id": "c5b8a97e",
   "metadata": {},
   "source": [
    "Пусть исходное множество $X$ было разделено на несколько подмножеств (чаще всего на 2). В каждом из них можем посчитать энтропию. Мы ожидаем, что наше разбиение уменьшит энтропию в каждом из подмножеств или в целом, что должно приблизить нас к решению задачи классификации. Для того, чтобы получить полную картину вводят понятие прироста информации.\n",
    "\n",
    "$$IG(Q) = S_{0}-\\displaystyle\\sum_{i=1}^{q} \\frac{N_{i}}{N}S_{i}$$\n",
    "\n",
    "Тут имеем: $S_{0}$ - энтропия исходного множества, $N_{i}$ - количесвто элементов в каждом новом классе после разбиения, $N$ - исходное количество элементов, $q$ - количество множеств после разбиения,  $S_{i}$ - энтропия новых множеств.\n",
    "\n",
    "\n",
    "Суть работы решающего дерева в разделении обучающего множества на подмножества, так чтобы энтропия выборки меток уменьшалась по каждому подмножеству, а прирост информации увеличивался. В качестве критерия для разделения(по признакам) выбирают тот, который даёт наибольший прирост информации (по меткам). Эта процедура повторяется рекурсивно.\n",
    "\n",
    "[Справочная информация](https://scikit-learn.org/stable/modules/tree.html#tree)"
   ]
  },
  {
   "cell_type": "markdown",
   "id": "c8cff8e3",
   "metadata": {},
   "source": [
    "<font color = 'red' size = 5>Задание 2 </font>\n",
    "\n",
    "\n",
    "1. Реализуйте учебное приложение, которое строит решающее дерево классификации на данных состоящих не более чем из двух признаков.\n",
    "2. Проверьте своё приложение на простых искусственных данных и сравните со встроенным классом DecisionTreeClassifier."
   ]
  },
  {
   "cell_type": "markdown",
   "id": "edffba7f-625b-4c37-9a8c-167f7671cfcd",
   "metadata": {},
   "source": [
    "Пусть исходное множество $X$ было разделено на несколько подмножеств (чаще всего на 2). В каждом из них можем посчитать энтропию. Мы ожидаем, что наше разбиение уменьшит энтропию в каждом из подмножеств или в целом, что должно приблизить нас к решению задачи классификации. Для того, чтобы получить полную картину вводят понятие прироста информации.\n",
    "\n",
    "$$IG(Q) = S_{0}-\\displaystyle\\sum_{i=1}^{q} \\frac{N_{i}}{N}S_{i}$$\n",
    "\n",
    "Тут имеем: $S_{0}$ - энтропия исходного множества, $N_{i}$ - количесвто элементов в каждом новом классе после разбиения, $N$ - исходное количество элементов, $q$ - количество множеств после разбиения,  $S_{i}$ - энтропия новых множеств.\n",
    "\n",
    "\n",
    "Суть работы решающего дерева в разделении обучающего множества на подмножества, так чтобы энтропия выборки меток уменьшалась по каждому подмножеству, а прирост информации увеличивался. В качестве критерия для разделения(по признакам) выбирают тот, который даёт наибольший прирост информации (по меткам). Эта процедура повторяется рекурсивно.\n",
    "\n",
    "[Справочная информация](https://scikit-learn.org/stable/modules/tree.html#tree)"
   ]
  },
  {
   "cell_type": "code",
   "execution_count": 4,
   "id": "4775afc0-d3cf-4e65-a64b-93cd98146193",
   "metadata": {},
   "outputs": [],
   "source": [
    "import numpy as np\n",
    "\n",
    "class DecisionTreeEntropyClassifier:\n",
    "    def __init__(self, max_depth=None):\n",
    "        self.max_depth = max_depth\n",
    "        self.tree = None\n",
    "\n",
    "    def entropy(self, y):\n",
    "        _, counts = np.unique(y, return_counts=True)\n",
    "        probabilities = counts / len(y)\n",
    "        entropy_value = -np.sum(probabilities * np.log2(probabilities + 1e-10)) \n",
    "        return entropy_value\n",
    "\n",
    "    def information_gain(self, y, y_left, y_right):\n",
    "        entropy_parent = self.entropy(y)\n",
    "        entropy_left = self.entropy(y_left)\n",
    "        entropy_right = self.entropy(y_right)\n",
    "        n = len(y)\n",
    "        information_gain_value = entropy_parent - (len(y_left) / n) * entropy_left - (len(y_right) / n) * entropy_right\n",
    "        return information_gain_value\n",
    "\n",
    "    def find_best_split(self, X, y):\n",
    "        m, n = X.shape\n",
    "        if m <= 1:\n",
    "            return None, None \n",
    "\n",
    "        entropy_parent = self.entropy(y)\n",
    "        best_split = None\n",
    "        best_info_gain = 0\n",
    "\n",
    "        for feature_index in range(n):\n",
    "            unique_values = np.unique(X[:, feature_index])\n",
    "            for value in unique_values:\n",
    "                mask = X[:, feature_index] <= value\n",
    "                y_left = y[mask]\n",
    "                y_right = y[~mask]\n",
    "\n",
    "                if len(y_left) > 0 and len(y_right) > 0:\n",
    "                    info_gain = self.information_gain(y, y_left, y_right)\n",
    "\n",
    "                    if info_gain > best_info_gain:\n",
    "                        best_info_gain = info_gain\n",
    "                        best_split = (feature_index, value)\n",
    "\n",
    "        return best_split, best_info_gain\n",
    "\n",
    "    def build_tree(self, X, y, depth):\n",
    "        if depth == 0 or len(np.unique(y)) == 1:\n",
    "            return int(np.bincount(y).argmax())\n",
    "\n",
    "        best_split, _ = self.find_best_split(X, y)\n",
    "\n",
    "        if best_split is None:\n",
    "            return int(np.bincount(y).argmax())\n",
    "\n",
    "        feature_index, value = best_split\n",
    "        mask = X[:, feature_index] <= value\n",
    "\n",
    "        X_left, y_left = X[mask], y[mask]\n",
    "        X_right, y_right = X[~mask], y[~mask]\n",
    "\n",
    "        left_subtree = self.build_tree(X_left, y_left, depth - 1)\n",
    "        right_subtree = self.build_tree(X_right, y_right, depth - 1)\n",
    "\n",
    "        return (feature_index, value, left_subtree, right_subtree)\n",
    "\n",
    "    def fit(self, X, y):\n",
    "        self.tree = self.build_tree(X, y, self.max_depth)\n",
    "\n",
    "    def predict_instance(self, x, node):\n",
    "        if isinstance(node, int):  \n",
    "            return node\n",
    "        else:\n",
    "            feature_index, value, left_subtree, right_subtree = node\n",
    "            if x[feature_index] <= value:\n",
    "                return self.predict_instance(x, left_subtree)\n",
    "            else:\n",
    "                return self.predict_instance(x, right_subtree)\n",
    "\n",
    "    def predict(self, X):\n",
    "        return np.array([self.predict_instance(x, self.tree) for x in X])"
   ]
  },
  {
   "cell_type": "code",
   "execution_count": 159,
   "id": "1098cf5f-993b-42c6-b6ff-35e71e6eea76",
   "metadata": {},
   "outputs": [
    {
     "data": {
      "text/plain": [
       "<matplotlib.collections.PathCollection at 0x179cb9c0ee0>"
      ]
     },
     "execution_count": 159,
     "metadata": {},
     "output_type": "execute_result"
    },
    {
     "data": {
      "image/png": "[encoded data removed]",
      "text/plain": [
       "<Figure size 432x288 with 1 Axes>"
      ]
     },
     "metadata": {
      "needs_background": "light"
     },
     "output_type": "display_data"
    }
   ],
   "source": [
    "X, y = make_moons(n_samples=200, noise=0.2, random_state=42)\n",
    "plt.scatter(X[:,0], X[:,1], c = y)"
   ]
  },
  {
   "cell_type": "code",
   "execution_count": 160,
   "id": "e0a75d69-8e5c-4b8d-ba41-8ed71ed4694b",
   "metadata": {},
   "outputs": [
    {
     "name": "stdout",
     "output_type": "stream",
     "text": [
      "Accuracy: 0.925\n"
     ]
    }
   ],
   "source": [
    "X_train, X_test, y_train, y_test = train_test_split(X, y, test_size=0.2, random_state=42)\n",
    "\n",
    "tree = DecisionTreeEntropyClassifier(max_depth=5)\n",
    "tree.fit(X_train, y_train)\n",
    "\n",
    "y_pred = tree.predict(X_test)\n",
    "\n",
    "accuracy = accuracy_score(y_test, y_pred)\n",
    "print(\"Accuracy:\", accuracy)"
   ]
  },
  {
   "cell_type": "code",
   "execution_count": 131,
   "id": "119988a8-c73e-47c5-abcc-7bb566235908",
   "metadata": {},
   "outputs": [
    {
     "name": "stdout",
     "output_type": "stream",
     "text": [
      "Accuracy: 0.95\n"
     ]
    }
   ],
   "source": [
    "X_train, X_test, y_train, y_test = train_test_split(X, y, test_size=0.2, random_state=42)\n",
    "\n",
    "tr = DecisionTreeClassifier(max_depth=5)\n",
    "tr.fit(X_train, y_train)\n",
    "\n",
    "y_pred = tr.predict(X_test)\n",
    "\n",
    "accuracy = accuracy_score(y_test, y_pred)\n",
    "print(\"Accuracy:\", accuracy)"
   ]
  },
  {
   "cell_type": "code",
   "execution_count": 130,
   "id": "71a0190e-2691-404c-ad0f-b36ddcb074df",
   "metadata": {},
   "outputs": [
    {
     "data": {
      "image/png": "[encoded data removed]",
      "text/plain": [
       "<Figure size 576x432 with 1 Axes>"
      ]
     },
     "metadata": {
      "needs_background": "light"
     },
     "output_type": "display_data"
    }
   ],
   "source": [
    "plt.figure(figsize=(8, 6))\n",
    "plt.scatter(X[:,0], X[:,1], c = y)\n",
    "plt.scatter(X_test[:, 0], X_test[:, 1], c=y_pred, cmap=plt.cm.Paired, edgecolor='k')\n",
    "plt.title(\"Decision Tree Entropy Classifier Predictions\")\n",
    "plt.xlabel(\"Feature 1\")\n",
    "plt.ylabel(\"Feature 2\")\n",
    "plt.show()"
   ]
  },
  {
   "cell_type": "code",
   "execution_count": 129,
   "id": "239fd112-3690-4c8e-bf49-87b85ceafe74",
   "metadata": {},
   "outputs": [
    {
     "data": {
      "image/png": "[encoded data removed]",
      "text/plain": [
       "<Figure size 432x288 with 1 Axes>"
      ]
     },
     "metadata": {
      "needs_background": "light"
     },
     "output_type": "display_data"
    }
   ],
   "source": [
    "x_min, x_max = X[:, 0].min() - 1, X[:, 0].max() + 1\n",
    "y_min, y_max = X[:, 1].min() - 1, X[:, 1].max() + 1\n",
    "xx, yy = np.meshgrid(np.arange(x_min, x_max, 0.02), np.arange(y_min, y_max, 0.02))\n",
    "Z = tree.predict(np.c_[xx.ravel(), yy.ravel()])\n",
    "Z = Z.reshape(xx.shape)\n",
    "plt.contourf(xx, yy, Z, alpha=0.5)\n",
    "plt.scatter(X[:,0], X[:,1], c = y)\n",
    "plt.xlabel('Feature 1')\n",
    "plt.ylabel('Feature 2')\n",
    "plt.show()"
   ]
  },
  {
   "cell_type": "code",
   "execution_count": null,
   "id": "dc3044e7-e73a-4044-8e85-fb5095424f2c",
   "metadata": {},
   "outputs": [],
   "source": []
  },
  {
   "cell_type": "markdown",
   "id": "f7a649cc",
   "metadata": {},
   "source": [
    "<font color = 'red' size = 5>Задание 3 </font>\n",
    "\n",
    "Для каждого из подзаданий:\n",
    "\n",
    "1. Проведите предварительную обработку данных.\n",
    "2. Постройте модель классификации на основе метода решающего дерева из встроенной библиотеки. \n",
    "3. Подберите оптимальные гиперпараметры модели используя различные оценки, кросс-валидацию и валидационные кривые.\n",
    "4. Сделайте выводы о точности моделей.\n",
    "5. Продумайте, как дерево может бороться с переобучением. Подвердите валидационными кривыми. \n",
    "6. Оцените качество модели с помощью precision\\recall score.\n",
    "\n",
    "(https://scikit-learn.org/stable/auto_examples/model_selection/plot_precision_recall.html)\n",
    "\n"
   ]
  },
  {
   "cell_type": "markdown",
   "id": "53471a68",
   "metadata": {},
   "source": [
    "##### 3.1 Скоринг отказа от услуг оператора связи.\n",
    "\n",
    "Используйте данные из файла [telecom.csv](https://www.kaggle.com/datasets/mnassrib/telecom-churn-datasets/code) для предсказания отказа от услуг связи. Столбец \"churn\". \n",
    "Предврительно изучите и подготовьте данные.\n",
    "\n",
    "#####  3.2 Предсказание диабета у пациентов.\n",
    "\n",
    "Используйте данные из файла [diabetes.csv](https://www.kaggle.com/datasets/saurabh00007/diabetescsv) для предсказания исхода для пациентов. Столбец \"outcome\". Предварительно изучите и подготовьте данные. \n",
    "\n",
    "\n",
    "##### 3.3 Данные о цветках ириса\n",
    "\n",
    "[IrisDataset](https://www.kaggle.com/datasets/uciml/iris)\n",
    "\n",
    "##### 3.4 Грибы\n",
    "\n",
    "Поппробуйте предсказать съедобность гриба с помощью дерева принятия решений.\n",
    "[mushrooms](https://www.kaggle.com/datasets/uciml/mushroom-classification/code)\n",
    "\n"
   ]
  },
  {
   "cell_type": "code",
   "execution_count": 161,
   "id": "98edc9db-3133-4927-971e-d04551a23e40",
   "metadata": {},
   "outputs": [],
   "source": [
    "from sklearn.metrics import precision_score, recall_score, confusion_matrix"
   ]
  },
  {
   "cell_type": "markdown",
   "id": "3bd1cbc7-2e17-4ea1-8c1a-49d5a0be4483",
   "metadata": {},
   "source": [
    "#### telecom"
   ]
  },
  {
   "cell_type": "code",
   "execution_count": 33,
   "id": "42529efd-dbed-47e8-aa8c-5b821abcfad1",
   "metadata": {},
   "outputs": [],
   "source": [
    "telecom = pd.read_csv('telecom_output.csv')"
   ]
  },
  {
   "cell_type": "code",
   "execution_count": 34,
   "id": "198c16cc-ee39-4819-a736-929534ab9829",
   "metadata": {},
   "outputs": [
    {
     "data": {
      "text/plain": [
       "(3333, 78)"
      ]
     },
     "execution_count": 34,
     "metadata": {},
     "output_type": "execute_result"
    }
   ],
   "source": [
    "X, y = telecom.drop(['churn'], axis=1), telecom['churn']\n",
    "\n",
    "scaler = StandardScaler()\n",
    "\n",
    "X_std = scaler.fit_transform(X)\n",
    "poly = PolynomialFeatures(degree=2) \n",
    "X_std_poly2 = poly.fit_transform(X_std)\n",
    "\n",
    "X_std_poly2.shape"
   ]
  },
  {
   "cell_type": "code",
   "execution_count": 187,
   "id": "311a904a-c03c-495f-b77d-23b82ec9a72f",
   "metadata": {},
   "outputs": [
    {
     "data": {
      "image/png": "[encoded data removed]",
      "text/plain": [
       "<Figure size 432x288 with 1 Axes>"
      ]
     },
     "metadata": {
      "needs_background": "light"
     },
     "output_type": "display_data"
    }
   ],
   "source": [
    "tree = DecisionTreeClassifier()\n",
    "parameters = {'max_depth': range(1, 21)}\n",
    "clf = GridSearchCV(tree, parameters, cv=5, scoring='f1_weighted', return_train_score=True)\n",
    "clf.fit(X, y)\n",
    "results = clf.cv_results_\n",
    "\n",
    "plt.plot(range(1, 21), results['mean_train_score'], 'r-o')\n",
    "plt.plot(range(1, 21), results['mean_test_score'], 'b-o')\n",
    "\n",
    "plt.legend(['Train', 'Test'])\n",
    "\n",
    "plt.show()"
   ]
  },
  {
   "cell_type": "markdown",
   "id": "018eb185-4784-4c39-abd9-b009d7ad9af1",
   "metadata": {},
   "source": [
    "Валидационная поверхность "
   ]
  },
  {
   "cell_type": "code",
   "execution_count": 35,
   "id": "4d69a9cc-85fe-4a96-9549-2ddc0fbcef97",
   "metadata": {},
   "outputs": [],
   "source": [
    "tree = DecisionTreeClassifier()\n",
    "parameters = {'min_samples_leaf': range(1, 10), 'max_depth': range(1, 10)}\n",
    "clf = GridSearchCV(tree, parameters, cv=5, scoring='f1_weighted', return_train_score=True)\n",
    "clf.fit(X, y)\n",
    "results = clf.cv_results_"
   ]
  },
  {
   "cell_type": "code",
   "execution_count": 41,
   "id": "ab780ca6-085b-4ab8-8409-c3042e6e658f",
   "metadata": {},
   "outputs": [],
   "source": [
    "from mpl_toolkits.mplot3d import Axes3D"
   ]
  },
  {
   "cell_type": "code",
   "execution_count": 56,
   "id": "eca36980-a445-4385-a24e-90179dcaf37a",
   "metadata": {},
   "outputs": [],
   "source": [
    "min_sl_values = results['param_min_samples_leaf'].data.astype(float)\n",
    "max_d_values = results['param_max_depth'].data.astype(float)\n",
    "\n",
    "accuracy_values_test = results['mean_test_score']\n",
    "accuracy_values_train = results['mean_train_score']"
   ]
  },
  {
   "cell_type": "code",
   "execution_count": 57,
   "id": "5602befc-dc1b-4e7f-96f4-863559e8625f",
   "metadata": {},
   "outputs": [],
   "source": [
    "min_sl_values = np.unique(min_sl_values)\n",
    "max_d_values = np.unique(max_d_values)\n",
    "min_sl_mesh, max_d_mesh = np.meshgrid(min_sl_values, max_d_values) #meshgrid создает матрицы из координатных векторов\n",
    "\n",
    "ac_train = np.array(accuracy_values_train).reshape(len(max_d_values), len(min_sl_values))\n",
    "ac_test = np.array(accuracy_values_test).reshape(len(max_d_values), len(min_sl_values))"
   ]
  },
  {
   "cell_type": "code",
   "execution_count": 69,
   "id": "ce652c45-8bdf-4091-b277-9f97082daac8",
   "metadata": {},
   "outputs": [
    {
     "data": {
      "image/png": "[encoded data removed]",
      "text/plain": [
       "<Figure size 864x720 with 3 Axes>"
      ]
     },
     "metadata": {
      "needs_background": "light"
     },
     "output_type": "display_data"
    }
   ],
   "source": [
    "fig = plt.figure(figsize=(12, 10))\n",
    "ax = fig.add_subplot(111, projection='3d')\n",
    "\n",
    "surface_train = ax.plot_surface(min_sl_mesh, max_d_mesh, ac_train, cmap='viridis', rstride=1, cstride=1, alpha=0.8, antialiased=True)\n",
    "surface_test = ax.plot_surface(min_sl_mesh, max_d_mesh, ac_test, cmap='plasma', rstride=1, cstride=1, alpha=0.8, antialiased=True)\n",
    "\n",
    "cbar1 = fig.colorbar(surface_train, ax=ax, shrink=0.5, aspect=10)\n",
    "cbar1.set_label('Train Accuracy')\n",
    "\n",
    "cbar2 = fig.colorbar(surface_test, ax=ax, shrink=0.5, aspect=10)\n",
    "cbar2.set_label('Test Accuracy')\n",
    "\n",
    "ax.set_xlabel('min_samples_leaf')\n",
    "ax.set_ylabel('max_depth')\n",
    "ax.set_zlabel('Accuracy')\n",
    "ax.view_init(elev=10, azim=25)\n",
    "\n",
    "plt.title('3D Surface Plot of GridSearchCV Results')\n",
    "plt.show()"
   ]
  },
  {
   "cell_type": "code",
   "execution_count": null,
   "id": "b0410b9b-df66-4e53-9893-1d790822c0de",
   "metadata": {},
   "outputs": [],
   "source": []
  },
  {
   "cell_type": "code",
   "execution_count": null,
   "id": "0716f6d9-f499-49c2-b1b5-2e3010677201",
   "metadata": {},
   "outputs": [],
   "source": []
  },
  {
   "cell_type": "code",
   "execution_count": 43,
   "id": "d62c62a3-3615-41f1-9e8f-cb6e3957fb53",
   "metadata": {},
   "outputs": [
    {
     "data": {
      "image/png": "[encoded data removed]",
      "text/plain": [
       "<Figure size 720x576 with 2 Axes>"
      ]
     },
     "metadata": {
      "needs_background": "light"
     },
     "output_type": "display_data"
    }
   ],
   "source": [
    "\n",
    "# Создание 3D-графика\n",
    "fig = plt.figure(figsize=(10, 8))\n",
    "ax = fig.add_subplot(111, projection='3d')\n",
    "\n",
    "# Построение точек\n",
    "scatter = ax.scatter(min_samples_leaf_values, max_depth_values, accuracy_values, c=accuracy_values, cmap='viridis', s=50)\n",
    "\n",
    "# Добавление цветной шкалы\n",
    "cbar = fig.colorbar(scatter)\n",
    "cbar.set_label('Accuracy')\n",
    "\n",
    "# Настройка меток осей\n",
    "ax.set_xlabel('min_samples_leaf')\n",
    "ax.set_ylabel('max_depth')\n",
    "ax.set_zlabel('Accuracy')\n",
    "\n",
    "# Добавление заголовка\n",
    "plt.title('3D Plot of GridSearchCV Results')\n",
    "\n",
    "plt.show()\n"
   ]
  },
  {
   "cell_type": "code",
   "execution_count": 189,
   "id": "cc6bff27-814f-4e6c-85bd-bb9fd1cc8864",
   "metadata": {},
   "outputs": [
    {
     "data": {
      "image/png": "[encoded data removed]",
      "text/plain": [
       "<Figure size 432x288 with 1 Axes>"
      ]
     },
     "metadata": {
      "needs_background": "light"
     },
     "output_type": "display_data"
    }
   ],
   "source": [
    "tree = DecisionTreeClassifier()\n",
    "parameters = {'min_samples_leaf': range(1, 10), 'max_depth': range(1, 10)}\n",
    "clf = GridSearchCV(tree, parameters, cv=5, scoring='f1_weighted', return_train_score=True)\n",
    "clf.fit(X, y)\n",
    "results = clf.cv_results_\n",
    "\n",
    "fig = plt.figure()\n",
    "\n",
    "ax = plt.axes(projection='3d')\n",
    " \n",
    "ax.plot_surface(x, y, z, cmap='viridis',\\\n",
    "                edgecolor='green')\n",
    "ax.set_title('Surface plot geeks for geeks')\n",
    "plt.show()\n",
    "\n",
    "plt.plot(range(1, 21), results['mean_train_score'], 'r-o')\n",
    "plt.plot(range(1, 21), results['mean_test_score'], 'b-o')\n",
    "\n",
    "plt.legend(['Train', 'Test'])\n",
    "\n",
    "plt.show()"
   ]
  },
  {
   "cell_type": "code",
   "execution_count": null,
   "id": "a0880d16-7146-4894-8227-66ccad933923",
   "metadata": {},
   "outputs": [],
   "source": []
  },
  {
   "cell_type": "code",
   "execution_count": null,
   "id": "9b42a71f-52ef-40dd-8098-437c20345f22",
   "metadata": {},
   "outputs": [],
   "source": []
  },
  {
   "cell_type": "code",
   "execution_count": null,
   "id": "8712c68b-b986-4606-85ab-1c642b216f54",
   "metadata": {},
   "outputs": [],
   "source": []
  },
  {
   "cell_type": "code",
   "execution_count": null,
   "id": "b10c1fbe-7fe8-4195-aa4a-ec755cfcca9c",
   "metadata": {},
   "outputs": [],
   "source": []
  },
  {
   "cell_type": "code",
   "execution_count": null,
   "id": "b62ac527-ad09-429e-af91-85675531f687",
   "metadata": {},
   "outputs": [],
   "source": []
  },
  {
   "cell_type": "code",
   "execution_count": null,
   "id": "eac3e23b-52fb-4247-9090-1b03bb2bd65e",
   "metadata": {},
   "outputs": [],
   "source": []
  },
  {
   "cell_type": "code",
   "execution_count": null,
   "id": "c15b6eba-460a-4da8-9e3f-c2475c51ac07",
   "metadata": {},
   "outputs": [],
   "source": []
  },
  {
   "cell_type": "code",
   "execution_count": 188,
   "id": "be1d56eb-cdba-454e-9b14-8ab27dbf4d49",
   "metadata": {},
   "outputs": [
    {
     "name": "stdout",
     "output_type": "stream",
     "text": [
      "{'max_depth': 7} 0.9078666324686406\n"
     ]
    }
   ],
   "source": [
    "best_params = clf.best_params_\n",
    "best_score = clf.best_score_\n",
    "print(best_params, best_score)"
   ]
  },
  {
   "cell_type": "code",
   "execution_count": 189,
   "id": "61247f94-dc9e-49fa-a1da-566f30bb2de0",
   "metadata": {},
   "outputs": [
    {
     "data": {
      "image/png": "[encoded data removed]",
      "text/plain": [
       "<Figure size 432x288 with 1 Axes>"
      ]
     },
     "metadata": {
      "needs_background": "light"
     },
     "output_type": "display_data"
    }
   ],
   "source": [
    "tree = DecisionTreeClassifier()\n",
    "parameters = {'min_samples_leaf': range(1, 21)}\n",
    "clf = GridSearchCV(tree, parameters, cv=5, scoring='f1_weighted', return_train_score=True)\n",
    "clf.fit(X, y)\n",
    "results = clf.cv_results_\n",
    "\n",
    "plt.plot(range(1, 21), results['mean_train_score'], 'r-o')\n",
    "plt.plot(range(1, 21), results['mean_test_score'], 'b-o')\n",
    "\n",
    "plt.legend(['Train', 'Test'])\n",
    "\n",
    "plt.show()"
   ]
  },
  {
   "cell_type": "code",
   "execution_count": 111,
   "id": "d01f4682-0483-42b2-ae89-0a78a328a68b",
   "metadata": {},
   "outputs": [
    {
     "name": "stdout",
     "output_type": "stream",
     "text": [
      "{'min_samples_leaf': 20} 0.9033221560026512\n"
     ]
    }
   ],
   "source": [
    "best_params = clf.best_params_\n",
    "best_score = clf.best_score_\n",
    "print(best_params, best_score)"
   ]
  },
  {
   "cell_type": "code",
   "execution_count": 190,
   "id": "72b125a6-4c37-4b7e-a0f7-05505b7c388f",
   "metadata": {},
   "outputs": [],
   "source": [
    "X_train, X_test, y_train, y_test = train_test_split(X, y, test_size=0.3,\n",
    "random_state=42)"
   ]
  },
  {
   "cell_type": "code",
   "execution_count": 191,
   "id": "5f83adef-f40a-449c-9e3a-e846e51dfc6c",
   "metadata": {},
   "outputs": [],
   "source": [
    "tree = DecisionTreeClassifier()\n",
    "parameters = {'min_samples_leaf': range(1, 21),'max_depth': range(1, 21)}\n",
    "clf = GridSearchCV(tree, parameters, cv=5, scoring='f1_weighted', return_train_score=True)\n",
    "clf.fit(X_train, y_train)\n",
    "results = clf.cv_results_"
   ]
  },
  {
   "cell_type": "code",
   "execution_count": 165,
   "id": "6827c01d-4144-4853-b03a-07d5480ef955",
   "metadata": {},
   "outputs": [
    {
     "name": "stdout",
     "output_type": "stream",
     "text": [
      "{'max_depth': 6, 'min_samples_leaf': 2} 0.9621031746031747\n"
     ]
    }
   ],
   "source": [
    "best_params = clf.best_params_\n",
    "best_score = clf.best_score_\n",
    "print(best_params, best_score)"
   ]
  },
  {
   "cell_type": "code",
   "execution_count": 192,
   "id": "26a3e041-35f5-4c70-a06e-c4d7ad759099",
   "metadata": {},
   "outputs": [],
   "source": [
    "tree = DecisionTreeClassifier(max_depth = 6, min_samples_leaf = 2)\n",
    "tree.fit(X_train, y_train)\n",
    "\n",
    "y_pred = tree.predict(X_test)"
   ]
  },
  {
   "cell_type": "code",
   "execution_count": 193,
   "id": "55433932-d047-4e41-b1e1-f42da96d1711",
   "metadata": {},
   "outputs": [
    {
     "name": "stdout",
     "output_type": "stream",
     "text": [
      "Precision: 0.8390804597701149\n",
      "Recall: 0.5104895104895105\n"
     ]
    }
   ],
   "source": [
    "precision = precision_score(y_test, y_pred)\n",
    "recall = recall_score(y_test, y_pred)\n",
    "\n",
    "print(f'Precision: {precision}')\n",
    "print(f'Recall: {recall}')"
   ]
  },
  {
   "cell_type": "code",
   "execution_count": 194,
   "id": "b0a1c453-c2d4-444e-9364-8f3a65df244b",
   "metadata": {},
   "outputs": [
    {
     "name": "stdout",
     "output_type": "stream",
     "text": [
      "              precision    recall  f1-score   support\n",
      "\n",
      "           0       0.92      0.98      0.95       857\n",
      "           1       0.84      0.51      0.63       143\n",
      "\n",
      "    accuracy                           0.92      1000\n",
      "   macro avg       0.88      0.75      0.79      1000\n",
      "weighted avg       0.91      0.92      0.91      1000\n",
      "\n"
     ]
    }
   ],
   "source": [
    "print(classification_report(y_test, y_pred))"
   ]
  },
  {
   "cell_type": "markdown",
   "id": "f5e2d84a-4848-4431-819b-6a4276e2d4af",
   "metadata": {},
   "source": [
    "#### diabetes"
   ]
  },
  {
   "cell_type": "code",
   "execution_count": 169,
   "id": "38464319-74a5-4dab-8c9d-29fa25325883",
   "metadata": {},
   "outputs": [],
   "source": [
    "diabet = pd.read_csv('diabetes.csv')"
   ]
  },
  {
   "cell_type": "code",
   "execution_count": 170,
   "id": "8f5e176b-b519-4d93-802a-7c0d14e3da0f",
   "metadata": {},
   "outputs": [],
   "source": [
    "X, y = diabet.drop(['Outcome'], axis=1), diabet['Outcome']\n",
    "\n",
    "scaler = StandardScaler()\n",
    "\n",
    "X_std = scaler.fit_transform(X)\n",
    "poly = PolynomialFeatures(degree=2) \n",
    "X_std_poly2 = poly.fit_transform(X_std)"
   ]
  },
  {
   "cell_type": "code",
   "execution_count": 171,
   "id": "4e543af1-fcf1-4892-9965-0d85a655066b",
   "metadata": {},
   "outputs": [
    {
     "data": {
      "image/png": "[encoded data removed]",
      "text/plain": [
       "<Figure size 432x288 with 1 Axes>"
      ]
     },
     "metadata": {
      "needs_background": "light"
     },
     "output_type": "display_data"
    }
   ],
   "source": [
    "tree = DecisionTreeClassifier()\n",
    "parameters = {'max_depth': range(1, 21)}\n",
    "clf = GridSearchCV(tree, parameters, cv=5, scoring='f1_weighted', return_train_score=True)\n",
    "clf.fit(X, y)\n",
    "results = clf.cv_results_\n",
    "\n",
    "plt.plot(range(1, 21), results['mean_train_score'], 'r-o')\n",
    "plt.plot(range(1, 21), results['mean_test_score'], 'b-o')\n",
    "\n",
    "plt.legend(['Train', 'Test'])\n",
    "\n",
    "plt.show()"
   ]
  },
  {
   "cell_type": "code",
   "execution_count": 172,
   "id": "1d470ef3-0ee2-40d5-a02e-abebae3ef947",
   "metadata": {},
   "outputs": [
    {
     "name": "stdout",
     "output_type": "stream",
     "text": [
      "{'max_depth': 5} 0.746518812662455\n"
     ]
    }
   ],
   "source": [
    "best_params = clf.best_params_\n",
    "best_score = clf.best_score_\n",
    "print(best_params, best_score)"
   ]
  },
  {
   "cell_type": "code",
   "execution_count": 173,
   "id": "319f8fc3-3c0d-498f-bc3f-9c4f8a9b2575",
   "metadata": {},
   "outputs": [
    {
     "data": {
      "image/png": "[encoded data removed]",
      "text/plain": [
       "<Figure size 432x288 with 1 Axes>"
      ]
     },
     "metadata": {
      "needs_background": "light"
     },
     "output_type": "display_data"
    }
   ],
   "source": [
    "tree = DecisionTreeClassifier()\n",
    "parameters = {'min_samples_leaf': range(1, 21)}\n",
    "clf = GridSearchCV(tree, parameters, cv=5, scoring='f1_weighted', return_train_score=True)\n",
    "clf.fit(X, y)\n",
    "results = clf.cv_results_\n",
    "\n",
    "plt.plot(range(1, 21), results['mean_train_score'], 'r-o')\n",
    "plt.plot(range(1, 21), results['mean_test_score'], 'b-o')\n",
    "\n",
    "plt.legend(['Train', 'Test'])\n",
    "\n",
    "plt.show()"
   ]
  },
  {
   "cell_type": "code",
   "execution_count": 174,
   "id": "082a7aaf-14f6-4c16-8d27-5f0b688582ae",
   "metadata": {},
   "outputs": [
    {
     "name": "stdout",
     "output_type": "stream",
     "text": [
      "{'min_samples_leaf': 18} 0.7388569059378055\n"
     ]
    }
   ],
   "source": [
    "best_params = clf.best_params_\n",
    "best_score = clf.best_score_\n",
    "print(best_params, best_score)"
   ]
  },
  {
   "cell_type": "code",
   "execution_count": 176,
   "id": "bc7ef2b9-2bf7-43f9-a76a-41d273df7538",
   "metadata": {},
   "outputs": [],
   "source": [
    "X_train, X_test, y_train, y_test = train_test_split(X, y, test_size=0.3,\n",
    "random_state=42)"
   ]
  },
  {
   "cell_type": "code",
   "execution_count": 177,
   "id": "a753dabb-64fc-4ac1-8436-f97648a683a5",
   "metadata": {},
   "outputs": [],
   "source": [
    "tree = DecisionTreeClassifier()\n",
    "parameters = {'min_samples_leaf': range(1, 21),'max_depth': range(1, 21)}\n",
    "clf = GridSearchCV(tree, parameters, cv=5, scoring='f1_weighted', return_train_score=True)\n",
    "clf.fit(X_train, y_train)\n",
    "results = clf.cv_results_"
   ]
  },
  {
   "cell_type": "code",
   "execution_count": 178,
   "id": "61f50334-05dc-45bb-a0ff-79b709eb1e3b",
   "metadata": {},
   "outputs": [
    {
     "name": "stdout",
     "output_type": "stream",
     "text": [
      "{'max_depth': 9, 'min_samples_leaf': 9} 0.7512523261496068\n"
     ]
    }
   ],
   "source": [
    "best_params = clf.best_params_\n",
    "best_score = clf.best_score_\n",
    "print(best_params, best_score)"
   ]
  },
  {
   "cell_type": "code",
   "execution_count": 180,
   "id": "7066901f-84ae-4bef-817f-a84c9defc529",
   "metadata": {},
   "outputs": [],
   "source": [
    "tree = DecisionTreeClassifier(max_depth = 9, min_samples_leaf = 9)\n",
    "tree.fit(X_train, y_train)\n",
    "\n",
    "y_pred = tree.predict(X_test)"
   ]
  },
  {
   "cell_type": "code",
   "execution_count": 181,
   "id": "ca225eb6-5670-4a3c-ba74-219668c99b2b",
   "metadata": {},
   "outputs": [
    {
     "name": "stdout",
     "output_type": "stream",
     "text": [
      "Precision: 0.5567010309278351\n",
      "Recall: 0.675\n"
     ]
    }
   ],
   "source": [
    "precision = precision_score(y_test, y_pred)\n",
    "recall = recall_score(y_test, y_pred)\n",
    "\n",
    "print(f'Precision: {precision}')\n",
    "print(f'Recall: {recall}')"
   ]
  },
  {
   "cell_type": "code",
   "execution_count": 89,
   "id": "d9f64ea4-a077-4c95-8e3e-b309a7c7abd6",
   "metadata": {},
   "outputs": [],
   "source": [
    "from sklearn.metrics import classification_report"
   ]
  },
  {
   "cell_type": "code",
   "execution_count": 184,
   "id": "5374dba4-9c1a-4757-91d3-c89d3049ccab",
   "metadata": {},
   "outputs": [
    {
     "name": "stdout",
     "output_type": "stream",
     "text": [
      "              precision    recall  f1-score   support\n",
      "\n",
      "           0       0.81      0.72      0.76       151\n",
      "           1       0.56      0.68      0.61        80\n",
      "\n",
      "    accuracy                           0.70       231\n",
      "   macro avg       0.68      0.70      0.68       231\n",
      "weighted avg       0.72      0.70      0.71       231\n",
      "\n"
     ]
    }
   ],
   "source": [
    "print(classification_report(y_test, y_pred))"
   ]
  },
  {
   "cell_type": "markdown",
   "id": "8887caba-eea6-4d9e-a73e-70b3e7b6d561",
   "metadata": {},
   "source": [
    "#### Iris"
   ]
  },
  {
   "cell_type": "code",
   "execution_count": 195,
   "id": "cb4ad2bb-6742-4ba1-a7b3-b85945af1d09",
   "metadata": {},
   "outputs": [],
   "source": [
    "from sklearn.datasets import load_iris\n",
    "\n",
    "iris = load_iris()\n",
    "X, y = iris.data, iris.target"
   ]
  },
  {
   "cell_type": "code",
   "execution_count": 139,
   "id": "b1ec566e-d0e3-4232-9329-4a4d66417fd2",
   "metadata": {},
   "outputs": [
    {
     "data": {
      "image/png": "[encoded data removed]",
      "text/plain": [
       "<Figure size 432x288 with 1 Axes>"
      ]
     },
     "metadata": {
      "needs_background": "light"
     },
     "output_type": "display_data"
    }
   ],
   "source": [
    "tree = DecisionTreeClassifier()\n",
    "parameters = {'max_depth': range(1, 21)}\n",
    "clf = GridSearchCV(tree, parameters, cv=5, scoring='f1_weighted', return_train_score=True)\n",
    "clf.fit(X, y)\n",
    "results = clf.cv_results_\n",
    "\n",
    "plt.plot(range(1, 21), results['mean_train_score'], 'r-o')\n",
    "plt.plot(range(1, 21), results['mean_test_score'], 'b-o')\n",
    "\n",
    "plt.legend(['Train', 'Test'])\n",
    "\n",
    "plt.show()"
   ]
  },
  {
   "cell_type": "code",
   "execution_count": 140,
   "id": "ce36ad36-2246-4834-bb2f-d13bde96b3fa",
   "metadata": {},
   "outputs": [
    {
     "name": "stdout",
     "output_type": "stream",
     "text": [
      "{'max_depth': 4} 0.9665831244778612\n"
     ]
    }
   ],
   "source": [
    "best_params = clf.best_params_\n",
    "best_score = clf.best_score_\n",
    "print(best_params, best_score)"
   ]
  },
  {
   "cell_type": "code",
   "execution_count": 141,
   "id": "1966851a-42bc-4bdd-9c8d-1f5be51e330a",
   "metadata": {},
   "outputs": [
    {
     "data": {
      "image/png": "[encoded data removed]",
      "text/plain": [
       "<Figure size 432x288 with 1 Axes>"
      ]
     },
     "metadata": {
      "needs_background": "light"
     },
     "output_type": "display_data"
    }
   ],
   "source": [
    "tree = DecisionTreeClassifier()\n",
    "parameters = {'min_samples_leaf': range(1, 21)}\n",
    "clf = GridSearchCV(tree, parameters, cv=5, scoring='f1_weighted', return_train_score=True)\n",
    "clf.fit(X, y)\n",
    "results = clf.cv_results_\n",
    "\n",
    "plt.plot(range(1, 21), results['mean_train_score'], 'r-o')\n",
    "plt.plot(range(1, 21), results['mean_test_score'], 'b-o')\n",
    "\n",
    "plt.legend(['Train', 'Test'])\n",
    "\n",
    "plt.show()"
   ]
  },
  {
   "cell_type": "code",
   "execution_count": 142,
   "id": "38ee4450-b880-4e02-bf11-c8cde8ce8586",
   "metadata": {},
   "outputs": [
    {
     "name": "stdout",
     "output_type": "stream",
     "text": [
      "{'min_samples_leaf': 4} 0.9596972228551175\n"
     ]
    }
   ],
   "source": [
    "best_params = clf.best_params_\n",
    "best_score = clf.best_score_\n",
    "print(best_params, best_score)"
   ]
  },
  {
   "cell_type": "code",
   "execution_count": 196,
   "id": "759c8de4-d1d3-4cb2-a2e6-c3cd7455e762",
   "metadata": {},
   "outputs": [],
   "source": [
    "X_train, X_test, y_train, y_test = train_test_split(X, y, test_size=0.3,\n",
    "random_state=42)"
   ]
  },
  {
   "cell_type": "code",
   "execution_count": 197,
   "id": "b276eb3f-be86-4139-9438-8aab73a51d71",
   "metadata": {},
   "outputs": [],
   "source": [
    "tree = DecisionTreeClassifier()\n",
    "parameters = {'min_samples_leaf': range(1, 21),'max_depth': range(1, 21)}\n",
    "clf = GridSearchCV(tree, parameters, cv=5, scoring='f1_weighted', return_train_score=True)\n",
    "clf.fit(X_train, y_train)\n",
    "results = clf.cv_results_"
   ]
  },
  {
   "cell_type": "code",
   "execution_count": 198,
   "id": "8a4e8220-49b0-46c5-ac42-8b0f56cd416b",
   "metadata": {},
   "outputs": [
    {
     "name": "stdout",
     "output_type": "stream",
     "text": [
      "{'max_depth': 4, 'min_samples_leaf': 3} 0.942638234781092\n"
     ]
    }
   ],
   "source": [
    "best_params = clf.best_params_\n",
    "best_score = clf.best_score_\n",
    "print(best_params, best_score)"
   ]
  },
  {
   "cell_type": "code",
   "execution_count": 199,
   "id": "6e90b751-1538-4433-b722-e5ae716e9326",
   "metadata": {},
   "outputs": [],
   "source": [
    "tree = DecisionTreeClassifier(max_depth = 4, min_samples_leaf = 3)\n",
    "tree.fit(X_train, y_train)\n",
    "\n",
    "y_pred = tree.predict(X_test)"
   ]
  },
  {
   "cell_type": "code",
   "execution_count": 203,
   "id": "eea56eef-87cc-4784-83bf-305f168a31e9",
   "metadata": {},
   "outputs": [
    {
     "name": "stdout",
     "output_type": "stream",
     "text": [
      "              precision    recall  f1-score   support\n",
      "\n",
      "           0       1.00      1.00      1.00        19\n",
      "           1       1.00      1.00      1.00        13\n",
      "           2       1.00      1.00      1.00        13\n",
      "\n",
      "    accuracy                           1.00        45\n",
      "   macro avg       1.00      1.00      1.00        45\n",
      "weighted avg       1.00      1.00      1.00        45\n",
      "\n"
     ]
    }
   ],
   "source": [
    "print(classification_report(y_test, y_pred))"
   ]
  },
  {
   "cell_type": "markdown",
   "id": "b1c360d1-45a8-4728-9412-5f933771439d",
   "metadata": {},
   "source": [
    "#### mushrooms"
   ]
  },
  {
   "cell_type": "code",
   "execution_count": 74,
   "id": "762d41c9-a099-451f-9dd6-414020b02178",
   "metadata": {},
   "outputs": [],
   "source": [
    "mushrooms = pd.read_csv('mushrooms.csv')"
   ]
  },
  {
   "cell_type": "code",
   "execution_count": 8,
   "id": "55bd43f6-70bd-49a8-9e53-e7848dcdc38a",
   "metadata": {},
   "outputs": [
    {
     "data": {
      "text/html": [
       "<div>\n",
       "<style scoped>\n",
       "    .dataframe tbody tr th:only-of-type {\n",
       "        vertical-align: middle;\n",
       "    }\n",
       "\n",
       "    .dataframe tbody tr th {\n",
       "        vertical-align: top;\n",
       "    }\n",
       "\n",
       "    .dataframe thead th {\n",
       "        text-align: right;\n",
       "    }\n",
       "</style>\n",
       "<table border=\"1\" class=\"dataframe\">\n",
       "  <thead>\n",
       "    <tr style=\"text-align: right;\">\n",
       "      <th></th>\n",
       "      <th>class</th>\n",
       "      <th>cap-shape</th>\n",
       "      <th>cap-surface</th>\n",
       "      <th>cap-color</th>\n",
       "      <th>bruises</th>\n",
       "      <th>odor</th>\n",
       "      <th>gill-attachment</th>\n",
       "      <th>gill-spacing</th>\n",
       "      <th>gill-size</th>\n",
       "      <th>gill-color</th>\n",
       "      <th>...</th>\n",
       "      <th>stalk-surface-below-ring</th>\n",
       "      <th>stalk-color-above-ring</th>\n",
       "      <th>stalk-color-below-ring</th>\n",
       "      <th>veil-type</th>\n",
       "      <th>veil-color</th>\n",
       "      <th>ring-number</th>\n",
       "      <th>ring-type</th>\n",
       "      <th>spore-print-color</th>\n",
       "      <th>population</th>\n",
       "      <th>habitat</th>\n",
       "    </tr>\n",
       "  </thead>\n",
       "  <tbody>\n",
       "    <tr>\n",
       "      <th>0</th>\n",
       "      <td>p</td>\n",
       "      <td>x</td>\n",
       "      <td>s</td>\n",
       "      <td>n</td>\n",
       "      <td>t</td>\n",
       "      <td>p</td>\n",
       "      <td>f</td>\n",
       "      <td>c</td>\n",
       "      <td>n</td>\n",
       "      <td>k</td>\n",
       "      <td>...</td>\n",
       "      <td>s</td>\n",
       "      <td>w</td>\n",
       "      <td>w</td>\n",
       "      <td>p</td>\n",
       "      <td>w</td>\n",
       "      <td>o</td>\n",
       "      <td>p</td>\n",
       "      <td>k</td>\n",
       "      <td>s</td>\n",
       "      <td>u</td>\n",
       "    </tr>\n",
       "    <tr>\n",
       "      <th>1</th>\n",
       "      <td>e</td>\n",
       "      <td>x</td>\n",
       "      <td>s</td>\n",
       "      <td>y</td>\n",
       "      <td>t</td>\n",
       "      <td>a</td>\n",
       "      <td>f</td>\n",
       "      <td>c</td>\n",
       "      <td>b</td>\n",
       "      <td>k</td>\n",
       "      <td>...</td>\n",
       "      <td>s</td>\n",
       "      <td>w</td>\n",
       "      <td>w</td>\n",
       "      <td>p</td>\n",
       "      <td>w</td>\n",
       "      <td>o</td>\n",
       "      <td>p</td>\n",
       "      <td>n</td>\n",
       "      <td>n</td>\n",
       "      <td>g</td>\n",
       "    </tr>\n",
       "    <tr>\n",
       "      <th>2</th>\n",
       "      <td>e</td>\n",
       "      <td>b</td>\n",
       "      <td>s</td>\n",
       "      <td>w</td>\n",
       "      <td>t</td>\n",
       "      <td>l</td>\n",
       "      <td>f</td>\n",
       "      <td>c</td>\n",
       "      <td>b</td>\n",
       "      <td>n</td>\n",
       "      <td>...</td>\n",
       "      <td>s</td>\n",
       "      <td>w</td>\n",
       "      <td>w</td>\n",
       "      <td>p</td>\n",
       "      <td>w</td>\n",
       "      <td>o</td>\n",
       "      <td>p</td>\n",
       "      <td>n</td>\n",
       "      <td>n</td>\n",
       "      <td>m</td>\n",
       "    </tr>\n",
       "    <tr>\n",
       "      <th>3</th>\n",
       "      <td>p</td>\n",
       "      <td>x</td>\n",
       "      <td>y</td>\n",
       "      <td>w</td>\n",
       "      <td>t</td>\n",
       "      <td>p</td>\n",
       "      <td>f</td>\n",
       "      <td>c</td>\n",
       "      <td>n</td>\n",
       "      <td>n</td>\n",
       "      <td>...</td>\n",
       "      <td>s</td>\n",
       "      <td>w</td>\n",
       "      <td>w</td>\n",
       "      <td>p</td>\n",
       "      <td>w</td>\n",
       "      <td>o</td>\n",
       "      <td>p</td>\n",
       "      <td>k</td>\n",
       "      <td>s</td>\n",
       "      <td>u</td>\n",
       "    </tr>\n",
       "    <tr>\n",
       "      <th>4</th>\n",
       "      <td>e</td>\n",
       "      <td>x</td>\n",
       "      <td>s</td>\n",
       "      <td>g</td>\n",
       "      <td>f</td>\n",
       "      <td>n</td>\n",
       "      <td>f</td>\n",
       "      <td>w</td>\n",
       "      <td>b</td>\n",
       "      <td>k</td>\n",
       "      <td>...</td>\n",
       "      <td>s</td>\n",
       "      <td>w</td>\n",
       "      <td>w</td>\n",
       "      <td>p</td>\n",
       "      <td>w</td>\n",
       "      <td>o</td>\n",
       "      <td>e</td>\n",
       "      <td>n</td>\n",
       "      <td>a</td>\n",
       "      <td>g</td>\n",
       "    </tr>\n",
       "  </tbody>\n",
       "</table>\n",
       "<p>5 rows × 23 columns</p>\n",
       "</div>"
      ],
      "text/plain": [
       "  class cap-shape cap-surface cap-color bruises odor gill-attachment  \\\n",
       "0     p         x           s         n       t    p               f   \n",
       "1     e         x           s         y       t    a               f   \n",
       "2     e         b           s         w       t    l               f   \n",
       "3     p         x           y         w       t    p               f   \n",
       "4     e         x           s         g       f    n               f   \n",
       "\n",
       "  gill-spacing gill-size gill-color  ... stalk-surface-below-ring  \\\n",
       "0            c         n          k  ...                        s   \n",
       "1            c         b          k  ...                        s   \n",
       "2            c         b          n  ...                        s   \n",
       "3            c         n          n  ...                        s   \n",
       "4            w         b          k  ...                        s   \n",
       "\n",
       "  stalk-color-above-ring stalk-color-below-ring veil-type veil-color  \\\n",
       "0                      w                      w         p          w   \n",
       "1                      w                      w         p          w   \n",
       "2                      w                      w         p          w   \n",
       "3                      w                      w         p          w   \n",
       "4                      w                      w         p          w   \n",
       "\n",
       "  ring-number ring-type spore-print-color population habitat  \n",
       "0           o         p                 k          s       u  \n",
       "1           o         p                 n          n       g  \n",
       "2           o         p                 n          n       m  \n",
       "3           o         p                 k          s       u  \n",
       "4           o         e                 n          a       g  \n",
       "\n",
       "[5 rows x 23 columns]"
      ]
     },
     "execution_count": 8,
     "metadata": {},
     "output_type": "execute_result"
    }
   ],
   "source": [
    "mushrooms.head()"
   ]
  },
  {
   "cell_type": "code",
   "execution_count": 148,
   "id": "96fcf24d-47a0-407a-b256-2711c90fe2ae",
   "metadata": {},
   "outputs": [
    {
     "name": "stdout",
     "output_type": "stream",
     "text": [
      "<class 'pandas.core.frame.DataFrame'>\n",
      "RangeIndex: 8124 entries, 0 to 8123\n",
      "Data columns (total 23 columns):\n",
      " #   Column                    Non-Null Count  Dtype \n",
      "---  ------                    --------------  ----- \n",
      " 0   class                     8124 non-null   object\n",
      " 1   cap-shape                 8124 non-null   object\n",
      " 2   cap-surface               8124 non-null   object\n",
      " 3   cap-color                 8124 non-null   object\n",
      " 4   bruises                   8124 non-null   object\n",
      " 5   odor                      8124 non-null   object\n",
      " 6   gill-attachment           8124 non-null   object\n",
      " 7   gill-spacing              8124 non-null   object\n",
      " 8   gill-size                 8124 non-null   object\n",
      " 9   gill-color                8124 non-null   object\n",
      " 10  stalk-shape               8124 non-null   object\n",
      " 11  stalk-root                8124 non-null   object\n",
      " 12  stalk-surface-above-ring  8124 non-null   object\n",
      " 13  stalk-surface-below-ring  8124 non-null   object\n",
      " 14  stalk-color-above-ring    8124 non-null   object\n",
      " 15  stalk-color-below-ring    8124 non-null   object\n",
      " 16  veil-type                 8124 non-null   object\n",
      " 17  veil-color                8124 non-null   object\n",
      " 18  ring-number               8124 non-null   object\n",
      " 19  ring-type                 8124 non-null   object\n",
      " 20  spore-print-color         8124 non-null   object\n",
      " 21  population                8124 non-null   object\n",
      " 22  habitat                   8124 non-null   object\n",
      "dtypes: object(23)\n",
      "memory usage: 1.4+ MB\n"
     ]
    }
   ],
   "source": [
    "mushrooms.info()"
   ]
  },
  {
   "cell_type": "code",
   "execution_count": 149,
   "id": "3621d475-cc1b-430e-a3d3-d1c3b1d328e9",
   "metadata": {},
   "outputs": [
    {
     "data": {
      "text/plain": [
       "class                        2\n",
       "cap-shape                    6\n",
       "cap-surface                  4\n",
       "cap-color                   10\n",
       "bruises                      2\n",
       "odor                         9\n",
       "gill-attachment              2\n",
       "gill-spacing                 2\n",
       "gill-size                    2\n",
       "gill-color                  12\n",
       "stalk-shape                  2\n",
       "stalk-root                   5\n",
       "stalk-surface-above-ring     4\n",
       "stalk-surface-below-ring     4\n",
       "stalk-color-above-ring       9\n",
       "stalk-color-below-ring       9\n",
       "veil-type                    1\n",
       "veil-color                   4\n",
       "ring-number                  3\n",
       "ring-type                    5\n",
       "spore-print-color            9\n",
       "population                   6\n",
       "habitat                      7\n",
       "dtype: int64"
      ]
     },
     "execution_count": 149,
     "metadata": {},
     "output_type": "execute_result"
    }
   ],
   "source": [
    "mushrooms.select_dtypes('object').nunique()"
   ]
  },
  {
   "cell_type": "code",
   "execution_count": 75,
   "id": "55b3dd1e-03f1-4945-84d8-37ecbdaf0181",
   "metadata": {},
   "outputs": [
    {
     "data": {
      "text/html": [
       "<div>\n",
       "<style scoped>\n",
       "    .dataframe tbody tr th:only-of-type {\n",
       "        vertical-align: middle;\n",
       "    }\n",
       "\n",
       "    .dataframe tbody tr th {\n",
       "        vertical-align: top;\n",
       "    }\n",
       "\n",
       "    .dataframe thead th {\n",
       "        text-align: right;\n",
       "    }\n",
       "</style>\n",
       "<table border=\"1\" class=\"dataframe\">\n",
       "  <thead>\n",
       "    <tr style=\"text-align: right;\">\n",
       "      <th></th>\n",
       "      <th>class</th>\n",
       "      <th>cap-shape</th>\n",
       "      <th>cap-surface</th>\n",
       "      <th>cap-color</th>\n",
       "      <th>bruises</th>\n",
       "      <th>odor</th>\n",
       "      <th>gill-attachment</th>\n",
       "      <th>gill-spacing</th>\n",
       "      <th>gill-size</th>\n",
       "      <th>gill-color</th>\n",
       "      <th>...</th>\n",
       "      <th>stalk-surface-above-ring</th>\n",
       "      <th>stalk-surface-below-ring</th>\n",
       "      <th>stalk-color-above-ring</th>\n",
       "      <th>stalk-color-below-ring</th>\n",
       "      <th>veil-color</th>\n",
       "      <th>ring-number</th>\n",
       "      <th>ring-type</th>\n",
       "      <th>spore-print-color</th>\n",
       "      <th>population</th>\n",
       "      <th>habitat</th>\n",
       "    </tr>\n",
       "  </thead>\n",
       "  <tbody>\n",
       "    <tr>\n",
       "      <th>0</th>\n",
       "      <td>p</td>\n",
       "      <td>x</td>\n",
       "      <td>s</td>\n",
       "      <td>n</td>\n",
       "      <td>t</td>\n",
       "      <td>p</td>\n",
       "      <td>f</td>\n",
       "      <td>c</td>\n",
       "      <td>n</td>\n",
       "      <td>k</td>\n",
       "      <td>...</td>\n",
       "      <td>s</td>\n",
       "      <td>s</td>\n",
       "      <td>w</td>\n",
       "      <td>w</td>\n",
       "      <td>w</td>\n",
       "      <td>o</td>\n",
       "      <td>p</td>\n",
       "      <td>k</td>\n",
       "      <td>s</td>\n",
       "      <td>u</td>\n",
       "    </tr>\n",
       "    <tr>\n",
       "      <th>1</th>\n",
       "      <td>e</td>\n",
       "      <td>x</td>\n",
       "      <td>s</td>\n",
       "      <td>y</td>\n",
       "      <td>t</td>\n",
       "      <td>a</td>\n",
       "      <td>f</td>\n",
       "      <td>c</td>\n",
       "      <td>b</td>\n",
       "      <td>k</td>\n",
       "      <td>...</td>\n",
       "      <td>s</td>\n",
       "      <td>s</td>\n",
       "      <td>w</td>\n",
       "      <td>w</td>\n",
       "      <td>w</td>\n",
       "      <td>o</td>\n",
       "      <td>p</td>\n",
       "      <td>n</td>\n",
       "      <td>n</td>\n",
       "      <td>g</td>\n",
       "    </tr>\n",
       "    <tr>\n",
       "      <th>2</th>\n",
       "      <td>e</td>\n",
       "      <td>b</td>\n",
       "      <td>s</td>\n",
       "      <td>w</td>\n",
       "      <td>t</td>\n",
       "      <td>l</td>\n",
       "      <td>f</td>\n",
       "      <td>c</td>\n",
       "      <td>b</td>\n",
       "      <td>n</td>\n",
       "      <td>...</td>\n",
       "      <td>s</td>\n",
       "      <td>s</td>\n",
       "      <td>w</td>\n",
       "      <td>w</td>\n",
       "      <td>w</td>\n",
       "      <td>o</td>\n",
       "      <td>p</td>\n",
       "      <td>n</td>\n",
       "      <td>n</td>\n",
       "      <td>m</td>\n",
       "    </tr>\n",
       "    <tr>\n",
       "      <th>3</th>\n",
       "      <td>p</td>\n",
       "      <td>x</td>\n",
       "      <td>y</td>\n",
       "      <td>w</td>\n",
       "      <td>t</td>\n",
       "      <td>p</td>\n",
       "      <td>f</td>\n",
       "      <td>c</td>\n",
       "      <td>n</td>\n",
       "      <td>n</td>\n",
       "      <td>...</td>\n",
       "      <td>s</td>\n",
       "      <td>s</td>\n",
       "      <td>w</td>\n",
       "      <td>w</td>\n",
       "      <td>w</td>\n",
       "      <td>o</td>\n",
       "      <td>p</td>\n",
       "      <td>k</td>\n",
       "      <td>s</td>\n",
       "      <td>u</td>\n",
       "    </tr>\n",
       "    <tr>\n",
       "      <th>4</th>\n",
       "      <td>e</td>\n",
       "      <td>x</td>\n",
       "      <td>s</td>\n",
       "      <td>g</td>\n",
       "      <td>f</td>\n",
       "      <td>n</td>\n",
       "      <td>f</td>\n",
       "      <td>w</td>\n",
       "      <td>b</td>\n",
       "      <td>k</td>\n",
       "      <td>...</td>\n",
       "      <td>s</td>\n",
       "      <td>s</td>\n",
       "      <td>w</td>\n",
       "      <td>w</td>\n",
       "      <td>w</td>\n",
       "      <td>o</td>\n",
       "      <td>e</td>\n",
       "      <td>n</td>\n",
       "      <td>a</td>\n",
       "      <td>g</td>\n",
       "    </tr>\n",
       "    <tr>\n",
       "      <th>...</th>\n",
       "      <td>...</td>\n",
       "      <td>...</td>\n",
       "      <td>...</td>\n",
       "      <td>...</td>\n",
       "      <td>...</td>\n",
       "      <td>...</td>\n",
       "      <td>...</td>\n",
       "      <td>...</td>\n",
       "      <td>...</td>\n",
       "      <td>...</td>\n",
       "      <td>...</td>\n",
       "      <td>...</td>\n",
       "      <td>...</td>\n",
       "      <td>...</td>\n",
       "      <td>...</td>\n",
       "      <td>...</td>\n",
       "      <td>...</td>\n",
       "      <td>...</td>\n",
       "      <td>...</td>\n",
       "      <td>...</td>\n",
       "      <td>...</td>\n",
       "    </tr>\n",
       "    <tr>\n",
       "      <th>8119</th>\n",
       "      <td>e</td>\n",
       "      <td>k</td>\n",
       "      <td>s</td>\n",
       "      <td>n</td>\n",
       "      <td>f</td>\n",
       "      <td>n</td>\n",
       "      <td>a</td>\n",
       "      <td>c</td>\n",
       "      <td>b</td>\n",
       "      <td>y</td>\n",
       "      <td>...</td>\n",
       "      <td>s</td>\n",
       "      <td>s</td>\n",
       "      <td>o</td>\n",
       "      <td>o</td>\n",
       "      <td>o</td>\n",
       "      <td>o</td>\n",
       "      <td>p</td>\n",
       "      <td>b</td>\n",
       "      <td>c</td>\n",
       "      <td>l</td>\n",
       "    </tr>\n",
       "    <tr>\n",
       "      <th>8120</th>\n",
       "      <td>e</td>\n",
       "      <td>x</td>\n",
       "      <td>s</td>\n",
       "      <td>n</td>\n",
       "      <td>f</td>\n",
       "      <td>n</td>\n",
       "      <td>a</td>\n",
       "      <td>c</td>\n",
       "      <td>b</td>\n",
       "      <td>y</td>\n",
       "      <td>...</td>\n",
       "      <td>s</td>\n",
       "      <td>s</td>\n",
       "      <td>o</td>\n",
       "      <td>o</td>\n",
       "      <td>n</td>\n",
       "      <td>o</td>\n",
       "      <td>p</td>\n",
       "      <td>b</td>\n",
       "      <td>v</td>\n",
       "      <td>l</td>\n",
       "    </tr>\n",
       "    <tr>\n",
       "      <th>8121</th>\n",
       "      <td>e</td>\n",
       "      <td>f</td>\n",
       "      <td>s</td>\n",
       "      <td>n</td>\n",
       "      <td>f</td>\n",
       "      <td>n</td>\n",
       "      <td>a</td>\n",
       "      <td>c</td>\n",
       "      <td>b</td>\n",
       "      <td>n</td>\n",
       "      <td>...</td>\n",
       "      <td>s</td>\n",
       "      <td>s</td>\n",
       "      <td>o</td>\n",
       "      <td>o</td>\n",
       "      <td>o</td>\n",
       "      <td>o</td>\n",
       "      <td>p</td>\n",
       "      <td>b</td>\n",
       "      <td>c</td>\n",
       "      <td>l</td>\n",
       "    </tr>\n",
       "    <tr>\n",
       "      <th>8122</th>\n",
       "      <td>p</td>\n",
       "      <td>k</td>\n",
       "      <td>y</td>\n",
       "      <td>n</td>\n",
       "      <td>f</td>\n",
       "      <td>y</td>\n",
       "      <td>f</td>\n",
       "      <td>c</td>\n",
       "      <td>n</td>\n",
       "      <td>b</td>\n",
       "      <td>...</td>\n",
       "      <td>s</td>\n",
       "      <td>k</td>\n",
       "      <td>w</td>\n",
       "      <td>w</td>\n",
       "      <td>w</td>\n",
       "      <td>o</td>\n",
       "      <td>e</td>\n",
       "      <td>w</td>\n",
       "      <td>v</td>\n",
       "      <td>l</td>\n",
       "    </tr>\n",
       "    <tr>\n",
       "      <th>8123</th>\n",
       "      <td>e</td>\n",
       "      <td>x</td>\n",
       "      <td>s</td>\n",
       "      <td>n</td>\n",
       "      <td>f</td>\n",
       "      <td>n</td>\n",
       "      <td>a</td>\n",
       "      <td>c</td>\n",
       "      <td>b</td>\n",
       "      <td>y</td>\n",
       "      <td>...</td>\n",
       "      <td>s</td>\n",
       "      <td>s</td>\n",
       "      <td>o</td>\n",
       "      <td>o</td>\n",
       "      <td>o</td>\n",
       "      <td>o</td>\n",
       "      <td>p</td>\n",
       "      <td>o</td>\n",
       "      <td>c</td>\n",
       "      <td>l</td>\n",
       "    </tr>\n",
       "  </tbody>\n",
       "</table>\n",
       "<p>8124 rows × 22 columns</p>\n",
       "</div>"
      ],
      "text/plain": [
       "     class cap-shape cap-surface cap-color bruises odor gill-attachment  \\\n",
       "0        p         x           s         n       t    p               f   \n",
       "1        e         x           s         y       t    a               f   \n",
       "2        e         b           s         w       t    l               f   \n",
       "3        p         x           y         w       t    p               f   \n",
       "4        e         x           s         g       f    n               f   \n",
       "...    ...       ...         ...       ...     ...  ...             ...   \n",
       "8119     e         k           s         n       f    n               a   \n",
       "8120     e         x           s         n       f    n               a   \n",
       "8121     e         f           s         n       f    n               a   \n",
       "8122     p         k           y         n       f    y               f   \n",
       "8123     e         x           s         n       f    n               a   \n",
       "\n",
       "     gill-spacing gill-size gill-color  ... stalk-surface-above-ring  \\\n",
       "0               c         n          k  ...                        s   \n",
       "1               c         b          k  ...                        s   \n",
       "2               c         b          n  ...                        s   \n",
       "3               c         n          n  ...                        s   \n",
       "4               w         b          k  ...                        s   \n",
       "...           ...       ...        ...  ...                      ...   \n",
       "8119            c         b          y  ...                        s   \n",
       "8120            c         b          y  ...                        s   \n",
       "8121            c         b          n  ...                        s   \n",
       "8122            c         n          b  ...                        s   \n",
       "8123            c         b          y  ...                        s   \n",
       "\n",
       "     stalk-surface-below-ring stalk-color-above-ring stalk-color-below-ring  \\\n",
       "0                           s                      w                      w   \n",
       "1                           s                      w                      w   \n",
       "2                           s                      w                      w   \n",
       "3                           s                      w                      w   \n",
       "4                           s                      w                      w   \n",
       "...                       ...                    ...                    ...   \n",
       "8119                        s                      o                      o   \n",
       "8120                        s                      o                      o   \n",
       "8121                        s                      o                      o   \n",
       "8122                        k                      w                      w   \n",
       "8123                        s                      o                      o   \n",
       "\n",
       "     veil-color ring-number ring-type spore-print-color population habitat  \n",
       "0             w           o         p                 k          s       u  \n",
       "1             w           o         p                 n          n       g  \n",
       "2             w           o         p                 n          n       m  \n",
       "3             w           o         p                 k          s       u  \n",
       "4             w           o         e                 n          a       g  \n",
       "...         ...         ...       ...               ...        ...     ...  \n",
       "8119          o           o         p                 b          c       l  \n",
       "8120          n           o         p                 b          v       l  \n",
       "8121          o           o         p                 b          c       l  \n",
       "8122          w           o         e                 w          v       l  \n",
       "8123          o           o         p                 o          c       l  \n",
       "\n",
       "[8124 rows x 22 columns]"
      ]
     },
     "execution_count": 75,
     "metadata": {},
     "output_type": "execute_result"
    }
   ],
   "source": [
    "mushrooms = mushrooms.drop(['veil-type'], axis=1)\n",
    "mushrooms"
   ]
  },
  {
   "cell_type": "code",
   "execution_count": 206,
   "id": "0260341c-1141-408a-b980-b4fd4a4bac1a",
   "metadata": {},
   "outputs": [],
   "source": [
    "lc = LabelEncoder()\n",
    "for column in mushrooms.columns:\n",
    "    mushrooms[column] = lc.fit_transform(mushrooms[column])"
   ]
  },
  {
   "cell_type": "code",
   "execution_count": 21,
   "id": "07cf1646-c15c-4e6d-9f11-96c09e6eea97",
   "metadata": {},
   "outputs": [
    {
     "data": {
      "text/plain": [
       "array([[8124]])"
      ]
     },
     "execution_count": 21,
     "metadata": {},
     "output_type": "execute_result"
    }
   ],
   "source": [
    "ar.reshape(-1, 1)"
   ]
  },
  {
   "cell_type": "code",
   "execution_count": 22,
   "id": "cecc4c6f-43a6-43a6-ab30-0e0c54d2226f",
   "metadata": {},
   "outputs": [],
   "source": [
    "ar = mushrooms['cap-shape']"
   ]
  },
  {
   "cell_type": "code",
   "execution_count": 152,
   "id": "45434622-1f6b-49e5-872f-60587428962c",
   "metadata": {},
   "outputs": [
    {
     "data": {
      "text/html": [
       "<div>\n",
       "<style scoped>\n",
       "    .dataframe tbody tr th:only-of-type {\n",
       "        vertical-align: middle;\n",
       "    }\n",
       "\n",
       "    .dataframe tbody tr th {\n",
       "        vertical-align: top;\n",
       "    }\n",
       "\n",
       "    .dataframe thead th {\n",
       "        text-align: right;\n",
       "    }\n",
       "</style>\n",
       "<table border=\"1\" class=\"dataframe\">\n",
       "  <thead>\n",
       "    <tr style=\"text-align: right;\">\n",
       "      <th></th>\n",
       "      <th>class</th>\n",
       "      <th>cap-shape</th>\n",
       "      <th>cap-surface</th>\n",
       "      <th>cap-color</th>\n",
       "      <th>bruises</th>\n",
       "      <th>odor</th>\n",
       "      <th>gill-attachment</th>\n",
       "      <th>gill-spacing</th>\n",
       "      <th>gill-size</th>\n",
       "      <th>gill-color</th>\n",
       "      <th>...</th>\n",
       "      <th>stalk-surface-above-ring</th>\n",
       "      <th>stalk-surface-below-ring</th>\n",
       "      <th>stalk-color-above-ring</th>\n",
       "      <th>stalk-color-below-ring</th>\n",
       "      <th>veil-color</th>\n",
       "      <th>ring-number</th>\n",
       "      <th>ring-type</th>\n",
       "      <th>spore-print-color</th>\n",
       "      <th>population</th>\n",
       "      <th>habitat</th>\n",
       "    </tr>\n",
       "  </thead>\n",
       "  <tbody>\n",
       "    <tr>\n",
       "      <th>0</th>\n",
       "      <td>1</td>\n",
       "      <td>5</td>\n",
       "      <td>2</td>\n",
       "      <td>4</td>\n",
       "      <td>1</td>\n",
       "      <td>6</td>\n",
       "      <td>1</td>\n",
       "      <td>0</td>\n",
       "      <td>1</td>\n",
       "      <td>4</td>\n",
       "      <td>...</td>\n",
       "      <td>2</td>\n",
       "      <td>2</td>\n",
       "      <td>7</td>\n",
       "      <td>7</td>\n",
       "      <td>2</td>\n",
       "      <td>1</td>\n",
       "      <td>4</td>\n",
       "      <td>2</td>\n",
       "      <td>3</td>\n",
       "      <td>5</td>\n",
       "    </tr>\n",
       "    <tr>\n",
       "      <th>1</th>\n",
       "      <td>0</td>\n",
       "      <td>5</td>\n",
       "      <td>2</td>\n",
       "      <td>9</td>\n",
       "      <td>1</td>\n",
       "      <td>0</td>\n",
       "      <td>1</td>\n",
       "      <td>0</td>\n",
       "      <td>0</td>\n",
       "      <td>4</td>\n",
       "      <td>...</td>\n",
       "      <td>2</td>\n",
       "      <td>2</td>\n",
       "      <td>7</td>\n",
       "      <td>7</td>\n",
       "      <td>2</td>\n",
       "      <td>1</td>\n",
       "      <td>4</td>\n",
       "      <td>3</td>\n",
       "      <td>2</td>\n",
       "      <td>1</td>\n",
       "    </tr>\n",
       "    <tr>\n",
       "      <th>2</th>\n",
       "      <td>0</td>\n",
       "      <td>0</td>\n",
       "      <td>2</td>\n",
       "      <td>8</td>\n",
       "      <td>1</td>\n",
       "      <td>3</td>\n",
       "      <td>1</td>\n",
       "      <td>0</td>\n",
       "      <td>0</td>\n",
       "      <td>5</td>\n",
       "      <td>...</td>\n",
       "      <td>2</td>\n",
       "      <td>2</td>\n",
       "      <td>7</td>\n",
       "      <td>7</td>\n",
       "      <td>2</td>\n",
       "      <td>1</td>\n",
       "      <td>4</td>\n",
       "      <td>3</td>\n",
       "      <td>2</td>\n",
       "      <td>3</td>\n",
       "    </tr>\n",
       "    <tr>\n",
       "      <th>3</th>\n",
       "      <td>1</td>\n",
       "      <td>5</td>\n",
       "      <td>3</td>\n",
       "      <td>8</td>\n",
       "      <td>1</td>\n",
       "      <td>6</td>\n",
       "      <td>1</td>\n",
       "      <td>0</td>\n",
       "      <td>1</td>\n",
       "      <td>5</td>\n",
       "      <td>...</td>\n",
       "      <td>2</td>\n",
       "      <td>2</td>\n",
       "      <td>7</td>\n",
       "      <td>7</td>\n",
       "      <td>2</td>\n",
       "      <td>1</td>\n",
       "      <td>4</td>\n",
       "      <td>2</td>\n",
       "      <td>3</td>\n",
       "      <td>5</td>\n",
       "    </tr>\n",
       "    <tr>\n",
       "      <th>4</th>\n",
       "      <td>0</td>\n",
       "      <td>5</td>\n",
       "      <td>2</td>\n",
       "      <td>3</td>\n",
       "      <td>0</td>\n",
       "      <td>5</td>\n",
       "      <td>1</td>\n",
       "      <td>1</td>\n",
       "      <td>0</td>\n",
       "      <td>4</td>\n",
       "      <td>...</td>\n",
       "      <td>2</td>\n",
       "      <td>2</td>\n",
       "      <td>7</td>\n",
       "      <td>7</td>\n",
       "      <td>2</td>\n",
       "      <td>1</td>\n",
       "      <td>0</td>\n",
       "      <td>3</td>\n",
       "      <td>0</td>\n",
       "      <td>1</td>\n",
       "    </tr>\n",
       "    <tr>\n",
       "      <th>...</th>\n",
       "      <td>...</td>\n",
       "      <td>...</td>\n",
       "      <td>...</td>\n",
       "      <td>...</td>\n",
       "      <td>...</td>\n",
       "      <td>...</td>\n",
       "      <td>...</td>\n",
       "      <td>...</td>\n",
       "      <td>...</td>\n",
       "      <td>...</td>\n",
       "      <td>...</td>\n",
       "      <td>...</td>\n",
       "      <td>...</td>\n",
       "      <td>...</td>\n",
       "      <td>...</td>\n",
       "      <td>...</td>\n",
       "      <td>...</td>\n",
       "      <td>...</td>\n",
       "      <td>...</td>\n",
       "      <td>...</td>\n",
       "      <td>...</td>\n",
       "    </tr>\n",
       "    <tr>\n",
       "      <th>8119</th>\n",
       "      <td>0</td>\n",
       "      <td>3</td>\n",
       "      <td>2</td>\n",
       "      <td>4</td>\n",
       "      <td>0</td>\n",
       "      <td>5</td>\n",
       "      <td>0</td>\n",
       "      <td>0</td>\n",
       "      <td>0</td>\n",
       "      <td>11</td>\n",
       "      <td>...</td>\n",
       "      <td>2</td>\n",
       "      <td>2</td>\n",
       "      <td>5</td>\n",
       "      <td>5</td>\n",
       "      <td>1</td>\n",
       "      <td>1</td>\n",
       "      <td>4</td>\n",
       "      <td>0</td>\n",
       "      <td>1</td>\n",
       "      <td>2</td>\n",
       "    </tr>\n",
       "    <tr>\n",
       "      <th>8120</th>\n",
       "      <td>0</td>\n",
       "      <td>5</td>\n",
       "      <td>2</td>\n",
       "      <td>4</td>\n",
       "      <td>0</td>\n",
       "      <td>5</td>\n",
       "      <td>0</td>\n",
       "      <td>0</td>\n",
       "      <td>0</td>\n",
       "      <td>11</td>\n",
       "      <td>...</td>\n",
       "      <td>2</td>\n",
       "      <td>2</td>\n",
       "      <td>5</td>\n",
       "      <td>5</td>\n",
       "      <td>0</td>\n",
       "      <td>1</td>\n",
       "      <td>4</td>\n",
       "      <td>0</td>\n",
       "      <td>4</td>\n",
       "      <td>2</td>\n",
       "    </tr>\n",
       "    <tr>\n",
       "      <th>8121</th>\n",
       "      <td>0</td>\n",
       "      <td>2</td>\n",
       "      <td>2</td>\n",
       "      <td>4</td>\n",
       "      <td>0</td>\n",
       "      <td>5</td>\n",
       "      <td>0</td>\n",
       "      <td>0</td>\n",
       "      <td>0</td>\n",
       "      <td>5</td>\n",
       "      <td>...</td>\n",
       "      <td>2</td>\n",
       "      <td>2</td>\n",
       "      <td>5</td>\n",
       "      <td>5</td>\n",
       "      <td>1</td>\n",
       "      <td>1</td>\n",
       "      <td>4</td>\n",
       "      <td>0</td>\n",
       "      <td>1</td>\n",
       "      <td>2</td>\n",
       "    </tr>\n",
       "    <tr>\n",
       "      <th>8122</th>\n",
       "      <td>1</td>\n",
       "      <td>3</td>\n",
       "      <td>3</td>\n",
       "      <td>4</td>\n",
       "      <td>0</td>\n",
       "      <td>8</td>\n",
       "      <td>1</td>\n",
       "      <td>0</td>\n",
       "      <td>1</td>\n",
       "      <td>0</td>\n",
       "      <td>...</td>\n",
       "      <td>2</td>\n",
       "      <td>1</td>\n",
       "      <td>7</td>\n",
       "      <td>7</td>\n",
       "      <td>2</td>\n",
       "      <td>1</td>\n",
       "      <td>0</td>\n",
       "      <td>7</td>\n",
       "      <td>4</td>\n",
       "      <td>2</td>\n",
       "    </tr>\n",
       "    <tr>\n",
       "      <th>8123</th>\n",
       "      <td>0</td>\n",
       "      <td>5</td>\n",
       "      <td>2</td>\n",
       "      <td>4</td>\n",
       "      <td>0</td>\n",
       "      <td>5</td>\n",
       "      <td>0</td>\n",
       "      <td>0</td>\n",
       "      <td>0</td>\n",
       "      <td>11</td>\n",
       "      <td>...</td>\n",
       "      <td>2</td>\n",
       "      <td>2</td>\n",
       "      <td>5</td>\n",
       "      <td>5</td>\n",
       "      <td>1</td>\n",
       "      <td>1</td>\n",
       "      <td>4</td>\n",
       "      <td>4</td>\n",
       "      <td>1</td>\n",
       "      <td>2</td>\n",
       "    </tr>\n",
       "  </tbody>\n",
       "</table>\n",
       "<p>8124 rows × 22 columns</p>\n",
       "</div>"
      ],
      "text/plain": [
       "      class  cap-shape  cap-surface  cap-color  bruises  odor  \\\n",
       "0         1          5            2          4        1     6   \n",
       "1         0          5            2          9        1     0   \n",
       "2         0          0            2          8        1     3   \n",
       "3         1          5            3          8        1     6   \n",
       "4         0          5            2          3        0     5   \n",
       "...     ...        ...          ...        ...      ...   ...   \n",
       "8119      0          3            2          4        0     5   \n",
       "8120      0          5            2          4        0     5   \n",
       "8121      0          2            2          4        0     5   \n",
       "8122      1          3            3          4        0     8   \n",
       "8123      0          5            2          4        0     5   \n",
       "\n",
       "      gill-attachment  gill-spacing  gill-size  gill-color  ...  \\\n",
       "0                   1             0          1           4  ...   \n",
       "1                   1             0          0           4  ...   \n",
       "2                   1             0          0           5  ...   \n",
       "3                   1             0          1           5  ...   \n",
       "4                   1             1          0           4  ...   \n",
       "...               ...           ...        ...         ...  ...   \n",
       "8119                0             0          0          11  ...   \n",
       "8120                0             0          0          11  ...   \n",
       "8121                0             0          0           5  ...   \n",
       "8122                1             0          1           0  ...   \n",
       "8123                0             0          0          11  ...   \n",
       "\n",
       "      stalk-surface-above-ring  stalk-surface-below-ring  \\\n",
       "0                            2                         2   \n",
       "1                            2                         2   \n",
       "2                            2                         2   \n",
       "3                            2                         2   \n",
       "4                            2                         2   \n",
       "...                        ...                       ...   \n",
       "8119                         2                         2   \n",
       "8120                         2                         2   \n",
       "8121                         2                         2   \n",
       "8122                         2                         1   \n",
       "8123                         2                         2   \n",
       "\n",
       "      stalk-color-above-ring  stalk-color-below-ring  veil-color  ring-number  \\\n",
       "0                          7                       7           2            1   \n",
       "1                          7                       7           2            1   \n",
       "2                          7                       7           2            1   \n",
       "3                          7                       7           2            1   \n",
       "4                          7                       7           2            1   \n",
       "...                      ...                     ...         ...          ...   \n",
       "8119                       5                       5           1            1   \n",
       "8120                       5                       5           0            1   \n",
       "8121                       5                       5           1            1   \n",
       "8122                       7                       7           2            1   \n",
       "8123                       5                       5           1            1   \n",
       "\n",
       "      ring-type  spore-print-color  population  habitat  \n",
       "0             4                  2           3        5  \n",
       "1             4                  3           2        1  \n",
       "2             4                  3           2        3  \n",
       "3             4                  2           3        5  \n",
       "4             0                  3           0        1  \n",
       "...         ...                ...         ...      ...  \n",
       "8119          4                  0           1        2  \n",
       "8120          4                  0           4        2  \n",
       "8121          4                  0           1        2  \n",
       "8122          0                  7           4        2  \n",
       "8123          4                  4           1        2  \n",
       "\n",
       "[8124 rows x 22 columns]"
      ]
     },
     "execution_count": 152,
     "metadata": {},
     "output_type": "execute_result"
    }
   ],
   "source": [
    "mushrooms"
   ]
  },
  {
   "cell_type": "code",
   "execution_count": 153,
   "id": "e2b330cc-06f8-477d-8f17-dfd528d27659",
   "metadata": {},
   "outputs": [
    {
     "data": {
      "text/plain": [
       "0    4208\n",
       "1    3916\n",
       "Name: class, dtype: int64"
      ]
     },
     "execution_count": 153,
     "metadata": {},
     "output_type": "execute_result"
    }
   ],
   "source": [
    "mushrooms['class'].value_counts()"
   ]
  },
  {
   "cell_type": "code",
   "execution_count": 207,
   "id": "bbfec99d-3677-419e-b6be-9c421e3b36c9",
   "metadata": {},
   "outputs": [],
   "source": [
    "X, y = mushrooms.drop(['class'], axis=1), mushrooms['class']"
   ]
  },
  {
   "cell_type": "code",
   "execution_count": 155,
   "id": "0cd813d1-e258-446a-bf90-59a5da3b7f42",
   "metadata": {},
   "outputs": [
    {
     "data": {
      "image/png": "[encoded data removed]",
      "text/plain": [
       "<Figure size 432x288 with 1 Axes>"
      ]
     },
     "metadata": {
      "needs_background": "light"
     },
     "output_type": "display_data"
    }
   ],
   "source": [
    "tree = DecisionTreeClassifier()\n",
    "parameters = {'max_depth': range(1, 21)}\n",
    "clf = GridSearchCV(tree, parameters, cv=5, scoring='f1_weighted', return_train_score=True)\n",
    "clf.fit(X, y)\n",
    "results = clf.cv_results_\n",
    "\n",
    "plt.plot(range(1, 21), results['mean_train_score'], 'r-o')\n",
    "plt.plot(range(1, 21), results['mean_test_score'], 'b-o')\n",
    "\n",
    "plt.legend(['Train', 'Test'])\n",
    "\n",
    "plt.show()"
   ]
  },
  {
   "cell_type": "code",
   "execution_count": 156,
   "id": "f1ed2afc-d140-4458-82be-6f74c23846a2",
   "metadata": {},
   "outputs": [
    {
     "name": "stdout",
     "output_type": "stream",
     "text": [
      "{'max_depth': 7} 0.9747402859609056\n"
     ]
    }
   ],
   "source": [
    "best_params = clf.best_params_\n",
    "best_score = clf.best_score_\n",
    "print(best_params, best_score)"
   ]
  },
  {
   "cell_type": "code",
   "execution_count": 157,
   "id": "22c29717-60ef-4cc3-b756-2f3984dfabce",
   "metadata": {},
   "outputs": [
    {
     "data": {
      "image/png": "[encoded data removed]",
      "text/plain": [
       "<Figure size 432x288 with 1 Axes>"
      ]
     },
     "metadata": {
      "needs_background": "light"
     },
     "output_type": "display_data"
    }
   ],
   "source": [
    "tree = DecisionTreeClassifier()\n",
    "parameters = {'min_samples_leaf': range(1, 21)}\n",
    "clf = GridSearchCV(tree, parameters, cv=5, scoring='f1_weighted', return_train_score=True)\n",
    "clf.fit(X, y)\n",
    "results = clf.cv_results_\n",
    "\n",
    "plt.plot(range(1, 21), results['mean_train_score'], 'r-o')\n",
    "plt.plot(range(1, 21), results['mean_test_score'], 'b-o')\n",
    "\n",
    "plt.legend(['Train', 'Test'])\n",
    "\n",
    "plt.show()"
   ]
  },
  {
   "cell_type": "code",
   "execution_count": 158,
   "id": "69cd21d3-ce26-4129-9165-eec48c83b251",
   "metadata": {},
   "outputs": [
    {
     "name": "stdout",
     "output_type": "stream",
     "text": [
      "{'min_samples_leaf': 1} 0.923834033294207\n"
     ]
    }
   ],
   "source": [
    "best_params = clf.best_params_\n",
    "best_score = clf.best_score_\n",
    "print(best_params, best_score)"
   ]
  },
  {
   "cell_type": "code",
   "execution_count": 208,
   "id": "962d5f47-6ff4-4027-a4a8-9fa5442f4213",
   "metadata": {},
   "outputs": [],
   "source": [
    "X_train, X_test, y_train, y_test = train_test_split(X, y, test_size=0.3,\n",
    "random_state=42)"
   ]
  },
  {
   "cell_type": "code",
   "execution_count": 209,
   "id": "015a5472-89fd-44d8-b97c-c779f08d581a",
   "metadata": {},
   "outputs": [],
   "source": [
    "tree = DecisionTreeClassifier()\n",
    "parameters = {'min_samples_leaf': range(1, 21),'max_depth': range(1, 21)}\n",
    "clf = GridSearchCV(tree, parameters, cv=5, scoring='f1_weighted', return_train_score=True)\n",
    "clf.fit(X_train, y_train)\n",
    "results = clf.cv_results_"
   ]
  },
  {
   "cell_type": "code",
   "execution_count": 198,
   "id": "475b03cf-fe65-43de-9b73-7d2b5b1153ef",
   "metadata": {},
   "outputs": [
    {
     "name": "stdout",
     "output_type": "stream",
     "text": [
      "{'max_depth': 4, 'min_samples_leaf': 3} 0.942638234781092\n"
     ]
    }
   ],
   "source": [
    "best_params = clf.best_params_\n",
    "best_score = clf.best_score_\n",
    "print(best_params, best_score)"
   ]
  },
  {
   "cell_type": "code",
   "execution_count": 199,
   "id": "1bb5bde5-64f9-4c31-89bb-d70b05d8b828",
   "metadata": {},
   "outputs": [],
   "source": [
    "tree = DecisionTreeClassifier(max_depth = 4, min_samples_leaf = 3)\n",
    "tree.fit(X_train, y_train)\n",
    "\n",
    "y_pred = tree.predict(X_test)"
   ]
  },
  {
   "cell_type": "code",
   "execution_count": 203,
   "id": "cc6cb322-956b-471b-80e0-de00ed88cab0",
   "metadata": {},
   "outputs": [
    {
     "name": "stdout",
     "output_type": "stream",
     "text": [
      "              precision    recall  f1-score   support\n",
      "\n",
      "           0       1.00      1.00      1.00        19\n",
      "           1       1.00      1.00      1.00        13\n",
      "           2       1.00      1.00      1.00        13\n",
      "\n",
      "    accuracy                           1.00        45\n",
      "   macro avg       1.00      1.00      1.00        45\n",
      "weighted avg       1.00      1.00      1.00        45\n",
      "\n"
     ]
    }
   ],
   "source": [
    "print(classification_report(y_test, y_pred))"
   ]
  },
  {
   "cell_type": "code",
   "execution_count": 76,
   "id": "f04467e0-b5e9-4ca9-ab8b-b30aeb020dec",
   "metadata": {},
   "outputs": [],
   "source": [
    "oc = OneHotEncoder(handle_unknown='ignore', sparse=False)\n",
    "\n",
    "for column in mushrooms.columns:\n",
    "    mushrooms[column] = oc.fit_transform(np.asarray(mushrooms[column]).reshape(-1, 1))"
   ]
  },
  {
   "cell_type": "code",
   "execution_count": 77,
   "id": "581f4a48-9f5e-400b-8c2b-121a790398eb",
   "metadata": {},
   "outputs": [
    {
     "data": {
      "text/html": [
       "<div>\n",
       "<style scoped>\n",
       "    .dataframe tbody tr th:only-of-type {\n",
       "        vertical-align: middle;\n",
       "    }\n",
       "\n",
       "    .dataframe tbody tr th {\n",
       "        vertical-align: top;\n",
       "    }\n",
       "\n",
       "    .dataframe thead th {\n",
       "        text-align: right;\n",
       "    }\n",
       "</style>\n",
       "<table border=\"1\" class=\"dataframe\">\n",
       "  <thead>\n",
       "    <tr style=\"text-align: right;\">\n",
       "      <th></th>\n",
       "      <th>class</th>\n",
       "      <th>cap-shape</th>\n",
       "      <th>cap-surface</th>\n",
       "      <th>cap-color</th>\n",
       "      <th>bruises</th>\n",
       "      <th>odor</th>\n",
       "      <th>gill-attachment</th>\n",
       "      <th>gill-spacing</th>\n",
       "      <th>gill-size</th>\n",
       "      <th>gill-color</th>\n",
       "      <th>...</th>\n",
       "      <th>stalk-surface-above-ring</th>\n",
       "      <th>stalk-surface-below-ring</th>\n",
       "      <th>stalk-color-above-ring</th>\n",
       "      <th>stalk-color-below-ring</th>\n",
       "      <th>veil-color</th>\n",
       "      <th>ring-number</th>\n",
       "      <th>ring-type</th>\n",
       "      <th>spore-print-color</th>\n",
       "      <th>population</th>\n",
       "      <th>habitat</th>\n",
       "    </tr>\n",
       "  </thead>\n",
       "  <tbody>\n",
       "    <tr>\n",
       "      <th>0</th>\n",
       "      <td>0.0</td>\n",
       "      <td>0.0</td>\n",
       "      <td>0.0</td>\n",
       "      <td>0.0</td>\n",
       "      <td>0.0</td>\n",
       "      <td>0.0</td>\n",
       "      <td>0.0</td>\n",
       "      <td>1.0</td>\n",
       "      <td>0.0</td>\n",
       "      <td>0.0</td>\n",
       "      <td>...</td>\n",
       "      <td>0.0</td>\n",
       "      <td>0.0</td>\n",
       "      <td>0.0</td>\n",
       "      <td>0.0</td>\n",
       "      <td>0.0</td>\n",
       "      <td>0.0</td>\n",
       "      <td>0.0</td>\n",
       "      <td>0.0</td>\n",
       "      <td>0.0</td>\n",
       "      <td>0.0</td>\n",
       "    </tr>\n",
       "    <tr>\n",
       "      <th>1</th>\n",
       "      <td>1.0</td>\n",
       "      <td>0.0</td>\n",
       "      <td>0.0</td>\n",
       "      <td>0.0</td>\n",
       "      <td>0.0</td>\n",
       "      <td>1.0</td>\n",
       "      <td>0.0</td>\n",
       "      <td>1.0</td>\n",
       "      <td>1.0</td>\n",
       "      <td>0.0</td>\n",
       "      <td>...</td>\n",
       "      <td>0.0</td>\n",
       "      <td>0.0</td>\n",
       "      <td>0.0</td>\n",
       "      <td>0.0</td>\n",
       "      <td>0.0</td>\n",
       "      <td>0.0</td>\n",
       "      <td>0.0</td>\n",
       "      <td>0.0</td>\n",
       "      <td>0.0</td>\n",
       "      <td>0.0</td>\n",
       "    </tr>\n",
       "    <tr>\n",
       "      <th>2</th>\n",
       "      <td>1.0</td>\n",
       "      <td>1.0</td>\n",
       "      <td>0.0</td>\n",
       "      <td>0.0</td>\n",
       "      <td>0.0</td>\n",
       "      <td>0.0</td>\n",
       "      <td>0.0</td>\n",
       "      <td>1.0</td>\n",
       "      <td>1.0</td>\n",
       "      <td>0.0</td>\n",
       "      <td>...</td>\n",
       "      <td>0.0</td>\n",
       "      <td>0.0</td>\n",
       "      <td>0.0</td>\n",
       "      <td>0.0</td>\n",
       "      <td>0.0</td>\n",
       "      <td>0.0</td>\n",
       "      <td>0.0</td>\n",
       "      <td>0.0</td>\n",
       "      <td>0.0</td>\n",
       "      <td>0.0</td>\n",
       "    </tr>\n",
       "    <tr>\n",
       "      <th>3</th>\n",
       "      <td>0.0</td>\n",
       "      <td>0.0</td>\n",
       "      <td>0.0</td>\n",
       "      <td>0.0</td>\n",
       "      <td>0.0</td>\n",
       "      <td>0.0</td>\n",
       "      <td>0.0</td>\n",
       "      <td>1.0</td>\n",
       "      <td>0.0</td>\n",
       "      <td>0.0</td>\n",
       "      <td>...</td>\n",
       "      <td>0.0</td>\n",
       "      <td>0.0</td>\n",
       "      <td>0.0</td>\n",
       "      <td>0.0</td>\n",
       "      <td>0.0</td>\n",
       "      <td>0.0</td>\n",
       "      <td>0.0</td>\n",
       "      <td>0.0</td>\n",
       "      <td>0.0</td>\n",
       "      <td>0.0</td>\n",
       "    </tr>\n",
       "    <tr>\n",
       "      <th>4</th>\n",
       "      <td>1.0</td>\n",
       "      <td>0.0</td>\n",
       "      <td>0.0</td>\n",
       "      <td>0.0</td>\n",
       "      <td>1.0</td>\n",
       "      <td>0.0</td>\n",
       "      <td>0.0</td>\n",
       "      <td>0.0</td>\n",
       "      <td>1.0</td>\n",
       "      <td>0.0</td>\n",
       "      <td>...</td>\n",
       "      <td>0.0</td>\n",
       "      <td>0.0</td>\n",
       "      <td>0.0</td>\n",
       "      <td>0.0</td>\n",
       "      <td>0.0</td>\n",
       "      <td>0.0</td>\n",
       "      <td>1.0</td>\n",
       "      <td>0.0</td>\n",
       "      <td>1.0</td>\n",
       "      <td>0.0</td>\n",
       "    </tr>\n",
       "    <tr>\n",
       "      <th>...</th>\n",
       "      <td>...</td>\n",
       "      <td>...</td>\n",
       "      <td>...</td>\n",
       "      <td>...</td>\n",
       "      <td>...</td>\n",
       "      <td>...</td>\n",
       "      <td>...</td>\n",
       "      <td>...</td>\n",
       "      <td>...</td>\n",
       "      <td>...</td>\n",
       "      <td>...</td>\n",
       "      <td>...</td>\n",
       "      <td>...</td>\n",
       "      <td>...</td>\n",
       "      <td>...</td>\n",
       "      <td>...</td>\n",
       "      <td>...</td>\n",
       "      <td>...</td>\n",
       "      <td>...</td>\n",
       "      <td>...</td>\n",
       "      <td>...</td>\n",
       "    </tr>\n",
       "    <tr>\n",
       "      <th>8119</th>\n",
       "      <td>1.0</td>\n",
       "      <td>0.0</td>\n",
       "      <td>0.0</td>\n",
       "      <td>0.0</td>\n",
       "      <td>1.0</td>\n",
       "      <td>0.0</td>\n",
       "      <td>1.0</td>\n",
       "      <td>1.0</td>\n",
       "      <td>1.0</td>\n",
       "      <td>0.0</td>\n",
       "      <td>...</td>\n",
       "      <td>0.0</td>\n",
       "      <td>0.0</td>\n",
       "      <td>0.0</td>\n",
       "      <td>0.0</td>\n",
       "      <td>0.0</td>\n",
       "      <td>0.0</td>\n",
       "      <td>0.0</td>\n",
       "      <td>1.0</td>\n",
       "      <td>0.0</td>\n",
       "      <td>0.0</td>\n",
       "    </tr>\n",
       "    <tr>\n",
       "      <th>8120</th>\n",
       "      <td>1.0</td>\n",
       "      <td>0.0</td>\n",
       "      <td>0.0</td>\n",
       "      <td>0.0</td>\n",
       "      <td>1.0</td>\n",
       "      <td>0.0</td>\n",
       "      <td>1.0</td>\n",
       "      <td>1.0</td>\n",
       "      <td>1.0</td>\n",
       "      <td>0.0</td>\n",
       "      <td>...</td>\n",
       "      <td>0.0</td>\n",
       "      <td>0.0</td>\n",
       "      <td>0.0</td>\n",
       "      <td>0.0</td>\n",
       "      <td>1.0</td>\n",
       "      <td>0.0</td>\n",
       "      <td>0.0</td>\n",
       "      <td>1.0</td>\n",
       "      <td>0.0</td>\n",
       "      <td>0.0</td>\n",
       "    </tr>\n",
       "    <tr>\n",
       "      <th>8121</th>\n",
       "      <td>1.0</td>\n",
       "      <td>0.0</td>\n",
       "      <td>0.0</td>\n",
       "      <td>0.0</td>\n",
       "      <td>1.0</td>\n",
       "      <td>0.0</td>\n",
       "      <td>1.0</td>\n",
       "      <td>1.0</td>\n",
       "      <td>1.0</td>\n",
       "      <td>0.0</td>\n",
       "      <td>...</td>\n",
       "      <td>0.0</td>\n",
       "      <td>0.0</td>\n",
       "      <td>0.0</td>\n",
       "      <td>0.0</td>\n",
       "      <td>0.0</td>\n",
       "      <td>0.0</td>\n",
       "      <td>0.0</td>\n",
       "      <td>1.0</td>\n",
       "      <td>0.0</td>\n",
       "      <td>0.0</td>\n",
       "    </tr>\n",
       "    <tr>\n",
       "      <th>8122</th>\n",
       "      <td>0.0</td>\n",
       "      <td>0.0</td>\n",
       "      <td>0.0</td>\n",
       "      <td>0.0</td>\n",
       "      <td>1.0</td>\n",
       "      <td>0.0</td>\n",
       "      <td>0.0</td>\n",
       "      <td>1.0</td>\n",
       "      <td>0.0</td>\n",
       "      <td>1.0</td>\n",
       "      <td>...</td>\n",
       "      <td>0.0</td>\n",
       "      <td>0.0</td>\n",
       "      <td>0.0</td>\n",
       "      <td>0.0</td>\n",
       "      <td>0.0</td>\n",
       "      <td>0.0</td>\n",
       "      <td>1.0</td>\n",
       "      <td>0.0</td>\n",
       "      <td>0.0</td>\n",
       "      <td>0.0</td>\n",
       "    </tr>\n",
       "    <tr>\n",
       "      <th>8123</th>\n",
       "      <td>1.0</td>\n",
       "      <td>0.0</td>\n",
       "      <td>0.0</td>\n",
       "      <td>0.0</td>\n",
       "      <td>1.0</td>\n",
       "      <td>0.0</td>\n",
       "      <td>1.0</td>\n",
       "      <td>1.0</td>\n",
       "      <td>1.0</td>\n",
       "      <td>0.0</td>\n",
       "      <td>...</td>\n",
       "      <td>0.0</td>\n",
       "      <td>0.0</td>\n",
       "      <td>0.0</td>\n",
       "      <td>0.0</td>\n",
       "      <td>0.0</td>\n",
       "      <td>0.0</td>\n",
       "      <td>0.0</td>\n",
       "      <td>0.0</td>\n",
       "      <td>0.0</td>\n",
       "      <td>0.0</td>\n",
       "    </tr>\n",
       "  </tbody>\n",
       "</table>\n",
       "<p>8124 rows × 22 columns</p>\n",
       "</div>"
      ],
      "text/plain": [
       "      class  cap-shape  cap-surface  cap-color  bruises  odor  \\\n",
       "0       0.0        0.0          0.0        0.0      0.0   0.0   \n",
       "1       1.0        0.0          0.0        0.0      0.0   1.0   \n",
       "2       1.0        1.0          0.0        0.0      0.0   0.0   \n",
       "3       0.0        0.0          0.0        0.0      0.0   0.0   \n",
       "4       1.0        0.0          0.0        0.0      1.0   0.0   \n",
       "...     ...        ...          ...        ...      ...   ...   \n",
       "8119    1.0        0.0          0.0        0.0      1.0   0.0   \n",
       "8120    1.0        0.0          0.0        0.0      1.0   0.0   \n",
       "8121    1.0        0.0          0.0        0.0      1.0   0.0   \n",
       "8122    0.0        0.0          0.0        0.0      1.0   0.0   \n",
       "8123    1.0        0.0          0.0        0.0      1.0   0.0   \n",
       "\n",
       "      gill-attachment  gill-spacing  gill-size  gill-color  ...  \\\n",
       "0                 0.0           1.0        0.0         0.0  ...   \n",
       "1                 0.0           1.0        1.0         0.0  ...   \n",
       "2                 0.0           1.0        1.0         0.0  ...   \n",
       "3                 0.0           1.0        0.0         0.0  ...   \n",
       "4                 0.0           0.0        1.0         0.0  ...   \n",
       "...               ...           ...        ...         ...  ...   \n",
       "8119              1.0           1.0        1.0         0.0  ...   \n",
       "8120              1.0           1.0        1.0         0.0  ...   \n",
       "8121              1.0           1.0        1.0         0.0  ...   \n",
       "8122              0.0           1.0        0.0         1.0  ...   \n",
       "8123              1.0           1.0        1.0         0.0  ...   \n",
       "\n",
       "      stalk-surface-above-ring  stalk-surface-below-ring  \\\n",
       "0                          0.0                       0.0   \n",
       "1                          0.0                       0.0   \n",
       "2                          0.0                       0.0   \n",
       "3                          0.0                       0.0   \n",
       "4                          0.0                       0.0   \n",
       "...                        ...                       ...   \n",
       "8119                       0.0                       0.0   \n",
       "8120                       0.0                       0.0   \n",
       "8121                       0.0                       0.0   \n",
       "8122                       0.0                       0.0   \n",
       "8123                       0.0                       0.0   \n",
       "\n",
       "      stalk-color-above-ring  stalk-color-below-ring  veil-color  ring-number  \\\n",
       "0                        0.0                     0.0         0.0          0.0   \n",
       "1                        0.0                     0.0         0.0          0.0   \n",
       "2                        0.0                     0.0         0.0          0.0   \n",
       "3                        0.0                     0.0         0.0          0.0   \n",
       "4                        0.0                     0.0         0.0          0.0   \n",
       "...                      ...                     ...         ...          ...   \n",
       "8119                     0.0                     0.0         0.0          0.0   \n",
       "8120                     0.0                     0.0         1.0          0.0   \n",
       "8121                     0.0                     0.0         0.0          0.0   \n",
       "8122                     0.0                     0.0         0.0          0.0   \n",
       "8123                     0.0                     0.0         0.0          0.0   \n",
       "\n",
       "      ring-type  spore-print-color  population  habitat  \n",
       "0           0.0                0.0         0.0      0.0  \n",
       "1           0.0                0.0         0.0      0.0  \n",
       "2           0.0                0.0         0.0      0.0  \n",
       "3           0.0                0.0         0.0      0.0  \n",
       "4           1.0                0.0         1.0      0.0  \n",
       "...         ...                ...         ...      ...  \n",
       "8119        0.0                1.0         0.0      0.0  \n",
       "8120        0.0                1.0         0.0      0.0  \n",
       "8121        0.0                1.0         0.0      0.0  \n",
       "8122        1.0                0.0         0.0      0.0  \n",
       "8123        0.0                0.0         0.0      0.0  \n",
       "\n",
       "[8124 rows x 22 columns]"
      ]
     },
     "execution_count": 77,
     "metadata": {},
     "output_type": "execute_result"
    }
   ],
   "source": [
    "mushrooms"
   ]
  },
  {
   "cell_type": "code",
   "execution_count": 78,
   "id": "5fd1843c-afa5-47e1-91ff-00fe972599a5",
   "metadata": {},
   "outputs": [
    {
     "data": {
      "text/plain": [
       "1.0    4208\n",
       "0.0    3916\n",
       "Name: class, dtype: int64"
      ]
     },
     "execution_count": 78,
     "metadata": {},
     "output_type": "execute_result"
    }
   ],
   "source": [
    "mushrooms['class'].value_counts()"
   ]
  },
  {
   "cell_type": "code",
   "execution_count": 79,
   "id": "ef58482b-abd3-4e51-b0cd-63a682a36815",
   "metadata": {},
   "outputs": [],
   "source": [
    "X, y = mushrooms.drop(['class'], axis=1), mushrooms['class']"
   ]
  },
  {
   "cell_type": "code",
   "execution_count": 80,
   "id": "0057208c-d4ed-41d3-aac5-4b5a0f320120",
   "metadata": {},
   "outputs": [
    {
     "data": {
      "image/png": "[encoded data removed]",
      "text/plain": [
       "<Figure size 432x288 with 1 Axes>"
      ]
     },
     "metadata": {
      "needs_background": "light"
     },
     "output_type": "display_data"
    }
   ],
   "source": [
    "tree = DecisionTreeClassifier()\n",
    "parameters = {'max_depth': range(1, 21)}\n",
    "clf = GridSearchCV(tree, parameters, cv=5, scoring='f1_weighted', return_train_score=True)\n",
    "clf.fit(X, y)\n",
    "results = clf.cv_results_\n",
    "\n",
    "plt.plot(range(1, 21), results['mean_train_score'], 'r-o')\n",
    "plt.plot(range(1, 21), results['mean_test_score'], 'b-o')\n",
    "\n",
    "plt.legend(['Train', 'Test'])\n",
    "\n",
    "plt.show()"
   ]
  },
  {
   "cell_type": "code",
   "execution_count": 81,
   "id": "7ccf640e-49fa-46ee-9333-2ab9c9cc7f8c",
   "metadata": {},
   "outputs": [
    {
     "name": "stdout",
     "output_type": "stream",
     "text": [
      "{'max_depth': 9} 0.9541219304786164\n"
     ]
    }
   ],
   "source": [
    "best_params = clf.best_params_\n",
    "best_score = clf.best_score_\n",
    "print(best_params, best_score)"
   ]
  },
  {
   "cell_type": "code",
   "execution_count": 82,
   "id": "19051938-90a5-4ed0-8ce0-02e6277c175f",
   "metadata": {},
   "outputs": [
    {
     "data": {
      "image/png": "[encoded data removed]",
      "text/plain": [
       "<Figure size 432x288 with 1 Axes>"
      ]
     },
     "metadata": {
      "needs_background": "light"
     },
     "output_type": "display_data"
    }
   ],
   "source": [
    "tree = DecisionTreeClassifier()\n",
    "parameters = {'min_samples_leaf': range(1, 21)}\n",
    "clf = GridSearchCV(tree, parameters, cv=5, scoring='f1_weighted', return_train_score=True)\n",
    "clf.fit(X, y)\n",
    "results = clf.cv_results_\n",
    "\n",
    "plt.plot(range(1, 21), results['mean_train_score'], 'r-o')\n",
    "plt.plot(range(1, 21), results['mean_test_score'], 'b-o')\n",
    "\n",
    "plt.legend(['Train', 'Test'])\n",
    "\n",
    "plt.show()"
   ]
  },
  {
   "cell_type": "code",
   "execution_count": 83,
   "id": "015e3e80-f0fd-4f1f-b6f9-bd1854d73bcc",
   "metadata": {},
   "outputs": [
    {
     "name": "stdout",
     "output_type": "stream",
     "text": [
      "{'min_samples_leaf': 2} 0.941808193545624\n"
     ]
    }
   ],
   "source": [
    "best_params = clf.best_params_\n",
    "best_score = clf.best_score_\n",
    "print(best_params, best_score)"
   ]
  },
  {
   "cell_type": "code",
   "execution_count": 84,
   "id": "a9eb2aea-7a0e-4c98-8f3b-b6de5e036296",
   "metadata": {},
   "outputs": [],
   "source": [
    "X_train, X_test, y_train, y_test = train_test_split(X, y, test_size=0.3,\n",
    "random_state=42)"
   ]
  },
  {
   "cell_type": "code",
   "execution_count": 85,
   "id": "98004de3-3417-4815-a7e6-0655c316d896",
   "metadata": {},
   "outputs": [],
   "source": [
    "tree = DecisionTreeClassifier()\n",
    "parameters = {'min_samples_leaf': range(1, 21),'max_depth': range(1, 21)}\n",
    "clf = GridSearchCV(tree, parameters, cv=5, scoring='f1_weighted', return_train_score=True)\n",
    "clf.fit(X_train, y_train)\n",
    "results = clf.cv_results_"
   ]
  },
  {
   "cell_type": "code",
   "execution_count": 86,
   "id": "8a4a5713-3e90-4113-a515-4d2bf571816f",
   "metadata": {},
   "outputs": [
    {
     "name": "stdout",
     "output_type": "stream",
     "text": [
      "{'max_depth': 9, 'min_samples_leaf': 2} 0.9917314942144813\n"
     ]
    }
   ],
   "source": [
    "best_params = clf.best_params_\n",
    "best_score = clf.best_score_\n",
    "print(best_params, best_score)"
   ]
  },
  {
   "cell_type": "code",
   "execution_count": 87,
   "id": "8b67e3a7-1fdf-48e5-84a3-9957dba41946",
   "metadata": {},
   "outputs": [],
   "source": [
    "tree = DecisionTreeClassifier(max_depth = 4, min_samples_leaf = 3)\n",
    "tree.fit(X_train, y_train)\n",
    "\n",
    "y_pred = tree.predict(X_test)"
   ]
  },
  {
   "cell_type": "code",
   "execution_count": 90,
   "id": "78b6be5a-a98a-47e5-90f8-d3a040caae88",
   "metadata": {},
   "outputs": [
    {
     "name": "stdout",
     "output_type": "stream",
     "text": [
      "              precision    recall  f1-score   support\n",
      "\n",
      "         0.0       0.95      0.76      0.84      1181\n",
      "         1.0       0.81      0.97      0.88      1257\n",
      "\n",
      "    accuracy                           0.86      2438\n",
      "   macro avg       0.88      0.86      0.86      2438\n",
      "weighted avg       0.88      0.86      0.86      2438\n",
      "\n"
     ]
    }
   ],
   "source": [
    "print(classification_report(y_test, y_pred))"
   ]
  },
  {
   "cell_type": "code",
   "execution_count": null,
   "id": "9d647374-7762-4c3d-adc2-d9881e493d85",
   "metadata": {},
   "outputs": [],
   "source": []
  },
  {
   "cell_type": "markdown",
   "id": "a14b51cd",
   "metadata": {},
   "source": [
    "<font color = 'red' size = 5>Задание 4 </font>\n",
    "\n",
    "Используя встроенные методы реализуйте регрессию с помощью решающего дерева. Примените для данных из предыдущих ЛР. Сделайте выводы. По какому принципу работает дерево в случае регресии?"
   ]
  },
  {
   "cell_type": "code",
   "execution_count": 77,
   "id": "2d195bf4-89d5-4f68-b900-3221f36d840e",
   "metadata": {},
   "outputs": [
    {
     "data": {
      "image/png": "[encoded data removed]",
      "text/plain": [
       "<Figure size 720x432 with 1 Axes>"
      ]
     },
     "metadata": {
      "needs_background": "light"
     },
     "output_type": "display_data"
    }
   ],
   "source": [
    "from sklearn.tree import DecisionTreeRegressor\n",
    "\n",
    "np.random.seed(42)\n",
    "X = np.sort(5 * np.random.rand(80, 1), axis=0)\n",
    "y = np.sin(X).ravel() + np.random.normal(0, 0.1, X.shape[0])\n",
    "\n",
    "regressor = DecisionTreeRegressor(max_depth=5)\n",
    "regressor.fit(X, y)\n",
    "\n",
    "X_new = np.arange(0.0, 5.0, 0.01)[:, np.newaxis]\n",
    "y_pred = regressor.predict(X_new)\n",
    "\n",
    "plt.figure(figsize=(10, 6))\n",
    "plt.scatter(X, y, s=20, edgecolor=\"black\", c=\"darkorange\", label=\"data\")\n",
    "plt.plot(X_new, y_pred, color=\"cornflowerblue\", label=\"prediction\", linewidth=2)\n",
    "plt.xlabel(\"data\")\n",
    "plt.ylabel(\"target\")\n",
    "plt.title(\"Decision Tree Regression\")\n",
    "plt.legend()\n",
    "plt.show()\n"
   ]
  },
  {
   "cell_type": "code",
   "execution_count": 210,
   "id": "e2eb645b-c440-4522-9f9a-c837d9649c8b",
   "metadata": {},
   "outputs": [],
   "source": [
    "auto = pd.read_csv(\"auto-mpg.csv\")"
   ]
  },
  {
   "cell_type": "code",
   "execution_count": 211,
   "id": "68af37e6-58d8-42c5-af72-5251d23f0624",
   "metadata": {},
   "outputs": [
    {
     "data": {
      "text/html": [
       "<div>\n",
       "<style scoped>\n",
       "    .dataframe tbody tr th:only-of-type {\n",
       "        vertical-align: middle;\n",
       "    }\n",
       "\n",
       "    .dataframe tbody tr th {\n",
       "        vertical-align: top;\n",
       "    }\n",
       "\n",
       "    .dataframe thead th {\n",
       "        text-align: right;\n",
       "    }\n",
       "</style>\n",
       "<table border=\"1\" class=\"dataframe\">\n",
       "  <thead>\n",
       "    <tr style=\"text-align: right;\">\n",
       "      <th></th>\n",
       "      <th>mpg</th>\n",
       "      <th>cylinders</th>\n",
       "      <th>displacement</th>\n",
       "      <th>horsepower</th>\n",
       "      <th>weight</th>\n",
       "      <th>acceleration</th>\n",
       "      <th>model year</th>\n",
       "      <th>origin</th>\n",
       "    </tr>\n",
       "  </thead>\n",
       "  <tbody>\n",
       "    <tr>\n",
       "      <th>0</th>\n",
       "      <td>18.0</td>\n",
       "      <td>8</td>\n",
       "      <td>307.0</td>\n",
       "      <td>130</td>\n",
       "      <td>3504</td>\n",
       "      <td>12.0</td>\n",
       "      <td>70</td>\n",
       "      <td>1</td>\n",
       "    </tr>\n",
       "    <tr>\n",
       "      <th>1</th>\n",
       "      <td>15.0</td>\n",
       "      <td>8</td>\n",
       "      <td>350.0</td>\n",
       "      <td>165</td>\n",
       "      <td>3693</td>\n",
       "      <td>11.5</td>\n",
       "      <td>70</td>\n",
       "      <td>1</td>\n",
       "    </tr>\n",
       "    <tr>\n",
       "      <th>2</th>\n",
       "      <td>18.0</td>\n",
       "      <td>8</td>\n",
       "      <td>318.0</td>\n",
       "      <td>150</td>\n",
       "      <td>3436</td>\n",
       "      <td>11.0</td>\n",
       "      <td>70</td>\n",
       "      <td>1</td>\n",
       "    </tr>\n",
       "    <tr>\n",
       "      <th>3</th>\n",
       "      <td>16.0</td>\n",
       "      <td>8</td>\n",
       "      <td>304.0</td>\n",
       "      <td>150</td>\n",
       "      <td>3433</td>\n",
       "      <td>12.0</td>\n",
       "      <td>70</td>\n",
       "      <td>1</td>\n",
       "    </tr>\n",
       "    <tr>\n",
       "      <th>4</th>\n",
       "      <td>17.0</td>\n",
       "      <td>8</td>\n",
       "      <td>302.0</td>\n",
       "      <td>140</td>\n",
       "      <td>3449</td>\n",
       "      <td>10.5</td>\n",
       "      <td>70</td>\n",
       "      <td>1</td>\n",
       "    </tr>\n",
       "  </tbody>\n",
       "</table>\n",
       "</div>"
      ],
      "text/plain": [
       "    mpg  cylinders  displacement horsepower  weight  acceleration  model year  \\\n",
       "0  18.0          8         307.0        130    3504          12.0          70   \n",
       "1  15.0          8         350.0        165    3693          11.5          70   \n",
       "2  18.0          8         318.0        150    3436          11.0          70   \n",
       "3  16.0          8         304.0        150    3433          12.0          70   \n",
       "4  17.0          8         302.0        140    3449          10.5          70   \n",
       "\n",
       "   origin  \n",
       "0       1  \n",
       "1       1  \n",
       "2       1  \n",
       "3       1  \n",
       "4       1  "
      ]
     },
     "execution_count": 211,
     "metadata": {},
     "output_type": "execute_result"
    }
   ],
   "source": [
    "auto = auto.drop([\"car name\"], axis=1)\n",
    "auto.head()"
   ]
  },
  {
   "cell_type": "code",
   "execution_count": 212,
   "id": "61a83c39-e4e0-4dca-b2a2-bd6540f13bdc",
   "metadata": {},
   "outputs": [],
   "source": [
    "auto[\"horsepower\"] = auto[\"horsepower\"].replace('?',np.nan)\n",
    "auto[\"horsepower\"] = auto[\"horsepower\"].fillna(auto[\"horsepower\"].median()) "
   ]
  },
  {
   "cell_type": "code",
   "execution_count": 213,
   "id": "952775fa-6c97-457c-8141-57422c8377ea",
   "metadata": {},
   "outputs": [],
   "source": [
    "X, y = auto.drop([\"mpg\"], axis=1).to_numpy(), auto[\"mpg\"].to_numpy()\n",
    "X_train, X_test, y_train, y_test = train_test_split(X, y, test_size=0.3,\n",
    "random_state=42)"
   ]
  },
  {
   "cell_type": "code",
   "execution_count": 214,
   "id": "8ff9ba3d-7f03-4023-96e4-2c7d171995ce",
   "metadata": {},
   "outputs": [
    {
     "data": {
      "text/plain": [
       "DecisionTreeRegressor(random_state=12)"
      ]
     },
     "execution_count": 214,
     "metadata": {},
     "output_type": "execute_result"
    }
   ],
   "source": [
    "regressor = DecisionTreeRegressor(random_state=12)\n",
    "regressor.fit(X_train, y_train) "
   ]
  },
  {
   "cell_type": "code",
   "execution_count": 215,
   "id": "490f0e29-9546-4293-a572-98d0e0c7e518",
   "metadata": {},
   "outputs": [
    {
     "data": {
      "text/plain": [
       "17"
      ]
     },
     "execution_count": 215,
     "metadata": {},
     "output_type": "execute_result"
    }
   ],
   "source": [
    "regressor.get_depth()"
   ]
  },
  {
   "cell_type": "code",
   "execution_count": 216,
   "id": "2539c66d-9349-4a85-a6a5-d17d45d873ee",
   "metadata": {},
   "outputs": [
    {
     "data": {
      "text/plain": [
       "230"
      ]
     },
     "execution_count": 216,
     "metadata": {},
     "output_type": "execute_result"
    }
   ],
   "source": [
    "regressor.get_n_leaves()"
   ]
  },
  {
   "cell_type": "code",
   "execution_count": 217,
   "id": "a750a2b5-1304-4fb6-a91c-6960ef8ab25f",
   "metadata": {},
   "outputs": [
    {
     "data": {
      "text/plain": [
       "0.8178921712524402"
      ]
     },
     "execution_count": 217,
     "metadata": {},
     "output_type": "execute_result"
    }
   ],
   "source": [
    "regressor.score(X_test, y_test)"
   ]
  },
  {
   "cell_type": "code",
   "execution_count": 218,
   "id": "c4b327eb-d8a7-4444-a0a5-aeef76eadad6",
   "metadata": {},
   "outputs": [],
   "source": [
    "y_pred = regressor.predict(X_test)"
   ]
  },
  {
   "cell_type": "code",
   "execution_count": 220,
   "id": "59e14b69-db88-4b99-b3a9-329a2c739f26",
   "metadata": {},
   "outputs": [
    {
     "data": {
      "text/plain": [
       "array([32. , 26. , 18. , 14. , 17.5, 25. , 23.6, 12. , 23.9, 19. , 13. ,\n",
       "       34.1, 26. , 14. , 26. , 11. , 26. , 16.5, 15.5, 38.1, 26. , 21. ,\n",
       "       38. , 30.5, 17. , 36. , 28. , 25.5, 17.6, 13. , 27. , 36. , 18.2,\n",
       "       22. , 39. , 14. , 20. , 17.5, 14. , 26. , 28.8, 29.5, 19. , 11. ,\n",
       "       22. , 35.7, 26. , 21.5, 24. , 26.5, 21. , 29.8, 32.2, 11. , 26.6,\n",
       "       13. , 16.5, 32.9, 22. , 21. , 15. , 32. , 26. , 23. , 20. , 22. ,\n",
       "       23. , 32.3, 23. , 14. , 34.2, 15. , 14. , 18. , 25.4, 23.9, 18.5,\n",
       "       31. , 29. , 17.6, 18. , 27. , 37.7, 38. , 26. , 13. , 31.8, 33.8,\n",
       "       19. , 12. , 16. , 35.7, 28. , 29. , 20.3, 36. , 27.2, 22.4, 23. ,\n",
       "       14. , 29.5, 20. , 21. , 14. , 17. , 14. , 29.5, 14. , 33.7, 31.8,\n",
       "       31. , 25. , 17.6, 34.1, 28.4, 23. , 29. , 22.4, 44.3, 16.5])"
      ]
     },
     "execution_count": 220,
     "metadata": {},
     "output_type": "execute_result"
    }
   ],
   "source": [
    "y_pred"
   ]
  },
  {
   "cell_type": "code",
   "execution_count": 222,
   "id": "ee638db7-660b-4a28-a107-d4b8b5e737fd",
   "metadata": {},
   "outputs": [
    {
     "data": {
      "text/plain": [
       "array([33. , 28. , 19. , 13. , 14. , 27. , 24. , 13. , 17. , 21. , 15. ,\n",
       "       38. , 26. , 15. , 25. , 12. , 31. , 17. , 16. , 31. , 22. , 22. ,\n",
       "       22. , 33.5, 18. , 44. , 26. , 24.5, 18.1, 12. , 27. , 36. , 23. ,\n",
       "       24. , 37.2, 16. , 21. , 19.2, 16. , 29. , 26.8, 27. , 18. , 10. ,\n",
       "       23. , 36. , 26. , 25. , 25. , 25. , 22. , 34.1, 32.4, 13. , 23.5,\n",
       "       14. , 18.5, 29.8, 28. , 19. , 11. , 33. , 23. , 21. , 23. , 25. ,\n",
       "       23.8, 34.4, 24.5, 13. , 34.7, 14. , 15. , 18. , 25. , 19.9, 17.5,\n",
       "       28. , 29. , 17. , 16. , 27. , 37. , 36.1, 23. , 14. , 32.8, 29.9,\n",
       "       20. , 12. , 15.5, 23.7, 24. , 36. , 19. , 38. , 29. , 21.5, 27.9,\n",
       "       14. , 36.1, 22. , 18. , 17. , 18. , 14. , 26. , 13. , 33. , 37. ,\n",
       "       32. , 28. , 19.2, 32. , 27.4, 20. , 26. , 20.6, 37.3, 16.2])"
      ]
     },
     "execution_count": 222,
     "metadata": {},
     "output_type": "execute_result"
    }
   ],
   "source": [
    "y_test"
   ]
  },
  {
   "cell_type": "markdown",
   "id": "b94cc08f-3274-4009-9587-ca1c859320d6",
   "metadata": {},
   "source": [
    "### Доп"
   ]
  },
  {
   "cell_type": "code",
   "execution_count": null,
   "id": "4ce40262-feef-4b07-871c-f905fe5eba8f",
   "metadata": {},
   "outputs": [],
   "source": []
  },
  {
   "cell_type": "code",
   "execution_count": 237,
   "id": "81272eb1-3c6f-4b96-9ab5-ac9db0d324c7",
   "metadata": {},
   "outputs": [],
   "source": [
    "mushrooms = pd.read_csv('mushrooms.csv')"
   ]
  },
  {
   "cell_type": "code",
   "execution_count": 238,
   "id": "504089fa-b8b7-43f0-90af-9fd9f851a3bf",
   "metadata": {},
   "outputs": [],
   "source": [
    "oc = OneHotEncoder(handle_unknown='ignore', sparse=False)\n",
    "\n",
    "for column in mushrooms.columns:\n",
    "    mushrooms[column] = oc.fit_transform(np.asarray(mushrooms[column]).reshape(-1, 1))"
   ]
  },
  {
   "cell_type": "code",
   "execution_count": 239,
   "id": "f2a30f9b-e1f5-4f25-bf5e-a549d47511b9",
   "metadata": {},
   "outputs": [
    {
     "data": {
      "text/html": [
       "<div>\n",
       "<style scoped>\n",
       "    .dataframe tbody tr th:only-of-type {\n",
       "        vertical-align: middle;\n",
       "    }\n",
       "\n",
       "    .dataframe tbody tr th {\n",
       "        vertical-align: top;\n",
       "    }\n",
       "\n",
       "    .dataframe thead th {\n",
       "        text-align: right;\n",
       "    }\n",
       "</style>\n",
       "<table border=\"1\" class=\"dataframe\">\n",
       "  <thead>\n",
       "    <tr style=\"text-align: right;\">\n",
       "      <th></th>\n",
       "      <th>class</th>\n",
       "      <th>cap-shape</th>\n",
       "      <th>cap-surface</th>\n",
       "      <th>cap-color</th>\n",
       "      <th>bruises</th>\n",
       "      <th>odor</th>\n",
       "      <th>gill-attachment</th>\n",
       "      <th>gill-spacing</th>\n",
       "      <th>gill-size</th>\n",
       "      <th>gill-color</th>\n",
       "      <th>...</th>\n",
       "      <th>stalk-surface-below-ring</th>\n",
       "      <th>stalk-color-above-ring</th>\n",
       "      <th>stalk-color-below-ring</th>\n",
       "      <th>veil-type</th>\n",
       "      <th>veil-color</th>\n",
       "      <th>ring-number</th>\n",
       "      <th>ring-type</th>\n",
       "      <th>spore-print-color</th>\n",
       "      <th>population</th>\n",
       "      <th>habitat</th>\n",
       "    </tr>\n",
       "  </thead>\n",
       "  <tbody>\n",
       "    <tr>\n",
       "      <th>0</th>\n",
       "      <td>0.0</td>\n",
       "      <td>0.0</td>\n",
       "      <td>0.0</td>\n",
       "      <td>0.0</td>\n",
       "      <td>0.0</td>\n",
       "      <td>0.0</td>\n",
       "      <td>0.0</td>\n",
       "      <td>1.0</td>\n",
       "      <td>0.0</td>\n",
       "      <td>0.0</td>\n",
       "      <td>...</td>\n",
       "      <td>0.0</td>\n",
       "      <td>0.0</td>\n",
       "      <td>0.0</td>\n",
       "      <td>1.0</td>\n",
       "      <td>0.0</td>\n",
       "      <td>0.0</td>\n",
       "      <td>0.0</td>\n",
       "      <td>0.0</td>\n",
       "      <td>0.0</td>\n",
       "      <td>0.0</td>\n",
       "    </tr>\n",
       "    <tr>\n",
       "      <th>1</th>\n",
       "      <td>1.0</td>\n",
       "      <td>0.0</td>\n",
       "      <td>0.0</td>\n",
       "      <td>0.0</td>\n",
       "      <td>0.0</td>\n",
       "      <td>1.0</td>\n",
       "      <td>0.0</td>\n",
       "      <td>1.0</td>\n",
       "      <td>1.0</td>\n",
       "      <td>0.0</td>\n",
       "      <td>...</td>\n",
       "      <td>0.0</td>\n",
       "      <td>0.0</td>\n",
       "      <td>0.0</td>\n",
       "      <td>1.0</td>\n",
       "      <td>0.0</td>\n",
       "      <td>0.0</td>\n",
       "      <td>0.0</td>\n",
       "      <td>0.0</td>\n",
       "      <td>0.0</td>\n",
       "      <td>0.0</td>\n",
       "    </tr>\n",
       "    <tr>\n",
       "      <th>2</th>\n",
       "      <td>1.0</td>\n",
       "      <td>1.0</td>\n",
       "      <td>0.0</td>\n",
       "      <td>0.0</td>\n",
       "      <td>0.0</td>\n",
       "      <td>0.0</td>\n",
       "      <td>0.0</td>\n",
       "      <td>1.0</td>\n",
       "      <td>1.0</td>\n",
       "      <td>0.0</td>\n",
       "      <td>...</td>\n",
       "      <td>0.0</td>\n",
       "      <td>0.0</td>\n",
       "      <td>0.0</td>\n",
       "      <td>1.0</td>\n",
       "      <td>0.0</td>\n",
       "      <td>0.0</td>\n",
       "      <td>0.0</td>\n",
       "      <td>0.0</td>\n",
       "      <td>0.0</td>\n",
       "      <td>0.0</td>\n",
       "    </tr>\n",
       "    <tr>\n",
       "      <th>3</th>\n",
       "      <td>0.0</td>\n",
       "      <td>0.0</td>\n",
       "      <td>0.0</td>\n",
       "      <td>0.0</td>\n",
       "      <td>0.0</td>\n",
       "      <td>0.0</td>\n",
       "      <td>0.0</td>\n",
       "      <td>1.0</td>\n",
       "      <td>0.0</td>\n",
       "      <td>0.0</td>\n",
       "      <td>...</td>\n",
       "      <td>0.0</td>\n",
       "      <td>0.0</td>\n",
       "      <td>0.0</td>\n",
       "      <td>1.0</td>\n",
       "      <td>0.0</td>\n",
       "      <td>0.0</td>\n",
       "      <td>0.0</td>\n",
       "      <td>0.0</td>\n",
       "      <td>0.0</td>\n",
       "      <td>0.0</td>\n",
       "    </tr>\n",
       "    <tr>\n",
       "      <th>4</th>\n",
       "      <td>1.0</td>\n",
       "      <td>0.0</td>\n",
       "      <td>0.0</td>\n",
       "      <td>0.0</td>\n",
       "      <td>1.0</td>\n",
       "      <td>0.0</td>\n",
       "      <td>0.0</td>\n",
       "      <td>0.0</td>\n",
       "      <td>1.0</td>\n",
       "      <td>0.0</td>\n",
       "      <td>...</td>\n",
       "      <td>0.0</td>\n",
       "      <td>0.0</td>\n",
       "      <td>0.0</td>\n",
       "      <td>1.0</td>\n",
       "      <td>0.0</td>\n",
       "      <td>0.0</td>\n",
       "      <td>1.0</td>\n",
       "      <td>0.0</td>\n",
       "      <td>1.0</td>\n",
       "      <td>0.0</td>\n",
       "    </tr>\n",
       "    <tr>\n",
       "      <th>...</th>\n",
       "      <td>...</td>\n",
       "      <td>...</td>\n",
       "      <td>...</td>\n",
       "      <td>...</td>\n",
       "      <td>...</td>\n",
       "      <td>...</td>\n",
       "      <td>...</td>\n",
       "      <td>...</td>\n",
       "      <td>...</td>\n",
       "      <td>...</td>\n",
       "      <td>...</td>\n",
       "      <td>...</td>\n",
       "      <td>...</td>\n",
       "      <td>...</td>\n",
       "      <td>...</td>\n",
       "      <td>...</td>\n",
       "      <td>...</td>\n",
       "      <td>...</td>\n",
       "      <td>...</td>\n",
       "      <td>...</td>\n",
       "      <td>...</td>\n",
       "    </tr>\n",
       "    <tr>\n",
       "      <th>8119</th>\n",
       "      <td>1.0</td>\n",
       "      <td>0.0</td>\n",
       "      <td>0.0</td>\n",
       "      <td>0.0</td>\n",
       "      <td>1.0</td>\n",
       "      <td>0.0</td>\n",
       "      <td>1.0</td>\n",
       "      <td>1.0</td>\n",
       "      <td>1.0</td>\n",
       "      <td>0.0</td>\n",
       "      <td>...</td>\n",
       "      <td>0.0</td>\n",
       "      <td>0.0</td>\n",
       "      <td>0.0</td>\n",
       "      <td>1.0</td>\n",
       "      <td>0.0</td>\n",
       "      <td>0.0</td>\n",
       "      <td>0.0</td>\n",
       "      <td>1.0</td>\n",
       "      <td>0.0</td>\n",
       "      <td>0.0</td>\n",
       "    </tr>\n",
       "    <tr>\n",
       "      <th>8120</th>\n",
       "      <td>1.0</td>\n",
       "      <td>0.0</td>\n",
       "      <td>0.0</td>\n",
       "      <td>0.0</td>\n",
       "      <td>1.0</td>\n",
       "      <td>0.0</td>\n",
       "      <td>1.0</td>\n",
       "      <td>1.0</td>\n",
       "      <td>1.0</td>\n",
       "      <td>0.0</td>\n",
       "      <td>...</td>\n",
       "      <td>0.0</td>\n",
       "      <td>0.0</td>\n",
       "      <td>0.0</td>\n",
       "      <td>1.0</td>\n",
       "      <td>1.0</td>\n",
       "      <td>0.0</td>\n",
       "      <td>0.0</td>\n",
       "      <td>1.0</td>\n",
       "      <td>0.0</td>\n",
       "      <td>0.0</td>\n",
       "    </tr>\n",
       "    <tr>\n",
       "      <th>8121</th>\n",
       "      <td>1.0</td>\n",
       "      <td>0.0</td>\n",
       "      <td>0.0</td>\n",
       "      <td>0.0</td>\n",
       "      <td>1.0</td>\n",
       "      <td>0.0</td>\n",
       "      <td>1.0</td>\n",
       "      <td>1.0</td>\n",
       "      <td>1.0</td>\n",
       "      <td>0.0</td>\n",
       "      <td>...</td>\n",
       "      <td>0.0</td>\n",
       "      <td>0.0</td>\n",
       "      <td>0.0</td>\n",
       "      <td>1.0</td>\n",
       "      <td>0.0</td>\n",
       "      <td>0.0</td>\n",
       "      <td>0.0</td>\n",
       "      <td>1.0</td>\n",
       "      <td>0.0</td>\n",
       "      <td>0.0</td>\n",
       "    </tr>\n",
       "    <tr>\n",
       "      <th>8122</th>\n",
       "      <td>0.0</td>\n",
       "      <td>0.0</td>\n",
       "      <td>0.0</td>\n",
       "      <td>0.0</td>\n",
       "      <td>1.0</td>\n",
       "      <td>0.0</td>\n",
       "      <td>0.0</td>\n",
       "      <td>1.0</td>\n",
       "      <td>0.0</td>\n",
       "      <td>1.0</td>\n",
       "      <td>...</td>\n",
       "      <td>0.0</td>\n",
       "      <td>0.0</td>\n",
       "      <td>0.0</td>\n",
       "      <td>1.0</td>\n",
       "      <td>0.0</td>\n",
       "      <td>0.0</td>\n",
       "      <td>1.0</td>\n",
       "      <td>0.0</td>\n",
       "      <td>0.0</td>\n",
       "      <td>0.0</td>\n",
       "    </tr>\n",
       "    <tr>\n",
       "      <th>8123</th>\n",
       "      <td>1.0</td>\n",
       "      <td>0.0</td>\n",
       "      <td>0.0</td>\n",
       "      <td>0.0</td>\n",
       "      <td>1.0</td>\n",
       "      <td>0.0</td>\n",
       "      <td>1.0</td>\n",
       "      <td>1.0</td>\n",
       "      <td>1.0</td>\n",
       "      <td>0.0</td>\n",
       "      <td>...</td>\n",
       "      <td>0.0</td>\n",
       "      <td>0.0</td>\n",
       "      <td>0.0</td>\n",
       "      <td>1.0</td>\n",
       "      <td>0.0</td>\n",
       "      <td>0.0</td>\n",
       "      <td>0.0</td>\n",
       "      <td>0.0</td>\n",
       "      <td>0.0</td>\n",
       "      <td>0.0</td>\n",
       "    </tr>\n",
       "  </tbody>\n",
       "</table>\n",
       "<p>8124 rows × 23 columns</p>\n",
       "</div>"
      ],
      "text/plain": [
       "      class  cap-shape  cap-surface  cap-color  bruises  odor  \\\n",
       "0       0.0        0.0          0.0        0.0      0.0   0.0   \n",
       "1       1.0        0.0          0.0        0.0      0.0   1.0   \n",
       "2       1.0        1.0          0.0        0.0      0.0   0.0   \n",
       "3       0.0        0.0          0.0        0.0      0.0   0.0   \n",
       "4       1.0        0.0          0.0        0.0      1.0   0.0   \n",
       "...     ...        ...          ...        ...      ...   ...   \n",
       "8119    1.0        0.0          0.0        0.0      1.0   0.0   \n",
       "8120    1.0        0.0          0.0        0.0      1.0   0.0   \n",
       "8121    1.0        0.0          0.0        0.0      1.0   0.0   \n",
       "8122    0.0        0.0          0.0        0.0      1.0   0.0   \n",
       "8123    1.0        0.0          0.0        0.0      1.0   0.0   \n",
       "\n",
       "      gill-attachment  gill-spacing  gill-size  gill-color  ...  \\\n",
       "0                 0.0           1.0        0.0         0.0  ...   \n",
       "1                 0.0           1.0        1.0         0.0  ...   \n",
       "2                 0.0           1.0        1.0         0.0  ...   \n",
       "3                 0.0           1.0        0.0         0.0  ...   \n",
       "4                 0.0           0.0        1.0         0.0  ...   \n",
       "...               ...           ...        ...         ...  ...   \n",
       "8119              1.0           1.0        1.0         0.0  ...   \n",
       "8120              1.0           1.0        1.0         0.0  ...   \n",
       "8121              1.0           1.0        1.0         0.0  ...   \n",
       "8122              0.0           1.0        0.0         1.0  ...   \n",
       "8123              1.0           1.0        1.0         0.0  ...   \n",
       "\n",
       "      stalk-surface-below-ring  stalk-color-above-ring  \\\n",
       "0                          0.0                     0.0   \n",
       "1                          0.0                     0.0   \n",
       "2                          0.0                     0.0   \n",
       "3                          0.0                     0.0   \n",
       "4                          0.0                     0.0   \n",
       "...                        ...                     ...   \n",
       "8119                       0.0                     0.0   \n",
       "8120                       0.0                     0.0   \n",
       "8121                       0.0                     0.0   \n",
       "8122                       0.0                     0.0   \n",
       "8123                       0.0                     0.0   \n",
       "\n",
       "      stalk-color-below-ring  veil-type  veil-color  ring-number  ring-type  \\\n",
       "0                        0.0        1.0         0.0          0.0        0.0   \n",
       "1                        0.0        1.0         0.0          0.0        0.0   \n",
       "2                        0.0        1.0         0.0          0.0        0.0   \n",
       "3                        0.0        1.0         0.0          0.0        0.0   \n",
       "4                        0.0        1.0         0.0          0.0        1.0   \n",
       "...                      ...        ...         ...          ...        ...   \n",
       "8119                     0.0        1.0         0.0          0.0        0.0   \n",
       "8120                     0.0        1.0         1.0          0.0        0.0   \n",
       "8121                     0.0        1.0         0.0          0.0        0.0   \n",
       "8122                     0.0        1.0         0.0          0.0        1.0   \n",
       "8123                     0.0        1.0         0.0          0.0        0.0   \n",
       "\n",
       "      spore-print-color  population  habitat  \n",
       "0                   0.0         0.0      0.0  \n",
       "1                   0.0         0.0      0.0  \n",
       "2                   0.0         0.0      0.0  \n",
       "3                   0.0         0.0      0.0  \n",
       "4                   0.0         1.0      0.0  \n",
       "...                 ...         ...      ...  \n",
       "8119                1.0         0.0      0.0  \n",
       "8120                1.0         0.0      0.0  \n",
       "8121                1.0         0.0      0.0  \n",
       "8122                0.0         0.0      0.0  \n",
       "8123                0.0         0.0      0.0  \n",
       "\n",
       "[8124 rows x 23 columns]"
      ]
     },
     "execution_count": 239,
     "metadata": {},
     "output_type": "execute_result"
    }
   ],
   "source": [
    "mushrooms"
   ]
  },
  {
   "cell_type": "code",
   "execution_count": 78,
   "id": "b3160992-890d-468f-9c55-3b1a1826033e",
   "metadata": {},
   "outputs": [
    {
     "data": {
      "text/plain": [
       "1.0    4208\n",
       "0.0    3916\n",
       "Name: class, dtype: int64"
      ]
     },
     "execution_count": 78,
     "metadata": {},
     "output_type": "execute_result"
    }
   ],
   "source": [
    "mushrooms['class'].value_counts()"
   ]
  },
  {
   "cell_type": "code",
   "execution_count": 240,
   "id": "179381a7-5e4e-41c0-8fd6-d1d565a1835d",
   "metadata": {},
   "outputs": [],
   "source": [
    "X, y = mushrooms.drop(['class'], axis=1), mushrooms['class']"
   ]
  },
  {
   "cell_type": "code",
   "execution_count": 241,
   "id": "a96aab0f-0e79-4f1f-9e4a-ddb3cb2d70f3",
   "metadata": {},
   "outputs": [
    {
     "data": {
      "image/png": "[encoded data removed]",
      "text/plain": [
       "<Figure size 432x288 with 1 Axes>"
      ]
     },
     "metadata": {
      "needs_background": "light"
     },
     "output_type": "display_data"
    }
   ],
   "source": [
    "tree = DecisionTreeClassifier()\n",
    "parameters = {'max_depth': range(1, 21)}\n",
    "clf = GridSearchCV(tree, parameters, cv=5, scoring='f1_weighted', return_train_score=True)\n",
    "clf.fit(X, y)\n",
    "results = clf.cv_results_\n",
    "\n",
    "plt.plot(range(1, 21), results['mean_train_score'], 'r-o')\n",
    "plt.plot(range(1, 21), results['mean_test_score'], 'b-o')\n",
    "\n",
    "plt.legend(['Train', 'Test'])\n",
    "\n",
    "plt.show()"
   ]
  },
  {
   "cell_type": "code",
   "execution_count": 242,
   "id": "44414dfd-cf12-4473-a2ce-a26625bdf20b",
   "metadata": {},
   "outputs": [
    {
     "name": "stdout",
     "output_type": "stream",
     "text": [
      "{'max_depth': 9} 0.9541219304786164\n"
     ]
    }
   ],
   "source": [
    "best_params = clf.best_params_\n",
    "best_score = clf.best_score_\n",
    "print(best_params, best_score)"
   ]
  },
  {
   "cell_type": "code",
   "execution_count": 243,
   "id": "6a2e8676-74ba-4416-b955-fe13cb447480",
   "metadata": {},
   "outputs": [
    {
     "data": {
      "image/png": "[encoded data removed]",
      "text/plain": [
       "<Figure size 432x288 with 1 Axes>"
      ]
     },
     "metadata": {
      "needs_background": "light"
     },
     "output_type": "display_data"
    }
   ],
   "source": [
    "tree = DecisionTreeClassifier()\n",
    "parameters = {'min_samples_leaf': range(1, 21)}\n",
    "clf = GridSearchCV(tree, parameters, cv=5, scoring='f1_weighted', return_train_score=True)\n",
    "clf.fit(X, y)\n",
    "results = clf.cv_results_\n",
    "\n",
    "plt.plot(range(1, 21), results['mean_train_score'], 'r-o')\n",
    "plt.plot(range(1, 21), results['mean_test_score'], 'b-o')\n",
    "\n",
    "plt.legend(['Train', 'Test'])\n",
    "\n",
    "plt.show()"
   ]
  },
  {
   "cell_type": "code",
   "execution_count": 244,
   "id": "782558a3-1b81-49c0-a92b-65803a94ef63",
   "metadata": {},
   "outputs": [
    {
     "name": "stdout",
     "output_type": "stream",
     "text": [
      "{'min_samples_leaf': 2} 0.941808193545624\n"
     ]
    }
   ],
   "source": [
    "best_params = clf.best_params_\n",
    "best_score = clf.best_score_\n",
    "print(best_params, best_score)"
   ]
  },
  {
   "cell_type": "code",
   "execution_count": 245,
   "id": "3414af4f-2c7e-40f2-9cb1-7ec8b2e7dad9",
   "metadata": {},
   "outputs": [],
   "source": [
    "X_train, X_test, y_train, y_test = train_test_split(X, y, test_size=0.3,\n",
    "random_state=42)"
   ]
  },
  {
   "cell_type": "code",
   "execution_count": 246,
   "id": "0f3f72ad-ff47-444d-976b-a59059f47e0c",
   "metadata": {},
   "outputs": [],
   "source": [
    "tree = DecisionTreeClassifier()\n",
    "parameters = {'min_samples_leaf': range(1, 21),'max_depth': range(1, 21)}\n",
    "clf = GridSearchCV(tree, parameters, cv=5, scoring='f1_weighted', return_train_score=True)\n",
    "clf.fit(X_train, y_train)\n",
    "results = clf.cv_results_"
   ]
  },
  {
   "cell_type": "code",
   "execution_count": 247,
   "id": "bdb836c4-0d6a-4a13-a96f-65b2ab724696",
   "metadata": {},
   "outputs": [
    {
     "name": "stdout",
     "output_type": "stream",
     "text": [
      "{'max_depth': 9, 'min_samples_leaf': 2} 0.9917314942144813\n"
     ]
    }
   ],
   "source": [
    "best_params = clf.best_params_\n",
    "best_score = clf.best_score_\n",
    "print(best_params, best_score)"
   ]
  },
  {
   "cell_type": "code",
   "execution_count": 258,
   "id": "03095d28-894d-42da-b61b-0d1ec0d0f207",
   "metadata": {},
   "outputs": [],
   "source": [
    "tree = DecisionTreeClassifier(max_depth = 9, min_samples_leaf = 2)\n",
    "tree.fit(X_train, y_train)\n",
    "\n",
    "y_pred = tree.predict(X_test)"
   ]
  },
  {
   "cell_type": "code",
   "execution_count": 259,
   "id": "fc6096b9-d806-4331-80ef-0ccf36cdad1a",
   "metadata": {},
   "outputs": [
    {
     "name": "stdout",
     "output_type": "stream",
     "text": [
      "              precision    recall  f1-score   support\n",
      "\n",
      "         0.0       0.99      0.99      0.99      1181\n",
      "         1.0       0.99      1.00      0.99      1257\n",
      "\n",
      "    accuracy                           0.99      2438\n",
      "   macro avg       0.99      0.99      0.99      2438\n",
      "weighted avg       0.99      0.99      0.99      2438\n",
      "\n"
     ]
    }
   ],
   "source": [
    "print(classification_report(y_test, y_pred))"
   ]
  },
  {
   "cell_type": "markdown",
   "id": "816b3e1a-e4b0-4bf0-bea3-8a94be9be972",
   "metadata": {},
   "source": [
    "Валидационная поверхность "
   ]
  },
  {
   "cell_type": "code",
   "execution_count": 35,
   "id": "f9f349a9-6306-4baf-97e8-f57982ffe736",
   "metadata": {},
   "outputs": [],
   "source": [
    "tree = DecisionTreeClassifier()\n",
    "parameters = {'min_samples_leaf': range(1, 10), 'max_depth': range(1, 10)}\n",
    "clf = GridSearchCV(tree, parameters, cv=5, scoring='f1_weighted', return_train_score=True)\n",
    "clf.fit(X, y)\n",
    "results = clf.cv_results_"
   ]
  },
  {
   "cell_type": "code",
   "execution_count": 41,
   "id": "a051ce01-3d1c-4327-819b-900bc02f3d58",
   "metadata": {},
   "outputs": [],
   "source": [
    "from mpl_toolkits.mplot3d import Axes3D"
   ]
  },
  {
   "cell_type": "code",
   "execution_count": 56,
   "id": "0a9be0ec-5077-4b6a-a3c3-6cf802937ca9",
   "metadata": {},
   "outputs": [],
   "source": [
    "min_sl_values = results['param_min_samples_leaf'].data.astype(float)\n",
    "max_d_values = results['param_max_depth'].data.astype(float)\n",
    "\n",
    "accuracy_values_test = results['mean_test_score']\n",
    "accuracy_values_train = results['mean_train_score']"
   ]
  },
  {
   "cell_type": "code",
   "execution_count": 57,
   "id": "88ca74c6-6239-4408-b197-ceca7c540be7",
   "metadata": {},
   "outputs": [],
   "source": [
    "min_sl_values = np.unique(min_sl_values)\n",
    "max_d_values = np.unique(max_d_values)\n",
    "min_sl_mesh, max_d_mesh = np.meshgrid(min_sl_values, max_d_values) #meshgrid создает матрицы из координатных векторов\n",
    "\n",
    "ac_train = np.array(accuracy_values_train).reshape(len(max_d_values), len(min_sl_values))\n",
    "ac_test = np.array(accuracy_values_test).reshape(len(max_d_values), len(min_sl_values))"
   ]
  },
  {
   "cell_type": "code",
   "execution_count": 69,
   "id": "58498251-db63-4f8e-94f2-26a374d433d6",
   "metadata": {},
   "outputs": [
    {
     "data": {
      "image/png": "[encoded data removed]",
      "text/plain": [
       "<Figure size 864x720 with 3 Axes>"
      ]
     },
     "metadata": {
      "needs_background": "light"
     },
     "output_type": "display_data"
    }
   ],
   "source": [
    "fig = plt.figure(figsize=(12, 10))\n",
    "ax = fig.add_subplot(111, projection='3d')\n",
    "\n",
    "surface_train = ax.plot_surface(min_sl_mesh, max_d_mesh, ac_train, cmap='viridis', rstride=1, cstride=1, alpha=0.8, antialiased=True)\n",
    "surface_test = ax.plot_surface(min_sl_mesh, max_d_mesh, ac_test, cmap='plasma', rstride=1, cstride=1, alpha=0.8, antialiased=True)\n",
    "\n",
    "cbar1 = fig.colorbar(surface_train, ax=ax, shrink=0.5, aspect=10)\n",
    "cbar1.set_label('Train Accuracy')\n",
    "\n",
    "cbar2 = fig.colorbar(surface_test, ax=ax, shrink=0.5, aspect=10)\n",
    "cbar2.set_label('Test Accuracy')\n",
    "\n",
    "ax.set_xlabel('min_samples_leaf')\n",
    "ax.set_ylabel('max_depth')\n",
    "ax.set_zlabel('Accuracy')\n",
    "ax.view_init(elev=10, azim=25)\n",
    "\n",
    "plt.title('3D Surface Plot of GridSearchCV Results')\n",
    "plt.show()"
   ]
  },
  {
   "cell_type": "markdown",
   "id": "6c8aae99-3e03-4dc9-a85c-d00d41949de4",
   "metadata": {},
   "source": [
    "Animals"
   ]
  },
  {
   "cell_type": "code",
   "execution_count": 224,
   "id": "fe8b3d29-7f16-4559-8d5f-b485c6153af2",
   "metadata": {},
   "outputs": [],
   "source": [
    "animals = pd.read_csv('data.csv')"
   ]
  },
  {
   "cell_type": "code",
   "execution_count": 188,
   "id": "353ae7d4-2aad-4ddd-b300-cf386eae5ea5",
   "metadata": {},
   "outputs": [
    {
     "data": {
      "text/html": [
       "<div>\n",
       "<style scoped>\n",
       "    .dataframe tbody tr th:only-of-type {\n",
       "        vertical-align: middle;\n",
       "    }\n",
       "\n",
       "    .dataframe tbody tr th {\n",
       "        vertical-align: top;\n",
       "    }\n",
       "\n",
       "    .dataframe thead th {\n",
       "        text-align: right;\n",
       "    }\n",
       "</style>\n",
       "<table border=\"1\" class=\"dataframe\">\n",
       "  <thead>\n",
       "    <tr style=\"text-align: right;\">\n",
       "      <th></th>\n",
       "      <th>AnimalName</th>\n",
       "      <th>symptoms1</th>\n",
       "      <th>symptoms2</th>\n",
       "      <th>symptoms3</th>\n",
       "      <th>symptoms4</th>\n",
       "      <th>symptoms5</th>\n",
       "      <th>Dangerous</th>\n",
       "    </tr>\n",
       "  </thead>\n",
       "  <tbody>\n",
       "    <tr>\n",
       "      <th>0</th>\n",
       "      <td>Dog</td>\n",
       "      <td>Fever</td>\n",
       "      <td>Diarrhea</td>\n",
       "      <td>Vomiting</td>\n",
       "      <td>Weight loss</td>\n",
       "      <td>Dehydration</td>\n",
       "      <td>Yes</td>\n",
       "    </tr>\n",
       "    <tr>\n",
       "      <th>1</th>\n",
       "      <td>Dog</td>\n",
       "      <td>Fever</td>\n",
       "      <td>Diarrhea</td>\n",
       "      <td>Coughing</td>\n",
       "      <td>Tiredness</td>\n",
       "      <td>Pains</td>\n",
       "      <td>Yes</td>\n",
       "    </tr>\n",
       "    <tr>\n",
       "      <th>2</th>\n",
       "      <td>Dog</td>\n",
       "      <td>Fever</td>\n",
       "      <td>Diarrhea</td>\n",
       "      <td>Coughing</td>\n",
       "      <td>Vomiting</td>\n",
       "      <td>Anorexia</td>\n",
       "      <td>Yes</td>\n",
       "    </tr>\n",
       "    <tr>\n",
       "      <th>3</th>\n",
       "      <td>Dog</td>\n",
       "      <td>Fever</td>\n",
       "      <td>Difficulty breathing</td>\n",
       "      <td>Coughing</td>\n",
       "      <td>Lethargy</td>\n",
       "      <td>Sneezing</td>\n",
       "      <td>Yes</td>\n",
       "    </tr>\n",
       "    <tr>\n",
       "      <th>4</th>\n",
       "      <td>Dog</td>\n",
       "      <td>Fever</td>\n",
       "      <td>Diarrhea</td>\n",
       "      <td>Coughing</td>\n",
       "      <td>Lethargy</td>\n",
       "      <td>Blue Eye</td>\n",
       "      <td>Yes</td>\n",
       "    </tr>\n",
       "    <tr>\n",
       "      <th>...</th>\n",
       "      <td>...</td>\n",
       "      <td>...</td>\n",
       "      <td>...</td>\n",
       "      <td>...</td>\n",
       "      <td>...</td>\n",
       "      <td>...</td>\n",
       "      <td>...</td>\n",
       "    </tr>\n",
       "    <tr>\n",
       "      <th>866</th>\n",
       "      <td>Buffaloes</td>\n",
       "      <td>Fever</td>\n",
       "      <td>Difficulty breathing</td>\n",
       "      <td>Poor Appetite</td>\n",
       "      <td>Eye and Skin change</td>\n",
       "      <td>Unable to exercise</td>\n",
       "      <td>Yes</td>\n",
       "    </tr>\n",
       "    <tr>\n",
       "      <th>867</th>\n",
       "      <td>Buffaloes</td>\n",
       "      <td>Fever</td>\n",
       "      <td>Loss of  appetite</td>\n",
       "      <td>Lession on the skin</td>\n",
       "      <td>Lethargy</td>\n",
       "      <td>Joint Pain</td>\n",
       "      <td>Yes</td>\n",
       "    </tr>\n",
       "    <tr>\n",
       "      <th>868</th>\n",
       "      <td>Buffaloes</td>\n",
       "      <td>Lesions in the nasal cavity</td>\n",
       "      <td>Lesions on nose</td>\n",
       "      <td>Vomiting</td>\n",
       "      <td>Noisy Breathing</td>\n",
       "      <td>Lesions on nose</td>\n",
       "      <td>Yes</td>\n",
       "    </tr>\n",
       "    <tr>\n",
       "      <th>869</th>\n",
       "      <td>Buffaloes</td>\n",
       "      <td>Hair loss</td>\n",
       "      <td>Dandruff</td>\n",
       "      <td>Vomiting</td>\n",
       "      <td>Crusting of the skin</td>\n",
       "      <td>Ulcerated skin</td>\n",
       "      <td>Yes</td>\n",
       "    </tr>\n",
       "    <tr>\n",
       "      <th>870</th>\n",
       "      <td>Buffaloes</td>\n",
       "      <td>Greenish-yellow nasal discharge</td>\n",
       "      <td>Lack of pigmentation</td>\n",
       "      <td>Vomiting</td>\n",
       "      <td>Lethargy</td>\n",
       "      <td>Pain on face</td>\n",
       "      <td>Yes</td>\n",
       "    </tr>\n",
       "  </tbody>\n",
       "</table>\n",
       "<p>871 rows × 7 columns</p>\n",
       "</div>"
      ],
      "text/plain": [
       "    AnimalName                        symptoms1             symptoms2  \\\n",
       "0          Dog                            Fever              Diarrhea   \n",
       "1          Dog                            Fever              Diarrhea   \n",
       "2          Dog                            Fever              Diarrhea   \n",
       "3          Dog                            Fever  Difficulty breathing   \n",
       "4          Dog                            Fever              Diarrhea   \n",
       "..         ...                              ...                   ...   \n",
       "866  Buffaloes                            Fever  Difficulty breathing   \n",
       "867  Buffaloes                            Fever     Loss of  appetite   \n",
       "868  Buffaloes      Lesions in the nasal cavity       Lesions on nose   \n",
       "869  Buffaloes                        Hair loss              Dandruff   \n",
       "870  Buffaloes  Greenish-yellow nasal discharge  Lack of pigmentation   \n",
       "\n",
       "               symptoms3             symptoms4           symptoms5 Dangerous  \n",
       "0               Vomiting           Weight loss         Dehydration       Yes  \n",
       "1               Coughing             Tiredness               Pains       Yes  \n",
       "2               Coughing              Vomiting            Anorexia       Yes  \n",
       "3               Coughing              Lethargy            Sneezing       Yes  \n",
       "4               Coughing              Lethargy            Blue Eye       Yes  \n",
       "..                   ...                   ...                 ...       ...  \n",
       "866        Poor Appetite   Eye and Skin change  Unable to exercise       Yes  \n",
       "867  Lession on the skin              Lethargy          Joint Pain       Yes  \n",
       "868             Vomiting       Noisy Breathing     Lesions on nose       Yes  \n",
       "869             Vomiting  Crusting of the skin      Ulcerated skin       Yes  \n",
       "870             Vomiting              Lethargy        Pain on face       Yes  \n",
       "\n",
       "[871 rows x 7 columns]"
      ]
     },
     "execution_count": 188,
     "metadata": {},
     "output_type": "execute_result"
    }
   ],
   "source": [
    "animals"
   ]
  },
  {
   "cell_type": "code",
   "execution_count": 189,
   "id": "3605d3fe-befe-49ed-a9bb-d0fe69a4c3de",
   "metadata": {},
   "outputs": [
    {
     "name": "stdout",
     "output_type": "stream",
     "text": [
      "<class 'pandas.core.frame.DataFrame'>\n",
      "RangeIndex: 871 entries, 0 to 870\n",
      "Data columns (total 7 columns):\n",
      " #   Column      Non-Null Count  Dtype \n",
      "---  ------      --------------  ----- \n",
      " 0   AnimalName  871 non-null    object\n",
      " 1   symptoms1   871 non-null    object\n",
      " 2   symptoms2   871 non-null    object\n",
      " 3   symptoms3   871 non-null    object\n",
      " 4   symptoms4   871 non-null    object\n",
      " 5   symptoms5   871 non-null    object\n",
      " 6   Dangerous   869 non-null    object\n",
      "dtypes: object(7)\n",
      "memory usage: 47.8+ KB\n"
     ]
    }
   ],
   "source": [
    "animals.info()"
   ]
  },
  {
   "cell_type": "code",
   "execution_count": 190,
   "id": "bb382c2c-263a-4195-903e-320682e36985",
   "metadata": {},
   "outputs": [],
   "source": [
    "list_of_animals = animals['AnimalName'].unique()"
   ]
  },
  {
   "cell_type": "code",
   "execution_count": 191,
   "id": "5958f1f6-9c2e-458c-b1d9-9e65aae2e14b",
   "metadata": {},
   "outputs": [],
   "source": [
    "value_counts = animals[animals['AnimalName'].isin(list_of_animals)]['Dangerous'].value_counts()"
   ]
  },
  {
   "cell_type": "code",
   "execution_count": 192,
   "id": "c559285b-c7b6-47eb-ba89-a206d4e4c76b",
   "metadata": {},
   "outputs": [
    {
     "data": {
      "text/plain": [
       "Yes    849\n",
       "No      20\n",
       "Name: Dangerous, dtype: int64"
      ]
     },
     "execution_count": 192,
     "metadata": {},
     "output_type": "execute_result"
    }
   ],
   "source": [
    "value_counts"
   ]
  },
  {
   "cell_type": "code",
   "execution_count": 193,
   "id": "65a8417c-cd6d-4294-82f6-c5181255fec9",
   "metadata": {},
   "outputs": [
    {
     "data": {
      "image/png": "[encoded data removed]",
      "text/plain": [
       "<Figure size 864x72 with 1 Axes>"
      ]
     },
     "metadata": {
      "needs_background": "light"
     },
     "output_type": "display_data"
    }
   ],
   "source": [
    "total_count = value_counts.sum()\n",
    "percentage_no = (value_counts['No'] / total_count) * 100\n",
    "percentage_yes = (value_counts['Yes'] / total_count) * 100\n",
    "\n",
    "plt.figure(figsize=(12, 1))\n",
    "colors = ['#fd7f6f', '#7eb0d5']\n",
    "plt.barh(['Total'], [percentage_no], color=colors[0], label='No')\n",
    "plt.barh(['Total'], [percentage_yes], color=colors[1], left=[percentage_no], label='Yes')\n",
    "\n",
    "plt.title('Dangerous and not Dangerous cases percentage')\n",
    "plt.xlabel('Percentage')\n",
    "plt.ylabel('Dangerous')\n",
    "plt.grid(True)\n",
    "plt.legend(title='Dangerous', loc='center left', bbox_to_anchor=(1, 0.5))\n",
    "\n",
    "plt.show()"
   ]
  },
  {
   "cell_type": "code",
   "execution_count": 194,
   "id": "c305f776-b7d0-4422-a59f-b1445109edea",
   "metadata": {},
   "outputs": [
    {
     "data": {
      "text/html": [
       "<div>\n",
       "<style scoped>\n",
       "    .dataframe tbody tr th:only-of-type {\n",
       "        vertical-align: middle;\n",
       "    }\n",
       "\n",
       "    .dataframe tbody tr th {\n",
       "        vertical-align: top;\n",
       "    }\n",
       "\n",
       "    .dataframe thead th {\n",
       "        text-align: right;\n",
       "    }\n",
       "</style>\n",
       "<table border=\"1\" class=\"dataframe\">\n",
       "  <thead>\n",
       "    <tr style=\"text-align: right;\">\n",
       "      <th></th>\n",
       "      <th>AnimalName</th>\n",
       "      <th>symptoms1</th>\n",
       "      <th>symptoms2</th>\n",
       "      <th>symptoms3</th>\n",
       "      <th>symptoms4</th>\n",
       "      <th>symptoms5</th>\n",
       "      <th>Dangerous</th>\n",
       "    </tr>\n",
       "  </thead>\n",
       "  <tbody>\n",
       "    <tr>\n",
       "      <th>269</th>\n",
       "      <td>Sheep</td>\n",
       "      <td>Teeth griding</td>\n",
       "      <td>Apathy</td>\n",
       "      <td>Dehydration</td>\n",
       "      <td>Ruminal stasis</td>\n",
       "      <td>Watery faeces</td>\n",
       "      <td>NaN</td>\n",
       "    </tr>\n",
       "    <tr>\n",
       "      <th>695</th>\n",
       "      <td>Buffaloes</td>\n",
       "      <td>Teeth griding</td>\n",
       "      <td>Apathy</td>\n",
       "      <td>Dehydration</td>\n",
       "      <td>Ruminal stasis</td>\n",
       "      <td>Watery faeces</td>\n",
       "      <td>NaN</td>\n",
       "    </tr>\n",
       "  </tbody>\n",
       "</table>\n",
       "</div>"
      ],
      "text/plain": [
       "    AnimalName      symptoms1 symptoms2    symptoms3       symptoms4  \\\n",
       "269      Sheep  Teeth griding    Apathy  Dehydration  Ruminal stasis   \n",
       "695  Buffaloes  Teeth griding    Apathy  Dehydration  Ruminal stasis   \n",
       "\n",
       "         symptoms5 Dangerous  \n",
       "269  Watery faeces       NaN  \n",
       "695  Watery faeces       NaN  "
      ]
     },
     "execution_count": 194,
     "metadata": {},
     "output_type": "execute_result"
    }
   ],
   "source": [
    "animals[animals['Dangerous'].isnull()]"
   ]
  },
  {
   "cell_type": "code",
   "execution_count": 225,
   "id": "379b8240-6174-43fc-9f90-24d079660fbd",
   "metadata": {},
   "outputs": [],
   "source": [
    "buffaloes_condition = animals.loc[((animals['AnimalName'] == 'Buffaloes') & \n",
    "                                   (animals['symptoms3'] == 'rapid pulse and heart rates') & \n",
    "                                   (animals['symptoms4'] == 'lameness in affected leg')), 'Dangerous'].mode()[0]\n",
    "\n",
    "data = animals[(animals['Dangerous'].isnull()) & (animals['AnimalName'] == 'Buffaloes')]\n",
    "# Fill missing values in 'Dangerous' for the specified condition\n",
    "animals.loc[(animals['Dangerous'].isnull()) & \n",
    "            (animals['AnimalName'] == 'Buffaloes'), 'Dangerous'] = data['Dangerous'].fillna(buffaloes_condition)"
   ]
  },
  {
   "cell_type": "code",
   "execution_count": 226,
   "id": "9b020a05-565b-4aa7-b3ca-84bccf8c015a",
   "metadata": {},
   "outputs": [],
   "source": [
    "sheep_value = animals.loc[((animals['AnimalName'] == 'Sheep') & (animals['symptoms3'] == 'Dehydration')), 'Dangerous'].mode()[0]\n",
    "\n",
    "data = animals[(animals['Dangerous'].isnull()) & (animals['AnimalName'] == 'Sheep')]\n",
    "animals.loc[(animals['Dangerous'].isnull()) & (animals['AnimalName'] == 'Sheep'), 'Dangerous'] = data['Dangerous'].fillna(sheep_value)"
   ]
  },
  {
   "cell_type": "code",
   "execution_count": 227,
   "id": "2fd28e4f-d654-4864-be89-950a9b94a174",
   "metadata": {},
   "outputs": [
    {
     "data": {
      "text/plain": [
       "0"
      ]
     },
     "execution_count": 227,
     "metadata": {},
     "output_type": "execute_result"
    }
   ],
   "source": [
    "animals['Dangerous'].isnull().sum()"
   ]
  },
  {
   "cell_type": "code",
   "execution_count": 198,
   "id": "823cfeb1-a429-4220-a6dd-63c101a989f1",
   "metadata": {},
   "outputs": [],
   "source": [
    "onehot_encoder = OneHotEncoder(handle_unknown='ignore', sparse=False)\n",
    "\n",
    "animals['AnimalName'] = oc.fit_transform(np.asarray(animals['AnimalName']).reshape(-1, 1))\n",
    "animals['Dangerous'] = oc.fit_transform(np.asarray(animals['Dangerous']).reshape(-1, 1))"
   ]
  },
  {
   "cell_type": "code",
   "execution_count": 228,
   "id": "70af5e72-6fa0-4837-9c5c-3064a58ea697",
   "metadata": {},
   "outputs": [],
   "source": [
    "onehot_encoder = OneHotEncoder(handle_unknown='ignore', sparse=False)\n",
    "\n",
    "for column in animals.columns:\n",
    "    animals[column] = oc.fit_transform(np.asarray(animals[column]).reshape(-1, 1))"
   ]
  },
  {
   "cell_type": "code",
   "execution_count": 229,
   "id": "98391b52-1fe3-4aeb-8f77-fa4b638ec578",
   "metadata": {},
   "outputs": [],
   "source": [
    "X, y = animals.drop(['Dangerous'], axis=1), animals['Dangerous']"
   ]
  },
  {
   "cell_type": "code",
   "execution_count": 230,
   "id": "afc5f664-b5c0-4fc3-a772-fe231fbeff5f",
   "metadata": {},
   "outputs": [],
   "source": [
    "X_train, X_test, y_train, y_test = train_test_split(X, y, test_size=0.2, random_state=42)"
   ]
  },
  {
   "cell_type": "code",
   "execution_count": 231,
   "id": "e9ccb303-f248-4ff1-8c37-3f3fe043c766",
   "metadata": {},
   "outputs": [],
   "source": [
    "tree = DecisionTreeClassifier()\n",
    "parameters = {'min_samples_leaf': range(1, 15),'max_depth': range(1, 15)}\n",
    "clf = GridSearchCV(tree, parameters, cv=5, scoring='f1_weighted', return_train_score=True)\n",
    "clf.fit(X_train, y_train)\n",
    "results = clf.cv_results_"
   ]
  },
  {
   "cell_type": "code",
   "execution_count": 232,
   "id": "5d182410-7ee1-4221-bc72-466baad5e208",
   "metadata": {},
   "outputs": [
    {
     "name": "stdout",
     "output_type": "stream",
     "text": [
      "{'max_depth': 1, 'min_samples_leaf': 1} 0.961385261933924\n"
     ]
    }
   ],
   "source": [
    "best_params = clf.best_params_\n",
    "best_score = clf.best_score_\n",
    "print(best_params, best_score)"
   ]
  },
  {
   "cell_type": "code",
   "execution_count": 233,
   "id": "83ee2588-2378-4a9a-901f-2d165e2eb803",
   "metadata": {},
   "outputs": [],
   "source": [
    "tree = DecisionTreeClassifier(max_depth = 7, min_samples_leaf = 1)\n",
    "tree.fit(X_train, y_train)\n",
    "\n",
    "y_pred = tree.predict(X_test)"
   ]
  },
  {
   "cell_type": "code",
   "execution_count": 234,
   "id": "64d4726d-634c-45ca-b105-c77f2c0a9a99",
   "metadata": {},
   "outputs": [
    {
     "name": "stdout",
     "output_type": "stream",
     "text": [
      "              precision    recall  f1-score   support\n",
      "\n",
      "         0.0       0.99      1.00      0.99       173\n",
      "         1.0       0.00      0.00      0.00         2\n",
      "\n",
      "    accuracy                           0.99       175\n",
      "   macro avg       0.49      0.50      0.50       175\n",
      "weighted avg       0.98      0.99      0.98       175\n",
      "\n"
     ]
    },
    {
     "name": "stderr",
     "output_type": "stream",
     "text": [
      "C:\\Users\\user\\anaconda3\\lib\\site-packages\\sklearn\\metrics\\_classification.py:1248: UndefinedMetricWarning: Precision and F-score are ill-defined and being set to 0.0 in labels with no predicted samples. Use `zero_division` parameter to control this behavior.\n",
      "  _warn_prf(average, modifier, msg_start, len(result))\n",
      "C:\\Users\\user\\anaconda3\\lib\\site-packages\\sklearn\\metrics\\_classification.py:1248: UndefinedMetricWarning: Precision and F-score are ill-defined and being set to 0.0 in labels with no predicted samples. Use `zero_division` parameter to control this behavior.\n",
      "  _warn_prf(average, modifier, msg_start, len(result))\n",
      "C:\\Users\\user\\anaconda3\\lib\\site-packages\\sklearn\\metrics\\_classification.py:1248: UndefinedMetricWarning: Precision and F-score are ill-defined and being set to 0.0 in labels with no predicted samples. Use `zero_division` parameter to control this behavior.\n",
      "  _warn_prf(average, modifier, msg_start, len(result))\n"
     ]
    }
   ],
   "source": [
    "print(classification_report(y_test, y_pred))"
   ]
  },
  {
   "cell_type": "code",
   "execution_count": 199,
   "id": "1ac72845-c239-4e4b-97e1-15096c0c7bb4",
   "metadata": {},
   "outputs": [
    {
     "data": {
      "text/html": [
       "<div>\n",
       "<style scoped>\n",
       "    .dataframe tbody tr th:only-of-type {\n",
       "        vertical-align: middle;\n",
       "    }\n",
       "\n",
       "    .dataframe tbody tr th {\n",
       "        vertical-align: top;\n",
       "    }\n",
       "\n",
       "    .dataframe thead th {\n",
       "        text-align: right;\n",
       "    }\n",
       "</style>\n",
       "<table border=\"1\" class=\"dataframe\">\n",
       "  <thead>\n",
       "    <tr style=\"text-align: right;\">\n",
       "      <th></th>\n",
       "      <th>AnimalName</th>\n",
       "      <th>symptoms1</th>\n",
       "      <th>symptoms2</th>\n",
       "      <th>symptoms3</th>\n",
       "      <th>symptoms4</th>\n",
       "      <th>symptoms5</th>\n",
       "      <th>Dangerous</th>\n",
       "    </tr>\n",
       "  </thead>\n",
       "  <tbody>\n",
       "    <tr>\n",
       "      <th>0</th>\n",
       "      <td>0.0</td>\n",
       "      <td>Fever</td>\n",
       "      <td>Diarrhea</td>\n",
       "      <td>Vomiting</td>\n",
       "      <td>Weight loss</td>\n",
       "      <td>Dehydration</td>\n",
       "      <td>0.0</td>\n",
       "    </tr>\n",
       "    <tr>\n",
       "      <th>1</th>\n",
       "      <td>0.0</td>\n",
       "      <td>Fever</td>\n",
       "      <td>Diarrhea</td>\n",
       "      <td>Coughing</td>\n",
       "      <td>Tiredness</td>\n",
       "      <td>Pains</td>\n",
       "      <td>0.0</td>\n",
       "    </tr>\n",
       "    <tr>\n",
       "      <th>2</th>\n",
       "      <td>0.0</td>\n",
       "      <td>Fever</td>\n",
       "      <td>Diarrhea</td>\n",
       "      <td>Coughing</td>\n",
       "      <td>Vomiting</td>\n",
       "      <td>Anorexia</td>\n",
       "      <td>0.0</td>\n",
       "    </tr>\n",
       "    <tr>\n",
       "      <th>3</th>\n",
       "      <td>0.0</td>\n",
       "      <td>Fever</td>\n",
       "      <td>Difficulty breathing</td>\n",
       "      <td>Coughing</td>\n",
       "      <td>Lethargy</td>\n",
       "      <td>Sneezing</td>\n",
       "      <td>0.0</td>\n",
       "    </tr>\n",
       "    <tr>\n",
       "      <th>4</th>\n",
       "      <td>0.0</td>\n",
       "      <td>Fever</td>\n",
       "      <td>Diarrhea</td>\n",
       "      <td>Coughing</td>\n",
       "      <td>Lethargy</td>\n",
       "      <td>Blue Eye</td>\n",
       "      <td>0.0</td>\n",
       "    </tr>\n",
       "    <tr>\n",
       "      <th>...</th>\n",
       "      <td>...</td>\n",
       "      <td>...</td>\n",
       "      <td>...</td>\n",
       "      <td>...</td>\n",
       "      <td>...</td>\n",
       "      <td>...</td>\n",
       "      <td>...</td>\n",
       "    </tr>\n",
       "    <tr>\n",
       "      <th>866</th>\n",
       "      <td>0.0</td>\n",
       "      <td>Fever</td>\n",
       "      <td>Difficulty breathing</td>\n",
       "      <td>Poor Appetite</td>\n",
       "      <td>Eye and Skin change</td>\n",
       "      <td>Unable to exercise</td>\n",
       "      <td>0.0</td>\n",
       "    </tr>\n",
       "    <tr>\n",
       "      <th>867</th>\n",
       "      <td>0.0</td>\n",
       "      <td>Fever</td>\n",
       "      <td>Loss of  appetite</td>\n",
       "      <td>Lession on the skin</td>\n",
       "      <td>Lethargy</td>\n",
       "      <td>Joint Pain</td>\n",
       "      <td>0.0</td>\n",
       "    </tr>\n",
       "    <tr>\n",
       "      <th>868</th>\n",
       "      <td>0.0</td>\n",
       "      <td>Lesions in the nasal cavity</td>\n",
       "      <td>Lesions on nose</td>\n",
       "      <td>Vomiting</td>\n",
       "      <td>Noisy Breathing</td>\n",
       "      <td>Lesions on nose</td>\n",
       "      <td>0.0</td>\n",
       "    </tr>\n",
       "    <tr>\n",
       "      <th>869</th>\n",
       "      <td>0.0</td>\n",
       "      <td>Hair loss</td>\n",
       "      <td>Dandruff</td>\n",
       "      <td>Vomiting</td>\n",
       "      <td>Crusting of the skin</td>\n",
       "      <td>Ulcerated skin</td>\n",
       "      <td>0.0</td>\n",
       "    </tr>\n",
       "    <tr>\n",
       "      <th>870</th>\n",
       "      <td>0.0</td>\n",
       "      <td>Greenish-yellow nasal discharge</td>\n",
       "      <td>Lack of pigmentation</td>\n",
       "      <td>Vomiting</td>\n",
       "      <td>Lethargy</td>\n",
       "      <td>Pain on face</td>\n",
       "      <td>0.0</td>\n",
       "    </tr>\n",
       "  </tbody>\n",
       "</table>\n",
       "<p>871 rows × 7 columns</p>\n",
       "</div>"
      ],
      "text/plain": [
       "     AnimalName                        symptoms1             symptoms2  \\\n",
       "0           0.0                            Fever              Diarrhea   \n",
       "1           0.0                            Fever              Diarrhea   \n",
       "2           0.0                            Fever              Diarrhea   \n",
       "3           0.0                            Fever  Difficulty breathing   \n",
       "4           0.0                            Fever              Diarrhea   \n",
       "..          ...                              ...                   ...   \n",
       "866         0.0                            Fever  Difficulty breathing   \n",
       "867         0.0                            Fever     Loss of  appetite   \n",
       "868         0.0      Lesions in the nasal cavity       Lesions on nose   \n",
       "869         0.0                        Hair loss              Dandruff   \n",
       "870         0.0  Greenish-yellow nasal discharge  Lack of pigmentation   \n",
       "\n",
       "               symptoms3             symptoms4           symptoms5  Dangerous  \n",
       "0               Vomiting           Weight loss         Dehydration        0.0  \n",
       "1               Coughing             Tiredness               Pains        0.0  \n",
       "2               Coughing              Vomiting            Anorexia        0.0  \n",
       "3               Coughing              Lethargy            Sneezing        0.0  \n",
       "4               Coughing              Lethargy            Blue Eye        0.0  \n",
       "..                   ...                   ...                 ...        ...  \n",
       "866        Poor Appetite   Eye and Skin change  Unable to exercise        0.0  \n",
       "867  Lession on the skin              Lethargy          Joint Pain        0.0  \n",
       "868             Vomiting       Noisy Breathing     Lesions on nose        0.0  \n",
       "869             Vomiting  Crusting of the skin      Ulcerated skin        0.0  \n",
       "870             Vomiting              Lethargy        Pain on face        0.0  \n",
       "\n",
       "[871 rows x 7 columns]"
      ]
     },
     "execution_count": 199,
     "metadata": {},
     "output_type": "execute_result"
    }
   ],
   "source": [
    "animals"
   ]
  },
  {
   "cell_type": "code",
   "execution_count": 200,
   "id": "09097ad3-c5d4-445c-b5d3-c838a72084c5",
   "metadata": {},
   "outputs": [],
   "source": [
    "animals['Symptoms'] = animals[['symptoms1', 'symptoms2', 'symptoms3', 'symptoms4', 'symptoms5']].apply(lambda x: ' '.join(x), axis=1)"
   ]
  },
  {
   "cell_type": "code",
   "execution_count": 201,
   "id": "1b0e1c9e-4dd5-45eb-bccd-5f996c691f81",
   "metadata": {},
   "outputs": [],
   "source": [
    "animals.drop(['symptoms1', 'symptoms2', 'symptoms3', 'symptoms4', 'symptoms5'], axis=1, inplace=True)"
   ]
  },
  {
   "cell_type": "code",
   "execution_count": 202,
   "id": "c42acebd-5b14-4a8c-b7b0-b430b65c8327",
   "metadata": {},
   "outputs": [
    {
     "data": {
      "text/html": [
       "<div>\n",
       "<style scoped>\n",
       "    .dataframe tbody tr th:only-of-type {\n",
       "        vertical-align: middle;\n",
       "    }\n",
       "\n",
       "    .dataframe tbody tr th {\n",
       "        vertical-align: top;\n",
       "    }\n",
       "\n",
       "    .dataframe thead th {\n",
       "        text-align: right;\n",
       "    }\n",
       "</style>\n",
       "<table border=\"1\" class=\"dataframe\">\n",
       "  <thead>\n",
       "    <tr style=\"text-align: right;\">\n",
       "      <th></th>\n",
       "      <th>AnimalName</th>\n",
       "      <th>Dangerous</th>\n",
       "      <th>Symptoms</th>\n",
       "    </tr>\n",
       "  </thead>\n",
       "  <tbody>\n",
       "    <tr>\n",
       "      <th>0</th>\n",
       "      <td>0.0</td>\n",
       "      <td>0.0</td>\n",
       "      <td>Fever Diarrhea Vomiting Weight loss Dehydration</td>\n",
       "    </tr>\n",
       "    <tr>\n",
       "      <th>1</th>\n",
       "      <td>0.0</td>\n",
       "      <td>0.0</td>\n",
       "      <td>Fever Diarrhea Coughing Tiredness Pains</td>\n",
       "    </tr>\n",
       "    <tr>\n",
       "      <th>2</th>\n",
       "      <td>0.0</td>\n",
       "      <td>0.0</td>\n",
       "      <td>Fever Diarrhea Coughing Vomiting Anorexia</td>\n",
       "    </tr>\n",
       "    <tr>\n",
       "      <th>3</th>\n",
       "      <td>0.0</td>\n",
       "      <td>0.0</td>\n",
       "      <td>Fever Difficulty breathing Coughing Lethargy S...</td>\n",
       "    </tr>\n",
       "    <tr>\n",
       "      <th>4</th>\n",
       "      <td>0.0</td>\n",
       "      <td>0.0</td>\n",
       "      <td>Fever Diarrhea Coughing Lethargy Blue Eye</td>\n",
       "    </tr>\n",
       "    <tr>\n",
       "      <th>...</th>\n",
       "      <td>...</td>\n",
       "      <td>...</td>\n",
       "      <td>...</td>\n",
       "    </tr>\n",
       "    <tr>\n",
       "      <th>866</th>\n",
       "      <td>0.0</td>\n",
       "      <td>0.0</td>\n",
       "      <td>Fever Difficulty breathing Poor Appetite Eye a...</td>\n",
       "    </tr>\n",
       "    <tr>\n",
       "      <th>867</th>\n",
       "      <td>0.0</td>\n",
       "      <td>0.0</td>\n",
       "      <td>Fever Loss of  appetite Lession on the skin Le...</td>\n",
       "    </tr>\n",
       "    <tr>\n",
       "      <th>868</th>\n",
       "      <td>0.0</td>\n",
       "      <td>0.0</td>\n",
       "      <td>Lesions in the nasal cavity Lesions on nose Vo...</td>\n",
       "    </tr>\n",
       "    <tr>\n",
       "      <th>869</th>\n",
       "      <td>0.0</td>\n",
       "      <td>0.0</td>\n",
       "      <td>Hair loss Dandruff Vomiting Crusting of the sk...</td>\n",
       "    </tr>\n",
       "    <tr>\n",
       "      <th>870</th>\n",
       "      <td>0.0</td>\n",
       "      <td>0.0</td>\n",
       "      <td>Greenish-yellow nasal discharge Lack of pigmen...</td>\n",
       "    </tr>\n",
       "  </tbody>\n",
       "</table>\n",
       "<p>871 rows × 3 columns</p>\n",
       "</div>"
      ],
      "text/plain": [
       "     AnimalName  Dangerous                                           Symptoms\n",
       "0           0.0        0.0    Fever Diarrhea Vomiting Weight loss Dehydration\n",
       "1           0.0        0.0            Fever Diarrhea Coughing Tiredness Pains\n",
       "2           0.0        0.0          Fever Diarrhea Coughing Vomiting Anorexia\n",
       "3           0.0        0.0  Fever Difficulty breathing Coughing Lethargy S...\n",
       "4           0.0        0.0          Fever Diarrhea Coughing Lethargy Blue Eye\n",
       "..          ...        ...                                                ...\n",
       "866         0.0        0.0  Fever Difficulty breathing Poor Appetite Eye a...\n",
       "867         0.0        0.0  Fever Loss of  appetite Lession on the skin Le...\n",
       "868         0.0        0.0  Lesions in the nasal cavity Lesions on nose Vo...\n",
       "869         0.0        0.0  Hair loss Dandruff Vomiting Crusting of the sk...\n",
       "870         0.0        0.0  Greenish-yellow nasal discharge Lack of pigmen...\n",
       "\n",
       "[871 rows x 3 columns]"
      ]
     },
     "execution_count": 202,
     "metadata": {},
     "output_type": "execute_result"
    }
   ],
   "source": [
    "animals"
   ]
  },
  {
   "cell_type": "code",
   "execution_count": 223,
   "id": "8d56b6b6-24ea-44b0-bcd4-63735c724524",
   "metadata": {},
   "outputs": [],
   "source": [
    "from sklearn.model_selection import train_test_split\n",
    "from sklearn.feature_extraction.text import TfidfVectorizer"
   ]
  },
  {
   "cell_type": "code",
   "execution_count": 153,
   "id": "c9a2b8ec-a66b-4135-84a1-ef5c821831e2",
   "metadata": {},
   "outputs": [
    {
     "data": {
      "text/plain": [
       "'fever diarrhea vomiting weight loss dehydration'"
      ]
     },
     "execution_count": 153,
     "metadata": {},
     "output_type": "execute_result"
    }
   ],
   "source": [
    "animals['Symptoms'][0].lower()"
   ]
  },
  {
   "cell_type": "code",
   "execution_count": 222,
   "id": "6209f63a-825b-4009-bb46-ca57ad99a6ed",
   "metadata": {},
   "outputs": [],
   "source": [
    "import re\n",
    "from nltk.corpus import stopwords\n",
    "from nltk.stem import WordNetLemmatizer\n",
    "\n",
    "def preprocess_text(text):\n",
    "    text = text.lower()\n",
    "    \n",
    "    text = re.sub(\"[^0-9a-zA-Z]\",\" \", text)\n",
    "\n",
    "    words = text.split()\n",
    "\n",
    "    stop_words = set(stopwords.words('english'))\n",
    "    words = [word for word in words if word not in stop_words]\n",
    "\n",
    "    lemmatizer = WordNetLemmatizer()\n",
    "    words = [lemmatizer.lemmatize(word, pos='v') for word in words]\n",
    "    words = [lemmatizer.lemmatize(word, pos='n') for word in words]\n",
    "    words = [lemmatizer.lemmatize(word, pos='r') for word in words]\n",
    "    words = [lemmatizer.lemmatize(word, pos='a') for word in words]\n",
    "\n",
    "    processed_text = ' '.join(words)\n",
    "    \n",
    "    return processed_text"
   ]
  },
  {
   "cell_type": "code",
   "execution_count": 209,
   "id": "3c09bd73-34d6-4cf5-a69b-cab83fb53f7b",
   "metadata": {},
   "outputs": [
    {
     "name": "stderr",
     "output_type": "stream",
     "text": [
      "C:\\Users\\user\\AppData\\Local\\Temp/ipykernel_15824/2307627867.py:2: SettingWithCopyWarning: \n",
      "A value is trying to be set on a copy of a slice from a DataFrame\n",
      "\n",
      "See the caveats in the documentation: https://pandas.pydata.org/pandas-docs/stable/user_guide/indexing.html#returning-a-view-versus-a-copy\n",
      "  animals['Symptoms'][i] = preprocess_text(animals['Symptoms'][i])\n"
     ]
    }
   ],
   "source": [
    "for i in range(len(animals['Symptoms'])):\n",
    "    animals['Symptoms'][i] = preprocess_text(animals['Symptoms'][i])"
   ]
  },
  {
   "cell_type": "code",
   "execution_count": 210,
   "id": "65799d3a-b30b-47c8-98fe-c62c4f0c0bb4",
   "metadata": {},
   "outputs": [
    {
     "data": {
      "text/html": [
       "<div>\n",
       "<style scoped>\n",
       "    .dataframe tbody tr th:only-of-type {\n",
       "        vertical-align: middle;\n",
       "    }\n",
       "\n",
       "    .dataframe tbody tr th {\n",
       "        vertical-align: top;\n",
       "    }\n",
       "\n",
       "    .dataframe thead th {\n",
       "        text-align: right;\n",
       "    }\n",
       "</style>\n",
       "<table border=\"1\" class=\"dataframe\">\n",
       "  <thead>\n",
       "    <tr style=\"text-align: right;\">\n",
       "      <th></th>\n",
       "      <th>AnimalName</th>\n",
       "      <th>Dangerous</th>\n",
       "      <th>Symptoms</th>\n",
       "    </tr>\n",
       "  </thead>\n",
       "  <tbody>\n",
       "    <tr>\n",
       "      <th>0</th>\n",
       "      <td>0.0</td>\n",
       "      <td>0.0</td>\n",
       "      <td>fever diarrhea vomit weight loss dehydration</td>\n",
       "    </tr>\n",
       "    <tr>\n",
       "      <th>1</th>\n",
       "      <td>0.0</td>\n",
       "      <td>0.0</td>\n",
       "      <td>fever diarrhea cough tiredness pain</td>\n",
       "    </tr>\n",
       "    <tr>\n",
       "      <th>2</th>\n",
       "      <td>0.0</td>\n",
       "      <td>0.0</td>\n",
       "      <td>fever diarrhea cough vomit anorexia</td>\n",
       "    </tr>\n",
       "    <tr>\n",
       "      <th>3</th>\n",
       "      <td>0.0</td>\n",
       "      <td>0.0</td>\n",
       "      <td>fever difficulty breathe cough lethargy sneeze</td>\n",
       "    </tr>\n",
       "    <tr>\n",
       "      <th>4</th>\n",
       "      <td>0.0</td>\n",
       "      <td>0.0</td>\n",
       "      <td>fever diarrhea cough lethargy blue eye</td>\n",
       "    </tr>\n",
       "    <tr>\n",
       "      <th>...</th>\n",
       "      <td>...</td>\n",
       "      <td>...</td>\n",
       "      <td>...</td>\n",
       "    </tr>\n",
       "    <tr>\n",
       "      <th>866</th>\n",
       "      <td>0.0</td>\n",
       "      <td>0.0</td>\n",
       "      <td>fever difficulty breathe poor appetite eye ski...</td>\n",
       "    </tr>\n",
       "    <tr>\n",
       "      <th>867</th>\n",
       "      <td>0.0</td>\n",
       "      <td>0.0</td>\n",
       "      <td>fever loss appetite lession skin lethargy join...</td>\n",
       "    </tr>\n",
       "    <tr>\n",
       "      <th>868</th>\n",
       "      <td>0.0</td>\n",
       "      <td>0.0</td>\n",
       "      <td>lesion nasal cavity lesion nose vomit noisy br...</td>\n",
       "    </tr>\n",
       "    <tr>\n",
       "      <th>869</th>\n",
       "      <td>0.0</td>\n",
       "      <td>0.0</td>\n",
       "      <td>hair loss dandruff vomit crust skin ulcerate skin</td>\n",
       "    </tr>\n",
       "    <tr>\n",
       "      <th>870</th>\n",
       "      <td>0.0</td>\n",
       "      <td>0.0</td>\n",
       "      <td>greenish yellow nasal discharge lack pigmentat...</td>\n",
       "    </tr>\n",
       "  </tbody>\n",
       "</table>\n",
       "<p>871 rows × 3 columns</p>\n",
       "</div>"
      ],
      "text/plain": [
       "     AnimalName  Dangerous                                           Symptoms\n",
       "0           0.0        0.0       fever diarrhea vomit weight loss dehydration\n",
       "1           0.0        0.0                fever diarrhea cough tiredness pain\n",
       "2           0.0        0.0                fever diarrhea cough vomit anorexia\n",
       "3           0.0        0.0     fever difficulty breathe cough lethargy sneeze\n",
       "4           0.0        0.0             fever diarrhea cough lethargy blue eye\n",
       "..          ...        ...                                                ...\n",
       "866         0.0        0.0  fever difficulty breathe poor appetite eye ski...\n",
       "867         0.0        0.0  fever loss appetite lession skin lethargy join...\n",
       "868         0.0        0.0  lesion nasal cavity lesion nose vomit noisy br...\n",
       "869         0.0        0.0  hair loss dandruff vomit crust skin ulcerate skin\n",
       "870         0.0        0.0  greenish yellow nasal discharge lack pigmentat...\n",
       "\n",
       "[871 rows x 3 columns]"
      ]
     },
     "execution_count": 210,
     "metadata": {},
     "output_type": "execute_result"
    }
   ],
   "source": [
    "animals"
   ]
  },
  {
   "cell_type": "code",
   "execution_count": 211,
   "id": "2b5ef620-f47b-4673-8ef3-2c7c4af05c58",
   "metadata": {},
   "outputs": [],
   "source": [
    "Doc = [animals['Symptoms'][i] for i in range(len(animals['Symptoms']))]"
   ]
  },
  {
   "cell_type": "code",
   "execution_count": 212,
   "id": "bf916241-37eb-4441-9481-0c09c8075810",
   "metadata": {},
   "outputs": [],
   "source": [
    "vectorizer = TfidfVectorizer()\n",
    "X = vectorizer.fit_transform(Doc)"
   ]
  },
  {
   "cell_type": "code",
   "execution_count": 213,
   "id": "5b222a35-0edf-47cc-95db-94c9d8766a56",
   "metadata": {},
   "outputs": [],
   "source": [
    "y = animals['Dangerous']"
   ]
  },
  {
   "cell_type": "code",
   "execution_count": 214,
   "id": "79fb612a-439f-4d24-88cd-1d4ce69e6e17",
   "metadata": {},
   "outputs": [
    {
     "data": {
      "text/plain": [
       "0.0    851\n",
       "1.0     20\n",
       "Name: Dangerous, dtype: int64"
      ]
     },
     "execution_count": 214,
     "metadata": {},
     "output_type": "execute_result"
    }
   ],
   "source": [
    "y.value_counts()"
   ]
  },
  {
   "cell_type": "code",
   "execution_count": 215,
   "id": "7722d4a8-b0d5-4891-995a-fdbf93fbeab3",
   "metadata": {},
   "outputs": [],
   "source": [
    "X_train, X_test, y_train, y_test = train_test_split(X, y, test_size=0.2, random_state=42)"
   ]
  },
  {
   "cell_type": "code",
   "execution_count": 216,
   "id": "96ce7b83-ff2d-469b-98c2-29dd9841233d",
   "metadata": {},
   "outputs": [],
   "source": [
    "tree = DecisionTreeClassifier()\n",
    "parameters = {'min_samples_leaf': range(1, 15),'max_depth': range(1, 15)}\n",
    "clf = GridSearchCV(tree, parameters, cv=5, scoring='f1_weighted', return_train_score=True)\n",
    "clf.fit(X_train, y_train)\n",
    "results = clf.cv_results_"
   ]
  },
  {
   "cell_type": "code",
   "execution_count": 217,
   "id": "d5617c05-d076-4ae1-9ed2-58a1835212e4",
   "metadata": {},
   "outputs": [
    {
     "name": "stdout",
     "output_type": "stream",
     "text": [
      "{'max_depth': 12, 'min_samples_leaf': 1} 0.9886609522120684\n"
     ]
    }
   ],
   "source": [
    "best_params = clf.best_params_\n",
    "best_score = clf.best_score_\n",
    "print(best_params, best_score)"
   ]
  },
  {
   "cell_type": "code",
   "execution_count": 219,
   "id": "d1765f95-cbc8-4441-aeea-63f6c43a5952",
   "metadata": {},
   "outputs": [],
   "source": [
    "tree = DecisionTreeClassifier(max_depth = 12, min_samples_leaf = 1)\n",
    "tree.fit(X_train, y_train)\n",
    "\n",
    "y_pred = tree.predict(X_test)"
   ]
  },
  {
   "cell_type": "code",
   "execution_count": 220,
   "id": "95fd57e8-b32d-4238-964d-a7e06a33c4eb",
   "metadata": {},
   "outputs": [
    {
     "name": "stdout",
     "output_type": "stream",
     "text": [
      "              precision    recall  f1-score   support\n",
      "\n",
      "         0.0       1.00      1.00      1.00       173\n",
      "         1.0       1.00      1.00      1.00         2\n",
      "\n",
      "    accuracy                           1.00       175\n",
      "   macro avg       1.00      1.00      1.00       175\n",
      "weighted avg       1.00      1.00      1.00       175\n",
      "\n"
     ]
    }
   ],
   "source": [
    "print(classification_report(y_test, y_pred))"
   ]
  },
  {
   "cell_type": "code",
   "execution_count": null,
   "id": "c0d77974-61bd-40df-9e17-42b5deacd400",
   "metadata": {},
   "outputs": [],
   "source": []
  },
  {
   "cell_type": "code",
   "execution_count": null,
   "id": "8462625f-5960-4125-96e0-b78e98cf5c88",
   "metadata": {},
   "outputs": [],
   "source": []
  },
  {
   "cell_type": "code",
   "execution_count": null,
   "id": "24de159b-c0a8-4d52-86c0-c049edd0e3f3",
   "metadata": {},
   "outputs": [],
   "source": []
  },
  {
   "cell_type": "code",
   "execution_count": null,
   "id": "1a8b25ab-2f92-4930-a3f4-5b76a2bfc135",
   "metadata": {},
   "outputs": [],
   "source": []
  },
  {
   "cell_type": "code",
   "execution_count": null,
   "id": "a4ee1638-544d-4583-8cb1-61cbad08b8cd",
   "metadata": {},
   "outputs": [],
   "source": []
  },
  {
   "cell_type": "code",
   "execution_count": 178,
   "id": "adc9ce39-6327-449d-a5fe-2f1c7ff85a5c",
   "metadata": {},
   "outputs": [],
   "source": [
    "min_sl_values = results['param_min_samples_leaf'].data.astype(float)\n",
    "max_d_values = results['param_max_depth'].data.astype(float)\n",
    "\n",
    "accuracy_values_test = results['mean_test_score']\n",
    "accuracy_values_train = results['mean_train_score']"
   ]
  },
  {
   "cell_type": "code",
   "execution_count": 179,
   "id": "474a7049-1308-48d1-8235-7192134c34c0",
   "metadata": {},
   "outputs": [],
   "source": [
    "min_sl_values = np.unique(min_sl_values)\n",
    "max_d_values = np.unique(max_d_values)\n",
    "min_sl_mesh, max_d_mesh = np.meshgrid(min_sl_values, max_d_values) #meshgrid создает матрицы из координатных векторов\n",
    "\n",
    "ac_train = np.array(accuracy_values_train).reshape(len(max_d_values), len(min_sl_values))\n",
    "ac_test = np.array(accuracy_values_test).reshape(len(max_d_values), len(min_sl_values))"
   ]
  },
  {
   "cell_type": "code",
   "execution_count": 186,
   "id": "e3675581-ff45-4c6d-9b7e-5f8ea40fa706",
   "metadata": {},
   "outputs": [
    {
     "data": {
      "image/png": "[encoded data removed]",
      "text/plain": [
       "<Figure size 864x720 with 3 Axes>"
      ]
     },
     "metadata": {
      "needs_background": "light"
     },
     "output_type": "display_data"
    }
   ],
   "source": [
    "fig = plt.figure(figsize=(12, 10))\n",
    "ax = fig.add_subplot(111, projection='3d')\n",
    "\n",
    "surface_train = ax.plot_surface(min_sl_mesh, max_d_mesh, ac_train, cmap='viridis', rstride=1, cstride=1, alpha=0.8, antialiased=True)\n",
    "surface_test = ax.plot_surface(min_sl_mesh, max_d_mesh, ac_test, cmap='cool', rstride=1, cstride=1, alpha=0.8, antialiased=True)\n",
    "\n",
    "cbar1 = fig.colorbar(surface_train, ax=ax, shrink=0.5, aspect=10)\n",
    "cbar1.set_label('Train Accuracy')\n",
    "\n",
    "cbar2 = fig.colorbar(surface_test, ax=ax, shrink=0.5, aspect=10)\n",
    "cbar2.set_label('Test Accuracy')\n",
    "\n",
    "ax.set_xlabel('min_samples_leaf')\n",
    "ax.set_ylabel('max_depth')\n",
    "ax.set_zlabel('Accuracy')\n",
    "ax.view_init(elev=20, azim=25)\n",
    "\n",
    "plt.title('3D Surface Plot of GridSearchCV Results')\n",
    "plt.show()"
   ]
  },
  {
   "cell_type": "code",
   "execution_count": null,
   "id": "b21bd7ad-3e29-4572-a30e-cb6a26b35e2d",
   "metadata": {},
   "outputs": [],
   "source": []
  }
 ],
 "metadata": {
  "kernelspec": {
   "display_name": "Python 3 (ipykernel)",
   "language": "python",
   "name": "python3"
  },
  "language_info": {
   "codemirror_mode": {
    "name": "ipython",
    "version": 3
   },
   "file_extension": ".py",
   "mimetype": "text/x-python",
   "name": "python",
   "nbconvert_exporter": "python",
   "pygments_lexer": "ipython3",
   "version": "3.9.7"
  }
 },
 "nbformat": 4,
 "nbformat_minor": 5
}
