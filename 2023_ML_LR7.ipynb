{
 "cells": [
  {
   "cell_type": "code",
   "execution_count": 213,
   "id": "cc1fff11-e978-449f-a0f5-1f14e4822d82",
   "metadata": {},
   "outputs": [],
   "source": [
    "import numpy as np\n",
    "import pandas as pd\n",
    "import seaborn as sns\n",
    "import matplotlib.pyplot as plt\n",
    "from scipy.stats import entropy\n",
    "from sklearn.datasets import make_blobs, make_moons\n",
    "import matplotlib.pyplot as plt\n",
    "from sklearn.tree import DecisionTreeClassifier\n",
    "from sklearn.metrics import f1_score, precision_score, recall_score\n",
    "from sklearn.model_selection import train_test_split\n",
    "from sklearn.model_selection import GridSearchCV\n",
    "from sklearn.preprocessing import OneHotEncoder, LabelEncoder\n",
    "from sklearn.tree import DecisionTreeRegressor\n",
    "from sklearn.metrics import accuracy_score\n",
    "from sklearn.preprocessing import StandardScaler\n",
    "from sklearn.preprocessing import PolynomialFeatures\n",
    "from sklearn.model_selection import train_test_split\n",
    "from sklearn.linear_model import LogisticRegression\n",
    "from sklearn.neighbors import KNeighborsClassifier\n",
    "from sklearn.metrics import accuracy_score"
   ]
  },
  {
   "cell_type": "markdown",
   "id": "1292280d",
   "metadata": {},
   "source": [
    "# <font color = 'red'> ЛР 7. Метод главных компонент </font>"
   ]
  },
  {
   "cell_type": "markdown",
   "id": "8d08e816",
   "metadata": {},
   "source": [
    "Сложность: <font color = 'green'> Легко  </font>.\n",
    "\n",
    "Дата составления: 16.11.2023\n",
    "\n",
    "Срок выполнения: 1 неделя (с момента первой практики после выдачи).\n",
    "\n",
    "Автор: ст. преподаватель Кушнеров А.В."
   ]
  },
  {
   "cell_type": "markdown",
   "id": "cb89937b",
   "metadata": {},
   "source": [
    "## <font color = 'green'> 1. Метод главных компонент.  </font>"
   ]
  },
  {
   "cell_type": "markdown",
   "id": "5515a387-a409-4454-bd66-9b124d1bb04d",
   "metadata": {},
   "source": [
    "Метод главных компонент (PCA) - классический метод понижения размерности данных. \n",
    "\n",
    "Пусть задана матрица информации, содержащая векторы с информацией о данных. $$X=\\left(\n",
    "\\begin{array}{cccc}\n",
    " x_{1,1} & x_{1,2} & ... & x_{1,m} \\\\\n",
    " x_{2,1} & x_{2,2} & ... & x_{2,m} \\\\\n",
    " ... & ... & ... & ... \\\\\n",
    " x_{n,1} & x_{4,n} & ... & x_{n,m} \\\\\n",
    "\\end{array}\n",
    "\\right)$$\n",
    "\n",
    "Как видим рассматриваем $n$ сэмплов и $m$ фич (признаков). Задача **понижения размерности** заключается в преобразовании исходных данных, таким образом, чтобы исходная информации хранилась с использованием меньшего числа фич $k<n$ с сохранением её ценности. Этот метот относится к классу методов **обучения без учителя**, поэтому в нём отсутсвуют целевые метки."
   ]
  },
  {
   "cell_type": "markdown",
   "id": "16445805-0022-44f0-b4b2-9f94235ebfe7",
   "metadata": {},
   "source": [
    "Для решения задачи введём некоторые обозначения. Пусть $Y = {y_{1},y_{2},...,y_{n}}$ выборка из генеральной совокупности. *Выборочное среднее* тогда записывается формулой $E(Y) = \\frac{1}{n}  \\sum\\limits_{j=1}^n y_{i} $. Вторая характеристика выборки это *выборочная дисперсия*. Несмещённая оценка дисперции записывается в виде: $D(Y) = \\frac{1}{n-1}  \\sum\\limits_{j=1}^n (y_{i} - E(y))^{2} $.\n",
    "\n",
    "Заметим, что в случае, если $Y$ - несмещена, то есть $E(Y) = 0$, тогда $D(Y) = \\frac{1}{n-1}  \\sum\\limits_{j=1}^n (y_{i})^{2}$. Если представить $Y$ в виде вектор столбца, то формулу дисперсии можно переписать в матричном виде: $D(\\overline{Y}) = \\frac{1}{n-1} \\overline{Y}^{T}\\overline{Y} $.\n",
    "\n",
    "Вернёмся к нашей задаче. Найдем вектор $\\overline{v}$, такой что при проекции данных на этот вектор, мы получим максимальную дисперсию. Этот вектор и будет первой новой компонентой, а полученные проекции сэмплов - координаты по новой компоненте.\n",
    "\n",
    "Одномерный вектор проекции $X\\overline{v}$ - тоже выборка, для которой мы можем посчитать дисперсию. Учитывая несмещённость данных получаем $D(X\\overline{v}) = \\frac{1}{n-1}(X\\overline{v})^{T}X\\overline{v} =  \\overline{v}^{T} \\frac{1}{n-1}X^{T}X\\overline{v} = \\overline{v}^{T} A \\overline{v}$. Обозначим $A=\\frac{1}{n-1}X^{T}X$. \n",
    "\n",
    "Далее получаем задачу оптимизации с условием. Для того, чтобы компонента была наиболее информативна, будем максимизировать дисперсию данных вдоль неё. Условием будет нормированность вектора $\\overline{v}$.\n",
    "\n",
    "$F(\\overline{v}) = \\overline{v}^{T} A \\overline{v}  -> max$ \n",
    "\n",
    "$\\overline{v}^{T}\\overline{v} =  1$\n",
    "\n",
    "Составим функцию Лагранжа $L(\\overline{v}) = \\overline{v}^{T} A \\overline{v} - \\lambda (\\overline{v}^{T}\\overline{v} - 1)$.\n",
    "\n",
    "Проверяем необходимое условие условного экстремума, используя матричные производные:  $L(\\overline{v})^{'} = ( A^{T}+A) \\overline{v} - 2\\lambda \\overline{v} = 0$. Учитывая симметричность матрицы $A$ получим итоговое соотношение для компоненты $\\overline{v} $. $$A\\overline{v}=\\lambda\\overline{v}.$$\n",
    "\n",
    "Полученное соотношение - это определение **собственного вектора** матрицы $A$. В качестве вектора главной компоненты возьмём один из них. А если учесть, что для полученного решения дисперсия $D(X\\overline{v})= \\overline{v}^{T} \\lambda \\overline{v} = \\lambda$ (где $\\lambda$ - собственное значение матрицы $A$), то максимальная дсиперсия будет достигаться вдоль собственного вектора, соответсвующего наибольшему собственному значению $A$.  Остальные компоненты также могут получены как собственные векторы, соответствующие собственным значениям в порядке убывания последних. \n",
    "\n",
    "\n",
    "Заметим, что полученная матрица $A$ - есть [матрица ковариации](https://ru.wikipedia.org/wiki/%D0%9A%D0%BE%D0%B2%D0%B0%D1%80%D0%B8%D0%B0%D1%86%D0%B8%D0%BE%D0%BD%D0%BD%D0%B0%D1%8F_%D0%BC%D0%B0%D1%82%D1%80%D0%B8%D1%86%D0%B0) для $X$.\n",
    "\n",
    "Таким образом кратко алгоритм поиска новых компонент выглядит так:\n",
    "\n",
    "1. Центрируем числовые данные.\n",
    "2. Находим ковариационную матрицу.\n",
    "3. Находим её собственные векторы и упорядочиваем их по убываению их собственных значений.\n",
    "4. Выбираем нужное число компонент.\n",
    "5. Проецируем на них данные."
   ]
  },
  {
   "cell_type": "markdown",
   "id": "23f3611d-517c-4acc-9a74-f85956fe0ee9",
   "metadata": {},
   "source": [
    "\n",
    "<font color = 'red' size = 5>Задание 1 </font>\n",
    "\n",
    "1. Реализуйте функцию для работы метода главных компонент методом собственных значений. \n",
    "2. Сравните результаты её работы со встроенной функцией на искусственных данных."
   ]
  },
  {
   "cell_type": "code",
   "execution_count": 40,
   "id": "a84b5627-60d4-4469-a078-4719db4be439",
   "metadata": {},
   "outputs": [
    {
     "data": {
      "text/plain": [
       "array([4, 6, 2, 1, 4])"
      ]
     },
     "execution_count": 40,
     "metadata": {},
     "output_type": "execute_result"
    }
   ],
   "source": [
    "a = np.array([4,6,2,1,4])\n",
    "a"
   ]
  },
  {
   "cell_type": "code",
   "execution_count": 41,
   "id": "c5c04f47-9f26-48b0-8b87-2793b87aea38",
   "metadata": {},
   "outputs": [
    {
     "data": {
      "text/plain": [
       "array([3, 2, 0, 4, 1], dtype=int64)"
      ]
     },
     "execution_count": 41,
     "metadata": {},
     "output_type": "execute_result"
    }
   ],
   "source": [
    "np.argsort(a)"
   ]
  },
  {
   "cell_type": "code",
   "execution_count": 42,
   "id": "2fa6bd16-337e-433f-9fe4-6b7f0ef602c9",
   "metadata": {},
   "outputs": [
    {
     "data": {
      "text/plain": [
       "array([1, 4, 0, 2, 3], dtype=int64)"
      ]
     },
     "execution_count": 42,
     "metadata": {},
     "output_type": "execute_result"
    }
   ],
   "source": [
    "np.argsort(a)[::-1]"
   ]
  },
  {
   "cell_type": "code",
   "execution_count": 66,
   "id": "624674b9-ed77-45ee-ad4b-4f88bcb2823b",
   "metadata": {},
   "outputs": [],
   "source": [
    "class MyPCA():\n",
    "    def __init__(self, n_components):\n",
    "        self.n_components = n_components\n",
    "        self.mean_ = None\n",
    "        self.explained_variance_ = None\n",
    "        self.explained_variance_ratio_ = None\n",
    "        self.components_ = None\n",
    "        \n",
    "    def fit_transform(self, X):\n",
    "        # центрируем данные\n",
    "        self.mean_ = np.mean(X, axis=0)\n",
    "        Xcentered = X - self.mean_\n",
    "    \n",
    "        # находим ковариационную матрицу\n",
    "        covmat = np.cov(Xcentered, rowvar=False)\n",
    "    \n",
    "        # находим собственные векторы\n",
    "        eigenvals, eigenvecs = np.linalg.eigh(covmat)\n",
    "    \n",
    "        # упорядочиваем собств. вект. по убыванию их собств. знач.\n",
    "        sort_ind = np.argsort(eigenvals)[::-1]\n",
    "        eigenvecs = eigenvecs[:, sort_ind]\n",
    "        \n",
    "        self.explained_variance_ = eigenvals[sort_ind][:self.n_components]\n",
    "        self.explained_variance_ratio_ = self.explained_variance_ / np.sum(self.explained_variance_)\n",
    "    \n",
    "        # выбираем нужное число компонент\n",
    "        self.components_ = eigenvecs[:, :self.n_components]\n",
    "    \n",
    "        # проецируем данные\n",
    "        Xnew = np.dot( Xcentered, self.components_)\n",
    "        \n",
    "        return Xnew"
   ]
  },
  {
   "cell_type": "code",
   "execution_count": 67,
   "id": "b493de3e-8882-4ab5-8fda-1fd80895ff79",
   "metadata": {},
   "outputs": [
    {
     "name": "stdout",
     "output_type": "stream",
     "text": [
      "Components:\n",
      "[[-0.01152725  0.35707133]\n",
      " [-0.99938511 -0.03504663]\n",
      " [-0.03311376  0.93341941]]\n",
      "\n",
      "Explained Variance Ratio:\n",
      "[0.56958481 0.43041519]\n",
      "\n",
      "Transformed Data:\n",
      "[[-0.50084474  0.18830644]\n",
      " [ 0.30985232 -0.24146495]\n",
      " [-0.4083768  -0.04389326]\n",
      " [ 0.41699014  0.56207456]\n",
      " [ 0.25001625 -0.13585054]\n",
      " [ 0.1542955  -0.05072545]\n",
      " [ 0.16155152  0.11977483]\n",
      " [ 0.17213686 -0.21382929]\n",
      " [-0.31872087 -0.27365799]\n",
      " [-0.12167468 -0.38915516]\n",
      " [ 0.29826478 -0.32368815]\n",
      " [-0.52490392  0.46418233]\n",
      " [ 0.35406053  0.14865303]\n",
      " [ 0.33440736  0.01972743]\n",
      " [-0.43988538 -0.37340832]\n",
      " [ 0.1414636   0.11571576]\n",
      " [ 0.25469202  0.49839603]\n",
      " [-0.49964603  0.48373154]\n",
      " [-0.45328837 -0.33158415]\n",
      " [ 0.41960994 -0.22330468]]\n"
     ]
    }
   ],
   "source": [
    "np.random.seed(42)\n",
    "data = np.random.rand(20, 3)\n",
    "\n",
    "mypca = MyPCA(n_components=2)\n",
    "X_new = mypca.fit_transform(data)\n",
    "\n",
    "print(\"Components:\")\n",
    "print(mypca.components_)\n",
    "print(\"\\nExplained Variance Ratio:\")\n",
    "print(mypca.explained_variance_ratio_)\n",
    "print(\"\\nTransformed Data:\")\n",
    "print(X_new)"
   ]
  },
  {
   "cell_type": "code",
   "execution_count": 68,
   "id": "20f4af80-eaf6-4819-b08d-caff452f3c0b",
   "metadata": {},
   "outputs": [
    {
     "name": "stdout",
     "output_type": "stream",
     "text": [
      "Средние значения (mean):\n",
      "MyPCA: [0.47053893 0.45696961 0.47499377]\n",
      "Sklearn PCA: [0.47053893 0.45696961 0.47499377]\n",
      "\n",
      "Дисперсии осей проекции (explained_variance):\n",
      "MyPCA: [0.12932529 0.09772657]\n",
      "Sklearn PCA: [0.12932529 0.09772657]\n",
      "\n",
      "Доля информации (explained_variance_ratio):\n",
      "MyPCA: [0.56958481 0.43041519]\n",
      "Sklearn PCA: [0.44672388 0.33757351]\n"
     ]
    }
   ],
   "source": [
    "import numpy as np\n",
    "from sklearn.decomposition import PCA\n",
    "\n",
    "# Генерация случайных данных\n",
    "np.random.seed(42)\n",
    "data = np.random.rand(20, 3)\n",
    "\n",
    "mypca = MyPCA(n_components=2)\n",
    "res_mypca = mypca.fit_transform(data)\n",
    "\n",
    "pca_sklearn = PCA(n_components=2)\n",
    "res_pca = pca_sklearn.fit_transform(data)\n",
    "\n",
    "\n",
    "print(\"Средние значения (mean):\")\n",
    "print(\"MyPCA:\", mypca.mean_)\n",
    "print(\"Sklearn PCA:\", pca_sklearn.mean_)\n",
    "\n",
    "print(\"\\nДисперсии осей проекции (explained_variance):\")\n",
    "print(\"MyPCA:\", mypca.explained_variance_)\n",
    "print(\"Sklearn PCA:\", pca_sklearn.explained_variance_)\n",
    "\n",
    "print(\"\\nДоля информации (explained_variance_ratio):\")\n",
    "print(\"MyPCA:\", mypca.explained_variance_ratio_)\n",
    "print(\"Sklearn PCA:\", pca_sklearn.explained_variance_ratio_)\n"
   ]
  },
  {
   "cell_type": "code",
   "execution_count": 69,
   "id": "b7676fdf-3e9f-4154-a2db-dc12a0646183",
   "metadata": {},
   "outputs": [
    {
     "name": "stdout",
     "output_type": "stream",
     "text": [
      "Результаты, полученные с помощью нашей функции PCA:\n",
      "[[-0.50084474  0.18830644]\n",
      " [ 0.30985232 -0.24146495]\n",
      " [-0.4083768  -0.04389326]\n",
      " [ 0.41699014  0.56207456]\n",
      " [ 0.25001625 -0.13585054]\n",
      " [ 0.1542955  -0.05072545]\n",
      " [ 0.16155152  0.11977483]\n",
      " [ 0.17213686 -0.21382929]\n",
      " [-0.31872087 -0.27365799]\n",
      " [-0.12167468 -0.38915516]\n",
      " [ 0.29826478 -0.32368815]\n",
      " [-0.52490392  0.46418233]\n",
      " [ 0.35406053  0.14865303]\n",
      " [ 0.33440736  0.01972743]\n",
      " [-0.43988538 -0.37340832]\n",
      " [ 0.1414636   0.11571576]\n",
      " [ 0.25469202  0.49839603]\n",
      " [-0.49964603  0.48373154]\n",
      " [-0.45328837 -0.33158415]\n",
      " [ 0.41960994 -0.22330468]]\n",
      "\n",
      "Результаты, полученные с помощью встроенной функции PCA:\n",
      "[[ 0.50084474  0.18830644]\n",
      " [-0.30985232 -0.24146495]\n",
      " [ 0.4083768  -0.04389326]\n",
      " [-0.41699014  0.56207456]\n",
      " [-0.25001625 -0.13585054]\n",
      " [-0.1542955  -0.05072545]\n",
      " [-0.16155152  0.11977483]\n",
      " [-0.17213686 -0.21382929]\n",
      " [ 0.31872087 -0.27365799]\n",
      " [ 0.12167468 -0.38915516]\n",
      " [-0.29826478 -0.32368815]\n",
      " [ 0.52490392  0.46418233]\n",
      " [-0.35406053  0.14865303]\n",
      " [-0.33440736  0.01972743]\n",
      " [ 0.43988538 -0.37340832]\n",
      " [-0.1414636   0.11571576]\n",
      " [-0.25469202  0.49839603]\n",
      " [ 0.49964603  0.48373154]\n",
      " [ 0.45328837 -0.33158415]\n",
      " [-0.41960994 -0.22330468]]\n"
     ]
    }
   ],
   "source": [
    "print(\"Результаты, полученные с помощью нашей функции PCA:\")\n",
    "print(res_mypca)\n",
    "print(\"\\nРезультаты, полученные с помощью встроенной функции PCA:\")\n",
    "print(res_pca)"
   ]
  },
  {
   "cell_type": "markdown",
   "id": "67f903aa-66f0-4ece-8001-6de5df4818a6",
   "metadata": {
    "tags": []
   },
   "source": [
    "<font color = 'red' size = 5>Задание 2 </font>"
   ]
  },
  {
   "cell_type": "code",
   "execution_count": 70,
   "id": "fced712c-270c-4dba-b546-9067ecaaf461",
   "metadata": {},
   "outputs": [],
   "source": [
    "from sklearn import datasets\n",
    "\n",
    "iris = datasets.load_iris()\n",
    "X = iris.data\n",
    "y = iris.target"
   ]
  },
  {
   "cell_type": "markdown",
   "id": "1c40a6b9-02fb-46a0-b341-63e2ee4c7ea9",
   "metadata": {},
   "source": [
    "1. Используя данные для цветков ириса произвести уменьшение размерности данных с помощью метода главных компонет. Реализовать собственный алгоритм, а также использовать встроенный.\n",
    "2. Оценить степень потери данных. \n",
    "3. Выберите оптимальное количество компонент в новых данных. \n",
    "4. Протестируйте точность различных алгоритмов классификации на исходном датасете и на преобразованном с помощью метода главных компонент. Дайте подробные выводы о различных комбинациях числа компонет и алгоритмах. "
   ]
  },
  {
   "cell_type": "code",
   "execution_count": 72,
   "id": "6d36e944-4d48-4b9e-aae6-da4696866fd3",
   "metadata": {},
   "outputs": [],
   "source": [
    "my_pca = MyPCA(n_components=2)\n",
    "X_transformed = my_pca.fit_transform(X)\n",
    "\n",
    "\n",
    "pca_sklearn = PCA(n_components=2)\n",
    "res_pca = pca_sklearn.fit_transform(X)"
   ]
  },
  {
   "cell_type": "code",
   "execution_count": 73,
   "id": "a604766e-abab-4a4d-9e82-8077c719d692",
   "metadata": {},
   "outputs": [
    {
     "name": "stdout",
     "output_type": "stream",
     "text": [
      "Средние значения (mean):\n",
      "MyPCA: [5.84333333 3.05733333 3.758      1.19933333]\n",
      "Sklearn PCA: [5.84333333 3.05733333 3.758      1.19933333]\n",
      "\n",
      "Дисперсии осей проекции (explained_variance):\n",
      "MyPCA: [4.22824171 0.24267075]\n",
      "Sklearn PCA: [4.22824171 0.24267075]\n",
      "\n",
      "Доля информации (explained_variance_ratio):\n",
      "MyPCA: [0.94572232 0.05427768]\n",
      "Sklearn PCA: [0.92461872 0.05306648]\n"
     ]
    }
   ],
   "source": [
    "print(\"Средние значения (mean):\")\n",
    "print(\"MyPCA:\", my_pca.mean_)\n",
    "print(\"Sklearn PCA:\", pca_sklearn.mean_)\n",
    "\n",
    "print(\"\\nДисперсии осей проекции (explained_variance):\")\n",
    "print(\"MyPCA:\", my_pca.explained_variance_)\n",
    "print(\"Sklearn PCA:\", pca_sklearn.explained_variance_)\n",
    "\n",
    "print(\"\\nДоля информации (explained_variance_ratio):\")\n",
    "print(\"MyPCA:\", my_pca.explained_variance_ratio_)\n",
    "print(\"Sklearn PCA:\", pca_sklearn.explained_variance_ratio_)"
   ]
  },
  {
   "cell_type": "code",
   "execution_count": 109,
   "id": "42b962d3-707e-4d43-ae5e-a01fd8d987d7",
   "metadata": {},
   "outputs": [
    {
     "name": "stdout",
     "output_type": "stream",
     "text": [
      "Результаты, полученные с помощью MyPCA:\n",
      "[[ 2.68412563  0.31939725]\n",
      " [ 2.71414169 -0.17700123]\n",
      " [ 2.88899057 -0.14494943]\n",
      " [ 2.74534286 -0.31829898]\n",
      " [ 2.72871654  0.32675451]\n",
      " [ 2.28085963  0.74133045]\n",
      " [ 2.82053775 -0.08946138]\n",
      " [ 2.62614497  0.16338496]\n",
      " [ 2.88638273 -0.57831175]\n",
      " [ 2.6727558  -0.11377425]]\n"
     ]
    }
   ],
   "source": [
    "print(\"Результаты, полученные с помощью MyPCA:\")\n",
    "print(X_transformed[:10])"
   ]
  },
  {
   "cell_type": "code",
   "execution_count": 110,
   "id": "858d1b52-a9a5-4f2e-a1f0-65a65fd042d3",
   "metadata": {},
   "outputs": [
    {
     "name": "stdout",
     "output_type": "stream",
     "text": [
      "\n",
      "Результаты, полученные с помощью встроенной PCA:\n",
      "[[-2.68412563  0.31939725]\n",
      " [-2.71414169 -0.17700123]\n",
      " [-2.88899057 -0.14494943]\n",
      " [-2.74534286 -0.31829898]\n",
      " [-2.72871654  0.32675451]\n",
      " [-2.28085963  0.74133045]\n",
      " [-2.82053775 -0.08946138]\n",
      " [-2.62614497  0.16338496]\n",
      " [-2.88638273 -0.57831175]\n",
      " [-2.6727558  -0.11377425]]\n"
     ]
    }
   ],
   "source": [
    "print(\"\\nРезультаты, полученные с помощью встроенной PCA:\")\n",
    "print(res_pca[:10])"
   ]
  },
  {
   "cell_type": "code",
   "execution_count": 84,
   "id": "e8b5cb69-95ce-44b0-ab35-9b7aa26aeef1",
   "metadata": {},
   "outputs": [],
   "source": [
    "custom_pca = MyPCA(n_components=2)\n",
    "X_my_pca = custom_pca.fit_transform(X)\n",
    "\n",
    "sklearn_pca = PCA(n_components=2)\n",
    "X_pca = sklearn_pca.fit_transform(X)"
   ]
  },
  {
   "cell_type": "code",
   "execution_count": 85,
   "id": "68d0e4e2-5be8-470d-8492-42201cc3c9b0",
   "metadata": {},
   "outputs": [],
   "source": [
    "X_train, X_test, y_train, y_test = train_test_split(X, y, test_size=0.2, random_state=42)"
   ]
  },
  {
   "cell_type": "code",
   "execution_count": 86,
   "id": "5e75b97c-cad1-4adc-ac4d-f420bb0692d6",
   "metadata": {},
   "outputs": [],
   "source": [
    "def test_classifier(X_train, X_test, y_train, y_test, classifier):\n",
    "    classifier.fit(X_train, y_train)\n",
    "    y_pred = classifier.predict(X_test)\n",
    "    accuracy = accuracy_score(y_test, y_pred)\n",
    "    return accuracy"
   ]
  },
  {
   "cell_type": "code",
   "execution_count": 87,
   "id": "333a882c-cd83-4a81-843c-13fc311f7712",
   "metadata": {},
   "outputs": [],
   "source": [
    "knn_original = KNeighborsClassifier()\n",
    "tree_original = DecisionTreeClassifier()\n",
    "\n",
    "accuracy_knn_original = test_classifier(X_train, X_test, y_train, y_test, knn_original)\n",
    "accuracy_tree_original = test_classifier(X_train, X_test, y_train, y_test, tree_original)"
   ]
  },
  {
   "cell_type": "code",
   "execution_count": 88,
   "id": "4a0a6cc1-03a0-4105-9ee2-7fa1716e891b",
   "metadata": {},
   "outputs": [],
   "source": [
    "X_train_mypca, X_test_mypca, y_train_mypca, y_test_mypca = train_test_split(X_my_pca, y, test_size=0.2, random_state=42)\n",
    "\n",
    "X_train_pca, X_test_pca, y_train_pca, y_test_pca = train_test_split(X_pca, y, test_size=0.2, random_state=42)\n",
    "\n",
    "knn_pca = KNeighborsClassifier()\n",
    "tree_pca = DecisionTreeClassifier()\n",
    "\n",
    "accuracy_knn_pca = test_classifier(X_train_mypca, X_test_mypca, y_train_mypca, y_test_mypca, knn_pca)\n",
    "accuracy_tree_pca = test_classifier(X_train_pca, X_test_pca, y_train_pca, y_test_pca, tree_pca)"
   ]
  },
  {
   "cell_type": "code",
   "execution_count": 89,
   "id": "9b270ee6-d73a-4a09-859d-c26223db3cc1",
   "metadata": {},
   "outputs": [
    {
     "name": "stdout",
     "output_type": "stream",
     "text": [
      "Accuracy on original data:\n",
      "KNN: 1.0\n",
      "Decision Tree: 1.0\n",
      "\n",
      "Accuracy after PCA:\n",
      "KNN: 1.0\n",
      "Decision Tree: 1.0\n"
     ]
    }
   ],
   "source": [
    "\n",
    "print(\"Accuracy on original data:\")\n",
    "print(\"KNN:\", accuracy_knn_original)\n",
    "print(\"Decision Tree:\", accuracy_tree_original)\n",
    "\n",
    "print(\"\\nAccuracy after PCA:\")\n",
    "print(\"KNN:\", accuracy_knn_pca)\n",
    "print(\"Decision Tree:\", accuracy_tree_pca)\n"
   ]
  },
  {
   "cell_type": "code",
   "execution_count": 119,
   "id": "8ff459c8-59e1-4946-8f44-a30cea7c5778",
   "metadata": {},
   "outputs": [
    {
     "name": "stdout",
     "output_type": "stream",
     "text": [
      "Explained Variance Ratio (Sklearn): [0.92461872 0.05306648]\n",
      "Cumulative Variance Ratio (Sklearn): [0.92461872 0.97768521]\n",
      "Optimal Number of Components: 2\n",
      "KNN (Original Data) - Accuracy: 1.00\n",
      "KNN (Transformed Data) - Accuracy: 1.00\n",
      "-----\n",
      "Decision Tree (Original Data) - Accuracy: 1.00\n",
      "Decision Tree (Transformed Data) - Accuracy: 0.97\n",
      "-----\n"
     ]
    }
   ],
   "source": [
    "import numpy as np\n",
    "from sklearn.datasets import load_iris\n",
    "from sklearn.decomposition import PCA\n",
    "from sklearn.model_selection import train_test_split\n",
    "from sklearn.preprocessing import StandardScaler\n",
    "from sklearn.neighbors import KNeighborsClassifier\n",
    "from sklearn.svm import SVC\n",
    "from sklearn.tree import DecisionTreeClassifier\n",
    "from sklearn.metrics import accuracy_score\n",
    "\n",
    "# Загрузим датасет ирисов\n",
    "iris = load_iris()\n",
    "X, y = iris.data, iris.target\n",
    "\n",
    "\n",
    "pca_sklearn = PCA(n_components=2)\n",
    "X_transformed_sklearn = pca_sklearn.fit_transform(X)\n",
    "\n",
    "# Оценим степень потери данных\n",
    "explained_variance_ratio_sklearn = pca_sklearn.explained_variance_ratio_\n",
    "cumulative_variance_ratio_sklearn = np.cumsum(explained_variance_ratio_sklearn)\n",
    "\n",
    "print(\"Explained Variance Ratio (Sklearn):\", explained_variance_ratio_sklearn)\n",
    "print(\"Cumulative Variance Ratio (Sklearn):\", cumulative_variance_ratio_sklearn)\n",
    "\n",
    "# Выберем оптимальное количество компонент\n",
    "optimal_num_components = np.argmax(cumulative_variance_ratio_sklearn >= 0.95) + 1\n",
    "print(\"Optimal Number of Components:\", optimal_num_components)\n",
    "\n",
    "# Разделим данные на обучающий и тестовый наборы\n",
    "X_train, X_test, y_train, y_test = train_test_split(X, y, test_size=0.2, random_state=42)\n",
    "\n",
    "# Оценим точность различных алгоритмов классификации\n",
    "classifiers = {\n",
    "    \"KNN\": KNeighborsClassifier(),\n",
    "    \"Decision Tree\": DecisionTreeClassifier()\n",
    "}\n",
    "\n",
    "for name, clf in classifiers.items():\n",
    "    # Исходные данные\n",
    "    clf.fit(X_train, y_train)\n",
    "    y_pred_original = clf.predict(X_test)\n",
    "    accuracy_original = accuracy_score(y_test, y_pred_original)\n",
    "    print(f\"{name} (Original Data) - Accuracy: {accuracy_original:.2f}\")\n",
    "\n",
    "    # Данные после PCA\n",
    "    X_train_transformed = pca_sklearn.transform(X_train)\n",
    "    X_test_transformed = pca_sklearn.transform(X_test)\n",
    "\n",
    "    clf.fit(X_train_transformed, y_train)\n",
    "    y_pred_transformed = clf.predict(X_test_transformed)\n",
    "    accuracy_transformed = accuracy_score(y_test, y_pred_transformed)\n",
    "    print(f\"{name} (Transformed Data) - Accuracy: {accuracy_transformed:.2f}\")\n",
    "    print(\"-----\")\n"
   ]
  },
  {
   "cell_type": "code",
   "execution_count": 108,
   "id": "0f90f02f-f91c-4c9b-a75f-3319f20be7bd",
   "metadata": {},
   "outputs": [
    {
     "data": {
      "text/plain": [
       "array([1, 3, 6], dtype=int32)"
      ]
     },
     "execution_count": 108,
     "metadata": {},
     "output_type": "execute_result"
    }
   ],
   "source": [
    "a = np.array([1,2,3])\n",
    "np.cumsum(a)"
   ]
  },
  {
   "cell_type": "code",
   "execution_count": 123,
   "id": "0083c2e9-5c26-4a08-ad63-c5220d7bf66d",
   "metadata": {},
   "outputs": [],
   "source": [
    "knn_original = KNeighborsClassifier()\n",
    "tree_original = DecisionTreeClassifier()"
   ]
  },
  {
   "cell_type": "code",
   "execution_count": 124,
   "id": "7b75ded6-50f7-45a8-93f8-37406e2f7353",
   "metadata": {},
   "outputs": [],
   "source": [
    "from sklearn.preprocessing import MinMaxScaler\n",
    "scaler = MinMaxScaler()\n",
    "\n",
    "X_rescaled = scaler.fit_transform(X)"
   ]
  },
  {
   "cell_type": "code",
   "execution_count": 125,
   "id": "243a566b-2c37-47b0-8bd4-c2b6f78ef1e0",
   "metadata": {},
   "outputs": [],
   "source": [
    "accuracy_knn_original = test_classifier(X_train, X_test, y_train, y_test, knn_original)\n",
    "accuracy_tree_original = test_classifier(X_train, X_test, y_train, y_test, tree_original)"
   ]
  },
  {
   "cell_type": "code",
   "execution_count": 133,
   "id": "42507f3b-c062-4bd3-aef0-278c39a401e8",
   "metadata": {},
   "outputs": [],
   "source": [
    "pca = PCA(n_components = 0.95)\n",
    "reduced = pca.fit_transform(X_rescaled)\n"
   ]
  },
  {
   "cell_type": "code",
   "execution_count": 122,
   "id": "7cc9e730-1e1f-464f-ac5b-355b7d45fa0d",
   "metadata": {},
   "outputs": [
    {
     "data": {
      "text/plain": [
       "(150, 2)"
      ]
     },
     "execution_count": 122,
     "metadata": {},
     "output_type": "execute_result"
    }
   ],
   "source": [
    "reduced.shape"
   ]
  },
  {
   "cell_type": "code",
   "execution_count": 131,
   "id": "70390c6d-7eba-4ab0-bb5d-57cf7889132a",
   "metadata": {},
   "outputs": [],
   "source": [
    "X_train_pca, X_test_pca, y_train_pca, y_test_pca = train_test_split(reduced, y, test_size=0.2, random_state=42)\n",
    "\n",
    "knn_pca = KNeighborsClassifier(10)\n",
    "tree_pca = DecisionTreeClassifier()\n",
    "\n",
    "accuracy_knn_pca = test_classifier(X_train_pca, X_test_pca, y_train_pca, y_test_pca, knn_pca)\n",
    "accuracy_tree_pca = test_classifier(X_train_pca, X_test_pca, y_train_pca, y_test_pca, tree_pca)"
   ]
  },
  {
   "cell_type": "code",
   "execution_count": 132,
   "id": "6e3d4e69-f87c-469c-98a6-b7501cda5ac9",
   "metadata": {},
   "outputs": [
    {
     "name": "stdout",
     "output_type": "stream",
     "text": [
      "Accuracy on original data:\n",
      "KNN: 1.0\n",
      "Decision Tree: 1.0\n",
      "\n",
      "Accuracy after PCA:\n",
      "KNN: 0.9666666666666667\n",
      "Decision Tree: 0.9666666666666667\n"
     ]
    }
   ],
   "source": [
    "print(\"Accuracy on original data:\")\n",
    "print(\"KNN:\", accuracy_knn_original)\n",
    "print(\"Decision Tree:\", accuracy_tree_original)\n",
    "\n",
    "print(\"\\nAccuracy after PCA:\")\n",
    "print(\"KNN:\", accuracy_knn_pca)\n",
    "print(\"Decision Tree:\", accuracy_tree_pca)"
   ]
  },
  {
   "cell_type": "markdown",
   "id": "0b17d38d-f38a-4681-bce2-4b47c0a6e728",
   "metadata": {
    "tags": []
   },
   "source": [
    "<font color = 'red' size = 5>Задание 3 </font>"
   ]
  },
  {
   "cell_type": "code",
   "execution_count": 134,
   "id": "3831301c-a50a-4029-b270-1ac13235f629",
   "metadata": {},
   "outputs": [],
   "source": [
    "digits = datasets.load_digits()\n",
    "X = digits.data\n",
    "y = digits.target"
   ]
  },
  {
   "cell_type": "markdown",
   "id": "45c9b823-fc3c-4989-bc45-5894f580cb6d",
   "metadata": {},
   "source": [
    "1. Используя данные о рукописных цифрах произвести уменьшение размерности данных с помощью метода главных компонет.Реализовать собственный алгоритм, а также использовать встроенный.\n",
    "2. Оценить степень потери данных. \n",
    "3. Выберите оптимальное колиечество компонент в новых данных. \n",
    "4. Протестируйте точность различных алгоритмов классификации на исходном датасете и на преобразованном с помощью метода главных компонент. Дайте подробные выводы о различных комбинациях числа компонет и алгоритмах. "
   ]
  },
  {
   "cell_type": "code",
   "execution_count": 150,
   "id": "d638f23c-5059-423e-86e4-acc5223e1781",
   "metadata": {},
   "outputs": [],
   "source": [
    "X_train, X_test, y_train, y_test = train_test_split(X, y, test_size=0.2, random_state=42)"
   ]
  },
  {
   "cell_type": "code",
   "execution_count": 151,
   "id": "77d8f424-4880-47e2-8259-12ae5eb9ae76",
   "metadata": {},
   "outputs": [],
   "source": [
    "knn_original = KNeighborsClassifier()\n",
    "tree_original = DecisionTreeClassifier()"
   ]
  },
  {
   "cell_type": "code",
   "execution_count": 152,
   "id": "55260da1-fce8-473a-a0c5-06d06f89a4d8",
   "metadata": {},
   "outputs": [
    {
     "data": {
      "text/plain": [
       "(1797, 64)"
      ]
     },
     "execution_count": 152,
     "metadata": {},
     "output_type": "execute_result"
    }
   ],
   "source": [
    "from sklearn.preprocessing import MinMaxScaler\n",
    "scaler = MinMaxScaler()\n",
    "\n",
    "X_rescaled = scaler.fit_transform(X)\n",
    "X_rescaled.shape"
   ]
  },
  {
   "cell_type": "code",
   "execution_count": 153,
   "id": "1b43f466-e301-4e30-af76-921301c7e3bf",
   "metadata": {},
   "outputs": [],
   "source": [
    "accuracy_knn_original = test_classifier(X_train, X_test, y_train, y_test, knn_original)\n",
    "accuracy_tree_original = test_classifier(X_train, X_test, y_train, y_test, tree_original)"
   ]
  },
  {
   "cell_type": "code",
   "execution_count": 154,
   "id": "77d8e0f1-6bc7-4602-832f-cbf524730e77",
   "metadata": {},
   "outputs": [],
   "source": [
    "pca = PCA(n_components = 0.95)\n",
    "reduced = pca.fit_transform(X_rescaled)\n"
   ]
  },
  {
   "cell_type": "code",
   "execution_count": 155,
   "id": "d0c36d0e-5b91-409d-99e4-57ffac0ee7fd",
   "metadata": {},
   "outputs": [
    {
     "data": {
      "text/plain": [
       "(1797, 30)"
      ]
     },
     "execution_count": 155,
     "metadata": {},
     "output_type": "execute_result"
    }
   ],
   "source": [
    "reduced.shape"
   ]
  },
  {
   "cell_type": "code",
   "execution_count": 156,
   "id": "8561a289-a7cc-4c94-9178-2b505e68c2c9",
   "metadata": {},
   "outputs": [],
   "source": [
    "X_train_pca, X_test_pca, y_train_pca, y_test_pca = train_test_split(reduced, y, test_size=0.2, random_state=42)\n",
    "\n",
    "knn_pca = KNeighborsClassifier(10)\n",
    "tree_pca = DecisionTreeClassifier()\n",
    "\n",
    "accuracy_knn_pca = test_classifier(X_train_pca, X_test_pca, y_train_pca, y_test_pca, knn_pca)\n",
    "accuracy_tree_pca = test_classifier(X_train_pca, X_test_pca, y_train_pca, y_test_pca, tree_pca)"
   ]
  },
  {
   "cell_type": "code",
   "execution_count": 157,
   "id": "5b60b1fb-8b5f-4f23-ad14-80db75923cce",
   "metadata": {},
   "outputs": [
    {
     "name": "stdout",
     "output_type": "stream",
     "text": [
      "Accuracy on original data:\n",
      "KNN: 0.9861111111111112\n",
      "Decision Tree: 0.8555555555555555\n",
      "\n",
      "Accuracy after PCA:\n",
      "KNN: 0.9861111111111112\n",
      "Decision Tree: 0.8527777777777777\n"
     ]
    }
   ],
   "source": [
    "print(\"Accuracy on original data:\")\n",
    "print(\"KNN:\", accuracy_knn_original)\n",
    "print(\"Decision Tree:\", accuracy_tree_original)\n",
    "\n",
    "print(\"\\nAccuracy after PCA:\")\n",
    "print(\"KNN:\", accuracy_knn_pca)\n",
    "print(\"Decision Tree:\", accuracy_tree_pca)"
   ]
  },
  {
   "cell_type": "code",
   "execution_count": null,
   "id": "3a07a654-694e-44eb-b751-3b9b9caccf2e",
   "metadata": {},
   "outputs": [],
   "source": []
  },
  {
   "cell_type": "markdown",
   "id": "335bbc70-c750-4c53-8ead-57246a8666d1",
   "metadata": {},
   "source": [
    "<font color = 'red' size = 5>Задание 4 </font>"
   ]
  },
  {
   "cell_type": "markdown",
   "id": "afdc7283-1d70-4d3f-a1f3-aa1e9f815af6",
   "metadata": {},
   "source": [
    "Вычислениями подвердите связь [сингулярного разложения матрицы](https://neerc.ifmo.ru/wiki/index.php?title=%D0%A1%D0%B8%D0%BD%D0%B3%D1%83%D0%BB%D1%8F%D1%80%D0%BD%D0%BE%D0%B5_%D1%80%D0%B0%D0%B7%D0%BB%D0%BE%D0%B6%D0%B5%D0%BD%D0%B8%D0%B5) с методом главных компонент. Приведите практический пример."
   ]
  },
  {
   "cell_type": "markdown",
   "id": "00d03c9b-3534-4f88-ad30-23f3b7356bd4",
   "metadata": {},
   "source": [
    "Формулу сингулярного разложения $A = UΛV^T$ можно переформулировать в геометрических терминах. Линейный оператор, отображающий\n",
    "элементы пространства $R^m$ в элементы пространства  $R^n$ представим в виде последовательно выполняемых линейных операций вращения, растяжения и вращения. "
   ]
  },
  {
   "cell_type": "markdown",
   "id": "e6cb6639-4eef-4395-afca-017e7d938cde",
   "metadata": {},
   "source": [
    "Сингулярное разложение обладает свойством, которое связывает задачу отыскания\n",
    "сингулярного разложения и задачу отыскания собственных векторов. (Собственный\n",
    "вектор x матрицы A — такой вектор, при котором выполняется условие Ax = λx,\n",
    "число λ называется собственным числом.) Так как матрицы $U$ и $V$ ортогональные, то\n",
    "есть\n",
    "$$U^TU = V V^T = I, (4) $$\n",
    "где I — единичная матрица размерности r × r, то из (4) следует, что\n",
    "$$AA^T = UΛV^T V ΛU^T = UΛ^2U^T\n",
    "$$\n",
    "$$A^TA = V ΛU^TUΛV^T = V Λ^2V^T (5)$$\n",
    "\n",
    "Умножая оба выражения справа соответственно на $U$ и $V$:\n",
    "$$AA^TU = UΛ^2$$\n",
    "$$A^TAV = V Λ^2. (6)$$\n",
    "\n",
    "Из этого выражения следует, что столбцы матрицы $U$ - собственные векторы матрицы $AA^T$\n",
    ", а квадраты сингулярных чисел $Λ = diag(λ1, ..., λr)$ ее собственные\n",
    "значения. Также столбцы матрицы $V$ являются собственными векторами матрицы\n",
    "$A^TA$, а квадраты сингулярных чисел являются ее собственными значениями.\n"
   ]
  },
  {
   "cell_type": "code",
   "execution_count": 162,
   "id": "c8e68cd6-e67d-4e65-9aaa-9422a85f4b64",
   "metadata": {},
   "outputs": [],
   "source": [
    "import numpy as np\n",
    "from sklearn.decomposition import PCA\n",
    "from numpy.linalg import svd\n",
    "\n",
    "np.random.seed(0)  \n",
    "X = np.random.randn(5, 3)  \n",
    "\n",
    "X_centered = X - np.mean(X, axis=0)"
   ]
  },
  {
   "cell_type": "code",
   "execution_count": 163,
   "id": "46361baf-2985-47ba-962f-2884e44849d2",
   "metadata": {},
   "outputs": [
    {
     "name": "stdout",
     "output_type": "stream",
     "text": [
      "PCA компоненты (направления главных компонент):\n",
      "[[ 0.51356804  0.55749392 -0.65226405]\n",
      " [-0.46282974 -0.46011835 -0.75768049]]\n",
      "Дисперсии по каждой из главных компонент:\n",
      "[1.68684967 0.3132443 ]\n"
     ]
    }
   ],
   "source": [
    "pca = PCA(n_components=2)  # Уменьшаем размерность до 2\n",
    "pca.fit(X_centered)\n",
    "X_pca = pca.transform(X_centered)\n",
    "\n",
    "print(\"PCA компоненты (направления главных компонент):\")\n",
    "print(pca.components_)\n",
    "print(\"Дисперсии по каждой из главных компонент:\")\n",
    "print(pca.explained_variance_)\n"
   ]
  },
  {
   "cell_type": "code",
   "execution_count": 164,
   "id": "dddd0843-c189-406e-8cf3-6fb7e514891f",
   "metadata": {},
   "outputs": [
    {
     "name": "stdout",
     "output_type": "stream",
     "text": [
      "SVD компоненты (Vt):\n",
      "[[-0.51356804 -0.55749392  0.65226405]\n",
      " [ 0.46282974  0.46011835  0.75768049]]\n",
      "Сингулярные значения:\n",
      "[2.59757554 1.11936464]\n"
     ]
    }
   ],
   "source": [
    "U, S, Vt = svd(X_centered)\n",
    "S_matrix = np.diag(S[:2])  # Оставляем только первые два сингулярных значения для 2 компонент\n",
    "\n",
    "print(\"SVD компоненты (Vt):\")\n",
    "print(Vt[:2, :])\n",
    "print(\"Сингулярные значения:\")\n",
    "print(S[:2])\n"
   ]
  },
  {
   "cell_type": "code",
   "execution_count": 171,
   "id": "483271c6-56a8-4412-8c90-3ec1f3bbeb96",
   "metadata": {},
   "outputs": [
    {
     "data": {
      "text/plain": [
       "1.0580003024574236"
      ]
     },
     "execution_count": 171,
     "metadata": {},
     "output_type": "execute_result"
    }
   ],
   "source": [
    "import math\n",
    "\n",
    "math.sqrt(1.11936464)"
   ]
  },
  {
   "cell_type": "code",
   "execution_count": 184,
   "id": "fda6328b-0159-47eb-84e2-9e6b688e7648",
   "metadata": {},
   "outputs": [
    {
     "name": "stdout",
     "output_type": "stream",
     "text": [
      "Сингулярные значения (SVD): [0.607 0.343]\n",
      "Корни из собственных значений (ковариационная матрица): [0.243 0.429]\n"
     ]
    }
   ],
   "source": [
    "np.random.seed(42)\n",
    "X = np.random.rand(3, 2)\n",
    "\n",
    "X_centered = X - np.mean(X, axis=0)\n",
    "\n",
    "U, Sigma, Vt = np.linalg.svd(X_centered)\n",
    "\n",
    "covariance_matrix = np.cov(X_centered, rowvar=False)\n",
    "eigenvalues, eigenvectors = np.linalg.eig(covariance_matrix)\n",
    "\n",
    "sqrt_eigenvalues = np.sqrt(eigenvalues)\n",
    "\n",
    "\n",
    "print(\"Сингулярные значения (SVD):\", Sigma)\n",
    "print(\"Корни из собственных значений (ковариационная матрица):\", sqrt_eigenvalues)\n",
    "\n"
   ]
  },
  {
   "cell_type": "markdown",
   "id": "edd02552-d2c6-47cd-be52-96d350545d26",
   "metadata": {
    "tags": []
   },
   "source": [
    "<font color = 'red' size = 5>Задание 5 </font>\n",
    "\n",
    "1. Проверьте ваши навыки поиска новых компонент для любых данных из предыдущих ЛР. Можно ли оценить вклад исходных фич в новые компоненты?\n",
    "2. *Метод главных компонент не очень подходит для категориальных признаков. Предложите вариант корреляционного анализа и отбора таких признаков*.* "
   ]
  },
  {
   "cell_type": "code",
   "execution_count": null,
   "id": "1ab220c4-a0fc-4528-8e0f-b9e93318c4c6",
   "metadata": {},
   "outputs": [],
   "source": []
  },
  {
   "cell_type": "code",
   "execution_count": 185,
   "id": "9a3c28b4-721d-4d51-9401-ead28d7cd967",
   "metadata": {},
   "outputs": [
    {
     "name": "stdout",
     "output_type": "stream",
     "text": [
      "Веса исходных признаков в главных компонентах:\n",
      "[[-0.471 -0.113]\n",
      " [-0.521  0.066]\n",
      " [ 0.296 -0.492]\n",
      " [-0.247 -0.849]\n",
      " [ 0.598 -0.139]]\n",
      "Объясненная дисперсия для каждой главной компоненты:\n",
      "[0.455 0.268]\n"
     ]
    }
   ],
   "source": [
    "from sklearn.decomposition import PCA\n",
    "import numpy as np\n",
    "\n",
    "# Предположим, X - это наша матрица данных, где строки - это наблюдения, а столбцы - исходные признаки\n",
    "# Здесь генерируется случайный набор данных для демонстрации\n",
    "np.random.seed(0)\n",
    "X = np.random.rand(10, 5)  # 10 наблюдений и 5 признаков\n",
    "\n",
    "# Инициализируем PCA, где n_components указывает на число главных компонент, которые мы хотим получить\n",
    "pca = PCA(n_components=2)\n",
    "pca.fit(X)\n",
    "\n",
    "# Получаем загрузки для главных компонент\n",
    "loadings = pca.components_.T  # Транспонируем, чтобы получить веса в удобном формате\n",
    "\n",
    "# Выводим вклад каждого исходного признака в каждую главную компоненту\n",
    "print(\"Веса исходных признаков в главных компонентах:\")\n",
    "print(loadings)\n",
    "\n",
    "# Можно также посмотреть объясненную дисперсию каждой компоненты\n",
    "explained_variance = pca.explained_variance_ratio_\n",
    "print(\"Объясненная дисперсия для каждой главной компоненты:\")\n",
    "print(explained_variance)\n"
   ]
  },
  {
   "cell_type": "code",
   "execution_count": 186,
   "id": "c5e132d4-e6f8-4b07-81aa-ce076e931594",
   "metadata": {},
   "outputs": [],
   "source": [
    "heart = pd.read_csv('heart.csv')"
   ]
  },
  {
   "cell_type": "code",
   "execution_count": 187,
   "id": "b3edfd01-f9ce-4c30-8f98-f2953e9fb62b",
   "metadata": {},
   "outputs": [
    {
     "data": {
      "text/html": [
       "<div>\n",
       "<style scoped>\n",
       "    .dataframe tbody tr th:only-of-type {\n",
       "        vertical-align: middle;\n",
       "    }\n",
       "\n",
       "    .dataframe tbody tr th {\n",
       "        vertical-align: top;\n",
       "    }\n",
       "\n",
       "    .dataframe thead th {\n",
       "        text-align: right;\n",
       "    }\n",
       "</style>\n",
       "<table border=\"1\" class=\"dataframe\">\n",
       "  <thead>\n",
       "    <tr style=\"text-align: right;\">\n",
       "      <th></th>\n",
       "      <th>age</th>\n",
       "      <th>sex</th>\n",
       "      <th>cp</th>\n",
       "      <th>trtbps</th>\n",
       "      <th>chol</th>\n",
       "      <th>fbs</th>\n",
       "      <th>restecg</th>\n",
       "      <th>thalachh</th>\n",
       "      <th>exng</th>\n",
       "      <th>oldpeak</th>\n",
       "      <th>slp</th>\n",
       "      <th>caa</th>\n",
       "      <th>thall</th>\n",
       "      <th>output</th>\n",
       "    </tr>\n",
       "  </thead>\n",
       "  <tbody>\n",
       "    <tr>\n",
       "      <th>0</th>\n",
       "      <td>63</td>\n",
       "      <td>1</td>\n",
       "      <td>3</td>\n",
       "      <td>145</td>\n",
       "      <td>233</td>\n",
       "      <td>1</td>\n",
       "      <td>0</td>\n",
       "      <td>150</td>\n",
       "      <td>0</td>\n",
       "      <td>2.3</td>\n",
       "      <td>0</td>\n",
       "      <td>0</td>\n",
       "      <td>1</td>\n",
       "      <td>1</td>\n",
       "    </tr>\n",
       "    <tr>\n",
       "      <th>1</th>\n",
       "      <td>37</td>\n",
       "      <td>1</td>\n",
       "      <td>2</td>\n",
       "      <td>130</td>\n",
       "      <td>250</td>\n",
       "      <td>0</td>\n",
       "      <td>1</td>\n",
       "      <td>187</td>\n",
       "      <td>0</td>\n",
       "      <td>3.5</td>\n",
       "      <td>0</td>\n",
       "      <td>0</td>\n",
       "      <td>2</td>\n",
       "      <td>1</td>\n",
       "    </tr>\n",
       "    <tr>\n",
       "      <th>2</th>\n",
       "      <td>41</td>\n",
       "      <td>0</td>\n",
       "      <td>1</td>\n",
       "      <td>130</td>\n",
       "      <td>204</td>\n",
       "      <td>0</td>\n",
       "      <td>0</td>\n",
       "      <td>172</td>\n",
       "      <td>0</td>\n",
       "      <td>1.4</td>\n",
       "      <td>2</td>\n",
       "      <td>0</td>\n",
       "      <td>2</td>\n",
       "      <td>1</td>\n",
       "    </tr>\n",
       "    <tr>\n",
       "      <th>3</th>\n",
       "      <td>56</td>\n",
       "      <td>1</td>\n",
       "      <td>1</td>\n",
       "      <td>120</td>\n",
       "      <td>236</td>\n",
       "      <td>0</td>\n",
       "      <td>1</td>\n",
       "      <td>178</td>\n",
       "      <td>0</td>\n",
       "      <td>0.8</td>\n",
       "      <td>2</td>\n",
       "      <td>0</td>\n",
       "      <td>2</td>\n",
       "      <td>1</td>\n",
       "    </tr>\n",
       "    <tr>\n",
       "      <th>4</th>\n",
       "      <td>57</td>\n",
       "      <td>0</td>\n",
       "      <td>0</td>\n",
       "      <td>120</td>\n",
       "      <td>354</td>\n",
       "      <td>0</td>\n",
       "      <td>1</td>\n",
       "      <td>163</td>\n",
       "      <td>1</td>\n",
       "      <td>0.6</td>\n",
       "      <td>2</td>\n",
       "      <td>0</td>\n",
       "      <td>2</td>\n",
       "      <td>1</td>\n",
       "    </tr>\n",
       "    <tr>\n",
       "      <th>...</th>\n",
       "      <td>...</td>\n",
       "      <td>...</td>\n",
       "      <td>...</td>\n",
       "      <td>...</td>\n",
       "      <td>...</td>\n",
       "      <td>...</td>\n",
       "      <td>...</td>\n",
       "      <td>...</td>\n",
       "      <td>...</td>\n",
       "      <td>...</td>\n",
       "      <td>...</td>\n",
       "      <td>...</td>\n",
       "      <td>...</td>\n",
       "      <td>...</td>\n",
       "    </tr>\n",
       "    <tr>\n",
       "      <th>298</th>\n",
       "      <td>57</td>\n",
       "      <td>0</td>\n",
       "      <td>0</td>\n",
       "      <td>140</td>\n",
       "      <td>241</td>\n",
       "      <td>0</td>\n",
       "      <td>1</td>\n",
       "      <td>123</td>\n",
       "      <td>1</td>\n",
       "      <td>0.2</td>\n",
       "      <td>1</td>\n",
       "      <td>0</td>\n",
       "      <td>3</td>\n",
       "      <td>0</td>\n",
       "    </tr>\n",
       "    <tr>\n",
       "      <th>299</th>\n",
       "      <td>45</td>\n",
       "      <td>1</td>\n",
       "      <td>3</td>\n",
       "      <td>110</td>\n",
       "      <td>264</td>\n",
       "      <td>0</td>\n",
       "      <td>1</td>\n",
       "      <td>132</td>\n",
       "      <td>0</td>\n",
       "      <td>1.2</td>\n",
       "      <td>1</td>\n",
       "      <td>0</td>\n",
       "      <td>3</td>\n",
       "      <td>0</td>\n",
       "    </tr>\n",
       "    <tr>\n",
       "      <th>300</th>\n",
       "      <td>68</td>\n",
       "      <td>1</td>\n",
       "      <td>0</td>\n",
       "      <td>144</td>\n",
       "      <td>193</td>\n",
       "      <td>1</td>\n",
       "      <td>1</td>\n",
       "      <td>141</td>\n",
       "      <td>0</td>\n",
       "      <td>3.4</td>\n",
       "      <td>1</td>\n",
       "      <td>2</td>\n",
       "      <td>3</td>\n",
       "      <td>0</td>\n",
       "    </tr>\n",
       "    <tr>\n",
       "      <th>301</th>\n",
       "      <td>57</td>\n",
       "      <td>1</td>\n",
       "      <td>0</td>\n",
       "      <td>130</td>\n",
       "      <td>131</td>\n",
       "      <td>0</td>\n",
       "      <td>1</td>\n",
       "      <td>115</td>\n",
       "      <td>1</td>\n",
       "      <td>1.2</td>\n",
       "      <td>1</td>\n",
       "      <td>1</td>\n",
       "      <td>3</td>\n",
       "      <td>0</td>\n",
       "    </tr>\n",
       "    <tr>\n",
       "      <th>302</th>\n",
       "      <td>57</td>\n",
       "      <td>0</td>\n",
       "      <td>1</td>\n",
       "      <td>130</td>\n",
       "      <td>236</td>\n",
       "      <td>0</td>\n",
       "      <td>0</td>\n",
       "      <td>174</td>\n",
       "      <td>0</td>\n",
       "      <td>0.0</td>\n",
       "      <td>1</td>\n",
       "      <td>1</td>\n",
       "      <td>2</td>\n",
       "      <td>0</td>\n",
       "    </tr>\n",
       "  </tbody>\n",
       "</table>\n",
       "<p>303 rows × 14 columns</p>\n",
       "</div>"
      ],
      "text/plain": [
       "     age  sex  cp  trtbps  chol  fbs  restecg  thalachh  exng  oldpeak  slp  \\\n",
       "0     63    1   3     145   233    1        0       150     0      2.3    0   \n",
       "1     37    1   2     130   250    0        1       187     0      3.5    0   \n",
       "2     41    0   1     130   204    0        0       172     0      1.4    2   \n",
       "3     56    1   1     120   236    0        1       178     0      0.8    2   \n",
       "4     57    0   0     120   354    0        1       163     1      0.6    2   \n",
       "..   ...  ...  ..     ...   ...  ...      ...       ...   ...      ...  ...   \n",
       "298   57    0   0     140   241    0        1       123     1      0.2    1   \n",
       "299   45    1   3     110   264    0        1       132     0      1.2    1   \n",
       "300   68    1   0     144   193    1        1       141     0      3.4    1   \n",
       "301   57    1   0     130   131    0        1       115     1      1.2    1   \n",
       "302   57    0   1     130   236    0        0       174     0      0.0    1   \n",
       "\n",
       "     caa  thall  output  \n",
       "0      0      1       1  \n",
       "1      0      2       1  \n",
       "2      0      2       1  \n",
       "3      0      2       1  \n",
       "4      0      2       1  \n",
       "..   ...    ...     ...  \n",
       "298    0      3       0  \n",
       "299    0      3       0  \n",
       "300    2      3       0  \n",
       "301    1      3       0  \n",
       "302    1      2       0  \n",
       "\n",
       "[303 rows x 14 columns]"
      ]
     },
     "execution_count": 187,
     "metadata": {},
     "output_type": "execute_result"
    }
   ],
   "source": [
    "heart"
   ]
  },
  {
   "cell_type": "code",
   "execution_count": 188,
   "id": "7773f7ce-4ecc-405c-81e7-102346501800",
   "metadata": {},
   "outputs": [],
   "source": [
    "X = heart.drop('output', axis=1) \n",
    "y = heart['output']"
   ]
  },
  {
   "cell_type": "code",
   "execution_count": 209,
   "id": "7d38d2cb-496a-4c04-9bae-38af6eeab6cb",
   "metadata": {},
   "outputs": [],
   "source": [
    "X_centered = X - X.mean()\n",
    "\n",
    "\n",
    "pca = PCA(0.999)\n",
    "pca_result = pca.fit_transform(X_centered)"
   ]
  },
  {
   "cell_type": "code",
   "execution_count": 210,
   "id": "2d906473-3570-4344-855f-0ea1703de32f",
   "metadata": {},
   "outputs": [
    {
     "data": {
      "text/plain": [
       "(303, 5)"
      ]
     },
     "execution_count": 210,
     "metadata": {},
     "output_type": "execute_result"
    }
   ],
   "source": [
    "pca_result.shape"
   ]
  },
  {
   "cell_type": "code",
   "execution_count": 211,
   "id": "96176a3e-b8dd-4d8d-8965-30c6610a2042",
   "metadata": {},
   "outputs": [],
   "source": [
    "explained_variance_ratio = pca.explained_variance_ratio_"
   ]
  },
  {
   "cell_type": "code",
   "execution_count": 212,
   "id": "b512dcd3-6fdd-4e3c-9525-6a51d2d722eb",
   "metadata": {},
   "outputs": [
    {
     "data": {
      "image/png": "[encoded data removed]",
      "text/plain": [
       "<Figure size 432x288 with 1 Axes>"
      ]
     },
     "metadata": {
      "needs_background": "light"
     },
     "output_type": "display_data"
    },
    {
     "name": "stdout",
     "output_type": "stream",
     "text": [
      "Матрица загрузок:\n",
      "               PC1       PC2       PC3       PC4       PC5\n",
      "age       0.039461  0.182186  0.125505  0.974046 -0.009427\n",
      "sex      -0.001783  0.000794 -0.001065 -0.004635  0.078311\n",
      "cp       -0.001537 -0.012542  0.006163  0.009262 -0.333646\n",
      "trtbps    0.047588  0.103810  0.982278 -0.148034 -0.009790\n",
      "chol      0.998053 -0.019425 -0.050865 -0.030251 -0.001344\n",
      "fbs       0.000116  0.000462  0.003665  0.003434 -0.001464\n",
      "restecg  -0.001552 -0.001202 -0.002710 -0.002959 -0.026307\n",
      "thalachh -0.007358 -0.977189  0.128926  0.166484  0.024082\n",
      "exng      0.000631  0.007548 -0.000029 -0.007024  0.111906\n",
      "oldpeak   0.001330  0.017941  0.009214 -0.000803  0.782758\n",
      "slp      -0.000100 -0.010427 -0.002302  0.003223 -0.231634\n",
      "caa       0.001468  0.010110  0.004197  0.022350  0.419085\n",
      "thall     0.001182  0.002592  0.001217 -0.000867  0.162995\n"
     ]
    }
   ],
   "source": [
    "\n",
    "explained_variance_ratio = pca.explained_variance_ratio_\n",
    "cumulative_variance_ratio = explained_variance_ratio.cumsum()\n",
    "\n",
    "plt.plot(range(1, len(explained_variance_ratio) + 1), cumulative_variance_ratio, marker='o', linestyle='--')\n",
    "plt.xlabel('Количество компонент')\n",
    "plt.ylabel('Кумулятивная объясненная дисперсия')\n",
    "plt.title('Кумулятивная объясненная дисперсия от количества компонент')\n",
    "plt.show()\n",
    "\n",
    "\n",
    "loadings_matrix = pd.DataFrame(pca.components_.T, columns=[f'PC{i}' for i in range(1, len(pca.components_)+1)], index=X.columns)\n",
    "print(\"Матрица загрузок:\")\n",
    "print(loadings_matrix)\n"
   ]
  },
  {
   "cell_type": "markdown",
   "id": "8f515b91-48c8-4209-938a-49faeec313b5",
   "metadata": {},
   "source": [
    "## Полезные ссылки"
   ]
  },
  {
   "cell_type": "markdown",
   "id": "940794f5-b9ee-4dcc-9d55-57029723f214",
   "metadata": {},
   "source": [
    "1. [Хорошая статья на русском о PCA](https://habr.com/ru/post/304214/)\n",
    "2. [sklearn PCA doc](https://scikit-learn.org/stable/modules/generated/sklearn.decomposition.PCA.html)\n",
    "3. [Выбор количества компонент](https://www.mikulskibartosz.name/pca-how-to-choose-the-number-of-components/)\n",
    "4. [PCA через сингулярное разложение](https://towardsdatascience.com/pca-and-svd-explained-with-numpy-5d13b0d2a4d8)"
   ]
  }
 ],
 "metadata": {
  "kernelspec": {
   "display_name": "Python 3 (ipykernel)",
   "language": "python",
   "name": "python3"
  },
  "language_info": {
   "codemirror_mode": {
    "name": "ipython",
    "version": 3
   },
   "file_extension": ".py",
   "mimetype": "text/x-python",
   "name": "python",
   "nbconvert_exporter": "python",
   "pygments_lexer": "ipython3",
   "version": "3.9.7"
  }
 },
 "nbformat": 4,
 "nbformat_minor": 5
}
