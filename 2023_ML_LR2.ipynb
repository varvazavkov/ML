{
 "cells": [
  {
   "cell_type": "code",
   "execution_count": 1,
   "id": "338d3b61",
   "metadata": {},
   "outputs": [],
   "source": [
    "import numpy as np\n",
    "import numdifftools as nd\n",
    "import matplotlib.pyplot as plt\n",
    "import pandas as pd"
   ]
  },
  {
   "cell_type": "markdown",
   "id": "846de5f5",
   "metadata": {},
   "source": [
    "# <font color = 'red'> ЛР 2. Дифференцирование функций многих переменных. Линейная регрессия по произвольному базису. </font>"
   ]
  },
  {
   "cell_type": "markdown",
   "id": "be203bc0",
   "metadata": {},
   "source": [
    "Сложность: <font color = 'orange'> Нормально  </font>.\n",
    "\n",
    "Дата составления: 07.09.2023\n",
    "\n",
    "Срок выполнения: 2 недели (с момента первой практики после выдачи).\n",
    "\n",
    "Автор: ст. преподаватель Кушнеров А.В."
   ]
  },
  {
   "cell_type": "markdown",
   "id": "5c9f72d2",
   "metadata": {},
   "source": [
    "## <font color = 'green'> 1. Дифференцирование функции векторного аргумента. База.  </font>"
   ]
  },
  {
   "cell_type": "markdown",
   "id": "17525728",
   "metadata": {},
   "source": [
    "Вспоминаем понятие дифференцирования.\n",
    "\n",
    "Пусть, для начала, $f$ - функция одного аргумента, возвращающая один аргумент. Иными словами, $f:\\mathbb{R} \\rightarrow \\mathbb{R}$.\n",
    "\n",
    "Говорят, что $f$ **дифференцируема** в точке $x_{0}$, если существует конечный предел: $$\\lim\\limits_{h \\to 0} \\frac{f(x_{0}+h) - f(x_{0})}{h} = f'(x_{0})$$.\n",
    "\n",
    "Его называют производной функции в точке $x_{0}$.  Это жу информацию можно записать в дифференциальной форме:  $$f(x_{0}+h) - f(x_{0}) = f'(x_{0}) h + o(h) = [Df_{x_{0}}](h) + o(h)$$.Величину $f'(x_{0}) h = [Df_{x_{0}}](h)$ называют **дифференциалом функции**.\n",
    "\n",
    "\n",
    "Теперь предположим, что функция $f$ работает несколько иначе. Теперь она принимает на вход векторный аргумент, а возвращает всё ещё скалярный $f:\\mathbb{R^{m}} \\rightarrow \\mathbb{R}$. \n",
    "\n",
    "Теперь понятие дифференциала вводят несколько иначе. Мы всё также можем записать: $$f(\\overline{x_{0}}+\\overline{h}) - f(\\overline{x_{0}}) = \\sum\\limits_{j=1}^m \\frac{\\partial f}{\\partial x_{m}}\\bigg\\rvert_{x=\\overline{x_{0}}}h_{i} = [Df_{x_{0}}](\\overline{h}) + o(||\\overline{h}||)$$.\n",
    "\n",
    "Или же в более сжатой форме: $$f(\\overline{x_{0}}+\\overline{h}) - f(\\overline{x_{0}}) = (\\nabla_{x_{0}} f)\\cdot\\overline{h} + o(||\\overline{h}||) $$\n",
    "\n",
    "Под производной в этом случае понимают **вектор** (чаще его пищут в виде вектор-столбца) градиента $\\nabla_{x_{0}} f = \\begin{bmatrix} \\frac{\\partial f}{\\partial x_{1}}\\\\ \\frac{\\partial f}{\\partial x_{2}}\\\\...\\\\\\frac{\\partial f}{\\partial x_{m}} \\end{bmatrix}\\bigg\\rvert_{x=\\overline{x_{0}}}$.\n",
    "\n",
    "В МО мы вынуждены работать с задачами оптимизации как раз таких функций, что немедленно отсылает нас к производным. В частности, используя лекционные записи, вы легко можете получить две несложных формулы матричного дифференцирования.\n",
    "\n",
    "1. Если функция $f(\\overline{x}) = \\overline{a}^{T} \\cdot\\overline{x}$, то $f'(\\overline{x}) = \\overline{a} $. Где $\\overline{x},\\overline{a} $ - вектор столбцы.\n",
    "\n",
    "2.  Если функция $f(\\overline{x}) = \\overline{x}^{T} A\\overline{x}$, то $f'(\\overline{x}) = (A+A^{T})\\overline{x} $. Где $\\overline{x}$ - вектор столбец, $A$ - квадратная матрица соответсвующего размера.\n",
    "\n",
    "\n",
    "В будущем, возможно, мы дополним список. А пока можете поупражняться [самостоятельно](https://atmos.washington.edu/~dennis/MatrixCalculus.pdf). \n",
    "\n",
    "\n",
    "Теперь проверим справедливость формулы 2."
   ]
  },
  {
   "cell_type": "code",
   "execution_count": 2,
   "id": "034be24a",
   "metadata": {},
   "outputs": [
    {
     "data": {
      "text/plain": [
       "array([[2, 0, 6, 4, 9, 5, 8, 3, 1, 1],\n",
       "       [1, 9, 1, 5, 5, 4, 3, 0, 0, 1],\n",
       "       [9, 8, 8, 5, 4, 5, 2, 8, 0, 5],\n",
       "       [4, 1, 8, 8, 5, 9, 9, 8, 2, 6],\n",
       "       [4, 4, 7, 8, 3, 3, 2, 5, 9, 0],\n",
       "       [5, 6, 6, 6, 8, 8, 5, 3, 5, 2],\n",
       "       [4, 0, 3, 2, 8, 5, 1, 3, 9, 2],\n",
       "       [6, 3, 4, 2, 0, 7, 3, 4, 9, 0],\n",
       "       [5, 5, 2, 7, 7, 1, 0, 8, 7, 9],\n",
       "       [3, 2, 3, 3, 9, 6, 8, 0, 5, 5]])"
      ]
     },
     "execution_count": 2,
     "metadata": {},
     "output_type": "execute_result"
    }
   ],
   "source": [
    "A = np.random.randint(10,size =(10,10))\n",
    "A"
   ]
  },
  {
   "cell_type": "code",
   "execution_count": 3,
   "id": "6b3240e6",
   "metadata": {},
   "outputs": [],
   "source": [
    "def func(x): \n",
    "    return np.dot(np.dot(x.T,A),x) #задаём вектор-функцию согласно формуле 2"
   ]
  },
  {
   "cell_type": "code",
   "execution_count": 4,
   "id": "64df4c5b",
   "metadata": {},
   "outputs": [
    {
     "data": {
      "text/plain": [
       "array([0, 1, 2, 3, 4, 5, 6, 7, 8, 9])"
      ]
     },
     "execution_count": 4,
     "metadata": {},
     "output_type": "execute_result"
    }
   ],
   "source": [
    "x0 = np.arange(0,10) # конкретные значения x0\n",
    "x0"
   ]
  },
  {
   "cell_type": "code",
   "execution_count": 5,
   "id": "05f341d1",
   "metadata": {},
   "outputs": [
    {
     "data": {
      "text/plain": [
       "array([376., 246., 381., 496., 453., 451., 352., 355., 541., 384.])"
      ]
     },
     "execution_count": 5,
     "metadata": {},
     "output_type": "execute_result"
    }
   ],
   "source": [
    "grad = nd.Gradient(func)(x0) #находим производную в точке x0(градиент) встроенными численными методами\n",
    "grad"
   ]
  },
  {
   "cell_type": "code",
   "execution_count": 6,
   "id": "860b66cc",
   "metadata": {},
   "outputs": [
    {
     "data": {
      "text/plain": [
       "array([376, 246, 381, 496, 453, 451, 352, 355, 541, 384])"
      ]
     },
     "execution_count": 6,
     "metadata": {},
     "output_type": "execute_result"
    }
   ],
   "source": [
    "np.dot(A + A.T,x0) # а теперь по нашей формуле. Всё сходится."
   ]
  },
  {
   "cell_type": "markdown",
   "id": "93a43162",
   "metadata": {},
   "source": [
    "<font color = 'red' size = 5>Задание 1 </font>\n",
    "\n",
    "1. Изучите подробно формулы полученные выше. Попрактикуйтесь самостоятельно в их выводе.\n",
    "2. Получите ещё 2 любых формулы для подобного матричного или векторного дифференцирования. Вывод формул кратко оформите в документе.\n",
    "3. Проверьте справедливость полученных вами формул с помощью встроенных функций пакета numdifftools."
   ]
  },
  {
   "cell_type": "markdown",
   "id": "4bce5302",
   "metadata": {},
   "source": [
    "### 1. $\\alpha = x^T x$\n",
    "\n",
    "$\\alpha$ - скаляр,  $x$ - $n$x1, $x$ - функция от вектора $z$. Тогда:\n",
    "\n",
    "$$\\displaystyle \\frac{\\partial \\alpha}{\\partial z} = 2x^T  \\displaystyle \\frac{\\partial x}{\\partial z}$$\n",
    "\n",
    "Доказательство.\n",
    "\n",
    "$\\alpha = \\sum \\limits_{i=1}^{n} x_{i}x_{i} ,  \\forall k = 1,2, ..., n$\n",
    "\n",
    "Дифференцируем $z$ по $k$-му элементу и получаем:\n",
    "\n",
    "$\\displaystyle \\frac{\\partial \\alpha}{\\partial z_{k}} = \\sum \\limits_{i=1}^{n} (x_{i} \\displaystyle \\frac{\\partial x_{k}}{\\partial z_{k}} + x_{i} \\displaystyle \\frac{\\partial x_{k}}{\\partial z_{k}}) = \\sum \\limits_{i=1}^{n} 2 x_{i} \\displaystyle \\frac{\\partial x_{k}}{\\partial z_{k}}$,\n",
    "\n",
    "$\\forall k = 1, 2, ..., n$\n",
    "\n",
    "Получаем:\n",
    "\n",
    "$$\\displaystyle \\frac{\\partial \\alpha}{\\partial z} = x^T  \\displaystyle \\frac{\\partial x}{\\partial z} + x^T  \\displaystyle \\frac{\\partial x}{\\partial z} = 2 x^T  \\displaystyle \\frac{\\partial x}{\\partial z}$$"
   ]
  },
  {
   "cell_type": "code",
   "execution_count": 601,
   "id": "bb185abd",
   "metadata": {},
   "outputs": [],
   "source": [
    "def func_x(z):\n",
    "    return np.dot(x0(z).T, x0(z))"
   ]
  },
  {
   "cell_type": "code",
   "execution_count": 596,
   "id": "3992fb9b",
   "metadata": {},
   "outputs": [],
   "source": [
    "def x0(z):\n",
    "    return np.arange(0,10)*z"
   ]
  },
  {
   "cell_type": "code",
   "execution_count": 599,
   "id": "62413136",
   "metadata": {},
   "outputs": [],
   "source": [
    "z0 = np.arange(0,10)"
   ]
  },
  {
   "cell_type": "code",
   "execution_count": 602,
   "id": "b304c2a3",
   "metadata": {},
   "outputs": [
    {
     "data": {
      "text/plain": [
       "array([   0.,    2.,   16.,   54.,  128.,  250.,  432.,  686., 1024.,\n",
       "       1458.])"
      ]
     },
     "execution_count": 602,
     "metadata": {},
     "output_type": "execute_result"
    }
   ],
   "source": [
    "grad = nd.Gradient(func_x)(z0) #находим производную в точке x0(градиент) встроенными численными методами\n",
    "grad"
   ]
  },
  {
   "cell_type": "code",
   "execution_count": 606,
   "id": "0820d1b4",
   "metadata": {},
   "outputs": [
    {
     "data": {
      "text/plain": [
       "array([   0.,    2.,   16.,   54.,  128.,  250.,  432.,  686., 1024.,\n",
       "       1458.])"
      ]
     },
     "execution_count": 606,
     "metadata": {},
     "output_type": "execute_result"
    }
   ],
   "source": [
    "2*np.dot(x0(z0).T, nd.Gradient(x0)(z0))"
   ]
  },
  {
   "cell_type": "markdown",
   "id": "b58b66d1",
   "metadata": {},
   "source": [
    "### 2. $\\alpha = y^T Ax$\n",
    "\n",
    " $$\\displaystyle \\frac{\\partial \\alpha}{\\partial y} = x^T A^T$$ \n",
    " \n",
    " $$\\displaystyle \\frac{\\partial \\alpha}{\\partial x} = y^T A$$ \n",
    "\n",
    "Определим $w^T = y^T A$, запишем $\\alpha = w^T A$\n",
    "\n",
    "Если $f(\\overline{x}) = \\overline{a}^{T} \\cdot\\overline{x}$, то $f'(\\overline{x}) = \\overline{a} $, где $\\overline{x},\\overline{a} $ - вектор столбцы. Получаем:\n",
    "\n",
    "$$\\displaystyle \\frac{\\partial \\alpha}{\\partial x} = w^T = y^T A$$\n",
    "\n",
    "Т.к. $\\alpha$ - скаляр, можем записать следующее:\n",
    "$\\alpha = \\alpha^T = x^T A^T y$, тогда:\n",
    "\n",
    "$$\\displaystyle \\frac{\\partial \\alpha}{\\partial y} = x^T A^T$$"
   ]
  },
  {
   "cell_type": "code",
   "execution_count": 355,
   "id": "fe232bc1",
   "metadata": {},
   "outputs": [],
   "source": [
    "def func_x(x): \n",
    "    return np.dot(y0.T, np.dot(A, x))\n",
    "\n",
    "def func_y(y): \n",
    "    return np.dot(y.T, np.dot(A, x0))"
   ]
  },
  {
   "cell_type": "code",
   "execution_count": 356,
   "id": "05ce91cd",
   "metadata": {},
   "outputs": [],
   "source": [
    "x0 = np.arange(0,10) # конкретные значения x0\n",
    "y0 = np.arange(0,10) "
   ]
  },
  {
   "cell_type": "code",
   "execution_count": 357,
   "id": "ee68376f",
   "metadata": {},
   "outputs": [
    {
     "data": {
      "text/plain": [
       "array([[8, 0, 1, 2, 0, 9, 1, 7, 0, 9],\n",
       "       [3, 1, 7, 3, 9, 5, 8, 6, 5, 2],\n",
       "       [8, 3, 7, 7, 2, 3, 1, 8, 8, 9],\n",
       "       [7, 6, 4, 8, 3, 7, 8, 9, 7, 5],\n",
       "       [3, 7, 5, 5, 8, 9, 9, 2, 8, 9],\n",
       "       [9, 6, 9, 9, 5, 3, 7, 8, 2, 9],\n",
       "       [0, 4, 4, 6, 9, 0, 1, 6, 7, 5],\n",
       "       [2, 3, 7, 7, 0, 5, 0, 8, 4, 7],\n",
       "       [8, 9, 5, 5, 8, 8, 7, 9, 1, 5],\n",
       "       [7, 1, 7, 2, 0, 7, 6, 7, 7, 6]])"
      ]
     },
     "execution_count": 357,
     "metadata": {},
     "output_type": "execute_result"
    }
   ],
   "source": [
    "A = np.random.randint(10,size =(10,10))\n",
    "A"
   ]
  },
  {
   "cell_type": "code",
   "execution_count": 358,
   "id": "812564b4",
   "metadata": {},
   "outputs": [
    {
     "data": {
      "text/plain": [
       "array([238., 209., 274., 249., 197., 245., 221., 324., 225., 289.])"
      ]
     },
     "execution_count": 358,
     "metadata": {},
     "output_type": "execute_result"
    }
   ],
   "source": [
    "grad = nd.Gradient(func_x)(x0) #находим производную в точке x0(градиент) встроенными численными методами\n",
    "grad"
   ]
  },
  {
   "cell_type": "code",
   "execution_count": 359,
   "id": "82d7ed23",
   "metadata": {},
   "outputs": [
    {
     "data": {
      "text/plain": [
       "array([238, 209, 274, 249, 197, 245, 221, 324, 225, 289])"
      ]
     },
     "execution_count": 359,
     "metadata": {},
     "output_type": "execute_result"
    }
   ],
   "source": [
    "np.dot(y0.T,A)"
   ]
  },
  {
   "cell_type": "code",
   "execution_count": 360,
   "id": "61d578ad",
   "metadata": {},
   "outputs": [
    {
     "data": {
      "text/plain": [
       "array([189., 233., 268., 297., 322., 281., 215., 214., 264., 251.])"
      ]
     },
     "execution_count": 360,
     "metadata": {},
     "output_type": "execute_result"
    }
   ],
   "source": [
    "grad = nd.Gradient(func_y)(y0) #находим производную в точке x0(градиент) встроенными численными методами\n",
    "grad"
   ]
  },
  {
   "cell_type": "code",
   "execution_count": 361,
   "id": "3b9c91b7",
   "metadata": {},
   "outputs": [
    {
     "data": {
      "text/plain": [
       "array([189, 233, 268, 297, 322, 281, 215, 214, 264, 251])"
      ]
     },
     "execution_count": 361,
     "metadata": {},
     "output_type": "execute_result"
    }
   ],
   "source": [
    "np.dot(x0.T,A.T)"
   ]
  },
  {
   "cell_type": "markdown",
   "id": "658e92e3",
   "metadata": {},
   "source": [
    "## <font color = 'green'> 2. Линейная регрессия по произвольному базису. </font>"
   ]
  },
  {
   "cell_type": "markdown",
   "id": "47f56cc8",
   "metadata": {},
   "source": [
    "Пусть задано множество пар признаков(фич) и меток $A = \\{(\\overline{X}_{1},y_{1}),(\\overline{X}_{2},y_{2}),...,(\\overline{X}_{n},y_{n})\\}$. Важно понимать, что теперь каждый элемент множества признаков это вектор состоящий из некоторого числа $k$ признаков  $\\overline{X}_{i} = (x_{1},x_{2},...x_{k})$.\n",
    "\n",
    "Стоит задача получить функцию, позволяющую предсказывать непрерывную метку по $y$ набору признаков $X$. Такую задачу называют множественной регрессией. \n",
    "\n",
    "Для решения данной задачи можно использовать формулу множественной регрессии:$$f(\\overline{x})=\\sum\\limits_{j=1}^m w_{i} \\phi_{i}(\\overline{x}) $$.\n",
    "\n",
    "В приведённой выше формуле, стоит взвешенная сумма некоторых произвольных функций от вектора фич. Это и есть **формула множественной линейной регрессии по произвольному базису**. \n",
    "\n",
    "Частным случаем такой регрессии можно считать тривиальную линейную регрессию, когда $\\phi_{i}(\\overline{x}) = $. Тогда добавив фиктивную функцию $\\phi_{0}(\\overline{x}) = 1$ получим формулу **классической линейной регрессии**.\n",
    "\n",
    "$$f(\\overline{x})=w_{0} + \\sum\\limits_{j=1}^k w_{i} x_{i} $$.\n",
    "\n",
    "Обратите внимание, что формула парной регресии $f(x) = a x +b $ - тоже частный случай вышеприведённой. \n",
    "\n",
    "Также стоит заметить, *что количество базисных функций может быть как меньшим, так и большим, чем количество изначальных фич*."
   ]
  },
  {
   "cell_type": "markdown",
   "id": "dc20a17d",
   "metadata": {},
   "source": [
    "Теперь приступим к **обучению полученной модели** $f(\\overline{x})=\\sum\\limits_{j=1}^m w_{i} \\phi_{i}(\\overline{x}) $. Оно сводится к нахождению весов $w_{1},...,w_{m}$ на основе исходных обучающих данных.\n",
    "\n",
    "Аналогично парной регрессии составим функцию потерь и минимизируем её: $$ \\mathcal{L}(\\overline{w}) =\\sum\\limits_{i=1}^n (y_{i} - \\sum\\limits_{j=1}^m w_{i} \\phi_{i}(\\overline{X_{i}}))^2 \\rightarrow min$$.\n",
    "\n",
    "Конечно проще записать эту формулу в матричном виде (получите её самостоятельно): $$ \\mathcal{L}(\\overline{w}) = (\\overline{y} - Q\\cdot\\overline{w})(\\overline{y} - Q\\cdot\\overline{w})^{T}, $$\n",
    "где $Q$ - *информационная матрица*, которая определяется следующим образом: $$Q=\\begin{bmatrix}\n",
    "    \\phi_{1}(\\overline{x_{1}})       &  \\phi_{2}(\\overline{x_{1}}) & \\phi_{3}(\\overline{x_{1}}) & \\dots & \\phi_{m}(\\overline{x_{1}}) \\\\\n",
    "    \\phi_{1}(\\overline{x_{2}})       &  \\phi_{2}(\\overline{x_{2}}) & \\phi_{3}(\\overline{x_{2}}) & \\dots & \\phi_{m}(\\overline{x_{2}})   \\\\\n",
    "                            ...\\\\\n",
    "   \\phi_{1}(\\overline{x_{n}})       &  \\phi_{2}(\\overline{x_{n}}) & \\phi_{3}(\\overline{x_{n}}) & \\dots & \\phi_{m}(\\overline{x_{n}}) \n",
    "\\end{bmatrix}, $$\n",
    "\n",
    "$\\overline{w}$ - вектор столбец весов: $$ \\overline{w} = \\begin{bmatrix} \n",
    "w_{1}\\\\\n",
    "w_{2}\\\\\n",
    "...\\\\\n",
    "w_{m}\n",
    "\\end{bmatrix},\n",
    "$$\n",
    "\n",
    "$\\overline{y}$ - вектор столбец известных целевых меток: $$ \\overline{y} = \\begin{bmatrix} \n",
    "y_{1}\\\\\n",
    "y_{2}\\\\\n",
    "...\\\\\n",
    "y_{m}\n",
    "\\end{bmatrix}.\n",
    "$$\n",
    "\n",
    "\n",
    "Далее решаем задачу оптимизации. Отыщем производную полученной скалярной вектор-функции и приравняем к 0, опираясь на знания из п. 1.$$\\frac{\\partial \\mathcal{L}}{\\partial w} = \\nabla \\mathcal{L} =\\nabla \\mathcal{L}((\\overline{y} - Q\\cdot\\overline{w})(\\overline{y} - Q\\cdot\\overline{w})^{T}) = \\nabla \\mathcal{L} (\\overline{y}^{T} \\overline{y}-2\\overline{y}^{T} Q\\overline{w}+\\overline{w}^{T} Q^{T} Q\\overline{w} ) = 0$$\n",
    "\n",
    "Далее применяем формулы из п. 1. $$\\nabla \\mathcal{L} (\\overline{y}^{T} \\overline{y}-2\\overline{y}^{T} Q\\overline{w}+\\overline{w}^{T} Q^{T} Q\\overline{w} ) = (-2 Q^{T} \\overline{y}+ 2 Q^{T} Q \\overline{w}) = 0.$$\n",
    "\n",
    "Откуда немедленно получаем итоговую формулу для вектора весов: $$\\overline{w} = (Q^{T} Q)^{-1} Q^{T} \\overline{y}$$.\n",
    "\n",
    "\n",
    "Полученная формула имеет некоторые ограничения (подумайте какие). Также следует продумывать выбор базисных функций. Для получения *информационной матрицы* исходные данные требуют некоторого преобразования в зависимости от выбора базисных функций."
   ]
  },
  {
   "cell_type": "markdown",
   "id": "a70801eb",
   "metadata": {},
   "source": [
    "<font color = 'orange' size = 3>Пример 1 </font>\n",
    "\n",
    "Для начала используем встроенные возможности."
   ]
  },
  {
   "cell_type": "code",
   "execution_count": 485,
   "id": "d0105482",
   "metadata": {},
   "outputs": [],
   "source": [
    "rng = np.random.RandomState(1) # задаём искусственные данные\n",
    "x = 10 * rng.rand(50)\n",
    "y = np.sin(x) + 0.1 * rng.randn(50)"
   ]
  },
  {
   "cell_type": "code",
   "execution_count": 363,
   "id": "3df9cbaa",
   "metadata": {},
   "outputs": [
    {
     "data": {
      "text/plain": [
       "<matplotlib.collections.PathCollection at 0x1bff7e41fd0>"
      ]
     },
     "execution_count": 363,
     "metadata": {},
     "output_type": "execute_result"
    },
    {
     "data": {
      "image/png": "[encoded data removed]",
      "text/plain": [
       "<Figure size 432x288 with 1 Axes>"
      ]
     },
     "metadata": {
      "needs_background": "light"
     },
     "output_type": "display_data"
    }
   ],
   "source": [
    "plt.scatter(x, y, c ='red')"
   ]
  },
  {
   "cell_type": "code",
   "execution_count": 487,
   "id": "f8c0aed8",
   "metadata": {
    "scrolled": true
   },
   "outputs": [
    {
     "data": {
      "text/plain": [
       "LinearRegression()"
      ]
     },
     "execution_count": 487,
     "metadata": {},
     "output_type": "execute_result"
    }
   ],
   "source": [
    "from sklearn.linear_model import LinearRegression #пробуем обучить стандартную модель регрессии из ЛР1 \n",
    "model = LinearRegression(fit_intercept=True)\n",
    "model"
   ]
  },
  {
   "cell_type": "code",
   "execution_count": 488,
   "id": "26e52f69",
   "metadata": {},
   "outputs": [
    {
     "data": {
      "text/plain": [
       "((50, 1), (50,))"
      ]
     },
     "execution_count": 488,
     "metadata": {},
     "output_type": "execute_result"
    }
   ],
   "source": [
    "X = x[:, np.newaxis]\n",
    "(X.shape,x.shape)"
   ]
  },
  {
   "cell_type": "code",
   "execution_count": 144,
   "id": "acd1f0e3",
   "metadata": {},
   "outputs": [
    {
     "data": {
      "text/plain": [
       "LinearRegression()"
      ]
     },
     "execution_count": 144,
     "metadata": {},
     "output_type": "execute_result"
    }
   ],
   "source": [
    "model.fit(X, y)"
   ]
  },
  {
   "cell_type": "code",
   "execution_count": 145,
   "id": "9167e876",
   "metadata": {
    "scrolled": true
   },
   "outputs": [
    {
     "data": {
      "text/plain": [
       "[<matplotlib.lines.Line2D at 0x1bff62ef8e0>]"
      ]
     },
     "execution_count": 145,
     "metadata": {},
     "output_type": "execute_result"
    },
    {
     "data": {
      "image/png": "[encoded data removed]",
      "text/plain": [
       "<Figure size 432x288 with 1 Axes>"
      ]
     },
     "metadata": {
      "needs_background": "light"
     },
     "output_type": "display_data"
    }
   ],
   "source": [
    "testx = np.linspace(np.min(x),np.max(x),50)[:, np.newaxis]# по рисунку видим, что получили хрень\n",
    "plt.scatter(x, y, c ='red')\n",
    "plt.plot(testx,model.predict(testx))"
   ]
  },
  {
   "cell_type": "code",
   "execution_count": 54,
   "id": "9b41b7ca",
   "metadata": {
    "scrolled": true
   },
   "outputs": [
    {
     "data": {
      "text/plain": [
       "0.003269744706462907"
      ]
     },
     "execution_count": 54,
     "metadata": {},
     "output_type": "execute_result"
    }
   ],
   "source": [
    "model.score(X,y)# позорище, а не модель"
   ]
  },
  {
   "cell_type": "markdown",
   "id": "b2f87c50",
   "metadata": {},
   "source": [
    "А теперь добавим другой базис. Видно, что функция похожа на степенную. Используем полиномиальный базис.\n",
    "Класс [PolynomialFeatures](https://scikit-learn.org/stable/modules/generated/sklearn.preprocessing.PolynomialFeatures.html) позволяет преобразовать ваши данные  и перейти от стандартного базиса ${x_1,x_2,...x_n}$ полиномиальному базису, который состоит из всех возможных функций $x_1^{k1}x_2^{k2}...x_n^{kn} : k1+k2+...kn<=4$"
   ]
  },
  {
   "cell_type": "code",
   "execution_count": 639,
   "id": "054248ce",
   "metadata": {},
   "outputs": [],
   "source": [
    "from sklearn.preprocessing import PolynomialFeatures\n",
    "poly_reg=PolynomialFeatures(degree=4)"
   ]
  },
  {
   "cell_type": "code",
   "execution_count": 410,
   "id": "950805ea",
   "metadata": {},
   "outputs": [],
   "source": [
    "X_new = poly_reg.fit_transform(X)"
   ]
  },
  {
   "cell_type": "code",
   "execution_count": 411,
   "id": "50a68b4d",
   "metadata": {},
   "outputs": [],
   "source": [
    "X_new; #вместо одного x теперь целый вектор фич степени от 0 до 4"
   ]
  },
  {
   "cell_type": "code",
   "execution_count": 412,
   "id": "c4ae67ca",
   "metadata": {},
   "outputs": [
    {
     "data": {
      "text/plain": [
       "LinearRegression()"
      ]
     },
     "execution_count": 412,
     "metadata": {},
     "output_type": "execute_result"
    }
   ],
   "source": [
    "model = LinearRegression(fit_intercept=True)\n",
    "model"
   ]
  },
  {
   "cell_type": "code",
   "execution_count": 413,
   "id": "17a7ae6e",
   "metadata": {},
   "outputs": [
    {
     "data": {
      "text/plain": [
       "LinearRegression()"
      ]
     },
     "execution_count": 413,
     "metadata": {},
     "output_type": "execute_result"
    }
   ],
   "source": [
    "model.fit(X_new, y)"
   ]
  },
  {
   "cell_type": "code",
   "execution_count": 414,
   "id": "d2eb2907",
   "metadata": {},
   "outputs": [
    {
     "data": {
      "text/plain": [
       "[<matplotlib.lines.Line2D at 0x1bff90b4610>]"
      ]
     },
     "execution_count": 414,
     "metadata": {},
     "output_type": "execute_result"
    },
    {
     "data": {
      "image/png": "[encoded data removed]",
      "text/plain": [
       "<Figure size 432x288 with 1 Axes>"
      ]
     },
     "metadata": {
      "needs_background": "light"
     },
     "output_type": "display_data"
    }
   ],
   "source": [
    "testx = np.linspace(np.min(x),np.max(x),50)[:, np.newaxis]\n",
    "plt.scatter(x, y, c ='red')\n",
    "plt.plot(testx,model.predict(poly_reg.fit_transform(testx)))\n",
    "# теперь для предсказания модели нужно передавать преобразованные в тот же базис данные\n",
    "# результат лучше"
   ]
  },
  {
   "cell_type": "code",
   "execution_count": 62,
   "id": "ee60a43d",
   "metadata": {},
   "outputs": [
    {
     "data": {
      "text/plain": [
       "0.8709660328448421"
      ]
     },
     "execution_count": 62,
     "metadata": {},
     "output_type": "execute_result"
    }
   ],
   "source": [
    "model.score(X_new,y)# уже лучше!"
   ]
  },
  {
   "cell_type": "code",
   "execution_count": 63,
   "id": "d90c2ad4",
   "metadata": {
    "scrolled": true
   },
   "outputs": [
    {
     "data": {
      "text/plain": [
       "(array([ 0.        ,  2.16741907, -1.22565575,  0.20937262, -0.01096061]),\n",
       " -0.1959994705982323)"
      ]
     },
     "execution_count": 63,
     "metadata": {},
     "output_type": "execute_result"
    }
   ],
   "source": [
    "(model.coef_,model.intercept_) # а вот и полученные веса для базисных функций. "
   ]
  },
  {
   "cell_type": "code",
   "execution_count": 64,
   "id": "12d96e51",
   "metadata": {},
   "outputs": [
    {
     "data": {
      "text/plain": [
       "LinearRegression(fit_intercept=False)"
      ]
     },
     "execution_count": 64,
     "metadata": {},
     "output_type": "execute_result"
    }
   ],
   "source": [
    "model = LinearRegression(fit_intercept=False)\n",
    "model"
   ]
  },
  {
   "cell_type": "code",
   "execution_count": 65,
   "id": "9afc923d",
   "metadata": {},
   "outputs": [
    {
     "data": {
      "text/plain": [
       "LinearRegression(fit_intercept=False)"
      ]
     },
     "execution_count": 65,
     "metadata": {},
     "output_type": "execute_result"
    }
   ],
   "source": [
    "model.fit(X_new, y)"
   ]
  },
  {
   "cell_type": "code",
   "execution_count": 66,
   "id": "c261838d",
   "metadata": {},
   "outputs": [
    {
     "data": {
      "text/plain": [
       "[<matplotlib.lines.Line2D at 0x1bff4eae9a0>]"
      ]
     },
     "execution_count": 66,
     "metadata": {},
     "output_type": "execute_result"
    },
    {
     "data": {
      "image/png": "[encoded data removed]",
      "text/plain": [
       "<Figure size 432x288 with 1 Axes>"
      ]
     },
     "metadata": {
      "needs_background": "light"
     },
     "output_type": "display_data"
    }
   ],
   "source": [
    "testx = np.linspace(np.min(x),np.max(x),50)[:, np.newaxis]\n",
    "plt.scatter(x, y, c ='red')\n",
    "plt.plot(testx,model.predict(poly_reg.fit_transform(testx)))\n",
    "# теперь для предсказания модели нужно передавать преобразованные в тот же базис данные\n",
    "# результат лучше"
   ]
  },
  {
   "cell_type": "code",
   "execution_count": 67,
   "id": "df8ccf6b",
   "metadata": {},
   "outputs": [
    {
     "data": {
      "text/plain": [
       "0.870966032844843"
      ]
     },
     "execution_count": 67,
     "metadata": {},
     "output_type": "execute_result"
    }
   ],
   "source": [
    "model.score(X_new,y)# уже лучше!"
   ]
  },
  {
   "cell_type": "code",
   "execution_count": 68,
   "id": "a58dd571",
   "metadata": {},
   "outputs": [
    {
     "data": {
      "text/plain": [
       "(array([-0.19599947,  2.16741907, -1.22565575,  0.20937262, -0.01096061]), 0.0)"
      ]
     },
     "execution_count": 68,
     "metadata": {},
     "output_type": "execute_result"
    }
   ],
   "source": [
    "(model.coef_,model.intercept_) # а вот и полученные веса для базисных функций. "
   ]
  },
  {
   "cell_type": "markdown",
   "id": "b22c153a",
   "metadata": {},
   "source": [
    "**Упражнение** Подумайте, за что отвечает параметр fit_intercept и почему первый коэффициент равен 0"
   ]
  },
  {
   "cell_type": "markdown",
   "id": "f6e338be",
   "metadata": {},
   "source": [
    "fit_intercept - логический параметр, отсутствие или присутствие свободного члена."
   ]
  },
  {
   "cell_type": "markdown",
   "id": "98b78384",
   "metadata": {},
   "source": [
    "<font color = 'orange' size = 3>Пример 2 </font>\n",
    "\n",
    "Теперь возьмём многомерные фичи. Используем рыбный датасет из файла Fish.csv и попробуем создать модель регрессии для предсказания веса (столбец weight).\n",
    "\n",
    "Попробуем использовать стандартную формулу для классической регрессии $f(\\overline{x})=w_{0} + \\sum\\limits_{j=1}^k w_{i} x_{i} $.\n"
   ]
  },
  {
   "cell_type": "code",
   "execution_count": 69,
   "id": "0d42f3cd",
   "metadata": {},
   "outputs": [
    {
     "data": {
      "text/html": [
       "<div>\n",
       "<style scoped>\n",
       "    .dataframe tbody tr th:only-of-type {\n",
       "        vertical-align: middle;\n",
       "    }\n",
       "\n",
       "    .dataframe tbody tr th {\n",
       "        vertical-align: top;\n",
       "    }\n",
       "\n",
       "    .dataframe thead th {\n",
       "        text-align: right;\n",
       "    }\n",
       "</style>\n",
       "<table border=\"1\" class=\"dataframe\">\n",
       "  <thead>\n",
       "    <tr style=\"text-align: right;\">\n",
       "      <th></th>\n",
       "      <th>Species</th>\n",
       "      <th>Weight</th>\n",
       "      <th>Length1</th>\n",
       "      <th>Length2</th>\n",
       "      <th>Length3</th>\n",
       "      <th>Height</th>\n",
       "      <th>Width</th>\n",
       "    </tr>\n",
       "  </thead>\n",
       "  <tbody>\n",
       "    <tr>\n",
       "      <th>0</th>\n",
       "      <td>Bream</td>\n",
       "      <td>242.0</td>\n",
       "      <td>23.2</td>\n",
       "      <td>25.4</td>\n",
       "      <td>30.0</td>\n",
       "      <td>11.5200</td>\n",
       "      <td>4.0200</td>\n",
       "    </tr>\n",
       "    <tr>\n",
       "      <th>1</th>\n",
       "      <td>Bream</td>\n",
       "      <td>290.0</td>\n",
       "      <td>24.0</td>\n",
       "      <td>26.3</td>\n",
       "      <td>31.2</td>\n",
       "      <td>12.4800</td>\n",
       "      <td>4.3056</td>\n",
       "    </tr>\n",
       "    <tr>\n",
       "      <th>2</th>\n",
       "      <td>Bream</td>\n",
       "      <td>340.0</td>\n",
       "      <td>23.9</td>\n",
       "      <td>26.5</td>\n",
       "      <td>31.1</td>\n",
       "      <td>12.3778</td>\n",
       "      <td>4.6961</td>\n",
       "    </tr>\n",
       "    <tr>\n",
       "      <th>3</th>\n",
       "      <td>Bream</td>\n",
       "      <td>363.0</td>\n",
       "      <td>26.3</td>\n",
       "      <td>29.0</td>\n",
       "      <td>33.5</td>\n",
       "      <td>12.7300</td>\n",
       "      <td>4.4555</td>\n",
       "    </tr>\n",
       "    <tr>\n",
       "      <th>4</th>\n",
       "      <td>Bream</td>\n",
       "      <td>430.0</td>\n",
       "      <td>26.5</td>\n",
       "      <td>29.0</td>\n",
       "      <td>34.0</td>\n",
       "      <td>12.4440</td>\n",
       "      <td>5.1340</td>\n",
       "    </tr>\n",
       "  </tbody>\n",
       "</table>\n",
       "</div>"
      ],
      "text/plain": [
       "  Species  Weight  Length1  Length2  Length3   Height   Width\n",
       "0   Bream   242.0     23.2     25.4     30.0  11.5200  4.0200\n",
       "1   Bream   290.0     24.0     26.3     31.2  12.4800  4.3056\n",
       "2   Bream   340.0     23.9     26.5     31.1  12.3778  4.6961\n",
       "3   Bream   363.0     26.3     29.0     33.5  12.7300  4.4555\n",
       "4   Bream   430.0     26.5     29.0     34.0  12.4440  5.1340"
      ]
     },
     "execution_count": 69,
     "metadata": {},
     "output_type": "execute_result"
    }
   ],
   "source": [
    "dataframe=pd.read_csv(\"Fish.csv\") # загружаем данные\n",
    "dataframe.head()"
   ]
  },
  {
   "cell_type": "code",
   "execution_count": 70,
   "id": "d69d5e72",
   "metadata": {},
   "outputs": [],
   "source": [
    "X = dataframe.drop([\"Species\",\"Weight\"],axis=1).values # выбираем то, что будет фичами"
   ]
  },
  {
   "cell_type": "code",
   "execution_count": 41,
   "id": "a8830a2f",
   "metadata": {},
   "outputs": [
    {
     "data": {
      "text/plain": [
       "array([[23.2   , 25.4   , 30.    , 11.52  ,  4.02  ],\n",
       "       [24.    , 26.3   , 31.2   , 12.48  ,  4.3056],\n",
       "       [23.9   , 26.5   , 31.1   , 12.3778,  4.6961],\n",
       "       [26.3   , 29.    , 33.5   , 12.73  ,  4.4555],\n",
       "       [26.5   , 29.    , 34.    , 12.444 ,  5.134 ],\n",
       "       [26.8   , 29.7   , 34.7   , 13.6024,  4.9274],\n",
       "       [26.8   , 29.7   , 34.5   , 14.1795,  5.2785],\n",
       "       [27.6   , 30.    , 35.    , 12.67  ,  4.69  ],\n",
       "       [27.6   , 30.    , 35.1   , 14.0049,  4.8438],\n",
       "       [28.5   , 30.7   , 36.2   , 14.2266,  4.9594],\n",
       "       [28.4   , 31.    , 36.2   , 14.2628,  5.1042],\n",
       "       [28.7   , 31.    , 36.2   , 14.3714,  4.8146],\n",
       "       [29.1   , 31.5   , 36.4   , 13.7592,  4.368 ],\n",
       "       [29.5   , 32.    , 37.3   , 13.9129,  5.0728],\n",
       "       [29.4   , 32.    , 37.2   , 14.9544,  5.1708],\n",
       "       [29.4   , 32.    , 37.2   , 15.438 ,  5.58  ],\n",
       "       [30.4   , 33.    , 38.3   , 14.8604,  5.2854],\n",
       "       [30.4   , 33.    , 38.5   , 14.938 ,  5.1975],\n",
       "       [30.9   , 33.5   , 38.6   , 15.633 ,  5.1338],\n",
       "       [31.    , 33.5   , 38.7   , 14.4738,  5.7276],\n",
       "       [31.3   , 34.    , 39.5   , 15.1285,  5.5695],\n",
       "       [31.4   , 34.    , 39.2   , 15.9936,  5.3704],\n",
       "       [31.5   , 34.5   , 39.7   , 15.5227,  5.2801],\n",
       "       [31.8   , 35.    , 40.6   , 15.4686,  6.1306],\n",
       "       [31.9   , 35.    , 40.5   , 16.2405,  5.589 ],\n",
       "       [31.8   , 35.    , 40.9   , 16.36  ,  6.0532],\n",
       "       [32.    , 35.    , 40.6   , 16.3618,  6.09  ],\n",
       "       [32.7   , 36.    , 41.5   , 16.517 ,  5.8515],\n",
       "       [32.8   , 36.    , 41.6   , 16.8896,  6.1984],\n",
       "       [33.5   , 37.    , 42.6   , 18.957 ,  6.603 ],\n",
       "       [35.    , 38.5   , 44.1   , 18.0369,  6.3063],\n",
       "       [35.    , 38.5   , 44.    , 18.084 ,  6.292 ],\n",
       "       [36.2   , 39.5   , 45.3   , 18.7542,  6.7497],\n",
       "       [37.4   , 41.    , 45.9   , 18.6354,  6.7473],\n",
       "       [38.    , 41.    , 46.5   , 17.6235,  6.3705],\n",
       "       [12.9   , 14.1   , 16.2   ,  4.1472,  2.268 ],\n",
       "       [16.5   , 18.2   , 20.3   ,  5.2983,  2.8217],\n",
       "       [17.5   , 18.8   , 21.2   ,  5.5756,  2.9044],\n",
       "       [18.2   , 19.8   , 22.2   ,  5.6166,  3.1746],\n",
       "       [18.6   , 20.    , 22.2   ,  6.216 ,  3.5742],\n",
       "       [19.    , 20.5   , 22.8   ,  6.4752,  3.3516],\n",
       "       [19.1   , 20.8   , 23.1   ,  6.1677,  3.3957],\n",
       "       [19.4   , 21.    , 23.7   ,  6.1146,  3.2943],\n",
       "       [20.4   , 22.    , 24.7   ,  5.8045,  3.7544],\n",
       "       [20.5   , 22.    , 24.3   ,  6.6339,  3.5478],\n",
       "       [20.5   , 22.5   , 25.3   ,  7.0334,  3.8203],\n",
       "       [21.    , 22.5   , 25.    ,  6.55  ,  3.325 ],\n",
       "       [21.1   , 22.5   , 25.    ,  6.4   ,  3.8   ],\n",
       "       [22.    , 24.    , 27.2   ,  7.5344,  3.8352],\n",
       "       [22.    , 23.4   , 26.7   ,  6.9153,  3.6312],\n",
       "       [22.1   , 23.5   , 26.8   ,  7.3968,  4.1272],\n",
       "       [23.6   , 25.2   , 27.9   ,  7.0866,  3.906 ],\n",
       "       [24.    , 26.    , 29.2   ,  8.8768,  4.4968],\n",
       "       [25.    , 27.    , 30.6   ,  8.568 ,  4.7736],\n",
       "       [29.5   , 31.7   , 35.    ,  9.485 ,  5.355 ],\n",
       "       [23.6   , 26.    , 28.7   ,  8.3804,  4.2476],\n",
       "       [24.1   , 26.5   , 29.3   ,  8.1454,  4.2485],\n",
       "       [25.6   , 28.    , 30.8   ,  8.778 ,  4.6816],\n",
       "       [28.5   , 31.    , 34.    , 10.744 ,  6.562 ],\n",
       "       [33.7   , 36.4   , 39.6   , 11.7612,  6.5736],\n",
       "       [37.3   , 40.    , 43.5   , 12.354 ,  6.525 ],\n",
       "       [13.5   , 14.7   , 16.5   ,  6.8475,  2.3265],\n",
       "       [14.3   , 15.5   , 17.4   ,  6.5772,  2.3142],\n",
       "       [16.3   , 17.7   , 19.8   ,  7.4052,  2.673 ],\n",
       "       [17.5   , 19.    , 21.3   ,  8.3922,  2.9181],\n",
       "       [18.4   , 20.    , 22.4   ,  8.8928,  3.2928],\n",
       "       [19.    , 20.7   , 23.2   ,  8.5376,  3.2944],\n",
       "       [19.    , 20.7   , 23.2   ,  9.396 ,  3.4104],\n",
       "       [19.8   , 21.5   , 24.1   ,  9.7364,  3.1571],\n",
       "       [21.2   , 23.    , 25.8   , 10.3458,  3.6636],\n",
       "       [23.    , 25.    , 28.    , 11.088 ,  4.144 ],\n",
       "       [24.    , 26.    , 29.    , 11.368 ,  4.234 ],\n",
       "       [ 7.5   ,  8.4   ,  8.8   ,  2.112 ,  1.408 ],\n",
       "       [12.5   , 13.7   , 14.7   ,  3.528 ,  1.9992],\n",
       "       [13.8   , 15.    , 16.    ,  3.824 ,  2.432 ],\n",
       "       [15.    , 16.2   , 17.2   ,  4.5924,  2.6316],\n",
       "       [15.7   , 17.4   , 18.5   ,  4.588 ,  2.9415],\n",
       "       [16.2   , 18.    , 19.2   ,  5.2224,  3.3216],\n",
       "       [16.8   , 18.7   , 19.4   ,  5.1992,  3.1234],\n",
       "       [17.2   , 19.    , 20.2   ,  5.6358,  3.0502],\n",
       "       [17.8   , 19.6   , 20.8   ,  5.1376,  3.0368],\n",
       "       [18.2   , 20.    , 21.    ,  5.082 ,  2.772 ],\n",
       "       [19.    , 21.    , 22.5   ,  5.6925,  3.555 ],\n",
       "       [19.    , 21.    , 22.5   ,  5.9175,  3.3075],\n",
       "       [19.    , 21.    , 22.5   ,  5.6925,  3.6675],\n",
       "       [19.3   , 21.3   , 22.8   ,  6.384 ,  3.534 ],\n",
       "       [20.    , 22.    , 23.5   ,  6.11  ,  3.4075],\n",
       "       [20.    , 22.    , 23.5   ,  5.64  ,  3.525 ],\n",
       "       [20.    , 22.    , 23.5   ,  6.11  ,  3.525 ],\n",
       "       [20.    , 22.    , 23.5   ,  5.875 ,  3.525 ],\n",
       "       [20.    , 22.    , 23.5   ,  5.5225,  3.995 ],\n",
       "       [20.5   , 22.5   , 24.    ,  5.856 ,  3.624 ],\n",
       "       [20.5   , 22.5   , 24.    ,  6.792 ,  3.624 ],\n",
       "       [20.7   , 22.7   , 24.2   ,  5.9532,  3.63  ],\n",
       "       [21.    , 23.    , 24.5   ,  5.2185,  3.626 ],\n",
       "       [21.5   , 23.5   , 25.    ,  6.275 ,  3.725 ],\n",
       "       [22.    , 24.    , 25.5   ,  7.293 ,  3.723 ],\n",
       "       [22.    , 24.    , 25.5   ,  6.375 ,  3.825 ],\n",
       "       [22.6   , 24.6   , 26.2   ,  6.7334,  4.1658],\n",
       "       [23.    , 25.    , 26.5   ,  6.4395,  3.6835],\n",
       "       [23.5   , 25.6   , 27.    ,  6.561 ,  4.239 ],\n",
       "       [25.    , 26.5   , 28.    ,  7.168 ,  4.144 ],\n",
       "       [25.2   , 27.3   , 28.7   ,  8.323 ,  5.1373],\n",
       "       [25.4   , 27.5   , 28.9   ,  7.1672,  4.335 ],\n",
       "       [25.4   , 27.5   , 28.9   ,  7.0516,  4.335 ],\n",
       "       [25.4   , 27.5   , 28.9   ,  7.2828,  4.5662],\n",
       "       [25.9   , 28.    , 29.4   ,  7.8204,  4.2042],\n",
       "       [26.9   , 28.7   , 30.1   ,  7.5852,  4.6354],\n",
       "       [27.8   , 30.    , 31.6   ,  7.6156,  4.7716],\n",
       "       [30.5   , 32.8   , 34.    , 10.03  ,  6.018 ],\n",
       "       [32.    , 34.5   , 36.5   , 10.2565,  6.3875],\n",
       "       [32.5   , 35.    , 37.3   , 11.4884,  7.7957],\n",
       "       [34.    , 36.5   , 39.    , 10.881 ,  6.864 ],\n",
       "       [34.    , 36.    , 38.3   , 10.6091,  6.7408],\n",
       "       [34.5   , 37.    , 39.4   , 10.835 ,  6.2646],\n",
       "       [34.6   , 37.    , 39.3   , 10.5717,  6.3666],\n",
       "       [36.5   , 39.    , 41.4   , 11.1366,  7.4934],\n",
       "       [36.5   , 39.    , 41.4   , 11.1366,  6.003 ],\n",
       "       [36.6   , 39.    , 41.3   , 12.4313,  7.3514],\n",
       "       [36.9   , 40.    , 42.3   , 11.9286,  7.1064],\n",
       "       [37.    , 40.    , 42.5   , 11.73  ,  7.225 ],\n",
       "       [37.    , 40.    , 42.4   , 12.3808,  7.4624],\n",
       "       [37.1   , 40.    , 42.5   , 11.135 ,  6.63  ],\n",
       "       [39.    , 42.    , 44.6   , 12.8002,  6.8684],\n",
       "       [39.8   , 43.    , 45.2   , 11.9328,  7.2772],\n",
       "       [40.1   , 43.    , 45.5   , 12.5125,  7.4165],\n",
       "       [40.2   , 43.5   , 46.    , 12.604 ,  8.142 ],\n",
       "       [41.1   , 44.    , 46.6   , 12.4888,  7.5958],\n",
       "       [30.    , 32.3   , 34.8   ,  5.568 ,  3.3756],\n",
       "       [31.7   , 34.    , 37.8   ,  5.7078,  4.158 ],\n",
       "       [32.7   , 35.    , 38.8   ,  5.9364,  4.3844],\n",
       "       [34.8   , 37.3   , 39.8   ,  6.2884,  4.0198],\n",
       "       [35.5   , 38.    , 40.5   ,  7.29  ,  4.5765],\n",
       "       [36.    , 38.5   , 41.    ,  6.396 ,  3.977 ],\n",
       "       [40.    , 42.5   , 45.5   ,  7.28  ,  4.3225],\n",
       "       [40.    , 42.5   , 45.5   ,  6.825 ,  4.459 ],\n",
       "       [40.1   , 43.    , 45.8   ,  7.786 ,  5.1296],\n",
       "       [42.    , 45.    , 48.    ,  6.96  ,  4.896 ],\n",
       "       [43.2   , 46.    , 48.7   ,  7.792 ,  4.87  ],\n",
       "       [44.8   , 48.    , 51.2   ,  7.68  ,  5.376 ],\n",
       "       [48.3   , 51.7   , 55.1   ,  8.9262,  6.1712],\n",
       "       [52.    , 56.    , 59.7   , 10.6863,  6.9849],\n",
       "       [56.    , 60.    , 64.    ,  9.6   ,  6.144 ],\n",
       "       [56.    , 60.    , 64.    ,  9.6   ,  6.144 ],\n",
       "       [59.    , 63.4   , 68.    , 10.812 ,  7.48  ],\n",
       "       [ 9.3   ,  9.8   , 10.8   ,  1.7388,  1.0476],\n",
       "       [10.    , 10.5   , 11.6   ,  1.972 ,  1.16  ],\n",
       "       [10.1   , 10.6   , 11.6   ,  1.7284,  1.1484],\n",
       "       [10.4   , 11.    , 12.    ,  2.196 ,  1.38  ],\n",
       "       [10.7   , 11.2   , 12.4   ,  2.0832,  1.2772],\n",
       "       [10.8   , 11.3   , 12.6   ,  1.9782,  1.2852],\n",
       "       [11.3   , 11.8   , 13.1   ,  2.2139,  1.2838],\n",
       "       [11.3   , 11.8   , 13.1   ,  2.2139,  1.1659],\n",
       "       [11.4   , 12.    , 13.2   ,  2.2044,  1.1484],\n",
       "       [11.5   , 12.2   , 13.4   ,  2.0904,  1.3936],\n",
       "       [11.7   , 12.4   , 13.5   ,  2.43  ,  1.269 ],\n",
       "       [12.1   , 13.    , 13.8   ,  2.277 ,  1.2558],\n",
       "       [13.2   , 14.3   , 15.2   ,  2.8728,  2.0672],\n",
       "       [13.8   , 15.    , 16.2   ,  2.9322,  1.8792]])"
      ]
     },
     "execution_count": 41,
     "metadata": {},
     "output_type": "execute_result"
    }
   ],
   "source": [
    "X"
   ]
  },
  {
   "cell_type": "code",
   "execution_count": 71,
   "id": "86d97a9d",
   "metadata": {},
   "outputs": [],
   "source": [
    "y = dataframe[\"Weight\"].values # вес будем предсказывать"
   ]
  },
  {
   "cell_type": "code",
   "execution_count": 267,
   "id": "bfd0ede1",
   "metadata": {},
   "outputs": [],
   "source": [
    "y;"
   ]
  },
  {
   "cell_type": "code",
   "execution_count": 73,
   "id": "a45c4035",
   "metadata": {},
   "outputs": [
    {
     "data": {
      "text/plain": [
       "LinearRegression()"
      ]
     },
     "execution_count": 73,
     "metadata": {},
     "output_type": "execute_result"
    }
   ],
   "source": [
    "model = LinearRegression(fit_intercept=True) # модель регрессии по умолчанию будет использовать стандартный базис\n",
    "model"
   ]
  },
  {
   "cell_type": "code",
   "execution_count": 74,
   "id": "5bfff2ff",
   "metadata": {},
   "outputs": [
    {
     "data": {
      "text/plain": [
       "LinearRegression()"
      ]
     },
     "execution_count": 74,
     "metadata": {},
     "output_type": "execute_result"
    }
   ],
   "source": [
    "model.fit(X, y)"
   ]
  },
  {
   "cell_type": "code",
   "execution_count": 75,
   "id": "aeb209e7",
   "metadata": {},
   "outputs": [
    {
     "data": {
      "text/plain": [
       "0.8852867046546207"
      ]
     },
     "execution_count": 75,
     "metadata": {},
     "output_type": "execute_result"
    }
   ],
   "source": [
    "model.score(X,y)"
   ]
  },
  {
   "cell_type": "code",
   "execution_count": 76,
   "id": "87eed529",
   "metadata": {},
   "outputs": [
    {
     "data": {
      "text/plain": [
       "(array([ 62.35521443,  -6.52675249, -29.02621861,  28.29735132,\n",
       "         22.47330665]),\n",
       " -499.58695535694244)"
      ]
     },
     "execution_count": 76,
     "metadata": {},
     "output_type": "execute_result"
    }
   ],
   "source": [
    "(model.coef_,model.intercept_)"
   ]
  },
  {
   "cell_type": "markdown",
   "id": "b3f4edd9",
   "metadata": {},
   "source": [
    "<font color = 'red' size = 5>Задание 2 </font>\n",
    "\n",
    "1. Изучите подробно описанные выше примеры.\n",
    "2. Реализуйте функции для работы регрессии по произвольному базису самостоятельно (используйте только базовые функции и numpy), используя формулы, полученные выше. Используйте матричные вычисления!\n",
    "3. Попрактикуйте модели и вашу и встроенную на разных искусственных данных.\n",
    "4. Постройте модели (встроенную и вашу) для прогнозирования веса рыбы из файла Fish.csv. Попробуйте различные базисы, различные комбинации фич и постарайтесь повысить точность прогноза.\n",
    "5. Попытайтесь предсказать [Perfomance index](https://www.kaggle.com/datasets/nikhil7280/student-performance-multiple-linear-regression) студентов используя вашу собственную и встроенные модели с различными базисами. \n",
    "6. Подумайте, как повлияет на модель использование слишком большого количества базисных фич.\n",
    "7. В примере выше мы тестируем полученную модель на тех же данных, что и обучаем. В целом это не очень хорошо. Разделите изначальные данные на обучающую и тестовую выборку и повторите вычисления точности.\n",
    "\n",
    "\n",
    "Указание! Для оценки качества модели, в случае, если рисунок не возможен используйте [коэффициент детерминации](https://wiki.loginom.ru/articles/coefficient-of-determination.html): $$R^{2}=1-\\frac{(\\overline{y} -f(\\overline{x}))(\\overline{y} - f(\\overline{x}))^{T}}{(\\overline{y} - mean(\\overline{y}))(\\overline{y} - mean(\\overline{y}))^{T}},$$\n",
    "\n",
    "где $\\overline{y}$ - столбец обучающих меток, $f(\\overline{x})$ - функция предсказания применённая к вектор столбцу исходных признаков. "
   ]
  },
  {
   "cell_type": "markdown",
   "id": "b7265007",
   "metadata": {},
   "source": [
    "#### 1\n",
    "\n",
    "$$\\overline{w} = (Q^{T} Q)^{-1} Q^{T} \\overline{y}$$."
   ]
  },
  {
   "cell_type": "code",
   "execution_count": 632,
   "id": "7103c0ad",
   "metadata": {},
   "outputs": [],
   "source": [
    "def Qmatrix(X):\n",
    "    return np.hstack((np.ones((X.shape[0],1)),X))\n",
    "\n",
    "def fit(X, Y):\n",
    "    Q = Qmatrix(X)\n",
    "    return np.dot(np.dot(np.linalg.inv(np.dot(Q.T, Q) + 0.001 * np.eye(Q.shape[1])), Q.T),Y)"
   ]
  },
  {
   "cell_type": "code",
   "execution_count": 633,
   "id": "69282e74",
   "metadata": {},
   "outputs": [
    {
     "data": {
      "text/plain": [
       "((50, 1), (50,))"
      ]
     },
     "execution_count": 633,
     "metadata": {},
     "output_type": "execute_result"
    }
   ],
   "source": [
    "rng = np.random.RandomState(1) # задаём искусственные данные\n",
    "x = 10 * rng.rand(50)\n",
    "y = np.sin(x) + 0.1 * rng.randn(50)\n",
    "X = x[:, np.newaxis]\n",
    "(X.shape,x.shape)"
   ]
  },
  {
   "cell_type": "code",
   "execution_count": 634,
   "id": "67f0c66c",
   "metadata": {},
   "outputs": [],
   "source": [
    "coef = fit(X,y)"
   ]
  },
  {
   "cell_type": "code",
   "execution_count": 635,
   "id": "3cf58ee9",
   "metadata": {},
   "outputs": [
    {
     "data": {
      "text/plain": [
       "LinearRegression()"
      ]
     },
     "execution_count": 635,
     "metadata": {},
     "output_type": "execute_result"
    }
   ],
   "source": [
    "from sklearn.linear_model import LinearRegression #пробуем обучить стандартную модель регрессии из ЛР1 \n",
    "model = LinearRegression(fit_intercept=True)\n",
    "X = x[:, np.newaxis]\n",
    "(X.shape,x.shape)\n",
    "model.fit(X, y)"
   ]
  },
  {
   "cell_type": "code",
   "execution_count": 636,
   "id": "fc6333f1",
   "metadata": {},
   "outputs": [],
   "source": [
    "test = coef[0] + testx*coef[1]"
   ]
  },
  {
   "cell_type": "code",
   "execution_count": 637,
   "id": "c0dc5961",
   "metadata": {},
   "outputs": [
    {
     "data": {
      "text/plain": [
       "[<matplotlib.lines.Line2D at 0x1bffc039610>]"
      ]
     },
     "execution_count": 637,
     "metadata": {},
     "output_type": "execute_result"
    },
    {
     "data": {
      "image/png": "[encoded data removed]",
      "text/plain": [
       "<Figure size 432x288 with 2 Axes>"
      ]
     },
     "metadata": {
      "needs_background": "light"
     },
     "output_type": "display_data"
    }
   ],
   "source": [
    "testx = np.linspace(np.min(x),np.max(x),50)[:, np.newaxis]# по рисунку видим, что получили хрень\n",
    "plt.subplot(2, 1, 1)\n",
    "plt.scatter(x, y, c ='red')\n",
    "plt.plot(testx,model.predict(testx))\n",
    "\n",
    "plt.subplot(2, 1, 2)\n",
    "plt.scatter(x, y, c ='red')\n",
    "plt.plot(testx,test)"
   ]
  },
  {
   "cell_type": "code",
   "execution_count": 640,
   "id": "6a372f0d",
   "metadata": {},
   "outputs": [
    {
     "data": {
      "text/plain": [
       "array([  1.        ,   4.17022005,  17.39073524,  72.52319273,\n",
       "       302.43767221])"
      ]
     },
     "execution_count": 640,
     "metadata": {},
     "output_type": "execute_result"
    }
   ],
   "source": [
    "X_new = poly_reg.fit_transform(X)\n",
    "X_new[0]"
   ]
  },
  {
   "cell_type": "code",
   "execution_count": 641,
   "id": "663947e6",
   "metadata": {},
   "outputs": [],
   "source": [
    "coef = fit(X_new,y)\n",
    "coef;"
   ]
  },
  {
   "cell_type": "code",
   "execution_count": 649,
   "id": "0799caad",
   "metadata": {},
   "outputs": [],
   "source": [
    "def Qmatrix(X):\n",
    "    return np.hstack((np.ones((X.shape[0],1)),X))\n",
    "\n",
    "def fit(X, Y):\n",
    "    Q = Qmatrix(X)\n",
    "    return np.dot(np.dot(np.linalg.inv(np.dot(Q.T, Q) + 0.001 * np.eye(Q.shape[1])), Q.T),Y)\n",
    "\n",
    "def predict(X, coef):\n",
    "    return np.dot(Qmatrix(X), coef)\n",
    "\n",
    "def score(X, y, coef):\n",
    "    f = predict(X, coef)\n",
    "    numerator = np.dot((y - f), (y - f).T)\n",
    "    denominator = np.dot((y - np.mean(y)), (y - np.mean(y).T))\n",
    "    return float(1 - numerator/denominator)"
   ]
  },
  {
   "cell_type": "code",
   "execution_count": 643,
   "id": "8d85a716",
   "metadata": {},
   "outputs": [],
   "source": [
    "test = predict(poly_reg.fit_transform(testx), fit(X_new,y))"
   ]
  },
  {
   "cell_type": "code",
   "execution_count": 644,
   "id": "a4399651",
   "metadata": {},
   "outputs": [
    {
     "data": {
      "text/plain": [
       "[<matplotlib.lines.Line2D at 0x1bffc0af400>]"
      ]
     },
     "execution_count": 644,
     "metadata": {},
     "output_type": "execute_result"
    },
    {
     "data": {
      "image/png": "[encoded data removed]",
      "text/plain": [
       "<Figure size 432x288 with 1 Axes>"
      ]
     },
     "metadata": {
      "needs_background": "light"
     },
     "output_type": "display_data"
    }
   ],
   "source": [
    "plt.scatter(x, y, c ='red')\n",
    "plt.plot(testx, test)"
   ]
  },
  {
   "cell_type": "code",
   "execution_count": 501,
   "id": "c78039b6",
   "metadata": {},
   "outputs": [
    {
     "data": {
      "text/plain": [
       "0.8709657526203783"
      ]
     },
     "execution_count": 501,
     "metadata": {},
     "output_type": "execute_result"
    }
   ],
   "source": [
    "score(X_new, y, coef)"
   ]
  },
  {
   "cell_type": "code",
   "execution_count": 663,
   "id": "80d1dc51",
   "metadata": {},
   "outputs": [],
   "source": [
    "poly_reg=PolynomialFeatures(degree=12)"
   ]
  },
  {
   "cell_type": "code",
   "execution_count": 664,
   "id": "db7a1d57",
   "metadata": {},
   "outputs": [],
   "source": [
    "X_new = poly_reg.fit_transform(X)\n",
    "coef = fit(X_new,y)\n",
    "test = predict(poly_reg.fit_transform(testx), fit(X_new,y))"
   ]
  },
  {
   "cell_type": "code",
   "execution_count": 665,
   "id": "7ab0df7d",
   "metadata": {},
   "outputs": [
    {
     "data": {
      "text/plain": [
       "[<matplotlib.lines.Line2D at 0x1bffc5e2760>]"
      ]
     },
     "execution_count": 665,
     "metadata": {},
     "output_type": "execute_result"
    },
    {
     "data": {
      "image/png": "[encoded data removed]",
      "text/plain": [
       "<Figure size 432x288 with 1 Axes>"
      ]
     },
     "metadata": {
      "needs_background": "light"
     },
     "output_type": "display_data"
    }
   ],
   "source": [
    "plt.scatter(x, y, c ='red')\n",
    "plt.plot(testx, test)"
   ]
  },
  {
   "cell_type": "code",
   "execution_count": 666,
   "id": "42c4362e",
   "metadata": {},
   "outputs": [
    {
     "data": {
      "text/plain": [
       "0.6993507604803618"
      ]
     },
     "execution_count": 666,
     "metadata": {},
     "output_type": "execute_result"
    }
   ],
   "source": [
    "score(X_new, y, coef)"
   ]
  },
  {
   "cell_type": "code",
   "execution_count": null,
   "id": "3e6a42f6",
   "metadata": {},
   "outputs": [],
   "source": []
  },
  {
   "cell_type": "markdown",
   "id": "9d535f75",
   "metadata": {},
   "source": [
    "#### 4"
   ]
  },
  {
   "cell_type": "code",
   "execution_count": 552,
   "id": "36297246",
   "metadata": {},
   "outputs": [
    {
     "data": {
      "text/html": [
       "<div>\n",
       "<style scoped>\n",
       "    .dataframe tbody tr th:only-of-type {\n",
       "        vertical-align: middle;\n",
       "    }\n",
       "\n",
       "    .dataframe tbody tr th {\n",
       "        vertical-align: top;\n",
       "    }\n",
       "\n",
       "    .dataframe thead th {\n",
       "        text-align: right;\n",
       "    }\n",
       "</style>\n",
       "<table border=\"1\" class=\"dataframe\">\n",
       "  <thead>\n",
       "    <tr style=\"text-align: right;\">\n",
       "      <th></th>\n",
       "      <th>Species</th>\n",
       "      <th>Weight</th>\n",
       "      <th>Length1</th>\n",
       "      <th>Length2</th>\n",
       "      <th>Length3</th>\n",
       "      <th>Height</th>\n",
       "      <th>Width</th>\n",
       "    </tr>\n",
       "  </thead>\n",
       "  <tbody>\n",
       "    <tr>\n",
       "      <th>0</th>\n",
       "      <td>Bream</td>\n",
       "      <td>242.0</td>\n",
       "      <td>23.2</td>\n",
       "      <td>25.4</td>\n",
       "      <td>30.0</td>\n",
       "      <td>11.5200</td>\n",
       "      <td>4.0200</td>\n",
       "    </tr>\n",
       "    <tr>\n",
       "      <th>1</th>\n",
       "      <td>Bream</td>\n",
       "      <td>290.0</td>\n",
       "      <td>24.0</td>\n",
       "      <td>26.3</td>\n",
       "      <td>31.2</td>\n",
       "      <td>12.4800</td>\n",
       "      <td>4.3056</td>\n",
       "    </tr>\n",
       "    <tr>\n",
       "      <th>2</th>\n",
       "      <td>Bream</td>\n",
       "      <td>340.0</td>\n",
       "      <td>23.9</td>\n",
       "      <td>26.5</td>\n",
       "      <td>31.1</td>\n",
       "      <td>12.3778</td>\n",
       "      <td>4.6961</td>\n",
       "    </tr>\n",
       "    <tr>\n",
       "      <th>3</th>\n",
       "      <td>Bream</td>\n",
       "      <td>363.0</td>\n",
       "      <td>26.3</td>\n",
       "      <td>29.0</td>\n",
       "      <td>33.5</td>\n",
       "      <td>12.7300</td>\n",
       "      <td>4.4555</td>\n",
       "    </tr>\n",
       "    <tr>\n",
       "      <th>4</th>\n",
       "      <td>Bream</td>\n",
       "      <td>430.0</td>\n",
       "      <td>26.5</td>\n",
       "      <td>29.0</td>\n",
       "      <td>34.0</td>\n",
       "      <td>12.4440</td>\n",
       "      <td>5.1340</td>\n",
       "    </tr>\n",
       "  </tbody>\n",
       "</table>\n",
       "</div>"
      ],
      "text/plain": [
       "  Species  Weight  Length1  Length2  Length3   Height   Width\n",
       "0   Bream   242.0     23.2     25.4     30.0  11.5200  4.0200\n",
       "1   Bream   290.0     24.0     26.3     31.2  12.4800  4.3056\n",
       "2   Bream   340.0     23.9     26.5     31.1  12.3778  4.6961\n",
       "3   Bream   363.0     26.3     29.0     33.5  12.7300  4.4555\n",
       "4   Bream   430.0     26.5     29.0     34.0  12.4440  5.1340"
      ]
     },
     "execution_count": 552,
     "metadata": {},
     "output_type": "execute_result"
    }
   ],
   "source": [
    "dataframe=pd.read_csv(\"Fish.csv\") # загружаем данные\n",
    "dataframe.head()"
   ]
  },
  {
   "cell_type": "code",
   "execution_count": 553,
   "id": "2368694b",
   "metadata": {},
   "outputs": [],
   "source": [
    "X = dataframe.drop([\"Species\",\"Weight\"],axis=1).values # выбираем то, что будет фичами"
   ]
  },
  {
   "cell_type": "code",
   "execution_count": 554,
   "id": "2fb77cd1",
   "metadata": {},
   "outputs": [],
   "source": [
    "y = dataframe[\"Weight\"].values # вес будем предсказывать"
   ]
  },
  {
   "cell_type": "code",
   "execution_count": 555,
   "id": "38b6e0a1",
   "metadata": {},
   "outputs": [
    {
     "data": {
      "text/plain": [
       "((159, 5), (159,))"
      ]
     },
     "execution_count": 555,
     "metadata": {},
     "output_type": "execute_result"
    }
   ],
   "source": [
    "X.shape, y.shape"
   ]
  },
  {
   "cell_type": "code",
   "execution_count": 556,
   "id": "2ad66bb9",
   "metadata": {},
   "outputs": [
    {
     "data": {
      "text/plain": [
       "LinearRegression()"
      ]
     },
     "execution_count": 556,
     "metadata": {},
     "output_type": "execute_result"
    }
   ],
   "source": [
    "model = LinearRegression(fit_intercept=True) # модель регрессии по умолчанию будет использовать стандартный базис\n",
    "model"
   ]
  },
  {
   "cell_type": "code",
   "execution_count": 557,
   "id": "50d61ed4",
   "metadata": {},
   "outputs": [
    {
     "data": {
      "text/plain": [
       "LinearRegression()"
      ]
     },
     "execution_count": 557,
     "metadata": {},
     "output_type": "execute_result"
    }
   ],
   "source": [
    "model.fit(X, y)"
   ]
  },
  {
   "cell_type": "code",
   "execution_count": 558,
   "id": "871c5e70",
   "metadata": {},
   "outputs": [
    {
     "data": {
      "text/plain": [
       "0.8852867046546207"
      ]
     },
     "execution_count": 558,
     "metadata": {},
     "output_type": "execute_result"
    }
   ],
   "source": [
    "model.score(X,y)"
   ]
  },
  {
   "cell_type": "code",
   "execution_count": 560,
   "id": "38054b03",
   "metadata": {},
   "outputs": [
    {
     "data": {
      "text/plain": [
       "(array([ 62.35521443,  -6.52675249, -29.02621861,  28.29735132,\n",
       "         22.47330665]),\n",
       " -499.58695535694244)"
      ]
     },
     "execution_count": 560,
     "metadata": {},
     "output_type": "execute_result"
    }
   ],
   "source": [
    "(model.coef_,model.intercept_)"
   ]
  },
  {
   "cell_type": "code",
   "execution_count": 561,
   "id": "74fc4534",
   "metadata": {},
   "outputs": [
    {
     "data": {
      "text/plain": [
       "array([-499.55932281,   62.35573526,   -6.52486724,  -29.02883903,\n",
       "         28.29833293,   22.46907124])"
      ]
     },
     "execution_count": 561,
     "metadata": {},
     "output_type": "execute_result"
    }
   ],
   "source": [
    "fit(X, y)"
   ]
  },
  {
   "cell_type": "code",
   "execution_count": 562,
   "id": "99f797e3",
   "metadata": {},
   "outputs": [
    {
     "data": {
      "text/plain": [
       "0.8852867039742763"
      ]
     },
     "execution_count": 562,
     "metadata": {},
     "output_type": "execute_result"
    }
   ],
   "source": [
    "score(X, y, fit(X, y))"
   ]
  },
  {
   "cell_type": "code",
   "execution_count": null,
   "id": "04f27333",
   "metadata": {},
   "outputs": [],
   "source": []
  },
  {
   "cell_type": "code",
   "execution_count": 524,
   "id": "091d3120",
   "metadata": {},
   "outputs": [
    {
     "data": {
      "text/plain": [
       "(159, 21)"
      ]
     },
     "execution_count": 524,
     "metadata": {},
     "output_type": "execute_result"
    }
   ],
   "source": [
    "poly_reg=PolynomialFeatures(degree=2)\n",
    "X_new = poly_reg.fit_transform(X)\n",
    "X_new.shape"
   ]
  },
  {
   "cell_type": "code",
   "execution_count": 526,
   "id": "e665bb65",
   "metadata": {},
   "outputs": [
    {
     "name": "stdout",
     "output_type": "stream",
     "text": [
      "0.9832188512811134\n"
     ]
    },
    {
     "data": {
      "text/plain": [
       "(array([  0.        , -32.39011451, -31.00709464,  29.32814152,\n",
       "        -18.43858613,  75.53108501, -32.09586506,  -2.61212618,\n",
       "         53.68171679, -26.41523247,  78.72967274,  18.43039898,\n",
       "        -29.13138047,  15.72566571, -35.40026424,  -8.24624136,\n",
       "          9.32959677, -41.75475777,  -7.54251852,  32.83656085,\n",
       "         -8.21563929]),\n",
       " 177.40519033969758)"
      ]
     },
     "execution_count": 526,
     "metadata": {},
     "output_type": "execute_result"
    }
   ],
   "source": [
    "model = LinearRegression(fit_intercept=True) # модель регрессии по умолчанию будет использовать стандартный базис\n",
    "model.fit(X_new, y)\n",
    "print(model.score(X_new,y))\n",
    "(model.coef_,model.intercept_)"
   ]
  },
  {
   "cell_type": "code",
   "execution_count": 529,
   "id": "60f51348",
   "metadata": {},
   "outputs": [
    {
     "data": {
      "text/plain": [
       "0.9832188490817957"
      ]
     },
     "execution_count": 529,
     "metadata": {},
     "output_type": "execute_result"
    }
   ],
   "source": [
    "score(X_new, y, fit(X_new, y))"
   ]
  },
  {
   "cell_type": "code",
   "execution_count": 530,
   "id": "c9beb894",
   "metadata": {},
   "outputs": [
    {
     "data": {
      "text/plain": [
       "0.9926572416056407"
      ]
     },
     "execution_count": 530,
     "metadata": {},
     "output_type": "execute_result"
    }
   ],
   "source": [
    "poly_reg=PolynomialFeatures(degree=3)\n",
    "X_new = poly_reg.fit_transform(X)\n",
    "model = LinearRegression(fit_intercept=True) # модель регрессии по умолчанию будет использовать стандартный базис\n",
    "model.fit(X_new, y)\n",
    "model.score(X_new,y)"
   ]
  },
  {
   "cell_type": "code",
   "execution_count": 531,
   "id": "899e1069",
   "metadata": {},
   "outputs": [
    {
     "data": {
      "text/plain": [
       "0.9926574599090674"
      ]
     },
     "execution_count": 531,
     "metadata": {},
     "output_type": "execute_result"
    }
   ],
   "source": [
    "score(X_new, y, fit(X_new, y))"
   ]
  },
  {
   "cell_type": "code",
   "execution_count": 534,
   "id": "5085e124",
   "metadata": {},
   "outputs": [
    {
     "data": {
      "text/plain": [
       "0.9731066352503596"
      ]
     },
     "execution_count": 534,
     "metadata": {},
     "output_type": "execute_result"
    }
   ],
   "source": [
    "poly_reg=PolynomialFeatures(degree=4)\n",
    "X_new = poly_reg.fit_transform(X)\n",
    "model = LinearRegression(fit_intercept=True) # модель регрессии по умолчанию будет использовать стандартный базис\n",
    "model.fit(X_new, y)\n",
    "model.score(X_new,y)"
   ]
  },
  {
   "cell_type": "code",
   "execution_count": null,
   "id": "203fa450",
   "metadata": {},
   "outputs": [],
   "source": []
  },
  {
   "cell_type": "code",
   "execution_count": null,
   "id": "82552651",
   "metadata": {},
   "outputs": [],
   "source": []
  },
  {
   "cell_type": "markdown",
   "id": "5a5976f4",
   "metadata": {},
   "source": [
    "#### 5"
   ]
  },
  {
   "cell_type": "code",
   "execution_count": 563,
   "id": "47ca89cc",
   "metadata": {},
   "outputs": [
    {
     "data": {
      "text/html": [
       "<div>\n",
       "<style scoped>\n",
       "    .dataframe tbody tr th:only-of-type {\n",
       "        vertical-align: middle;\n",
       "    }\n",
       "\n",
       "    .dataframe tbody tr th {\n",
       "        vertical-align: top;\n",
       "    }\n",
       "\n",
       "    .dataframe thead th {\n",
       "        text-align: right;\n",
       "    }\n",
       "</style>\n",
       "<table border=\"1\" class=\"dataframe\">\n",
       "  <thead>\n",
       "    <tr style=\"text-align: right;\">\n",
       "      <th></th>\n",
       "      <th>Hours Studied</th>\n",
       "      <th>Previous Scores</th>\n",
       "      <th>Extracurricular Activities</th>\n",
       "      <th>Sleep Hours</th>\n",
       "      <th>Sample Question Papers Practiced</th>\n",
       "      <th>Performance Index</th>\n",
       "    </tr>\n",
       "  </thead>\n",
       "  <tbody>\n",
       "    <tr>\n",
       "      <th>0</th>\n",
       "      <td>7</td>\n",
       "      <td>99</td>\n",
       "      <td>Yes</td>\n",
       "      <td>9</td>\n",
       "      <td>1</td>\n",
       "      <td>91.0</td>\n",
       "    </tr>\n",
       "    <tr>\n",
       "      <th>1</th>\n",
       "      <td>4</td>\n",
       "      <td>82</td>\n",
       "      <td>No</td>\n",
       "      <td>4</td>\n",
       "      <td>2</td>\n",
       "      <td>65.0</td>\n",
       "    </tr>\n",
       "    <tr>\n",
       "      <th>2</th>\n",
       "      <td>8</td>\n",
       "      <td>51</td>\n",
       "      <td>Yes</td>\n",
       "      <td>7</td>\n",
       "      <td>2</td>\n",
       "      <td>45.0</td>\n",
       "    </tr>\n",
       "    <tr>\n",
       "      <th>3</th>\n",
       "      <td>5</td>\n",
       "      <td>52</td>\n",
       "      <td>Yes</td>\n",
       "      <td>5</td>\n",
       "      <td>2</td>\n",
       "      <td>36.0</td>\n",
       "    </tr>\n",
       "    <tr>\n",
       "      <th>4</th>\n",
       "      <td>7</td>\n",
       "      <td>75</td>\n",
       "      <td>No</td>\n",
       "      <td>8</td>\n",
       "      <td>5</td>\n",
       "      <td>66.0</td>\n",
       "    </tr>\n",
       "  </tbody>\n",
       "</table>\n",
       "</div>"
      ],
      "text/plain": [
       "   Hours Studied  Previous Scores Extracurricular Activities  Sleep Hours  \\\n",
       "0              7               99                        Yes            9   \n",
       "1              4               82                         No            4   \n",
       "2              8               51                        Yes            7   \n",
       "3              5               52                        Yes            5   \n",
       "4              7               75                         No            8   \n",
       "\n",
       "   Sample Question Papers Practiced  Performance Index  \n",
       "0                                 1               91.0  \n",
       "1                                 2               65.0  \n",
       "2                                 2               45.0  \n",
       "3                                 2               36.0  \n",
       "4                                 5               66.0  "
      ]
     },
     "execution_count": 563,
     "metadata": {},
     "output_type": "execute_result"
    }
   ],
   "source": [
    "df = pd.read_csv('Student_Performance.csv')\n",
    "df.head()"
   ]
  },
  {
   "cell_type": "code",
   "execution_count": 564,
   "id": "018f17ce",
   "metadata": {},
   "outputs": [],
   "source": [
    "X, y = df.drop(['Performance Index'], axis=1), df['Performance Index']"
   ]
  },
  {
   "cell_type": "code",
   "execution_count": 565,
   "id": "0f12dd29",
   "metadata": {
    "scrolled": true
   },
   "outputs": [],
   "source": [
    "X['Extracurricular Activities'] = X['Extracurricular Activities'].map({\"Yes\": 1, \"No\": 0})"
   ]
  },
  {
   "cell_type": "code",
   "execution_count": 566,
   "id": "8bcf2ede",
   "metadata": {},
   "outputs": [],
   "source": [
    "X = X.values\n",
    "y = y.values"
   ]
  },
  {
   "cell_type": "code",
   "execution_count": 567,
   "id": "cb585f38",
   "metadata": {},
   "outputs": [
    {
     "data": {
      "text/plain": [
       "((10000, 5), (10000,))"
      ]
     },
     "execution_count": 567,
     "metadata": {},
     "output_type": "execute_result"
    }
   ],
   "source": [
    "X.shape, y.shape"
   ]
  },
  {
   "cell_type": "code",
   "execution_count": 568,
   "id": "b903ea63",
   "metadata": {},
   "outputs": [
    {
     "data": {
      "text/plain": [
       "0.9887523323780958"
      ]
     },
     "execution_count": 568,
     "metadata": {},
     "output_type": "execute_result"
    }
   ],
   "source": [
    "model = LinearRegression(fit_intercept=True) # модель регрессии по умолчанию будет использовать стандартный базис\n",
    "model.fit(X, y)\n",
    "model.score(X,y)"
   ]
  },
  {
   "cell_type": "code",
   "execution_count": 569,
   "id": "84da37da",
   "metadata": {},
   "outputs": [
    {
     "data": {
      "text/plain": [
       "0.9887523323768626"
      ]
     },
     "execution_count": 569,
     "metadata": {},
     "output_type": "execute_result"
    }
   ],
   "source": [
    "score(X, y, fit(X, y))"
   ]
  },
  {
   "cell_type": "code",
   "execution_count": 570,
   "id": "85571895",
   "metadata": {},
   "outputs": [
    {
     "data": {
      "text/plain": [
       "0.9887688847899551"
      ]
     },
     "execution_count": 570,
     "metadata": {},
     "output_type": "execute_result"
    }
   ],
   "source": [
    "poly_reg=PolynomialFeatures(degree=2)\n",
    "X_new = poly_reg.fit_transform(X)\n",
    "model = LinearRegression(fit_intercept=True)\n",
    "model.fit(X_new, y)\n",
    "model.score(X_new,y)"
   ]
  },
  {
   "cell_type": "code",
   "execution_count": 571,
   "id": "91b78f87",
   "metadata": {},
   "outputs": [
    {
     "data": {
      "text/plain": [
       "0.9887688847819341"
      ]
     },
     "execution_count": 571,
     "metadata": {},
     "output_type": "execute_result"
    }
   ],
   "source": [
    "score(X_new, y, fit(X_new, y))"
   ]
  },
  {
   "cell_type": "code",
   "execution_count": 583,
   "id": "5bedfd0d",
   "metadata": {},
   "outputs": [],
   "source": [
    "from sklearn.model_selection import train_test_split\n",
    "\n",
    "X_train, X_test, y_train, y_test = train_test_split(X, y, test_size=0.2, random_state=42)"
   ]
  },
  {
   "cell_type": "code",
   "execution_count": 586,
   "id": "367330e5",
   "metadata": {},
   "outputs": [
    {
     "data": {
      "text/plain": [
       "0.9889832909573145"
      ]
     },
     "execution_count": 586,
     "metadata": {},
     "output_type": "execute_result"
    }
   ],
   "source": [
    "model.fit(X_train, y_train)\n",
    "model.score(X_test,y_test)"
   ]
  },
  {
   "cell_type": "code",
   "execution_count": 584,
   "id": "5dfb57e7",
   "metadata": {},
   "outputs": [],
   "source": [
    "coef = fit(X_train, y_train)"
   ]
  },
  {
   "cell_type": "code",
   "execution_count": 585,
   "id": "e8b404dd",
   "metadata": {},
   "outputs": [
    {
     "data": {
      "text/plain": [
       "0.9889832731323628"
      ]
     },
     "execution_count": 585,
     "metadata": {},
     "output_type": "execute_result"
    }
   ],
   "source": [
    "score(X_test, y_test, coef)"
   ]
  },
  {
   "cell_type": "code",
   "execution_count": null,
   "id": "cb2175c0",
   "metadata": {},
   "outputs": [],
   "source": []
  },
  {
   "cell_type": "code",
   "execution_count": null,
   "id": "6e79f73b",
   "metadata": {},
   "outputs": [],
   "source": []
  },
  {
   "cell_type": "code",
   "execution_count": null,
   "id": "bd95bfea",
   "metadata": {},
   "outputs": [],
   "source": []
  },
  {
   "cell_type": "markdown",
   "id": "fa18866f",
   "metadata": {},
   "source": [
    "to be continued... 🧡"
   ]
  }
 ],
 "metadata": {
  "kernelspec": {
   "display_name": "Python 3 (ipykernel)",
   "language": "python",
   "name": "python3"
  },
  "language_info": {
   "codemirror_mode": {
    "name": "ipython",
    "version": 3
   },
   "file_extension": ".py",
   "mimetype": "text/x-python",
   "name": "python",
   "nbconvert_exporter": "python",
   "pygments_lexer": "ipython3",
   "version": "3.9.7"
  }
 },
 "nbformat": 4,
 "nbformat_minor": 5
}
