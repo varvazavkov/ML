{
 "cells": [
  {
   "cell_type": "code",
   "execution_count": 3,
   "id": "b185afb9-424f-4cb7-9dbd-3f8bb63563cc",
   "metadata": {},
   "outputs": [],
   "source": [
    "import numpy as np\n",
    "import pandas as pd\n",
    "import seaborn as sns\n",
    "import matplotlib.pyplot as plt\n",
    "from scipy.stats import entropy\n",
    "from sklearn.datasets import make_blobs, make_moons\n",
    "import matplotlib.pyplot as plt\n",
    "from sklearn.tree import DecisionTreeClassifier\n",
    "from sklearn.metrics import f1_score, precision_score, recall_score\n",
    "from sklearn.model_selection import train_test_split\n",
    "from sklearn.model_selection import GridSearchCV\n",
    "from sklearn.preprocessing import OneHotEncoder, LabelEncoder\n",
    "from sklearn.tree import DecisionTreeRegressor\n",
    "from sklearn.metrics import accuracy_score\n",
    "from sklearn.preprocessing import StandardScaler\n",
    "from sklearn.preprocessing import PolynomialFeatures\n",
    "from sklearn.model_selection import train_test_split\n",
    "from sklearn.linear_model import LogisticRegression\n",
    "from sklearn.neighbors import KNeighborsClassifier\n",
    "from sklearn.metrics import accuracy_score"
   ]
  },
  {
   "cell_type": "code",
   "execution_count": 4,
   "id": "a3af08ef-77cb-4764-91ec-8044d735574f",
   "metadata": {},
   "outputs": [],
   "source": [
    "from scipy import stats"
   ]
  },
  {
   "cell_type": "markdown",
   "id": "1292280d",
   "metadata": {},
   "source": [
    "# <font color = 'red'> ЛР 6. Метод k-ближайших соседей. Классификаторы на различных данных. </font>"
   ]
  },
  {
   "cell_type": "markdown",
   "id": "8d08e816",
   "metadata": {},
   "source": [
    "Сложность: <font color = 'orange'> Нормально  </font>.\n",
    "\n",
    "Дата составления: 1.11.2023\n",
    "\n",
    "Срок выполнения: 1 неделя (с момента первой практики после выдачи).\n",
    "\n",
    "Автор: ст. преподаватель Кушнеров А.В."
   ]
  },
  {
   "cell_type": "markdown",
   "id": "cb89937b",
   "metadata": {},
   "source": [
    "## <font color = 'green'> 1. Метод k-ближайших соседей.  </font>"
   ]
  },
  {
   "cell_type": "markdown",
   "id": "9b557d46",
   "metadata": {},
   "source": [
    "Метод ближайщих соседей - один из самых интуитивно понятных но в тоже время эффективных методов класссификации.\n",
    "\n",
    "Общая идея метода.\n",
    "\n",
    "1. Предварительное обучение не требуется. Прогноз делается на основе известных данных.\n",
    "2. Для тестового вектора признаков $\\overline{x_{0}}$ находим ближайшие $k$ в пространстве признаков с помощью заданной метрики.\n",
    "3. Классифицируем $\\overline{x_{0}}$  по большинству меток представителей множества $k$ соседей из п 2. \n",
    "\n",
    "Подробнее [тут](https://habr.com/ru/articles/149693/) \n"
   ]
  },
  {
   "cell_type": "code",
   "execution_count": 2,
   "id": "cfc81561",
   "metadata": {},
   "outputs": [
    {
     "data": {
      "text/plain": [
       "<matplotlib.collections.PathCollection at 0x1b17968a340>"
      ]
     },
     "execution_count": 2,
     "metadata": {},
     "output_type": "execute_result"
    },
    {
     "data": {
      "image/png": "[encoded data removed]",
      "text/plain": [
       "<Figure size 432x288 with 1 Axes>"
      ]
     },
     "metadata": {
      "needs_background": "light"
     },
     "output_type": "display_data"
    }
   ],
   "source": [
    "from sklearn.datasets import make_classification\n",
    "from matplotlib import pyplot as plt\n",
    "\n",
    "X,y = make_classification(n_samples=500, n_features=2, n_informative=2, \n",
    "                          n_redundant=0, n_classes=3, n_clusters_per_class=1)\n",
    "\n",
    "plt.scatter(X[:,0], X[:,1],c=y,s=8)"
   ]
  },
  {
   "cell_type": "markdown",
   "id": "2dd55b11",
   "metadata": {},
   "source": [
    "<font color = 'red' size = 5>Задание 1 </font>\n",
    "\n",
    "1. Реализуйте собственную учебную функцию для классификации методом k-ближайших соседей.\n",
    "2. Протестируйте полученную вами функцию на искусственных тестовых данных.\n",
    "3. Обучите на тех же данных классификатор с помощью встроенного класса *KNeighborsClassifier*.\n",
    "4. Сравните работу полученных моеделей.\n",
    "5. Изучите и эмпирически протестируйте гиперпараметры моделей для вашей и встроенной функции.\n",
    "6. Можно ли переобучить классификатор k-ближайших соседей? Эмпирически подтвердите!"
   ]
  },
  {
   "cell_type": "code",
   "execution_count": 3,
   "id": "c3dcf0f7-fc09-4598-b3a7-2e4cc3c947b9",
   "metadata": {},
   "outputs": [],
   "source": [
    "import random\n",
    "import math\n",
    "import pylab as pl\n",
    "import numpy as np\n",
    "from matplotlib.colors import ListedColormap"
   ]
  },
  {
   "cell_type": "code",
   "execution_count": 25,
   "id": "fd020978-b232-4c2c-84f8-7531d21bf677",
   "metadata": {},
   "outputs": [],
   "source": [
    "X_train, X_test, y_train, y_test = train_test_split(X, y, test_size=0.3,\n",
    "random_state=42)"
   ]
  },
  {
   "cell_type": "code",
   "execution_count": 55,
   "id": "c779e042-4d0f-4def-84cd-197ab71e3209",
   "metadata": {},
   "outputs": [],
   "source": [
    "class KNNClassifier:\n",
    "    def __init__(self, k=3, p=2):\n",
    "        self.k = k\n",
    "        self.p = p\n",
    "\n",
    "    def fit(self, X_train, y_train):\n",
    "        self.X_train = np.array(X_train)\n",
    "        self.y_train = np.array(y_train)\n",
    "\n",
    "    def predict(self, X_test):\n",
    "        predictions = [self._predict(x) for x in X_test]\n",
    "        return np.array(predictions)\n",
    "\n",
    "    def _predict(self, x):\n",
    "        if self.p == 1:\n",
    "            distances = [np.sum(np.abs(x - x_train)) for x_train in self.X_train]\n",
    "        if self.p == 2:\n",
    "            distances = [np.linalg.norm(x - x_train, 2) for x_train in self.X_train]\n",
    "        else:\n",
    "            distances = [np.sum(np.abs(x - x_train)) for x_train in self.X_train]\n",
    "        k_indices = np.argsort(distances)[:self.k]\n",
    "        k_nearest_labels = [self.y_train[i] for i in k_indices]\n",
    "        most_common = np.bincount(k_nearest_labels).argmax()\n",
    "        return most_common\n",
    "\n",
    "    def accuracy(self, y_true, y_pred):\n",
    "        return accuracy_score(y_true, y_pred)\n",
    "\n",
    "    def precision(self, y_true, y_pred):\n",
    "        return precision_score(y_true, y_pred, average='weighted')\n",
    "\n",
    "    def recall(self, y_true, y_pred):\n",
    "        return recall_score(y_true, y_pred, average='weighted')\n",
    "\n",
    "    def f1_score(self, y_true, y_pred):\n",
    "        return f1_score(y_true, y_pred, average='weighted')"
   ]
  },
  {
   "cell_type": "code",
   "execution_count": 56,
   "id": "9bd4ee0d-2513-47ed-aa78-40592754386a",
   "metadata": {},
   "outputs": [],
   "source": [
    "X_train, X_test, y_train, y_test = train_test_split(X, y, test_size=0.3,\n",
    "random_state=42)"
   ]
  },
  {
   "cell_type": "code",
   "execution_count": 57,
   "id": "14007fbb-9778-4fac-aeed-eb3465166eb5",
   "metadata": {},
   "outputs": [],
   "source": [
    "knn = KNNClassifier(k=7)\n",
    "knn.fit(X_train, y_train)"
   ]
  },
  {
   "cell_type": "code",
   "execution_count": 58,
   "id": "b1503802-1ede-4fb5-b0be-afe6da8c12fa",
   "metadata": {},
   "outputs": [],
   "source": [
    "y_pred = knn.predict(X_test)"
   ]
  },
  {
   "cell_type": "code",
   "execution_count": 59,
   "id": "02b349be-a78a-4136-8ae0-5ddfeafef7bc",
   "metadata": {},
   "outputs": [],
   "source": [
    "def plot_decision_boundary(X, y, model):\n",
    "    h = 0.1\n",
    "    x_min, x_max = X[:, 0].min() - 1, X[:, 0].max() + 1\n",
    "    y_min, y_max = X[:, 1].min() - 1, X[:, 1].max() + 1\n",
    "    xx, yy = np.meshgrid(np.arange(x_min, x_max, h), np.arange(y_min, y_max, h))\n",
    "\n",
    "    Z = model.predict(np.c_[xx.ravel(), yy.ravel()])\n",
    "    Z = Z.reshape(xx.shape)\n",
    "\n",
    "    plt.contourf(xx, yy, Z, alpha=0.3)\n",
    "    plt.scatter(X[:, 0], X[:, 1], c=y, edgecolors='k', marker='o', s=80, linewidth=0.8)\n",
    "    plt.show()"
   ]
  },
  {
   "cell_type": "code",
   "execution_count": 60,
   "id": "4d94f2bb-d85d-4789-829b-53b385bf68f2",
   "metadata": {},
   "outputs": [],
   "source": [
    "knn_classifier = KNNClassifier(k=3)\n",
    "knn_classifier.fit(X_train, y_train)"
   ]
  },
  {
   "cell_type": "code",
   "execution_count": 61,
   "id": "6218f344-0192-4214-a598-7a0a3012d0c4",
   "metadata": {},
   "outputs": [
    {
     "data": {
      "image/png": "[encoded data removed]",
      "text/plain": [
       "<Figure size 432x288 with 1 Axes>"
      ]
     },
     "metadata": {
      "needs_background": "light"
     },
     "output_type": "display_data"
    }
   ],
   "source": [
    "plot_decision_boundary(X, y, knn_classifier)"
   ]
  },
  {
   "cell_type": "code",
   "execution_count": 12,
   "id": "bd66bfeb-53d3-4cb8-8a5b-6370eb107c1c",
   "metadata": {},
   "outputs": [],
   "source": [
    "knn_classifier = KNNClassifier(k=7)\n",
    "knn_classifier.fit(X_train, y_train)"
   ]
  },
  {
   "cell_type": "code",
   "execution_count": 13,
   "id": "7c7b507f-bfcb-418e-a770-7cc80f67c853",
   "metadata": {},
   "outputs": [
    {
     "data": {
      "image/png": "[encoded data removed]",
      "text/plain": [
       "<Figure size 432x288 with 1 Axes>"
      ]
     },
     "metadata": {
      "needs_background": "light"
     },
     "output_type": "display_data"
    }
   ],
   "source": [
    "plot_decision_boundary(X, y, knn_classifier)"
   ]
  },
  {
   "cell_type": "code",
   "execution_count": 14,
   "id": "71c52b28-6b84-4192-992e-7740ee16d033",
   "metadata": {},
   "outputs": [],
   "source": [
    "knn_classifier = KNNClassifier(k=7, p=1)\n",
    "knn_classifier.fit(X_train, y_train)"
   ]
  },
  {
   "cell_type": "code",
   "execution_count": 15,
   "id": "3307f317-f42f-4cb4-b272-15771ba64cf4",
   "metadata": {},
   "outputs": [
    {
     "data": {
      "image/png": "[encoded data removed]",
      "text/plain": [
       "<Figure size 432x288 with 1 Axes>"
      ]
     },
     "metadata": {
      "needs_background": "light"
     },
     "output_type": "display_data"
    }
   ],
   "source": [
    "plot_decision_boundary(X, y, knn_classifier)"
   ]
  },
  {
   "cell_type": "code",
   "execution_count": 63,
   "id": "2944232e-dc95-4d2d-805f-075277dd2dab",
   "metadata": {},
   "outputs": [
    {
     "data": {
      "image/png": "[encoded data removed]",
      "text/plain": [
       "<Figure size 720x432 with 1 Axes>"
      ]
     },
     "metadata": {
      "needs_background": "light"
     },
     "output_type": "display_data"
    }
   ],
   "source": [
    "plt.figure(figsize=(10, 6))\n",
    "\n",
    "plt.scatter(X_train[:, 0], X_train[:, 1], c=y_train, marker='o', cmap='viridis', label='Train Data')\n",
    "\n",
    "plt.scatter(X_test[:, 0], X_test[:, 1], c=y_pred, marker='x', cmap='viridis', label='Predicted')\n",
    "plt.title('k-NN Classification')\n",
    "plt.legend()\n",
    "plt.show()"
   ]
  },
  {
   "cell_type": "code",
   "execution_count": 16,
   "id": "d8f0b9b2-7ba4-4365-b44a-f7d22bf00aa8",
   "metadata": {},
   "outputs": [
    {
     "name": "stdout",
     "output_type": "stream",
     "text": [
      "Accuracy: 0.95\n",
      "Precision: 0.95\n",
      "Recall: 0.95\n",
      "F1 Score: 0.95\n"
     ]
    }
   ],
   "source": [
    "knn_classifier = KNNClassifier(k=3)\n",
    "knn_classifier.fit(X_train, y_train)\n",
    "\n",
    "y_pred = knn_classifier.predict(X_test)\n",
    "\n",
    "accuracy = knn_classifier.accuracy(y_test, y_pred)\n",
    "precision = knn_classifier.precision(y_test, y_pred)\n",
    "recall = knn_classifier.recall(y_test, y_pred)\n",
    "f1 = knn_classifier.f1_score(y_test, y_pred)\n",
    "\n",
    "print(f'Accuracy: {accuracy:.2f}')\n",
    "print(f'Precision: {precision:.2f}')\n",
    "print(f'Recall: {recall:.2f}')\n",
    "print(f'F1 Score: {f1:.2f}')\n"
   ]
  },
  {
   "cell_type": "code",
   "execution_count": 17,
   "id": "fadc05b5-e0b9-43e8-8aca-3931bf750e25",
   "metadata": {},
   "outputs": [
    {
     "name": "stdout",
     "output_type": "stream",
     "text": [
      "Accuracy: 0.95\n",
      "Precision: 0.95\n",
      "Recall: 0.95\n",
      "F1 Score: 0.95\n"
     ]
    }
   ],
   "source": [
    "from sklearn.neighbors import KNeighborsClassifier\n",
    "\n",
    "knn_model = KNeighborsClassifier(n_neighbors=3)\n",
    "knn_model.fit(X_train, y_train)\n",
    "y_pred = knn_model.predict(X_test)\n",
    "\n",
    "accuracy = accuracy_score(y_test, y_pred)\n",
    "precision = precision_score(y_test, y_pred, average='weighted')\n",
    "recall = recall_score(y_test, y_pred, average='weighted')\n",
    "f1 = f1_score(y_test, y_pred, average='weighted')\n",
    "\n",
    "print(f'Accuracy: {accuracy:.2f}')\n",
    "print(f'Precision: {precision:.2f}')\n",
    "print(f'Recall: {recall:.2f}')\n",
    "print(f'F1 Score: {f1:.2f}')"
   ]
  },
  {
   "cell_type": "code",
   "execution_count": 18,
   "id": "57520120-1f06-4219-ae48-d8c5b049029a",
   "metadata": {},
   "outputs": [
    {
     "name": "stdout",
     "output_type": "stream",
     "text": [
      "Наилучшие гиперпараметры: {'n_neighbors': 3, 'p': 1, 'weights': 'uniform'}\n",
      "Точность на тестовом наборе: 0.9666666666666667\n"
     ]
    }
   ],
   "source": [
    "from sklearn.model_selection import GridSearchCV\n",
    "\n",
    "knn = KNeighborsClassifier()\n",
    "\n",
    "param_grid = {'n_neighbors': [3, 4, 5, 6, 7, 8, 9], 'weights': ['uniform', 'distance'], 'p': [1, 2]}\n",
    "\n",
    "grid_search = GridSearchCV(knn, param_grid, cv=5, scoring='accuracy')\n",
    "\n",
    "grid_search.fit(X_train, y_train)\n",
    "\n",
    "print(\"Наилучшие гиперпараметры:\", grid_search.best_params_)\n",
    "\n",
    "y_pred = grid_search.predict(X_test)\n",
    "\n",
    "accuracy = accuracy_score(y_test, y_pred)\n",
    "print(\"Точность на тестовом наборе:\", accuracy)\n"
   ]
  },
  {
   "cell_type": "code",
   "execution_count": 19,
   "id": "dfbb71f6-ca5d-47ae-95d2-78e292eeeffc",
   "metadata": {},
   "outputs": [
    {
     "name": "stdout",
     "output_type": "stream",
     "text": [
      "k =  1 p =  1\n",
      "Accuracy: 0.95  Precision: 0.95  Recall: 0.95  F1 Score: 0.95\n",
      "k =  1 p =  2\n",
      "Accuracy: 0.95  Precision: 0.95  Recall: 0.95  F1 Score: 0.95\n",
      "k =  2 p =  1\n",
      "Accuracy: 0.95  Precision: 0.96  Recall: 0.95  F1 Score: 0.95\n",
      "k =  2 p =  2\n",
      "Accuracy: 0.95  Precision: 0.96  Recall: 0.95  F1 Score: 0.95\n",
      "k =  3 p =  1\n",
      "Accuracy: 0.97  Precision: 0.97  Recall: 0.97  F1 Score: 0.97\n",
      "k =  3 p =  2\n",
      "Accuracy: 0.95  Precision: 0.95  Recall: 0.95  F1 Score: 0.95\n",
      "k =  4 p =  1\n",
      "Accuracy: 0.95  Precision: 0.95  Recall: 0.95  F1 Score: 0.95\n",
      "k =  4 p =  2\n",
      "Accuracy: 0.95  Precision: 0.95  Recall: 0.95  F1 Score: 0.95\n",
      "k =  5 p =  1\n",
      "Accuracy: 0.95  Precision: 0.95  Recall: 0.95  F1 Score: 0.95\n",
      "k =  5 p =  2\n",
      "Accuracy: 0.95  Precision: 0.95  Recall: 0.95  F1 Score: 0.95\n",
      "k =  6 p =  1\n",
      "Accuracy: 0.95  Precision: 0.95  Recall: 0.95  F1 Score: 0.95\n",
      "k =  6 p =  2\n",
      "Accuracy: 0.94  Precision: 0.94  Recall: 0.94  F1 Score: 0.94\n",
      "k =  7 p =  1\n",
      "Accuracy: 0.95  Precision: 0.96  Recall: 0.95  F1 Score: 0.95\n",
      "k =  7 p =  2\n",
      "Accuracy: 0.96  Precision: 0.96  Recall: 0.96  F1 Score: 0.96\n",
      "k =  8 p =  1\n",
      "Accuracy: 0.93  Precision: 0.94  Recall: 0.93  F1 Score: 0.93\n",
      "k =  8 p =  2\n",
      "Accuracy: 0.95  Precision: 0.95  Recall: 0.95  F1 Score: 0.95\n",
      "k =  9 p =  1\n",
      "Accuracy: 0.95  Precision: 0.95  Recall: 0.95  F1 Score: 0.95\n",
      "k =  9 p =  2\n",
      "Accuracy: 0.95  Precision: 0.96  Recall: 0.95  F1 Score: 0.95\n",
      "k =  10 p =  1\n",
      "Accuracy: 0.95  Precision: 0.95  Recall: 0.95  F1 Score: 0.95\n",
      "k =  10 p =  2\n",
      "Accuracy: 0.94  Precision: 0.94  Recall: 0.94  F1 Score: 0.94\n",
      "k =  11 p =  1\n",
      "Accuracy: 0.95  Precision: 0.95  Recall: 0.95  F1 Score: 0.95\n",
      "k =  11 p =  2\n",
      "Accuracy: 0.95  Precision: 0.95  Recall: 0.95  F1 Score: 0.95\n",
      "k =  20 p =  1\n",
      "Accuracy: 0.93  Precision: 0.94  Recall: 0.93  F1 Score: 0.93\n",
      "k =  20 p =  2\n",
      "Accuracy: 0.94  Precision: 0.94  Recall: 0.94  F1 Score: 0.94\n"
     ]
    }
   ],
   "source": [
    "k = [1,2, 3, 4, 5, 6, 7, 8, 9, 10, 11, 20]\n",
    "p = [1, 2]\n",
    "\n",
    "for i in k:\n",
    "    for j in p:\n",
    "        knn = KNNClassifier(k = i, p = j)\n",
    "        knn.fit(X_train, y_train)\n",
    "        y_pred = knn.predict(X_test)\n",
    "        print('k = ', i, 'p = ', j)\n",
    "        accuracy = accuracy_score(y_test, y_pred)\n",
    "        precision = precision_score(y_test, y_pred, average='weighted')\n",
    "        recall = recall_score(y_test, y_pred, average='weighted')\n",
    "        f1 = f1_score(y_test, y_pred, average='weighted')\n",
    "\n",
    "        print(f'Accuracy: {accuracy:.2f} ', f'Precision: {precision:.2f} ', f'Recall: {recall:.2f} ', f'F1 Score: {f1:.2f}')"
   ]
  },
  {
   "cell_type": "code",
   "execution_count": 20,
   "id": "05281460-e745-4bbc-a1f0-9c0ec34487a5",
   "metadata": {},
   "outputs": [
    {
     "data": {
      "text/plain": [
       "<matplotlib.legend.Legend at 0x1b17970cf70>"
      ]
     },
     "execution_count": 20,
     "metadata": {},
     "output_type": "execute_result"
    },
    {
     "data": {
      "image/png": "[encoded data removed]",
      "text/plain": [
       "<Figure size 432x288 with 1 Axes>"
      ]
     },
     "metadata": {
      "needs_background": "light"
     },
     "output_type": "display_data"
    }
   ],
   "source": [
    "k = [1, 2, 3, 5, 7, 9, 10, 11, 12, 15, 20]\n",
    "scores_test = []\n",
    "scores_train = []\n",
    "for i in k:\n",
    "    knn = KNeighborsClassifier(n_neighbors = i)\n",
    "    knn.fit(X_train, y_train)\n",
    "    scores_test.append(knn.score(X_test, y_test))\n",
    "    scores_train.append(knn.score(X_train, y_train))\n",
    "    \n",
    "plt.plot(k, scores_train, 'r-o')\n",
    "plt.plot(k, scores_test, 'b-o')\n",
    "plt.legend(['Train', 'Test'])"
   ]
  },
  {
   "cell_type": "code",
   "execution_count": 21,
   "id": "a01d9501-0c87-4708-ba77-5359936d2ca0",
   "metadata": {},
   "outputs": [
    {
     "data": {
      "text/plain": [
       "<matplotlib.legend.Legend at 0x1b1799fde80>"
      ]
     },
     "execution_count": 21,
     "metadata": {},
     "output_type": "execute_result"
    },
    {
     "data": {
      "image/png": "[encoded data removed]",
      "text/plain": [
       "<Figure size 432x288 with 1 Axes>"
      ]
     },
     "metadata": {
      "needs_background": "light"
     },
     "output_type": "display_data"
    }
   ],
   "source": [
    "k = [1, 2, 3, 5, 7, 9, 10, 11, 12, 15, 20]\n",
    "scores_test = []\n",
    "scores_train = []\n",
    "for i in k:\n",
    "    knn = KNeighborsClassifier(n_neighbors = i, p=1)\n",
    "    knn.fit(X_train, y_train)\n",
    "    scores_test.append(knn.score(X_test, y_test))\n",
    "    scores_train.append(knn.score(X_train, y_train))\n",
    "    \n",
    "plt.plot(k, scores_train, 'r-o')\n",
    "plt.plot(k, scores_test, 'b-o')\n",
    "plt.legend(['Train', 'Test'])"
   ]
  },
  {
   "cell_type": "markdown",
   "id": "b3952d9c-b9be-4f6b-a87d-7a7dc8afc23f",
   "metadata": {},
   "source": [
    "В контексте переобучения, KNN обладает свойством гибкости и неявно адаптируется к форме данных обучения. Это означает, что классификатор KNN может быть более подвержен переобучению, если количество соседей k выбрано слишком маленьким или если имеется большое количество признаков, которые несут мало информации."
   ]
  },
  {
   "cell_type": "markdown",
   "id": "0d713c26",
   "metadata": {},
   "source": [
    "## <font color = 'green'> 2. Элементарная работа с изображениями  </font>"
   ]
  },
  {
   "cell_type": "code",
   "execution_count": 43,
   "id": "e755600d",
   "metadata": {},
   "outputs": [
    {
     "data": {
      "text/plain": [
       "(1797, 8, 8)"
      ]
     },
     "execution_count": 43,
     "metadata": {},
     "output_type": "execute_result"
    }
   ],
   "source": [
    "from sklearn.datasets import load_digits\n",
    "digits = load_digits()\n",
    "digits.images.shape"
   ]
  },
  {
   "cell_type": "code",
   "execution_count": 40,
   "id": "ce3e3fe9",
   "metadata": {},
   "outputs": [
    {
     "data": {
      "image/png": "[encoded data removed]",
      "text/plain": [
       "<Figure size 576x576 with 100 Axes>"
      ]
     },
     "metadata": {},
     "output_type": "display_data"
    }
   ],
   "source": [
    "fig, axes = plt.subplots(10, 10, figsize=(8, 8),\n",
    "                         subplot_kw={'xticks':[], 'yticks':[]},\n",
    "                         gridspec_kw=dict(hspace=0.1, wspace=0.1))\n",
    "\n",
    "\n",
    "for i, ax in enumerate(axes.flat):\n",
    "    ax.imshow(digits.images[i], cmap='binary', interpolation='nearest')\n",
    "    ax.text(0.05, 0.05, str(digits.target[i]),\n",
    "            transform=ax.transAxes, color='blue')"
   ]
  },
  {
   "cell_type": "code",
   "execution_count": 44,
   "id": "e41efdbc",
   "metadata": {},
   "outputs": [
    {
     "data": {
      "text/plain": [
       "(1797, 64)"
      ]
     },
     "execution_count": 44,
     "metadata": {},
     "output_type": "execute_result"
    }
   ],
   "source": [
    "X = digits.data\n",
    "X.shape"
   ]
  },
  {
   "cell_type": "markdown",
   "id": "98642ffa",
   "metadata": {},
   "source": [
    "<font color = 'red' size = 5>Задание 2 </font>\n",
    "\n",
    "1. Изучите код в ячейках выше. Можно ли рассматривать изображения как векторы числовых признаков?\n",
    "2. Реализуйте классификатор для определения цифры на изображении используя различные модели, изученные в ЛР4-ЛР6. \n",
    "3. Тщательно оцените качество полученных моделей и сделайте выводы."
   ]
  },
  {
   "cell_type": "markdown",
   "id": "abe1703f-99be-4b0d-a2c6-1879944327e4",
   "metadata": {},
   "source": [
    "Изображения могут быть рассмотрены как векторы числовых признаков. Каждый пиксель изображения представляется числовым значением, которое указывает на интенсивность цвета в данной точке. Эти значения пикселей могут быть организованы в вектор признаков.\n",
    "\n",
    "Например, для черно-белого изображения каждый пиксель представлен одним числом (обычно от 0 до 255), и изображение может быть представлено вектором, где каждый элемент вектора соответствует значению пикселя.\n",
    "\n",
    "Для цветных изображений, каждый пиксель может быть представлен тройкой чисел (например, RGB), и изображение будет представлено вектором трехмерных признаков."
   ]
  },
  {
   "cell_type": "code",
   "execution_count": 45,
   "id": "bd5ba6dc-7cf5-45c6-88ce-cdc9820fe4f1",
   "metadata": {},
   "outputs": [],
   "source": [
    "X, y = digits.data, digits.target\n",
    "\n",
    "X_train, X_test, y_train, y_test = train_test_split(X, y, test_size=0.2, random_state=42)"
   ]
  },
  {
   "cell_type": "markdown",
   "id": "79bc320c-a54e-4291-9a8c-384bdb3f4eab",
   "metadata": {},
   "source": [
    "#### Логистическая регрессия"
   ]
  },
  {
   "cell_type": "code",
   "execution_count": 49,
   "id": "c59c15c1-4dc1-43eb-9c41-9507f249d18c",
   "metadata": {},
   "outputs": [
    {
     "name": "stdout",
     "output_type": "stream",
     "text": [
      "Accuracy for Logistic Regression: 0.975\n"
     ]
    },
    {
     "name": "stderr",
     "output_type": "stream",
     "text": [
      "C:\\Users\\user\\anaconda3\\lib\\site-packages\\sklearn\\linear_model\\_logistic.py:763: ConvergenceWarning: lbfgs failed to converge (status=1):\n",
      "STOP: TOTAL NO. of ITERATIONS REACHED LIMIT.\n",
      "\n",
      "Increase the number of iterations (max_iter) or scale the data as shown in:\n",
      "    https://scikit-learn.org/stable/modules/preprocessing.html\n",
      "Please also refer to the documentation for alternative solver options:\n",
      "    https://scikit-learn.org/stable/modules/linear_model.html#logistic-regression\n",
      "  n_iter_i = _check_optimize_result(\n"
     ]
    }
   ],
   "source": [
    "logistic_regression = LogisticRegression(max_iter=1000)\n",
    "logistic_regression.fit(X_train, y_train)\n",
    "\n",
    "y_pred_lr = logistic_regression.predict(X_test)\n",
    "\n",
    "accuracy_lr = accuracy_score(y_test, y_pred_lr)\n",
    "print(f'Accuracy for Logistic Regression: {accuracy_lr}')"
   ]
  },
  {
   "cell_type": "code",
   "execution_count": 51,
   "id": "69525453-950e-49e0-bea6-3dfb16eb3b0b",
   "metadata": {},
   "outputs": [],
   "source": [
    "from sklearn.metrics import classification_report"
   ]
  },
  {
   "cell_type": "code",
   "execution_count": 52,
   "id": "947f30ed-c9fb-4271-8757-f7fe7fd34d74",
   "metadata": {},
   "outputs": [
    {
     "name": "stdout",
     "output_type": "stream",
     "text": [
      "              precision    recall  f1-score   support\n",
      "\n",
      "           0       1.00      1.00      1.00        33\n",
      "           1       0.97      1.00      0.98        28\n",
      "           2       1.00      1.00      1.00        33\n",
      "           3       0.97      0.97      0.97        34\n",
      "           4       1.00      0.98      0.99        46\n",
      "           5       0.92      0.96      0.94        47\n",
      "           6       0.97      0.97      0.97        35\n",
      "           7       1.00      0.97      0.99        34\n",
      "           8       0.97      0.97      0.97        30\n",
      "           9       0.97      0.95      0.96        40\n",
      "\n",
      "    accuracy                           0.97       360\n",
      "   macro avg       0.98      0.98      0.98       360\n",
      "weighted avg       0.98      0.97      0.98       360\n",
      "\n"
     ]
    }
   ],
   "source": [
    "print(classification_report(y_test, y_pred_lr))"
   ]
  },
  {
   "cell_type": "markdown",
   "id": "58ebf46e-11d1-40e3-afe7-0b09cda6ab49",
   "metadata": {},
   "source": [
    "#### Дерево принятия решений"
   ]
  },
  {
   "cell_type": "code",
   "execution_count": 53,
   "id": "50a4830b-e0a1-4f5b-89b2-9bba1f281f40",
   "metadata": {},
   "outputs": [
    {
     "name": "stdout",
     "output_type": "stream",
     "text": [
      "Accuracy for Decision Tree: 0.8444444444444444\n"
     ]
    }
   ],
   "source": [
    "decision_tree = DecisionTreeClassifier()\n",
    "decision_tree.fit(X_train, y_train)\n",
    "\n",
    "y_pred_dt = decision_tree.predict(X_test)\n",
    "\n",
    "accuracy_dt = accuracy_score(y_test, y_pred_dt)\n",
    "print(f'Accuracy for Decision Tree: {accuracy_dt}')\n"
   ]
  },
  {
   "cell_type": "code",
   "execution_count": 54,
   "id": "b1c12a89-4653-42f8-ab1f-7c55d68093b7",
   "metadata": {},
   "outputs": [
    {
     "name": "stdout",
     "output_type": "stream",
     "text": [
      "              precision    recall  f1-score   support\n",
      "\n",
      "           0       1.00      0.88      0.94        33\n",
      "           1       0.85      0.79      0.81        28\n",
      "           2       0.86      0.76      0.81        33\n",
      "           3       0.79      0.91      0.85        34\n",
      "           4       0.75      0.87      0.81        46\n",
      "           5       0.89      0.89      0.89        47\n",
      "           6       0.92      0.94      0.93        35\n",
      "           7       0.88      0.82      0.85        34\n",
      "           8       0.72      0.70      0.71        30\n",
      "           9       0.82      0.82      0.82        40\n",
      "\n",
      "    accuracy                           0.84       360\n",
      "   macro avg       0.85      0.84      0.84       360\n",
      "weighted avg       0.85      0.84      0.84       360\n",
      "\n"
     ]
    }
   ],
   "source": [
    "print(classification_report(y_test, y_pred_dt))"
   ]
  },
  {
   "cell_type": "markdown",
   "id": "2bc74ff5-01ee-42c1-9825-839b3eff2985",
   "metadata": {},
   "source": [
    "#### k-ближайших соседей"
   ]
  },
  {
   "cell_type": "code",
   "execution_count": 55,
   "id": "29e6a7da-9210-422a-82ba-7bf659f3fcd7",
   "metadata": {},
   "outputs": [
    {
     "name": "stdout",
     "output_type": "stream",
     "text": [
      "Accuracy for k-Nearest Neighbors: 0.9861111111111112\n"
     ]
    }
   ],
   "source": [
    "knn = KNeighborsClassifier()\n",
    "knn.fit(X_train, y_train)\n",
    "\n",
    "y_pred_knn = knn.predict(X_test)\n",
    "\n",
    "accuracy_knn = accuracy_score(y_test, y_pred_knn)\n",
    "print(f'Accuracy for k-Nearest Neighbors: {accuracy_knn}')\n"
   ]
  },
  {
   "cell_type": "code",
   "execution_count": 56,
   "id": "4eca32a3-d8b5-415a-a044-e8873be64e16",
   "metadata": {},
   "outputs": [
    {
     "name": "stdout",
     "output_type": "stream",
     "text": [
      "              precision    recall  f1-score   support\n",
      "\n",
      "           0       1.00      1.00      1.00        33\n",
      "           1       1.00      1.00      1.00        28\n",
      "           2       1.00      1.00      1.00        33\n",
      "           3       1.00      1.00      1.00        34\n",
      "           4       0.98      1.00      0.99        46\n",
      "           5       0.98      0.96      0.97        47\n",
      "           6       0.97      1.00      0.99        35\n",
      "           7       1.00      0.97      0.99        34\n",
      "           8       1.00      1.00      1.00        30\n",
      "           9       0.95      0.95      0.95        40\n",
      "\n",
      "    accuracy                           0.99       360\n",
      "   macro avg       0.99      0.99      0.99       360\n",
      "weighted avg       0.99      0.99      0.99       360\n",
      "\n"
     ]
    }
   ],
   "source": [
    "print(classification_report(y_test, y_pred_knn))"
   ]
  },
  {
   "cell_type": "code",
   "execution_count": 65,
   "id": "263694da-2016-4544-bb4e-2f4be9342d91",
   "metadata": {},
   "outputs": [
    {
     "data": {
      "image/png": "[encoded data removed]",
      "text/plain": [
       "<Figure size 432x288 with 2 Axes>"
      ]
     },
     "metadata": {
      "needs_background": "light"
     },
     "output_type": "display_data"
    },
    {
     "data": {
      "image/png": "[encoded data removed]",
      "text/plain": [
       "<Figure size 432x288 with 2 Axes>"
      ]
     },
     "metadata": {
      "needs_background": "light"
     },
     "output_type": "display_data"
    },
    {
     "data": {
      "image/png": "[encoded data removed]",
      "text/plain": [
       "<Figure size 432x288 with 2 Axes>"
      ]
     },
     "metadata": {
      "needs_background": "light"
     },
     "output_type": "display_data"
    }
   ],
   "source": [
    "from sklearn.metrics import confusion_matrix\n",
    "import seaborn as sns\n",
    "import matplotlib.pyplot as plt\n",
    "\n",
    "# Матрица ошибок для логистической регрессии\n",
    "cm_lr = confusion_matrix(y_test, y_pred_lr)\n",
    "sns.heatmap(cm_lr, annot=True, fmt='d', cmap='Blues', xticklabels=digits.target_names, yticklabels=digits.target_names)\n",
    "plt.title('Confusion Matrix - Logistic Regression')\n",
    "plt.show()\n",
    "\n",
    "# Матрица ошибок для дерева принятия решений\n",
    "cm_dt = confusion_matrix(y_test, y_pred_dt)\n",
    "sns.heatmap(cm_dt, annot=True, fmt='d', cmap='Oranges', xticklabels=digits.target_names, yticklabels=digits.target_names)\n",
    "plt.title('Confusion Matrix - Decision Tree')\n",
    "plt.show()\n",
    "\n",
    "# Матрица ошибок для k-ближайших соседей\n",
    "cm_knn = confusion_matrix(y_test, y_pred_knn)\n",
    "sns.heatmap(cm_knn, annot=True, fmt='d', cmap='Greens', xticklabels=digits.target_names, yticklabels=digits.target_names)\n",
    "plt.title('Confusion Matrix - k-Nearest Neighbors')\n",
    "plt.show()\n"
   ]
  },
  {
   "cell_type": "code",
   "execution_count": null,
   "id": "d93aea90-49b0-47d5-80e0-41cfeb44cc3b",
   "metadata": {},
   "outputs": [],
   "source": []
  },
  {
   "cell_type": "markdown",
   "id": "b9499f0c",
   "metadata": {},
   "source": [
    "## <font color = 'green'> 3. Работа с текстом.  </font>"
   ]
  },
  {
   "cell_type": "markdown",
   "id": "72290bb8",
   "metadata": {},
   "source": [
    "Текстовые признаки также можно сводить к числовым. Для этого существует ряд подходов, которые изучаются подробно в отдельном разделе науки о данных. Наша задача изучить один из них. TF-IDF -векторизацию.\n",
    "\n",
    "Подробнее [тут](https://yandex.ru/q/datascience/8268666625/)."
   ]
  },
  {
   "cell_type": "code",
   "execution_count": 67,
   "id": "6f1db3de",
   "metadata": {},
   "outputs": [],
   "source": [
    "from sklearn.feature_extraction.text import TfidfVectorizer"
   ]
  },
  {
   "cell_type": "code",
   "execution_count": 68,
   "id": "60a34067",
   "metadata": {},
   "outputs": [
    {
     "name": "stdout",
     "output_type": "stream",
     "text": [
      "['It is going to rain today.', 'Today I am not going outside.', 'I am going to watch the season premiere.']\n"
     ]
    }
   ],
   "source": [
    "Document1= \"It is going to rain today.\"\n",
    "Document2= \"Today I am not going outside.\"\n",
    "Document3= \"I am going to watch the season premiere.\"\n",
    "Doc = [Document1 ,\n",
    "       Document2 , \n",
    "       Document3]\n",
    "print(Doc)"
   ]
  },
  {
   "cell_type": "code",
   "execution_count": 7,
   "id": "07ec4754",
   "metadata": {},
   "outputs": [
    {
     "data": {
      "text/plain": [
       "array([[0.        , 0.27824521, 0.4711101 , 0.4711101 , 0.        ,\n",
       "        0.        , 0.        , 0.4711101 , 0.        , 0.        ,\n",
       "        0.35829137, 0.35829137, 0.        ],\n",
       "       [0.40619178, 0.31544415, 0.        , 0.        , 0.53409337,\n",
       "        0.53409337, 0.        , 0.        , 0.        , 0.        ,\n",
       "        0.        , 0.40619178, 0.        ],\n",
       "       [0.32412354, 0.25171084, 0.        , 0.        , 0.        ,\n",
       "        0.        , 0.4261835 , 0.        , 0.4261835 , 0.4261835 ,\n",
       "        0.32412354, 0.        , 0.4261835 ]])"
      ]
     },
     "execution_count": 7,
     "metadata": {},
     "output_type": "execute_result"
    }
   ],
   "source": [
    "vectorizer = TfidfVectorizer()\n",
    "X = vectorizer.fit_transform(Doc)\n",
    "\n",
    "test = X.toarray()\n",
    "test"
   ]
  },
  {
   "cell_type": "code",
   "execution_count": 8,
   "id": "6f8344ce",
   "metadata": {},
   "outputs": [
    {
     "data": {
      "text/plain": [
       "{'it': 3,\n",
       " 'is': 2,\n",
       " 'going': 1,\n",
       " 'to': 10,\n",
       " 'rain': 7,\n",
       " 'today': 11,\n",
       " 'am': 0,\n",
       " 'not': 4,\n",
       " 'outside': 5,\n",
       " 'watch': 12,\n",
       " 'the': 9,\n",
       " 'season': 8,\n",
       " 'premiere': 6}"
      ]
     },
     "execution_count": 8,
     "metadata": {},
     "output_type": "execute_result"
    }
   ],
   "source": [
    "vectorizer.vocabulary_"
   ]
  },
  {
   "cell_type": "markdown",
   "id": "4a42f335",
   "metadata": {},
   "source": [
    "<font color = 'red' size = 5>Задание 3 </font>\n",
    "\n",
    "1. Изучите код в ячейках выше. Можно ли рассматривать тексты как векторы числовых признаков?\n",
    "2. Реализуйте классификатор (на основе любой изученной вами модели) для определения эмоционального оттенка отзывов к фильмам. \n",
    "   Для преобразования текста используйте векторизацию TF-IDF. Предварительно минимально обработайте текст (стоп-слова, леммантизатор, посторонние символы) \n",
    "3. Тщательно оцените качество полученных моделей и сделайте выводы.\n",
    "\n",
    "**Учитывайте, что векторизатор значительно увеличивает количество фич! Будьте внимательны со скоростью и производительностью!**\n",
    "\n",
    "[Датасет](https://www.kaggle.com/datasets/lakshmi25npathi/imdb-dataset-of-50k-movie-reviews)"
   ]
  },
  {
   "cell_type": "markdown",
   "id": "51bb44f1-94c1-435a-9c38-b8ff4739c798",
   "metadata": {},
   "source": [
    "TF-IDF (Term Frequency-Inverse Document Frequency): Этот метод также основан на представлении текста в виде вектора слов, но вместо частоты вхождения каждого слова используется взвешенное значение, учитывающее, насколько слово уникально для данного текста относительно всего корпуса текстов."
   ]
  },
  {
   "cell_type": "markdown",
   "id": "a94bdd2a-1780-4574-856f-ca9b18f80d50",
   "metadata": {},
   "source": [
    "\n",
    "#### 1. Term Frequency (TF) - Частота слова в документе\n",
    "\n",
    "$ \\text{TF}(t, d) = \\frac{\\text{Количество раз, когда слово } t \\text{ встречается в документе } d}{\\text{Общее количество слов в документе } d} $\n",
    "\n",
    "#### 2. Inverse Document Frequency (IDF) - Обратная частота документа\n",
    "\n",
    "$\\text{IDF}(t, D) = \\log\\left(\\frac{\\text{Общее количество документов в корпусе } D}{\\text{Количество документов, содержащих слово } t + 1}\\right) + 1 $\n",
    "\n",
    "#### 3. TF-IDF вектор\n",
    "\n",
    "$ \\text{TF-IDF}(t, d, D) = \\text{TF}(t, d) \\times \\text{IDF}(t, D) $\n",
    "\n",
    "Этот вектор представляет слово в виде числа, учитывая и его частоту в конкретном документе, и его обратную частоту в корпусе."
   ]
  },
  {
   "cell_type": "code",
   "execution_count": 331,
   "id": "6882520f-2356-4c8d-941a-011ffc35d38f",
   "metadata": {},
   "outputs": [],
   "source": [
    "data = pd.read_csv('IMDB Dataset.csv')"
   ]
  },
  {
   "cell_type": "code",
   "execution_count": 315,
   "id": "aaec020f-9318-47ed-9b13-0c307279cbb0",
   "metadata": {},
   "outputs": [
    {
     "data": {
      "text/html": [
       "<div>\n",
       "<style scoped>\n",
       "    .dataframe tbody tr th:only-of-type {\n",
       "        vertical-align: middle;\n",
       "    }\n",
       "\n",
       "    .dataframe tbody tr th {\n",
       "        vertical-align: top;\n",
       "    }\n",
       "\n",
       "    .dataframe thead th {\n",
       "        text-align: right;\n",
       "    }\n",
       "</style>\n",
       "<table border=\"1\" class=\"dataframe\">\n",
       "  <thead>\n",
       "    <tr style=\"text-align: right;\">\n",
       "      <th></th>\n",
       "      <th>review</th>\n",
       "      <th>sentiment</th>\n",
       "    </tr>\n",
       "  </thead>\n",
       "  <tbody>\n",
       "    <tr>\n",
       "      <th>0</th>\n",
       "      <td>One of the other reviewers has mentioned that ...</td>\n",
       "      <td>positive</td>\n",
       "    </tr>\n",
       "    <tr>\n",
       "      <th>1</th>\n",
       "      <td>A wonderful little production. &lt;br /&gt;&lt;br /&gt;The...</td>\n",
       "      <td>positive</td>\n",
       "    </tr>\n",
       "    <tr>\n",
       "      <th>2</th>\n",
       "      <td>I thought this was a wonderful way to spend ti...</td>\n",
       "      <td>positive</td>\n",
       "    </tr>\n",
       "    <tr>\n",
       "      <th>3</th>\n",
       "      <td>Basically there's a family where a little boy ...</td>\n",
       "      <td>negative</td>\n",
       "    </tr>\n",
       "    <tr>\n",
       "      <th>4</th>\n",
       "      <td>Petter Mattei's \"Love in the Time of Money\" is...</td>\n",
       "      <td>positive</td>\n",
       "    </tr>\n",
       "    <tr>\n",
       "      <th>...</th>\n",
       "      <td>...</td>\n",
       "      <td>...</td>\n",
       "    </tr>\n",
       "    <tr>\n",
       "      <th>49995</th>\n",
       "      <td>I thought this movie did a down right good job...</td>\n",
       "      <td>positive</td>\n",
       "    </tr>\n",
       "    <tr>\n",
       "      <th>49996</th>\n",
       "      <td>Bad plot, bad dialogue, bad acting, idiotic di...</td>\n",
       "      <td>negative</td>\n",
       "    </tr>\n",
       "    <tr>\n",
       "      <th>49997</th>\n",
       "      <td>I am a Catholic taught in parochial elementary...</td>\n",
       "      <td>negative</td>\n",
       "    </tr>\n",
       "    <tr>\n",
       "      <th>49998</th>\n",
       "      <td>I'm going to have to disagree with the previou...</td>\n",
       "      <td>negative</td>\n",
       "    </tr>\n",
       "    <tr>\n",
       "      <th>49999</th>\n",
       "      <td>No one expects the Star Trek movies to be high...</td>\n",
       "      <td>negative</td>\n",
       "    </tr>\n",
       "  </tbody>\n",
       "</table>\n",
       "<p>50000 rows × 2 columns</p>\n",
       "</div>"
      ],
      "text/plain": [
       "                                                  review sentiment\n",
       "0      One of the other reviewers has mentioned that ...  positive\n",
       "1      A wonderful little production. <br /><br />The...  positive\n",
       "2      I thought this was a wonderful way to spend ti...  positive\n",
       "3      Basically there's a family where a little boy ...  negative\n",
       "4      Petter Mattei's \"Love in the Time of Money\" is...  positive\n",
       "...                                                  ...       ...\n",
       "49995  I thought this movie did a down right good job...  positive\n",
       "49996  Bad plot, bad dialogue, bad acting, idiotic di...  negative\n",
       "49997  I am a Catholic taught in parochial elementary...  negative\n",
       "49998  I'm going to have to disagree with the previou...  negative\n",
       "49999  No one expects the Star Trek movies to be high...  negative\n",
       "\n",
       "[50000 rows x 2 columns]"
      ]
     },
     "execution_count": 315,
     "metadata": {},
     "output_type": "execute_result"
    }
   ],
   "source": [
    "data"
   ]
  },
  {
   "cell_type": "code",
   "execution_count": 65,
   "id": "bbd365d2-2f48-4cc9-8767-df74179fd764",
   "metadata": {},
   "outputs": [],
   "source": [
    "import re\n",
    "from nltk.corpus import stopwords\n",
    "from nltk.stem import WordNetLemmatizer\n",
    "\n",
    "def preprocess_text(text):\n",
    "    text = text.lower()\n",
    "    \n",
    "    text = re.sub(\"[^0-9a-zA-Z]\",\" \", text)\n",
    "    text = re.sub(r'<br\\s*/*\\s*>', '', text)\n",
    "    text = re.sub(r'(<br\\s*/?>)+', '', text)\n",
    "    text = re.sub(r'<.*?>', '', text)\n",
    "    text = re.sub(r'\\d+', '', text)\n",
    "    \n",
    "    words = text.split()\n",
    "\n",
    "    stop_words = set(stopwords.words('english'))\n",
    "    words = [word for word in words if word not in stop_words]\n",
    "\n",
    "    lemmatizer = WordNetLemmatizer()\n",
    "    words = [lemmatizer.lemmatize(word, pos='v') for word in words]\n",
    "    words = [lemmatizer.lemmatize(word, pos='n') for word in words]\n",
    "    words = [lemmatizer.lemmatize(word, pos='r') for word in words]\n",
    "    words = [lemmatizer.lemmatize(word, pos='a') for word in words]\n",
    "    \n",
    "    #unique_words = list(set(words))\n",
    "\n",
    "    processed_text = ' '.join(words)\n",
    "    \n",
    "    return processed_text"
   ]
  },
  {
   "cell_type": "code",
   "execution_count": 187,
   "id": "99e6b589-22a1-46ee-803c-043cc983fdc1",
   "metadata": {},
   "outputs": [
    {
     "name": "stdout",
     "output_type": "stream",
     "text": [
      "school go hi\n"
     ]
    }
   ],
   "source": [
    "orig_text = 'HI i went then go to the school'\n",
    "\n",
    "preprocessed_text = preprocess_text(orig_text)\n",
    "print(preprocessed_text)"
   ]
  },
  {
   "cell_type": "code",
   "execution_count": 333,
   "id": "67a85384-84dc-423d-b1f0-7888fe4ed2ad",
   "metadata": {},
   "outputs": [],
   "source": [
    "for i in range(len(data['review'])):\n",
    "    data['review'][i] = preprocess_text(data['review'][i])"
   ]
  },
  {
   "cell_type": "code",
   "execution_count": 198,
   "id": "ec50d9fd-c837-4471-9892-3bc00eb5b8e3",
   "metadata": {},
   "outputs": [
    {
     "data": {
      "text/plain": [
       "'witty weekend right hot even young well charact woodi imag style go prada spend lightheart comedi theater likabl great ive fulli interest realiz one air witti friend womanbr dare manag career allen serial match lovebr u summer proof jump suspect think bread impress disappoint say time averag laugh sit control watch dialogu simplist still plot superman id spirit wonder johanson wear crown jewel grow see tone scarlet way mani sexi may year risk condit addict point br killer devil never decad'"
      ]
     },
     "execution_count": 198,
     "metadata": {},
     "output_type": "execute_result"
    }
   ],
   "source": [
    "data['review'][2]"
   ]
  },
  {
   "cell_type": "code",
   "execution_count": 338,
   "id": "7b5546e9-ded9-4bde-b0bf-82740f8698b0",
   "metadata": {},
   "outputs": [
    {
     "data": {
      "text/plain": [
       "'think wonderful way spend time hot summer weekend sit air condition theater watch light hearted comedy plot simplistic dialogue witty character likable even well bread suspect serial killer may disappoint realize match point 2 risk addiction think proof woody allen still fully control style many u grow love br br laugh one woody comedy year dare say decade never impress scarlet johanson manage tone sexy image jump right average spirit young woman br br may crown jewel career witty devil wear prada interest superman great comedy go see friend'"
      ]
     },
     "execution_count": 338,
     "metadata": {},
     "output_type": "execute_result"
    }
   ],
   "source": [
    "data['review'][2]"
   ]
  },
  {
   "cell_type": "code",
   "execution_count": 334,
   "id": "d939df6a-6136-4144-b3e1-1e6fc1e84d50",
   "metadata": {},
   "outputs": [],
   "source": [
    "Doc = [data['review'][i] for i in range(len(data['review']))]"
   ]
  },
  {
   "cell_type": "code",
   "execution_count": 335,
   "id": "f4bfe654-97ae-447f-a1ec-472769bb34df",
   "metadata": {},
   "outputs": [],
   "source": [
    "vectorizer = TfidfVectorizer()\n",
    "X = vectorizer.fit_transform(Doc)"
   ]
  },
  {
   "cell_type": "code",
   "execution_count": 123,
   "id": "844acc12-12ad-45e7-988e-9a501bc9d395",
   "metadata": {},
   "outputs": [
    {
     "data": {
      "text/html": [
       "<div>\n",
       "<style scoped>\n",
       "    .dataframe tbody tr th:only-of-type {\n",
       "        vertical-align: middle;\n",
       "    }\n",
       "\n",
       "    .dataframe tbody tr th {\n",
       "        vertical-align: top;\n",
       "    }\n",
       "\n",
       "    .dataframe thead th {\n",
       "        text-align: right;\n",
       "    }\n",
       "</style>\n",
       "<table border=\"1\" class=\"dataframe\">\n",
       "  <thead>\n",
       "    <tr style=\"text-align: right;\">\n",
       "      <th></th>\n",
       "      <th>review</th>\n",
       "      <th>sentiment</th>\n",
       "    </tr>\n",
       "  </thead>\n",
       "  <tbody>\n",
       "    <tr>\n",
       "      <th>0</th>\n",
       "      <td>one reviewer mentioned watching oz episode you...</td>\n",
       "      <td>positive</td>\n",
       "    </tr>\n",
       "    <tr>\n",
       "      <th>1</th>\n",
       "      <td>wonderful little production filming technique ...</td>\n",
       "      <td>positive</td>\n",
       "    </tr>\n",
       "    <tr>\n",
       "      <th>2</th>\n",
       "      <td>thought wonderful way spend time hot summer we...</td>\n",
       "      <td>positive</td>\n",
       "    </tr>\n",
       "    <tr>\n",
       "      <th>3</th>\n",
       "      <td>basically there family little boy jake think t...</td>\n",
       "      <td>negative</td>\n",
       "    </tr>\n",
       "    <tr>\n",
       "      <th>4</th>\n",
       "      <td>petter matteis love time money visually stunni...</td>\n",
       "      <td>positive</td>\n",
       "    </tr>\n",
       "    <tr>\n",
       "      <th>...</th>\n",
       "      <td>...</td>\n",
       "      <td>...</td>\n",
       "    </tr>\n",
       "    <tr>\n",
       "      <th>49995</th>\n",
       "      <td>thought movie right good job wasnt creative or...</td>\n",
       "      <td>positive</td>\n",
       "    </tr>\n",
       "    <tr>\n",
       "      <th>49996</th>\n",
       "      <td>bad plot bad dialogue bad acting idiotic direc...</td>\n",
       "      <td>negative</td>\n",
       "    </tr>\n",
       "    <tr>\n",
       "      <th>49997</th>\n",
       "      <td>catholic taught parochial elementary school nu...</td>\n",
       "      <td>negative</td>\n",
       "    </tr>\n",
       "    <tr>\n",
       "      <th>49998</th>\n",
       "      <td>im going disagree previous comment side maltin...</td>\n",
       "      <td>negative</td>\n",
       "    </tr>\n",
       "    <tr>\n",
       "      <th>49999</th>\n",
       "      <td>one expects star trek movie high art fan expec...</td>\n",
       "      <td>negative</td>\n",
       "    </tr>\n",
       "  </tbody>\n",
       "</table>\n",
       "<p>50000 rows × 2 columns</p>\n",
       "</div>"
      ],
      "text/plain": [
       "                                                  review sentiment\n",
       "0      one reviewer mentioned watching oz episode you...  positive\n",
       "1      wonderful little production filming technique ...  positive\n",
       "2      thought wonderful way spend time hot summer we...  positive\n",
       "3      basically there family little boy jake think t...  negative\n",
       "4      petter matteis love time money visually stunni...  positive\n",
       "...                                                  ...       ...\n",
       "49995  thought movie right good job wasnt creative or...  positive\n",
       "49996  bad plot bad dialogue bad acting idiotic direc...  negative\n",
       "49997  catholic taught parochial elementary school nu...  negative\n",
       "49998  im going disagree previous comment side maltin...  negative\n",
       "49999  one expects star trek movie high art fan expec...  negative\n",
       "\n",
       "[50000 rows x 2 columns]"
      ]
     },
     "execution_count": 123,
     "metadata": {},
     "output_type": "execute_result"
    }
   ],
   "source": [
    "data"
   ]
  },
  {
   "cell_type": "code",
   "execution_count": 336,
   "id": "66fce66d-4ca2-436a-841f-368cbedbf8e1",
   "metadata": {},
   "outputs": [],
   "source": [
    "d = {'positive' : 1, 'negative' : 0}\n",
    "data['sentiment'] = data['sentiment'].map(d)"
   ]
  },
  {
   "cell_type": "code",
   "execution_count": 222,
   "id": "4698961e-5236-4801-8c87-396c70323329",
   "metadata": {},
   "outputs": [],
   "source": [
    "y = data.sentiment"
   ]
  },
  {
   "cell_type": "code",
   "execution_count": 224,
   "id": "bc866b48-c79a-4759-b3fb-9d8c10658f60",
   "metadata": {},
   "outputs": [],
   "source": [
    "X_train, X_test, y_train, y_test = train_test_split(X, y, test_size=0.2, random_state=42)"
   ]
  },
  {
   "cell_type": "code",
   "execution_count": 225,
   "id": "3a4a78ff-1b22-4ead-8c03-6b133e61da89",
   "metadata": {},
   "outputs": [
    {
     "data": {
      "text/plain": [
       "LogisticRegression()"
      ]
     },
     "execution_count": 225,
     "metadata": {},
     "output_type": "execute_result"
    }
   ],
   "source": [
    "model = LogisticRegression()\n",
    "model.fit(X_train, y_train)"
   ]
  },
  {
   "cell_type": "code",
   "execution_count": 210,
   "id": "fcc2eeed-197c-42c2-b341-cd7f6934654a",
   "metadata": {},
   "outputs": [],
   "source": [
    "y_pred = model.predict(X_test)"
   ]
  },
  {
   "cell_type": "code",
   "execution_count": 211,
   "id": "3ee4c3a5-e571-4df0-ad1b-b5050468c15c",
   "metadata": {},
   "outputs": [],
   "source": [
    "from sklearn.metrics import classification_report"
   ]
  },
  {
   "cell_type": "code",
   "execution_count": 227,
   "id": "d3b1aeb0-0add-4fbd-9335-d6bc9d8d4643",
   "metadata": {},
   "outputs": [
    {
     "name": "stdout",
     "output_type": "stream",
     "text": [
      "              precision    recall  f1-score   support\n",
      "\n",
      "           0       0.90      0.88      0.89      4961\n",
      "           1       0.88      0.90      0.89      5039\n",
      "\n",
      "    accuracy                           0.89     10000\n",
      "   macro avg       0.89      0.89      0.89     10000\n",
      "weighted avg       0.89      0.89      0.89     10000\n",
      "\n"
     ]
    }
   ],
   "source": [
    "print(classification_report(y_test, y_pred))"
   ]
  },
  {
   "cell_type": "code",
   "execution_count": 234,
   "id": "4d8bef54-7cee-45c3-8ba8-e0ce593e77c5",
   "metadata": {},
   "outputs": [
    {
     "data": {
      "text/plain": [
       "KNeighborsClassifier(n_neighbors=7)"
      ]
     },
     "execution_count": 234,
     "metadata": {},
     "output_type": "execute_result"
    }
   ],
   "source": [
    "knn = KNeighborsClassifier(n_neighbors=7)\n",
    "knn.fit(X_train, y_train)"
   ]
  },
  {
   "cell_type": "code",
   "execution_count": 235,
   "id": "82e5a198-4532-4b7a-a84d-be234ff8fcb7",
   "metadata": {},
   "outputs": [
    {
     "name": "stdout",
     "output_type": "stream",
     "text": [
      "Accuracy for k-Nearest Neighbors: 0.7831\n"
     ]
    }
   ],
   "source": [
    "y_pred_knn = knn.predict(X_test)\n",
    "\n",
    "accuracy_knn = accuracy_score(y_test, y_pred_knn)\n",
    "print(f'Accuracy for k-Nearest Neighbors: {accuracy_knn}')"
   ]
  },
  {
   "cell_type": "code",
   "execution_count": 237,
   "id": "bea0b86c-c6a1-4f11-a845-9c147bf7f5f7",
   "metadata": {},
   "outputs": [
    {
     "name": "stdout",
     "output_type": "stream",
     "text": [
      "              precision    recall  f1-score   support\n",
      "\n",
      "           0       0.82      0.72      0.77      4961\n",
      "           1       0.75      0.85      0.80      5039\n",
      "\n",
      "    accuracy                           0.78     10000\n",
      "   macro avg       0.79      0.78      0.78     10000\n",
      "weighted avg       0.79      0.78      0.78     10000\n",
      "\n"
     ]
    }
   ],
   "source": [
    "print(classification_report(y_test, y_pred_knn))"
   ]
  },
  {
   "cell_type": "code",
   "execution_count": null,
   "id": "df997aae-770b-4d71-a376-87875d532a9e",
   "metadata": {},
   "outputs": [],
   "source": []
  },
  {
   "cell_type": "markdown",
   "id": "85331e6b",
   "metadata": {},
   "source": [
    "## <font color = 'green'> 4. Обзор простейших моделей классификации.  </font>"
   ]
  },
  {
   "cell_type": "markdown",
   "id": "35aed717",
   "metadata": {},
   "source": [
    "<font color = 'red' size = 5>Задание 4 </font>\n",
    "\n",
    "\n",
    "1. Проведите предварительную обработку данных.\n",
    "2. Постройте модели классификации на основе различных методов, изученных вами из встроееной библиотеки. \n",
    "3. Подберите оптимальные гиперпараметры моделей используя различные оценки, кросс-валидацию и валидационные кривые.\n",
    "4. Сделайте выводы о точности моделей. Выберите самую оптимальную. Тщательно поясните свой выбор!\n",
    "\n",
    "[Датасет](https://www.kaggle.com/c/titanic/data?select=test.csv)\n",
    "\n",
    "\n",
    "\n",
    "\n"
   ]
  },
  {
   "cell_type": "code",
   "execution_count": 259,
   "id": "b41e4e23-a9ac-4257-8b89-3b20c4e02c72",
   "metadata": {},
   "outputs": [],
   "source": [
    "titanic_train = pd.read_csv('train.csv')"
   ]
  },
  {
   "cell_type": "code",
   "execution_count": 260,
   "id": "3423fb41-68f0-4a04-b0a2-50fb8c1a4860",
   "metadata": {},
   "outputs": [],
   "source": [
    "titanic_test = pd.read_csv('test.csv')"
   ]
  },
  {
   "cell_type": "code",
   "execution_count": 261,
   "id": "06678987-6504-4316-b2dc-850bea90a8a4",
   "metadata": {},
   "outputs": [
    {
     "data": {
      "text/html": [
       "<div>\n",
       "<style scoped>\n",
       "    .dataframe tbody tr th:only-of-type {\n",
       "        vertical-align: middle;\n",
       "    }\n",
       "\n",
       "    .dataframe tbody tr th {\n",
       "        vertical-align: top;\n",
       "    }\n",
       "\n",
       "    .dataframe thead th {\n",
       "        text-align: right;\n",
       "    }\n",
       "</style>\n",
       "<table border=\"1\" class=\"dataframe\">\n",
       "  <thead>\n",
       "    <tr style=\"text-align: right;\">\n",
       "      <th></th>\n",
       "      <th>PassengerId</th>\n",
       "      <th>Survived</th>\n",
       "      <th>Pclass</th>\n",
       "      <th>Name</th>\n",
       "      <th>Sex</th>\n",
       "      <th>Age</th>\n",
       "      <th>SibSp</th>\n",
       "      <th>Parch</th>\n",
       "      <th>Ticket</th>\n",
       "      <th>Fare</th>\n",
       "      <th>Cabin</th>\n",
       "      <th>Embarked</th>\n",
       "    </tr>\n",
       "  </thead>\n",
       "  <tbody>\n",
       "    <tr>\n",
       "      <th>0</th>\n",
       "      <td>1</td>\n",
       "      <td>0</td>\n",
       "      <td>3</td>\n",
       "      <td>Braund, Mr. Owen Harris</td>\n",
       "      <td>male</td>\n",
       "      <td>22.0</td>\n",
       "      <td>1</td>\n",
       "      <td>0</td>\n",
       "      <td>A/5 21171</td>\n",
       "      <td>7.2500</td>\n",
       "      <td>NaN</td>\n",
       "      <td>S</td>\n",
       "    </tr>\n",
       "    <tr>\n",
       "      <th>1</th>\n",
       "      <td>2</td>\n",
       "      <td>1</td>\n",
       "      <td>1</td>\n",
       "      <td>Cumings, Mrs. John Bradley (Florence Briggs Th...</td>\n",
       "      <td>female</td>\n",
       "      <td>38.0</td>\n",
       "      <td>1</td>\n",
       "      <td>0</td>\n",
       "      <td>PC 17599</td>\n",
       "      <td>71.2833</td>\n",
       "      <td>C85</td>\n",
       "      <td>C</td>\n",
       "    </tr>\n",
       "    <tr>\n",
       "      <th>2</th>\n",
       "      <td>3</td>\n",
       "      <td>1</td>\n",
       "      <td>3</td>\n",
       "      <td>Heikkinen, Miss. Laina</td>\n",
       "      <td>female</td>\n",
       "      <td>26.0</td>\n",
       "      <td>0</td>\n",
       "      <td>0</td>\n",
       "      <td>STON/O2. 3101282</td>\n",
       "      <td>7.9250</td>\n",
       "      <td>NaN</td>\n",
       "      <td>S</td>\n",
       "    </tr>\n",
       "    <tr>\n",
       "      <th>3</th>\n",
       "      <td>4</td>\n",
       "      <td>1</td>\n",
       "      <td>1</td>\n",
       "      <td>Futrelle, Mrs. Jacques Heath (Lily May Peel)</td>\n",
       "      <td>female</td>\n",
       "      <td>35.0</td>\n",
       "      <td>1</td>\n",
       "      <td>0</td>\n",
       "      <td>113803</td>\n",
       "      <td>53.1000</td>\n",
       "      <td>C123</td>\n",
       "      <td>S</td>\n",
       "    </tr>\n",
       "    <tr>\n",
       "      <th>4</th>\n",
       "      <td>5</td>\n",
       "      <td>0</td>\n",
       "      <td>3</td>\n",
       "      <td>Allen, Mr. William Henry</td>\n",
       "      <td>male</td>\n",
       "      <td>35.0</td>\n",
       "      <td>0</td>\n",
       "      <td>0</td>\n",
       "      <td>373450</td>\n",
       "      <td>8.0500</td>\n",
       "      <td>NaN</td>\n",
       "      <td>S</td>\n",
       "    </tr>\n",
       "    <tr>\n",
       "      <th>...</th>\n",
       "      <td>...</td>\n",
       "      <td>...</td>\n",
       "      <td>...</td>\n",
       "      <td>...</td>\n",
       "      <td>...</td>\n",
       "      <td>...</td>\n",
       "      <td>...</td>\n",
       "      <td>...</td>\n",
       "      <td>...</td>\n",
       "      <td>...</td>\n",
       "      <td>...</td>\n",
       "      <td>...</td>\n",
       "    </tr>\n",
       "    <tr>\n",
       "      <th>886</th>\n",
       "      <td>887</td>\n",
       "      <td>0</td>\n",
       "      <td>2</td>\n",
       "      <td>Montvila, Rev. Juozas</td>\n",
       "      <td>male</td>\n",
       "      <td>27.0</td>\n",
       "      <td>0</td>\n",
       "      <td>0</td>\n",
       "      <td>211536</td>\n",
       "      <td>13.0000</td>\n",
       "      <td>NaN</td>\n",
       "      <td>S</td>\n",
       "    </tr>\n",
       "    <tr>\n",
       "      <th>887</th>\n",
       "      <td>888</td>\n",
       "      <td>1</td>\n",
       "      <td>1</td>\n",
       "      <td>Graham, Miss. Margaret Edith</td>\n",
       "      <td>female</td>\n",
       "      <td>19.0</td>\n",
       "      <td>0</td>\n",
       "      <td>0</td>\n",
       "      <td>112053</td>\n",
       "      <td>30.0000</td>\n",
       "      <td>B42</td>\n",
       "      <td>S</td>\n",
       "    </tr>\n",
       "    <tr>\n",
       "      <th>888</th>\n",
       "      <td>889</td>\n",
       "      <td>0</td>\n",
       "      <td>3</td>\n",
       "      <td>Johnston, Miss. Catherine Helen \"Carrie\"</td>\n",
       "      <td>female</td>\n",
       "      <td>NaN</td>\n",
       "      <td>1</td>\n",
       "      <td>2</td>\n",
       "      <td>W./C. 6607</td>\n",
       "      <td>23.4500</td>\n",
       "      <td>NaN</td>\n",
       "      <td>S</td>\n",
       "    </tr>\n",
       "    <tr>\n",
       "      <th>889</th>\n",
       "      <td>890</td>\n",
       "      <td>1</td>\n",
       "      <td>1</td>\n",
       "      <td>Behr, Mr. Karl Howell</td>\n",
       "      <td>male</td>\n",
       "      <td>26.0</td>\n",
       "      <td>0</td>\n",
       "      <td>0</td>\n",
       "      <td>111369</td>\n",
       "      <td>30.0000</td>\n",
       "      <td>C148</td>\n",
       "      <td>C</td>\n",
       "    </tr>\n",
       "    <tr>\n",
       "      <th>890</th>\n",
       "      <td>891</td>\n",
       "      <td>0</td>\n",
       "      <td>3</td>\n",
       "      <td>Dooley, Mr. Patrick</td>\n",
       "      <td>male</td>\n",
       "      <td>32.0</td>\n",
       "      <td>0</td>\n",
       "      <td>0</td>\n",
       "      <td>370376</td>\n",
       "      <td>7.7500</td>\n",
       "      <td>NaN</td>\n",
       "      <td>Q</td>\n",
       "    </tr>\n",
       "  </tbody>\n",
       "</table>\n",
       "<p>891 rows × 12 columns</p>\n",
       "</div>"
      ],
      "text/plain": [
       "     PassengerId  Survived  Pclass  \\\n",
       "0              1         0       3   \n",
       "1              2         1       1   \n",
       "2              3         1       3   \n",
       "3              4         1       1   \n",
       "4              5         0       3   \n",
       "..           ...       ...     ...   \n",
       "886          887         0       2   \n",
       "887          888         1       1   \n",
       "888          889         0       3   \n",
       "889          890         1       1   \n",
       "890          891         0       3   \n",
       "\n",
       "                                                  Name     Sex   Age  SibSp  \\\n",
       "0                              Braund, Mr. Owen Harris    male  22.0      1   \n",
       "1    Cumings, Mrs. John Bradley (Florence Briggs Th...  female  38.0      1   \n",
       "2                               Heikkinen, Miss. Laina  female  26.0      0   \n",
       "3         Futrelle, Mrs. Jacques Heath (Lily May Peel)  female  35.0      1   \n",
       "4                             Allen, Mr. William Henry    male  35.0      0   \n",
       "..                                                 ...     ...   ...    ...   \n",
       "886                              Montvila, Rev. Juozas    male  27.0      0   \n",
       "887                       Graham, Miss. Margaret Edith  female  19.0      0   \n",
       "888           Johnston, Miss. Catherine Helen \"Carrie\"  female   NaN      1   \n",
       "889                              Behr, Mr. Karl Howell    male  26.0      0   \n",
       "890                                Dooley, Mr. Patrick    male  32.0      0   \n",
       "\n",
       "     Parch            Ticket     Fare Cabin Embarked  \n",
       "0        0         A/5 21171   7.2500   NaN        S  \n",
       "1        0          PC 17599  71.2833   C85        C  \n",
       "2        0  STON/O2. 3101282   7.9250   NaN        S  \n",
       "3        0            113803  53.1000  C123        S  \n",
       "4        0            373450   8.0500   NaN        S  \n",
       "..     ...               ...      ...   ...      ...  \n",
       "886      0            211536  13.0000   NaN        S  \n",
       "887      0            112053  30.0000   B42        S  \n",
       "888      2        W./C. 6607  23.4500   NaN        S  \n",
       "889      0            111369  30.0000  C148        C  \n",
       "890      0            370376   7.7500   NaN        Q  \n",
       "\n",
       "[891 rows x 12 columns]"
      ]
     },
     "execution_count": 261,
     "metadata": {},
     "output_type": "execute_result"
    }
   ],
   "source": [
    "titanic_train"
   ]
  },
  {
   "cell_type": "code",
   "execution_count": 286,
   "id": "88b1d3c9-6031-4a91-aaf3-ef856b4321cd",
   "metadata": {},
   "outputs": [
    {
     "data": {
      "text/html": [
       "<div>\n",
       "<style scoped>\n",
       "    .dataframe tbody tr th:only-of-type {\n",
       "        vertical-align: middle;\n",
       "    }\n",
       "\n",
       "    .dataframe tbody tr th {\n",
       "        vertical-align: top;\n",
       "    }\n",
       "\n",
       "    .dataframe thead th {\n",
       "        text-align: right;\n",
       "    }\n",
       "</style>\n",
       "<table border=\"1\" class=\"dataframe\">\n",
       "  <thead>\n",
       "    <tr style=\"text-align: right;\">\n",
       "      <th></th>\n",
       "      <th>PassengerId</th>\n",
       "      <th>Pclass</th>\n",
       "      <th>Name</th>\n",
       "      <th>Sex</th>\n",
       "      <th>Age</th>\n",
       "      <th>SibSp</th>\n",
       "      <th>Parch</th>\n",
       "      <th>Ticket</th>\n",
       "      <th>Fare</th>\n",
       "      <th>Cabin</th>\n",
       "      <th>Embarked</th>\n",
       "      <th>Ticket_number</th>\n",
       "      <th>Ticket_item</th>\n",
       "      <th>Relatives</th>\n",
       "      <th>SoloTraveller</th>\n",
       "      <th>Title</th>\n",
       "    </tr>\n",
       "  </thead>\n",
       "  <tbody>\n",
       "    <tr>\n",
       "      <th>0</th>\n",
       "      <td>892</td>\n",
       "      <td>3</td>\n",
       "      <td>Kelly, Mr. James</td>\n",
       "      <td>male</td>\n",
       "      <td>34.5</td>\n",
       "      <td>0</td>\n",
       "      <td>0</td>\n",
       "      <td>330911</td>\n",
       "      <td>7.8292</td>\n",
       "      <td>NaN</td>\n",
       "      <td>Q</td>\n",
       "      <td>330911</td>\n",
       "      <td>NONE</td>\n",
       "      <td>0</td>\n",
       "      <td>Yes</td>\n",
       "      <td>Mr</td>\n",
       "    </tr>\n",
       "    <tr>\n",
       "      <th>1</th>\n",
       "      <td>893</td>\n",
       "      <td>3</td>\n",
       "      <td>Wilkes, Mrs. James (Ellen Needs)</td>\n",
       "      <td>female</td>\n",
       "      <td>47.0</td>\n",
       "      <td>1</td>\n",
       "      <td>0</td>\n",
       "      <td>363272</td>\n",
       "      <td>7.0000</td>\n",
       "      <td>NaN</td>\n",
       "      <td>S</td>\n",
       "      <td>363272</td>\n",
       "      <td>NONE</td>\n",
       "      <td>1</td>\n",
       "      <td>No</td>\n",
       "      <td>Mrs</td>\n",
       "    </tr>\n",
       "    <tr>\n",
       "      <th>2</th>\n",
       "      <td>894</td>\n",
       "      <td>2</td>\n",
       "      <td>Myles, Mr. Thomas Francis</td>\n",
       "      <td>male</td>\n",
       "      <td>62.0</td>\n",
       "      <td>0</td>\n",
       "      <td>0</td>\n",
       "      <td>240276</td>\n",
       "      <td>9.6875</td>\n",
       "      <td>NaN</td>\n",
       "      <td>Q</td>\n",
       "      <td>240276</td>\n",
       "      <td>NONE</td>\n",
       "      <td>0</td>\n",
       "      <td>Yes</td>\n",
       "      <td>Mr</td>\n",
       "    </tr>\n",
       "    <tr>\n",
       "      <th>3</th>\n",
       "      <td>895</td>\n",
       "      <td>3</td>\n",
       "      <td>Wirz, Mr. Albert</td>\n",
       "      <td>male</td>\n",
       "      <td>27.0</td>\n",
       "      <td>0</td>\n",
       "      <td>0</td>\n",
       "      <td>315154</td>\n",
       "      <td>8.6625</td>\n",
       "      <td>NaN</td>\n",
       "      <td>S</td>\n",
       "      <td>315154</td>\n",
       "      <td>NONE</td>\n",
       "      <td>0</td>\n",
       "      <td>Yes</td>\n",
       "      <td>Mr</td>\n",
       "    </tr>\n",
       "    <tr>\n",
       "      <th>4</th>\n",
       "      <td>896</td>\n",
       "      <td>3</td>\n",
       "      <td>Hirvonen, Mrs. Alexander (Helga E Lindqvist)</td>\n",
       "      <td>female</td>\n",
       "      <td>22.0</td>\n",
       "      <td>1</td>\n",
       "      <td>1</td>\n",
       "      <td>3101298</td>\n",
       "      <td>12.2875</td>\n",
       "      <td>NaN</td>\n",
       "      <td>S</td>\n",
       "      <td>3101298</td>\n",
       "      <td>NONE</td>\n",
       "      <td>2</td>\n",
       "      <td>No</td>\n",
       "      <td>Mrs</td>\n",
       "    </tr>\n",
       "    <tr>\n",
       "      <th>...</th>\n",
       "      <td>...</td>\n",
       "      <td>...</td>\n",
       "      <td>...</td>\n",
       "      <td>...</td>\n",
       "      <td>...</td>\n",
       "      <td>...</td>\n",
       "      <td>...</td>\n",
       "      <td>...</td>\n",
       "      <td>...</td>\n",
       "      <td>...</td>\n",
       "      <td>...</td>\n",
       "      <td>...</td>\n",
       "      <td>...</td>\n",
       "      <td>...</td>\n",
       "      <td>...</td>\n",
       "      <td>...</td>\n",
       "    </tr>\n",
       "    <tr>\n",
       "      <th>413</th>\n",
       "      <td>1305</td>\n",
       "      <td>3</td>\n",
       "      <td>Spector, Mr. Woolf</td>\n",
       "      <td>male</td>\n",
       "      <td>NaN</td>\n",
       "      <td>0</td>\n",
       "      <td>0</td>\n",
       "      <td>A.5. 3236</td>\n",
       "      <td>8.0500</td>\n",
       "      <td>NaN</td>\n",
       "      <td>S</td>\n",
       "      <td>3236</td>\n",
       "      <td>A.5.</td>\n",
       "      <td>0</td>\n",
       "      <td>Yes</td>\n",
       "      <td>Mr</td>\n",
       "    </tr>\n",
       "    <tr>\n",
       "      <th>414</th>\n",
       "      <td>1306</td>\n",
       "      <td>1</td>\n",
       "      <td>Oliva y Ocana, Dona. Fermina</td>\n",
       "      <td>female</td>\n",
       "      <td>39.0</td>\n",
       "      <td>0</td>\n",
       "      <td>0</td>\n",
       "      <td>PC 17758</td>\n",
       "      <td>108.9000</td>\n",
       "      <td>C105</td>\n",
       "      <td>C</td>\n",
       "      <td>17758</td>\n",
       "      <td>PC</td>\n",
       "      <td>0</td>\n",
       "      <td>Yes</td>\n",
       "      <td>Dona</td>\n",
       "    </tr>\n",
       "    <tr>\n",
       "      <th>415</th>\n",
       "      <td>1307</td>\n",
       "      <td>3</td>\n",
       "      <td>Saether, Mr. Simon Sivertsen</td>\n",
       "      <td>male</td>\n",
       "      <td>38.5</td>\n",
       "      <td>0</td>\n",
       "      <td>0</td>\n",
       "      <td>SOTON/O.Q. 3101262</td>\n",
       "      <td>7.2500</td>\n",
       "      <td>NaN</td>\n",
       "      <td>S</td>\n",
       "      <td>3101262</td>\n",
       "      <td>SOTON/O.Q.</td>\n",
       "      <td>0</td>\n",
       "      <td>Yes</td>\n",
       "      <td>Mr</td>\n",
       "    </tr>\n",
       "    <tr>\n",
       "      <th>416</th>\n",
       "      <td>1308</td>\n",
       "      <td>3</td>\n",
       "      <td>Ware, Mr. Frederick</td>\n",
       "      <td>male</td>\n",
       "      <td>NaN</td>\n",
       "      <td>0</td>\n",
       "      <td>0</td>\n",
       "      <td>359309</td>\n",
       "      <td>8.0500</td>\n",
       "      <td>NaN</td>\n",
       "      <td>S</td>\n",
       "      <td>359309</td>\n",
       "      <td>NONE</td>\n",
       "      <td>0</td>\n",
       "      <td>Yes</td>\n",
       "      <td>Mr</td>\n",
       "    </tr>\n",
       "    <tr>\n",
       "      <th>417</th>\n",
       "      <td>1309</td>\n",
       "      <td>3</td>\n",
       "      <td>Peter, Master. Michael J</td>\n",
       "      <td>male</td>\n",
       "      <td>NaN</td>\n",
       "      <td>1</td>\n",
       "      <td>1</td>\n",
       "      <td>2668</td>\n",
       "      <td>22.3583</td>\n",
       "      <td>NaN</td>\n",
       "      <td>C</td>\n",
       "      <td>2668</td>\n",
       "      <td>NONE</td>\n",
       "      <td>2</td>\n",
       "      <td>No</td>\n",
       "      <td>Master</td>\n",
       "    </tr>\n",
       "  </tbody>\n",
       "</table>\n",
       "<p>418 rows × 16 columns</p>\n",
       "</div>"
      ],
      "text/plain": [
       "     PassengerId  Pclass                                          Name  \\\n",
       "0            892       3                              Kelly, Mr. James   \n",
       "1            893       3              Wilkes, Mrs. James (Ellen Needs)   \n",
       "2            894       2                     Myles, Mr. Thomas Francis   \n",
       "3            895       3                              Wirz, Mr. Albert   \n",
       "4            896       3  Hirvonen, Mrs. Alexander (Helga E Lindqvist)   \n",
       "..           ...     ...                                           ...   \n",
       "413         1305       3                            Spector, Mr. Woolf   \n",
       "414         1306       1                  Oliva y Ocana, Dona. Fermina   \n",
       "415         1307       3                  Saether, Mr. Simon Sivertsen   \n",
       "416         1308       3                           Ware, Mr. Frederick   \n",
       "417         1309       3                      Peter, Master. Michael J   \n",
       "\n",
       "        Sex   Age  SibSp  Parch              Ticket      Fare Cabin Embarked  \\\n",
       "0      male  34.5      0      0              330911    7.8292   NaN        Q   \n",
       "1    female  47.0      1      0              363272    7.0000   NaN        S   \n",
       "2      male  62.0      0      0              240276    9.6875   NaN        Q   \n",
       "3      male  27.0      0      0              315154    8.6625   NaN        S   \n",
       "4    female  22.0      1      1             3101298   12.2875   NaN        S   \n",
       "..      ...   ...    ...    ...                 ...       ...   ...      ...   \n",
       "413    male   NaN      0      0           A.5. 3236    8.0500   NaN        S   \n",
       "414  female  39.0      0      0            PC 17758  108.9000  C105        C   \n",
       "415    male  38.5      0      0  SOTON/O.Q. 3101262    7.2500   NaN        S   \n",
       "416    male   NaN      0      0              359309    8.0500   NaN        S   \n",
       "417    male   NaN      1      1                2668   22.3583   NaN        C   \n",
       "\n",
       "    Ticket_number Ticket_item  Relatives SoloTraveller   Title  \n",
       "0          330911        NONE          0           Yes      Mr  \n",
       "1          363272        NONE          1            No     Mrs  \n",
       "2          240276        NONE          0           Yes      Mr  \n",
       "3          315154        NONE          0           Yes      Mr  \n",
       "4         3101298        NONE          2            No     Mrs  \n",
       "..            ...         ...        ...           ...     ...  \n",
       "413          3236        A.5.          0           Yes      Mr  \n",
       "414         17758          PC          0           Yes    Dona  \n",
       "415       3101262  SOTON/O.Q.          0           Yes      Mr  \n",
       "416        359309        NONE          0           Yes      Mr  \n",
       "417          2668        NONE          2            No  Master  \n",
       "\n",
       "[418 rows x 16 columns]"
      ]
     },
     "execution_count": 286,
     "metadata": {},
     "output_type": "execute_result"
    }
   ],
   "source": [
    "titanic_test"
   ]
  },
  {
   "cell_type": "code",
   "execution_count": 243,
   "id": "48f0261b-8d25-442d-8ff4-9bab457f5fab",
   "metadata": {},
   "outputs": [],
   "source": [
    "gensub = pd.read_csv('gender_submission.csv')"
   ]
  },
  {
   "cell_type": "code",
   "execution_count": 262,
   "id": "d91c717e-4f94-4b83-b688-a8b4b13f546d",
   "metadata": {},
   "outputs": [
    {
     "name": "stdout",
     "output_type": "stream",
     "text": [
      "% of women who survived: 0.7420382165605095\n"
     ]
    }
   ],
   "source": [
    "women = titanic_train.loc[titanic_train.Sex == 'female'][\"Survived\"]\n",
    "rate_women = sum(women)/len(women)\n",
    "\n",
    "print(\"% of women who survived:\", rate_women)"
   ]
  },
  {
   "cell_type": "code",
   "execution_count": 263,
   "id": "a5cc4c4e-edc8-42d1-8e16-d40cfd91ca1c",
   "metadata": {},
   "outputs": [
    {
     "name": "stdout",
     "output_type": "stream",
     "text": [
      "% of men who survived: 0.18890814558058924\n"
     ]
    }
   ],
   "source": [
    "men = titanic_train.loc[titanic_train.Sex == 'male'][\"Survived\"]\n",
    "rate_men = sum(men)/len(men)\n",
    "\n",
    "print(\"% of men who survived:\", rate_men)"
   ]
  },
  {
   "cell_type": "code",
   "execution_count": 268,
   "id": "8eda5ef2-0e69-419b-afa9-302eacf85b18",
   "metadata": {},
   "outputs": [
    {
     "data": {
      "image/png": "[encoded data removed]",
      "text/plain": [
       "<Figure size 432x288 with 1 Axes>"
      ]
     },
     "metadata": {
      "needs_background": "light"
     },
     "output_type": "display_data"
    }
   ],
   "source": [
    "sns.countplot(data=titanic_train, x='Sex', hue='Survived', palette=['#EE4000', 'cornflowerblue'])\n",
    "plt.xlabel('Sex')\n",
    "plt.ylabel('No. of Passengers')\n",
    "plt.title('Sex Distribution')\n",
    "plt.show()"
   ]
  },
  {
   "cell_type": "code",
   "execution_count": 296,
   "id": "b45b35c8-423f-40c3-b4c7-0cba630d1035",
   "metadata": {},
   "outputs": [],
   "source": [
    "for data in [titanic_train, titanic_test]:\n",
    "    mean = titanic_train['Age'].mean() # среднее значение возраста в столбце \"Age\"\n",
    "    std = titanic_train['Age'].std() # стандартное отклонение возраста в столбце \"Age\" \n",
    "    data_null = data['Age'].isnull().sum() # количество пропущенных значений\n",
    "    \n",
    "    data_age_random = np.random.randint(mean - std, mean + std, size=data_null)\n",
    "    \n",
    "    data_age = data['Age'].copy()\n",
    "    data_age[np.isnan(data_age)] = data_age_random\n",
    "    data['Age'] = data_age\n",
    "    data['Age'] = data[\"Age\"].astype(int)"
   ]
  },
  {
   "cell_type": "code",
   "execution_count": 301,
   "id": "ab47e46c-919b-4a81-bf9d-1a242ea79cc4",
   "metadata": {},
   "outputs": [
    {
     "data": {
      "text/plain": [
       "0"
      ]
     },
     "execution_count": 301,
     "metadata": {},
     "output_type": "execute_result"
    }
   ],
   "source": [
    "titanic_train['Age'].isna().sum()"
   ]
  },
  {
   "cell_type": "code",
   "execution_count": 257,
   "id": "e1fbc306-c220-4cf0-aa9c-9dc6852cbde2",
   "metadata": {},
   "outputs": [
    {
     "data": {
      "image/png": "[encoded data removed]",
      "text/plain": [
       "<Figure size 648x216 with 3 Axes>"
      ]
     },
     "metadata": {
      "needs_background": "light"
     },
     "output_type": "display_data"
    }
   ],
   "source": [
    "women = titanic_train[titanic_train['Sex'] == 'female']\n",
    "men = titanic_train[titanic_train['Sex'] == 'male']\n",
    "\n",
    "fig, axs = plt.subplots(nrows=1, ncols=3, figsize=(9, 3))\n",
    "ax1 = sns.histplot(titanic_train[titanic_train['Survived'] == 1].Age, bins=18, label = 'Survived', ax=axs[0], color='cornflowerblue')\n",
    "ax1 = sns.histplot(titanic_train[titanic_train['Survived'] == 0].Age, bins=18, label = 'Not Survived', ax=axs[0], color='#EE4000')\n",
    "ax1.legend()\n",
    "ax1.set_title('All Passengers')\n",
    "ax2 = sns.histplot(women[women['Survived'] == 1].Age, bins=18, label = 'Survived', ax=axs[1], color='cornflowerblue')\n",
    "ax2 = sns.histplot(women[women['Survived'] == 0].Age, bins=18, label = 'Not Survived', ax=axs[1], color='#EE4000')\n",
    "ax2.legend()\n",
    "ax2.set_title('Female Passengers')\n",
    "ax3 = sns.histplot(men[men['Survived'] == 1].Age, bins=18, label = 'Survived', ax=axs[2], color='cornflowerblue')\n",
    "ax3 = sns.histplot(men[men['Survived'] == 0].Age, bins=18, label = 'Not Survived', ax=axs[2], color='#EE4000')\n",
    "ax3.legend()\n",
    "ax3.set_title('Male Passengers')\n",
    "plt.show()"
   ]
  },
  {
   "cell_type": "code",
   "execution_count": 269,
   "id": "2ceaa3d0-6aaa-42ad-a80d-191d7d056a8d",
   "metadata": {},
   "outputs": [
    {
     "data": {
      "text/plain": [
       "0    S\n",
       "dtype: object"
      ]
     },
     "execution_count": 269,
     "metadata": {},
     "output_type": "execute_result"
    }
   ],
   "source": [
    "titanic_train['Embarked'].mode()"
   ]
  },
  {
   "cell_type": "code",
   "execution_count": 270,
   "id": "ca7ae657-4027-4c52-9a3d-fb086cc4af97",
   "metadata": {},
   "outputs": [
    {
     "data": {
      "text/plain": [
       "0      S\n",
       "1      C\n",
       "2      S\n",
       "3      S\n",
       "4      S\n",
       "      ..\n",
       "886    S\n",
       "887    S\n",
       "888    S\n",
       "889    C\n",
       "890    Q\n",
       "Name: Embarked, Length: 891, dtype: object"
      ]
     },
     "execution_count": 270,
     "metadata": {},
     "output_type": "execute_result"
    }
   ],
   "source": [
    "titanic_train['Embarked']"
   ]
  },
  {
   "cell_type": "code",
   "execution_count": 271,
   "id": "92606dd1-85c1-4fcd-a319-cac988dace4e",
   "metadata": {},
   "outputs": [],
   "source": [
    "mode = titanic_train['Embarked'].mode()\n",
    "for data in [titanic_train, titanic_test]:\n",
    "    data['Embarked'] = data['Embarked'].fillna(mode[0])"
   ]
  },
  {
   "cell_type": "code",
   "execution_count": 272,
   "id": "f44d0a37-637c-432b-8ce0-3d57263c7430",
   "metadata": {},
   "outputs": [
    {
     "data": {
      "text/html": [
       "<div>\n",
       "<style scoped>\n",
       "    .dataframe tbody tr th:only-of-type {\n",
       "        vertical-align: middle;\n",
       "    }\n",
       "\n",
       "    .dataframe tbody tr th {\n",
       "        vertical-align: top;\n",
       "    }\n",
       "\n",
       "    .dataframe thead th {\n",
       "        text-align: right;\n",
       "    }\n",
       "</style>\n",
       "<table border=\"1\" class=\"dataframe\">\n",
       "  <thead>\n",
       "    <tr style=\"text-align: right;\">\n",
       "      <th></th>\n",
       "      <th>PassengerId</th>\n",
       "      <th>Survived</th>\n",
       "      <th>Pclass</th>\n",
       "      <th>Name</th>\n",
       "      <th>Sex</th>\n",
       "      <th>Age</th>\n",
       "      <th>SibSp</th>\n",
       "      <th>Parch</th>\n",
       "      <th>Ticket</th>\n",
       "      <th>Fare</th>\n",
       "      <th>Cabin</th>\n",
       "      <th>Embarked</th>\n",
       "      <th>Ticket_number</th>\n",
       "      <th>Ticket_item</th>\n",
       "    </tr>\n",
       "  </thead>\n",
       "  <tbody>\n",
       "    <tr>\n",
       "      <th>0</th>\n",
       "      <td>1</td>\n",
       "      <td>0</td>\n",
       "      <td>3</td>\n",
       "      <td>Braund, Mr. Owen Harris</td>\n",
       "      <td>male</td>\n",
       "      <td>22.0</td>\n",
       "      <td>1</td>\n",
       "      <td>0</td>\n",
       "      <td>A/5 21171</td>\n",
       "      <td>7.2500</td>\n",
       "      <td>NaN</td>\n",
       "      <td>S</td>\n",
       "      <td>21171</td>\n",
       "      <td>A/5</td>\n",
       "    </tr>\n",
       "    <tr>\n",
       "      <th>1</th>\n",
       "      <td>2</td>\n",
       "      <td>1</td>\n",
       "      <td>1</td>\n",
       "      <td>Cumings, Mrs. John Bradley (Florence Briggs Th...</td>\n",
       "      <td>female</td>\n",
       "      <td>38.0</td>\n",
       "      <td>1</td>\n",
       "      <td>0</td>\n",
       "      <td>PC 17599</td>\n",
       "      <td>71.2833</td>\n",
       "      <td>C85</td>\n",
       "      <td>C</td>\n",
       "      <td>17599</td>\n",
       "      <td>PC</td>\n",
       "    </tr>\n",
       "    <tr>\n",
       "      <th>2</th>\n",
       "      <td>3</td>\n",
       "      <td>1</td>\n",
       "      <td>3</td>\n",
       "      <td>Heikkinen, Miss. Laina</td>\n",
       "      <td>female</td>\n",
       "      <td>26.0</td>\n",
       "      <td>0</td>\n",
       "      <td>0</td>\n",
       "      <td>STON/O2. 3101282</td>\n",
       "      <td>7.9250</td>\n",
       "      <td>NaN</td>\n",
       "      <td>S</td>\n",
       "      <td>3101282</td>\n",
       "      <td>STON/O2.</td>\n",
       "    </tr>\n",
       "    <tr>\n",
       "      <th>3</th>\n",
       "      <td>4</td>\n",
       "      <td>1</td>\n",
       "      <td>1</td>\n",
       "      <td>Futrelle, Mrs. Jacques Heath (Lily May Peel)</td>\n",
       "      <td>female</td>\n",
       "      <td>35.0</td>\n",
       "      <td>1</td>\n",
       "      <td>0</td>\n",
       "      <td>113803</td>\n",
       "      <td>53.1000</td>\n",
       "      <td>C123</td>\n",
       "      <td>S</td>\n",
       "      <td>113803</td>\n",
       "      <td>NONE</td>\n",
       "    </tr>\n",
       "    <tr>\n",
       "      <th>4</th>\n",
       "      <td>5</td>\n",
       "      <td>0</td>\n",
       "      <td>3</td>\n",
       "      <td>Allen, Mr. William Henry</td>\n",
       "      <td>male</td>\n",
       "      <td>35.0</td>\n",
       "      <td>0</td>\n",
       "      <td>0</td>\n",
       "      <td>373450</td>\n",
       "      <td>8.0500</td>\n",
       "      <td>NaN</td>\n",
       "      <td>S</td>\n",
       "      <td>373450</td>\n",
       "      <td>NONE</td>\n",
       "    </tr>\n",
       "    <tr>\n",
       "      <th>...</th>\n",
       "      <td>...</td>\n",
       "      <td>...</td>\n",
       "      <td>...</td>\n",
       "      <td>...</td>\n",
       "      <td>...</td>\n",
       "      <td>...</td>\n",
       "      <td>...</td>\n",
       "      <td>...</td>\n",
       "      <td>...</td>\n",
       "      <td>...</td>\n",
       "      <td>...</td>\n",
       "      <td>...</td>\n",
       "      <td>...</td>\n",
       "      <td>...</td>\n",
       "    </tr>\n",
       "    <tr>\n",
       "      <th>886</th>\n",
       "      <td>887</td>\n",
       "      <td>0</td>\n",
       "      <td>2</td>\n",
       "      <td>Montvila, Rev. Juozas</td>\n",
       "      <td>male</td>\n",
       "      <td>27.0</td>\n",
       "      <td>0</td>\n",
       "      <td>0</td>\n",
       "      <td>211536</td>\n",
       "      <td>13.0000</td>\n",
       "      <td>NaN</td>\n",
       "      <td>S</td>\n",
       "      <td>211536</td>\n",
       "      <td>NONE</td>\n",
       "    </tr>\n",
       "    <tr>\n",
       "      <th>887</th>\n",
       "      <td>888</td>\n",
       "      <td>1</td>\n",
       "      <td>1</td>\n",
       "      <td>Graham, Miss. Margaret Edith</td>\n",
       "      <td>female</td>\n",
       "      <td>19.0</td>\n",
       "      <td>0</td>\n",
       "      <td>0</td>\n",
       "      <td>112053</td>\n",
       "      <td>30.0000</td>\n",
       "      <td>B42</td>\n",
       "      <td>S</td>\n",
       "      <td>112053</td>\n",
       "      <td>NONE</td>\n",
       "    </tr>\n",
       "    <tr>\n",
       "      <th>888</th>\n",
       "      <td>889</td>\n",
       "      <td>0</td>\n",
       "      <td>3</td>\n",
       "      <td>Johnston, Miss. Catherine Helen \"Carrie\"</td>\n",
       "      <td>female</td>\n",
       "      <td>NaN</td>\n",
       "      <td>1</td>\n",
       "      <td>2</td>\n",
       "      <td>W./C. 6607</td>\n",
       "      <td>23.4500</td>\n",
       "      <td>NaN</td>\n",
       "      <td>S</td>\n",
       "      <td>6607</td>\n",
       "      <td>W./C.</td>\n",
       "    </tr>\n",
       "    <tr>\n",
       "      <th>889</th>\n",
       "      <td>890</td>\n",
       "      <td>1</td>\n",
       "      <td>1</td>\n",
       "      <td>Behr, Mr. Karl Howell</td>\n",
       "      <td>male</td>\n",
       "      <td>26.0</td>\n",
       "      <td>0</td>\n",
       "      <td>0</td>\n",
       "      <td>111369</td>\n",
       "      <td>30.0000</td>\n",
       "      <td>C148</td>\n",
       "      <td>C</td>\n",
       "      <td>111369</td>\n",
       "      <td>NONE</td>\n",
       "    </tr>\n",
       "    <tr>\n",
       "      <th>890</th>\n",
       "      <td>891</td>\n",
       "      <td>0</td>\n",
       "      <td>3</td>\n",
       "      <td>Dooley, Mr. Patrick</td>\n",
       "      <td>male</td>\n",
       "      <td>32.0</td>\n",
       "      <td>0</td>\n",
       "      <td>0</td>\n",
       "      <td>370376</td>\n",
       "      <td>7.7500</td>\n",
       "      <td>NaN</td>\n",
       "      <td>Q</td>\n",
       "      <td>370376</td>\n",
       "      <td>NONE</td>\n",
       "    </tr>\n",
       "  </tbody>\n",
       "</table>\n",
       "<p>891 rows × 14 columns</p>\n",
       "</div>"
      ],
      "text/plain": [
       "     PassengerId  Survived  Pclass  \\\n",
       "0              1         0       3   \n",
       "1              2         1       1   \n",
       "2              3         1       3   \n",
       "3              4         1       1   \n",
       "4              5         0       3   \n",
       "..           ...       ...     ...   \n",
       "886          887         0       2   \n",
       "887          888         1       1   \n",
       "888          889         0       3   \n",
       "889          890         1       1   \n",
       "890          891         0       3   \n",
       "\n",
       "                                                  Name     Sex   Age  SibSp  \\\n",
       "0                              Braund, Mr. Owen Harris    male  22.0      1   \n",
       "1    Cumings, Mrs. John Bradley (Florence Briggs Th...  female  38.0      1   \n",
       "2                               Heikkinen, Miss. Laina  female  26.0      0   \n",
       "3         Futrelle, Mrs. Jacques Heath (Lily May Peel)  female  35.0      1   \n",
       "4                             Allen, Mr. William Henry    male  35.0      0   \n",
       "..                                                 ...     ...   ...    ...   \n",
       "886                              Montvila, Rev. Juozas    male  27.0      0   \n",
       "887                       Graham, Miss. Margaret Edith  female  19.0      0   \n",
       "888           Johnston, Miss. Catherine Helen \"Carrie\"  female   NaN      1   \n",
       "889                              Behr, Mr. Karl Howell    male  26.0      0   \n",
       "890                                Dooley, Mr. Patrick    male  32.0      0   \n",
       "\n",
       "     Parch            Ticket     Fare Cabin Embarked Ticket_number Ticket_item  \n",
       "0        0         A/5 21171   7.2500   NaN        S         21171         A/5  \n",
       "1        0          PC 17599  71.2833   C85        C         17599          PC  \n",
       "2        0  STON/O2. 3101282   7.9250   NaN        S       3101282    STON/O2.  \n",
       "3        0            113803  53.1000  C123        S        113803        NONE  \n",
       "4        0            373450   8.0500   NaN        S        373450        NONE  \n",
       "..     ...               ...      ...   ...      ...           ...         ...  \n",
       "886      0            211536  13.0000   NaN        S        211536        NONE  \n",
       "887      0            112053  30.0000   B42        S        112053        NONE  \n",
       "888      2        W./C. 6607  23.4500   NaN        S          6607       W./C.  \n",
       "889      0            111369  30.0000  C148        C        111369        NONE  \n",
       "890      0            370376   7.7500   NaN        Q        370376        NONE  \n",
       "\n",
       "[891 rows x 14 columns]"
      ]
     },
     "execution_count": 272,
     "metadata": {},
     "output_type": "execute_result"
    }
   ],
   "source": [
    "titanic_train"
   ]
  },
  {
   "cell_type": "code",
   "execution_count": 273,
   "id": "4f0bd972-9cf3-4ea4-abfc-2550023877e8",
   "metadata": {},
   "outputs": [
    {
     "data": {
      "text/html": [
       "<div>\n",
       "<style scoped>\n",
       "    .dataframe tbody tr th:only-of-type {\n",
       "        vertical-align: middle;\n",
       "    }\n",
       "\n",
       "    .dataframe tbody tr th {\n",
       "        vertical-align: top;\n",
       "    }\n",
       "\n",
       "    .dataframe thead th {\n",
       "        text-align: right;\n",
       "    }\n",
       "</style>\n",
       "<table border=\"1\" class=\"dataframe\">\n",
       "  <thead>\n",
       "    <tr style=\"text-align: right;\">\n",
       "      <th></th>\n",
       "      <th>sum</th>\n",
       "      <th>count</th>\n",
       "      <th>mean</th>\n",
       "    </tr>\n",
       "    <tr>\n",
       "      <th>Embarked</th>\n",
       "      <th></th>\n",
       "      <th></th>\n",
       "      <th></th>\n",
       "    </tr>\n",
       "  </thead>\n",
       "  <tbody>\n",
       "    <tr>\n",
       "      <th>C</th>\n",
       "      <td>93</td>\n",
       "      <td>168</td>\n",
       "      <td>0.553571</td>\n",
       "    </tr>\n",
       "    <tr>\n",
       "      <th>Q</th>\n",
       "      <td>30</td>\n",
       "      <td>77</td>\n",
       "      <td>0.389610</td>\n",
       "    </tr>\n",
       "    <tr>\n",
       "      <th>S</th>\n",
       "      <td>219</td>\n",
       "      <td>646</td>\n",
       "      <td>0.339009</td>\n",
       "    </tr>\n",
       "  </tbody>\n",
       "</table>\n",
       "</div>"
      ],
      "text/plain": [
       "          sum  count      mean\n",
       "Embarked                      \n",
       "C          93    168  0.553571\n",
       "Q          30     77  0.389610\n",
       "S         219    646  0.339009"
      ]
     },
     "execution_count": 273,
     "metadata": {},
     "output_type": "execute_result"
    }
   ],
   "source": [
    "embarked = titanic_train.groupby(['Embarked'])['Survived'].aggregate(['sum', 'count', 'mean'])\n",
    "embarked"
   ]
  },
  {
   "cell_type": "code",
   "execution_count": 274,
   "id": "f1d8b187-eb37-4bdf-8e0c-a6f301001f8e",
   "metadata": {},
   "outputs": [
    {
     "data": {
      "text/html": [
       "<div>\n",
       "<style scoped>\n",
       "    .dataframe tbody tr th:only-of-type {\n",
       "        vertical-align: middle;\n",
       "    }\n",
       "\n",
       "    .dataframe tbody tr th {\n",
       "        vertical-align: top;\n",
       "    }\n",
       "\n",
       "    .dataframe thead tr th {\n",
       "        text-align: left;\n",
       "    }\n",
       "\n",
       "    .dataframe thead tr:last-of-type th {\n",
       "        text-align: right;\n",
       "    }\n",
       "</style>\n",
       "<table border=\"1\" class=\"dataframe\">\n",
       "  <thead>\n",
       "    <tr>\n",
       "      <th></th>\n",
       "      <th colspan=\"3\" halign=\"left\">Survived</th>\n",
       "    </tr>\n",
       "    <tr>\n",
       "      <th></th>\n",
       "      <th>sum</th>\n",
       "      <th>count</th>\n",
       "      <th>mean</th>\n",
       "    </tr>\n",
       "    <tr>\n",
       "      <th>Relatives</th>\n",
       "      <th></th>\n",
       "      <th></th>\n",
       "      <th></th>\n",
       "    </tr>\n",
       "  </thead>\n",
       "  <tbody>\n",
       "    <tr>\n",
       "      <th>0</th>\n",
       "      <td>163</td>\n",
       "      <td>537</td>\n",
       "      <td>0.303538</td>\n",
       "    </tr>\n",
       "    <tr>\n",
       "      <th>1</th>\n",
       "      <td>89</td>\n",
       "      <td>161</td>\n",
       "      <td>0.552795</td>\n",
       "    </tr>\n",
       "    <tr>\n",
       "      <th>2</th>\n",
       "      <td>59</td>\n",
       "      <td>102</td>\n",
       "      <td>0.578431</td>\n",
       "    </tr>\n",
       "    <tr>\n",
       "      <th>3</th>\n",
       "      <td>21</td>\n",
       "      <td>29</td>\n",
       "      <td>0.724138</td>\n",
       "    </tr>\n",
       "    <tr>\n",
       "      <th>4</th>\n",
       "      <td>3</td>\n",
       "      <td>15</td>\n",
       "      <td>0.200000</td>\n",
       "    </tr>\n",
       "    <tr>\n",
       "      <th>5</th>\n",
       "      <td>3</td>\n",
       "      <td>22</td>\n",
       "      <td>0.136364</td>\n",
       "    </tr>\n",
       "    <tr>\n",
       "      <th>6</th>\n",
       "      <td>4</td>\n",
       "      <td>12</td>\n",
       "      <td>0.333333</td>\n",
       "    </tr>\n",
       "    <tr>\n",
       "      <th>7</th>\n",
       "      <td>0</td>\n",
       "      <td>6</td>\n",
       "      <td>0.000000</td>\n",
       "    </tr>\n",
       "    <tr>\n",
       "      <th>10</th>\n",
       "      <td>0</td>\n",
       "      <td>7</td>\n",
       "      <td>0.000000</td>\n",
       "    </tr>\n",
       "  </tbody>\n",
       "</table>\n",
       "</div>"
      ],
      "text/plain": [
       "          Survived                \n",
       "               sum count      mean\n",
       "Relatives                         \n",
       "0              163   537  0.303538\n",
       "1               89   161  0.552795\n",
       "2               59   102  0.578431\n",
       "3               21    29  0.724138\n",
       "4                3    15  0.200000\n",
       "5                3    22  0.136364\n",
       "6                4    12  0.333333\n",
       "7                0     6  0.000000\n",
       "10               0     7  0.000000"
      ]
     },
     "execution_count": 274,
     "metadata": {},
     "output_type": "execute_result"
    }
   ],
   "source": [
    "for data in [titanic_train, titanic_test]:\n",
    "    data['Relatives'] = data['SibSp'] + data['Parch']\n",
    "    data.loc[data['Relatives'] > 0, 'SoloTraveller'] = 'No'\n",
    "    data.loc[data['Relatives'] == 0, 'SoloTraveller'] = 'Yes'\n",
    "    \n",
    "traveller = titanic_train.groupby(['Relatives'])[['Survived']].aggregate(['sum', 'count', 'mean'])\n",
    "traveller"
   ]
  },
  {
   "cell_type": "code",
   "execution_count": 275,
   "id": "925873b3-99f8-411b-ab38-77c0a16f77e2",
   "metadata": {},
   "outputs": [
    {
     "data": {
      "text/html": [
       "<div>\n",
       "<style scoped>\n",
       "    .dataframe tbody tr th:only-of-type {\n",
       "        vertical-align: middle;\n",
       "    }\n",
       "\n",
       "    .dataframe tbody tr th {\n",
       "        vertical-align: top;\n",
       "    }\n",
       "\n",
       "    .dataframe thead tr th {\n",
       "        text-align: left;\n",
       "    }\n",
       "\n",
       "    .dataframe thead tr:last-of-type th {\n",
       "        text-align: right;\n",
       "    }\n",
       "</style>\n",
       "<table border=\"1\" class=\"dataframe\">\n",
       "  <thead>\n",
       "    <tr>\n",
       "      <th></th>\n",
       "      <th colspan=\"3\" halign=\"left\">Survived</th>\n",
       "    </tr>\n",
       "    <tr>\n",
       "      <th></th>\n",
       "      <th>sum</th>\n",
       "      <th>count</th>\n",
       "      <th>mean</th>\n",
       "    </tr>\n",
       "    <tr>\n",
       "      <th>SoloTraveller</th>\n",
       "      <th></th>\n",
       "      <th></th>\n",
       "      <th></th>\n",
       "    </tr>\n",
       "  </thead>\n",
       "  <tbody>\n",
       "    <tr>\n",
       "      <th>No</th>\n",
       "      <td>179</td>\n",
       "      <td>354</td>\n",
       "      <td>0.505650</td>\n",
       "    </tr>\n",
       "    <tr>\n",
       "      <th>Yes</th>\n",
       "      <td>163</td>\n",
       "      <td>537</td>\n",
       "      <td>0.303538</td>\n",
       "    </tr>\n",
       "  </tbody>\n",
       "</table>\n",
       "</div>"
      ],
      "text/plain": [
       "              Survived                \n",
       "                   sum count      mean\n",
       "SoloTraveller                         \n",
       "No                 179   354  0.505650\n",
       "Yes                163   537  0.303538"
      ]
     },
     "execution_count": 275,
     "metadata": {},
     "output_type": "execute_result"
    }
   ],
   "source": [
    "solo_traveller = titanic_train.groupby(['SoloTraveller'])[['Survived']].aggregate(['sum', 'count', 'mean'])\n",
    "solo_traveller"
   ]
  },
  {
   "cell_type": "code",
   "execution_count": 277,
   "id": "96d32182-9469-4507-a724-8010312d2e24",
   "metadata": {},
   "outputs": [
    {
     "data": {
      "image/png": "[encoded data removed]",
      "text/plain": [
       "<Figure size 432x288 with 1 Axes>"
      ]
     },
     "metadata": {
      "needs_background": "light"
     },
     "output_type": "display_data"
    }
   ],
   "source": [
    "sns.countplot(data=titanic_train, x='SoloTraveller', palette=['#EE4000', 'cornflowerblue'], hue='Survived')\n",
    "plt.xlabel('Solo Traveller')\n",
    "plt.ylabel('Passenger Count')\n",
    "plt.show()"
   ]
  },
  {
   "cell_type": "code",
   "execution_count": 302,
   "id": "fefed1bd-d17f-4c90-ac43-5587b189e636",
   "metadata": {},
   "outputs": [],
   "source": [
    "titanic_train['Title'] = titanic_train['Name'].apply(lambda x: x.split(',')[1].strip().split('.')[0])\n",
    "titanic_test['Title'] = titanic_test['Name'].apply(lambda x: x.split(',')[1].strip().split('.')[0])"
   ]
  },
  {
   "cell_type": "code",
   "execution_count": 303,
   "id": "a8acb1bd-f070-46f2-b369-53abefef7680",
   "metadata": {},
   "outputs": [
    {
     "data": {
      "text/html": [
       "<div>\n",
       "<style scoped>\n",
       "    .dataframe tbody tr th:only-of-type {\n",
       "        vertical-align: middle;\n",
       "    }\n",
       "\n",
       "    .dataframe tbody tr th {\n",
       "        vertical-align: top;\n",
       "    }\n",
       "\n",
       "    .dataframe thead th {\n",
       "        text-align: right;\n",
       "    }\n",
       "</style>\n",
       "<table border=\"1\" class=\"dataframe\">\n",
       "  <thead>\n",
       "    <tr style=\"text-align: right;\">\n",
       "      <th></th>\n",
       "      <th>PassengerId</th>\n",
       "      <th>Survived</th>\n",
       "      <th>Pclass</th>\n",
       "      <th>Name</th>\n",
       "      <th>Sex</th>\n",
       "      <th>Age</th>\n",
       "      <th>SibSp</th>\n",
       "      <th>Parch</th>\n",
       "      <th>Ticket</th>\n",
       "      <th>Fare</th>\n",
       "      <th>Cabin</th>\n",
       "      <th>Embarked</th>\n",
       "      <th>Ticket_number</th>\n",
       "      <th>Ticket_item</th>\n",
       "      <th>Relatives</th>\n",
       "      <th>SoloTraveller</th>\n",
       "      <th>Title</th>\n",
       "    </tr>\n",
       "  </thead>\n",
       "  <tbody>\n",
       "    <tr>\n",
       "      <th>0</th>\n",
       "      <td>1</td>\n",
       "      <td>0</td>\n",
       "      <td>3</td>\n",
       "      <td>Braund, Mr. Owen Harris</td>\n",
       "      <td>male</td>\n",
       "      <td>22</td>\n",
       "      <td>1</td>\n",
       "      <td>0</td>\n",
       "      <td>A/5 21171</td>\n",
       "      <td>7.2500</td>\n",
       "      <td>NaN</td>\n",
       "      <td>S</td>\n",
       "      <td>21171</td>\n",
       "      <td>A/5</td>\n",
       "      <td>1</td>\n",
       "      <td>No</td>\n",
       "      <td>Mr</td>\n",
       "    </tr>\n",
       "    <tr>\n",
       "      <th>1</th>\n",
       "      <td>2</td>\n",
       "      <td>1</td>\n",
       "      <td>1</td>\n",
       "      <td>Cumings, Mrs. John Bradley (Florence Briggs Th...</td>\n",
       "      <td>female</td>\n",
       "      <td>38</td>\n",
       "      <td>1</td>\n",
       "      <td>0</td>\n",
       "      <td>PC 17599</td>\n",
       "      <td>71.2833</td>\n",
       "      <td>C85</td>\n",
       "      <td>C</td>\n",
       "      <td>17599</td>\n",
       "      <td>PC</td>\n",
       "      <td>1</td>\n",
       "      <td>No</td>\n",
       "      <td>Mrs</td>\n",
       "    </tr>\n",
       "    <tr>\n",
       "      <th>2</th>\n",
       "      <td>3</td>\n",
       "      <td>1</td>\n",
       "      <td>3</td>\n",
       "      <td>Heikkinen, Miss. Laina</td>\n",
       "      <td>female</td>\n",
       "      <td>26</td>\n",
       "      <td>0</td>\n",
       "      <td>0</td>\n",
       "      <td>STON/O2. 3101282</td>\n",
       "      <td>7.9250</td>\n",
       "      <td>NaN</td>\n",
       "      <td>S</td>\n",
       "      <td>3101282</td>\n",
       "      <td>STON/O2.</td>\n",
       "      <td>0</td>\n",
       "      <td>Yes</td>\n",
       "      <td>Miss</td>\n",
       "    </tr>\n",
       "    <tr>\n",
       "      <th>3</th>\n",
       "      <td>4</td>\n",
       "      <td>1</td>\n",
       "      <td>1</td>\n",
       "      <td>Futrelle, Mrs. Jacques Heath (Lily May Peel)</td>\n",
       "      <td>female</td>\n",
       "      <td>35</td>\n",
       "      <td>1</td>\n",
       "      <td>0</td>\n",
       "      <td>113803</td>\n",
       "      <td>53.1000</td>\n",
       "      <td>C123</td>\n",
       "      <td>S</td>\n",
       "      <td>113803</td>\n",
       "      <td>NONE</td>\n",
       "      <td>1</td>\n",
       "      <td>No</td>\n",
       "      <td>Mrs</td>\n",
       "    </tr>\n",
       "    <tr>\n",
       "      <th>4</th>\n",
       "      <td>5</td>\n",
       "      <td>0</td>\n",
       "      <td>3</td>\n",
       "      <td>Allen, Mr. William Henry</td>\n",
       "      <td>male</td>\n",
       "      <td>35</td>\n",
       "      <td>0</td>\n",
       "      <td>0</td>\n",
       "      <td>373450</td>\n",
       "      <td>8.0500</td>\n",
       "      <td>NaN</td>\n",
       "      <td>S</td>\n",
       "      <td>373450</td>\n",
       "      <td>NONE</td>\n",
       "      <td>0</td>\n",
       "      <td>Yes</td>\n",
       "      <td>Mr</td>\n",
       "    </tr>\n",
       "    <tr>\n",
       "      <th>...</th>\n",
       "      <td>...</td>\n",
       "      <td>...</td>\n",
       "      <td>...</td>\n",
       "      <td>...</td>\n",
       "      <td>...</td>\n",
       "      <td>...</td>\n",
       "      <td>...</td>\n",
       "      <td>...</td>\n",
       "      <td>...</td>\n",
       "      <td>...</td>\n",
       "      <td>...</td>\n",
       "      <td>...</td>\n",
       "      <td>...</td>\n",
       "      <td>...</td>\n",
       "      <td>...</td>\n",
       "      <td>...</td>\n",
       "      <td>...</td>\n",
       "    </tr>\n",
       "    <tr>\n",
       "      <th>886</th>\n",
       "      <td>887</td>\n",
       "      <td>0</td>\n",
       "      <td>2</td>\n",
       "      <td>Montvila, Rev. Juozas</td>\n",
       "      <td>male</td>\n",
       "      <td>27</td>\n",
       "      <td>0</td>\n",
       "      <td>0</td>\n",
       "      <td>211536</td>\n",
       "      <td>13.0000</td>\n",
       "      <td>NaN</td>\n",
       "      <td>S</td>\n",
       "      <td>211536</td>\n",
       "      <td>NONE</td>\n",
       "      <td>0</td>\n",
       "      <td>Yes</td>\n",
       "      <td>Rev</td>\n",
       "    </tr>\n",
       "    <tr>\n",
       "      <th>887</th>\n",
       "      <td>888</td>\n",
       "      <td>1</td>\n",
       "      <td>1</td>\n",
       "      <td>Graham, Miss. Margaret Edith</td>\n",
       "      <td>female</td>\n",
       "      <td>19</td>\n",
       "      <td>0</td>\n",
       "      <td>0</td>\n",
       "      <td>112053</td>\n",
       "      <td>30.0000</td>\n",
       "      <td>B42</td>\n",
       "      <td>S</td>\n",
       "      <td>112053</td>\n",
       "      <td>NONE</td>\n",
       "      <td>0</td>\n",
       "      <td>Yes</td>\n",
       "      <td>Miss</td>\n",
       "    </tr>\n",
       "    <tr>\n",
       "      <th>888</th>\n",
       "      <td>889</td>\n",
       "      <td>0</td>\n",
       "      <td>3</td>\n",
       "      <td>Johnston, Miss. Catherine Helen \"Carrie\"</td>\n",
       "      <td>female</td>\n",
       "      <td>25</td>\n",
       "      <td>1</td>\n",
       "      <td>2</td>\n",
       "      <td>W./C. 6607</td>\n",
       "      <td>23.4500</td>\n",
       "      <td>NaN</td>\n",
       "      <td>S</td>\n",
       "      <td>6607</td>\n",
       "      <td>W./C.</td>\n",
       "      <td>3</td>\n",
       "      <td>No</td>\n",
       "      <td>Miss</td>\n",
       "    </tr>\n",
       "    <tr>\n",
       "      <th>889</th>\n",
       "      <td>890</td>\n",
       "      <td>1</td>\n",
       "      <td>1</td>\n",
       "      <td>Behr, Mr. Karl Howell</td>\n",
       "      <td>male</td>\n",
       "      <td>26</td>\n",
       "      <td>0</td>\n",
       "      <td>0</td>\n",
       "      <td>111369</td>\n",
       "      <td>30.0000</td>\n",
       "      <td>C148</td>\n",
       "      <td>C</td>\n",
       "      <td>111369</td>\n",
       "      <td>NONE</td>\n",
       "      <td>0</td>\n",
       "      <td>Yes</td>\n",
       "      <td>Mr</td>\n",
       "    </tr>\n",
       "    <tr>\n",
       "      <th>890</th>\n",
       "      <td>891</td>\n",
       "      <td>0</td>\n",
       "      <td>3</td>\n",
       "      <td>Dooley, Mr. Patrick</td>\n",
       "      <td>male</td>\n",
       "      <td>32</td>\n",
       "      <td>0</td>\n",
       "      <td>0</td>\n",
       "      <td>370376</td>\n",
       "      <td>7.7500</td>\n",
       "      <td>NaN</td>\n",
       "      <td>Q</td>\n",
       "      <td>370376</td>\n",
       "      <td>NONE</td>\n",
       "      <td>0</td>\n",
       "      <td>Yes</td>\n",
       "      <td>Mr</td>\n",
       "    </tr>\n",
       "  </tbody>\n",
       "</table>\n",
       "<p>891 rows × 17 columns</p>\n",
       "</div>"
      ],
      "text/plain": [
       "     PassengerId  Survived  Pclass  \\\n",
       "0              1         0       3   \n",
       "1              2         1       1   \n",
       "2              3         1       3   \n",
       "3              4         1       1   \n",
       "4              5         0       3   \n",
       "..           ...       ...     ...   \n",
       "886          887         0       2   \n",
       "887          888         1       1   \n",
       "888          889         0       3   \n",
       "889          890         1       1   \n",
       "890          891         0       3   \n",
       "\n",
       "                                                  Name     Sex  Age  SibSp  \\\n",
       "0                              Braund, Mr. Owen Harris    male   22      1   \n",
       "1    Cumings, Mrs. John Bradley (Florence Briggs Th...  female   38      1   \n",
       "2                               Heikkinen, Miss. Laina  female   26      0   \n",
       "3         Futrelle, Mrs. Jacques Heath (Lily May Peel)  female   35      1   \n",
       "4                             Allen, Mr. William Henry    male   35      0   \n",
       "..                                                 ...     ...  ...    ...   \n",
       "886                              Montvila, Rev. Juozas    male   27      0   \n",
       "887                       Graham, Miss. Margaret Edith  female   19      0   \n",
       "888           Johnston, Miss. Catherine Helen \"Carrie\"  female   25      1   \n",
       "889                              Behr, Mr. Karl Howell    male   26      0   \n",
       "890                                Dooley, Mr. Patrick    male   32      0   \n",
       "\n",
       "     Parch            Ticket     Fare Cabin Embarked Ticket_number  \\\n",
       "0        0         A/5 21171   7.2500   NaN        S         21171   \n",
       "1        0          PC 17599  71.2833   C85        C         17599   \n",
       "2        0  STON/O2. 3101282   7.9250   NaN        S       3101282   \n",
       "3        0            113803  53.1000  C123        S        113803   \n",
       "4        0            373450   8.0500   NaN        S        373450   \n",
       "..     ...               ...      ...   ...      ...           ...   \n",
       "886      0            211536  13.0000   NaN        S        211536   \n",
       "887      0            112053  30.0000   B42        S        112053   \n",
       "888      2        W./C. 6607  23.4500   NaN        S          6607   \n",
       "889      0            111369  30.0000  C148        C        111369   \n",
       "890      0            370376   7.7500   NaN        Q        370376   \n",
       "\n",
       "    Ticket_item  Relatives SoloTraveller Title  \n",
       "0           A/5          1            No    Mr  \n",
       "1            PC          1            No   Mrs  \n",
       "2      STON/O2.          0           Yes  Miss  \n",
       "3          NONE          1            No   Mrs  \n",
       "4          NONE          0           Yes    Mr  \n",
       "..          ...        ...           ...   ...  \n",
       "886        NONE          0           Yes   Rev  \n",
       "887        NONE          0           Yes  Miss  \n",
       "888       W./C.          3            No  Miss  \n",
       "889        NONE          0           Yes    Mr  \n",
       "890        NONE          0           Yes    Mr  \n",
       "\n",
       "[891 rows x 17 columns]"
      ]
     },
     "execution_count": 303,
     "metadata": {},
     "output_type": "execute_result"
    }
   ],
   "source": [
    "titanic_train"
   ]
  },
  {
   "cell_type": "code",
   "execution_count": 281,
   "id": "a5f3b5ac-a95e-4d7e-a267-2264e00fd9f7",
   "metadata": {},
   "outputs": [
    {
     "name": "stdout",
     "output_type": "stream",
     "text": [
      "           Title  sum  count      mean\n",
      "0           Capt    0      1  0.000000\n",
      "1            Col    1      2  0.500000\n",
      "2            Don    0      1  0.000000\n",
      "3             Dr    3      7  0.428571\n",
      "4       Jonkheer    0      1  0.000000\n",
      "5           Lady    1      1  1.000000\n",
      "6          Major    1      2  0.500000\n",
      "7         Master   23     40  0.575000\n",
      "8           Miss  127    182  0.697802\n",
      "9           Mlle    2      2  1.000000\n",
      "10           Mme    1      1  1.000000\n",
      "11            Mr   81    517  0.156673\n",
      "12           Mrs   99    125  0.792000\n",
      "13            Ms    1      1  1.000000\n",
      "14           Rev    0      6  0.000000\n",
      "15           Sir    1      1  1.000000\n",
      "16  the Countess    1      1  1.000000\n"
     ]
    }
   ],
   "source": [
    "title_group = titanic_train.groupby(['Title'])['Survived'].aggregate(['sum', 'count', 'mean'])\n",
    "title_group.reset_index(inplace=True)\n",
    "print(title_group)\n"
   ]
  },
  {
   "cell_type": "code",
   "execution_count": 304,
   "id": "28fb6df0-05ad-4d69-bdce-0c5a75abc824",
   "metadata": {},
   "outputs": [],
   "source": [
    "features = ['Pclass', 'Sex', 'Age', 'Embarked', 'Relatives', 'SoloTraveller', 'Title']\n",
    "X_train = pd.get_dummies(titanic_train[features])\n",
    "X_test = pd.get_dummies(titanic_test[features])\n",
    "y_train = titanic_train['Survived'].values\n",
    "y_true = gensub['Survived'].values"
   ]
  },
  {
   "cell_type": "code",
   "execution_count": 307,
   "id": "5cbda040-dc80-4dfd-8137-4eb9ff0da866",
   "metadata": {},
   "outputs": [
    {
     "data": {
      "text/plain": [
       "Pclass                0\n",
       "Age                   0\n",
       "Relatives             0\n",
       "Sex_female            0\n",
       "Sex_male              0\n",
       "Embarked_C            0\n",
       "Embarked_Q            0\n",
       "Embarked_S            0\n",
       "SoloTraveller_No      0\n",
       "SoloTraveller_Yes     0\n",
       "Title_Capt            0\n",
       "Title_Col             0\n",
       "Title_Don             0\n",
       "Title_Dr              0\n",
       "Title_Jonkheer        0\n",
       "Title_Lady            0\n",
       "Title_Major           0\n",
       "Title_Master          0\n",
       "Title_Miss            0\n",
       "Title_Mlle            0\n",
       "Title_Mme             0\n",
       "Title_Mr              0\n",
       "Title_Mrs             0\n",
       "Title_Ms              0\n",
       "Title_Rev             0\n",
       "Title_Sir             0\n",
       "Title_the Countess    0\n",
       "dtype: int64"
      ]
     },
     "execution_count": 307,
     "metadata": {},
     "output_type": "execute_result"
    }
   ],
   "source": [
    "X_train.isna().sum()"
   ]
  },
  {
   "cell_type": "code",
   "execution_count": null,
   "id": "9b1aa393-a47c-4d1c-af18-d1142c578459",
   "metadata": {},
   "outputs": [],
   "source": []
  },
  {
   "cell_type": "code",
   "execution_count": 308,
   "id": "33a8ea39-7bf7-438a-b88d-8bb1a28d2e58",
   "metadata": {},
   "outputs": [],
   "source": [
    "cols = X_train.columns.union(X_test.columns)\n",
    "\n",
    "X_train = X_train.reindex(cols, axis=1, fill_value=0)\n",
    "X_test = X_test.reindex(cols, axis=1, fill_value=0)"
   ]
  },
  {
   "cell_type": "code",
   "execution_count": 309,
   "id": "6d1d9db4-209e-48a1-bf8b-cd42a585bf1a",
   "metadata": {},
   "outputs": [
    {
     "data": {
      "text/plain": [
       "Age                   0\n",
       "Embarked_C            0\n",
       "Embarked_Q            0\n",
       "Embarked_S            0\n",
       "Pclass                0\n",
       "Relatives             0\n",
       "Sex_female            0\n",
       "Sex_male              0\n",
       "SoloTraveller_No      0\n",
       "SoloTraveller_Yes     0\n",
       "Title_Capt            0\n",
       "Title_Col             0\n",
       "Title_Don             0\n",
       "Title_Dona            0\n",
       "Title_Dr              0\n",
       "Title_Jonkheer        0\n",
       "Title_Lady            0\n",
       "Title_Major           0\n",
       "Title_Master          0\n",
       "Title_Miss            0\n",
       "Title_Mlle            0\n",
       "Title_Mme             0\n",
       "Title_Mr              0\n",
       "Title_Mrs             0\n",
       "Title_Ms              0\n",
       "Title_Rev             0\n",
       "Title_Sir             0\n",
       "Title_the Countess    0\n",
       "dtype: int64"
      ]
     },
     "execution_count": 309,
     "metadata": {},
     "output_type": "execute_result"
    }
   ],
   "source": [
    "X_train.isna().sum()"
   ]
  },
  {
   "cell_type": "code",
   "execution_count": 310,
   "id": "c59f07bb-f8d2-4c7a-8a97-c596f5cc7c2e",
   "metadata": {},
   "outputs": [],
   "source": [
    "model_params = {\n",
    "    'knn': {\n",
    "        'model': KNeighborsClassifier(),\n",
    "        'params': {\n",
    "            'n_neighbors': [1, 2, 3, 4, 5, 6, 7, 8, 9, 10], \n",
    "            'weights': ['uniform', 'distance'], \n",
    "            'algorithm': ['auto', 'ball_tree', 'kd_tree', 'brute']\n",
    "        }\n",
    "    },\n",
    "    'logistic_regression': {\n",
    "        'model': LogisticRegression(solver='liblinear', random_state=42),\n",
    "        'params': { \n",
    "            'penalty': ['l1', 'l2'], \n",
    "            'C': [0.1, 1, 10]\n",
    "        }\n",
    "    }, \n",
    "    'tree': {\n",
    "        'model': DecisionTreeClassifier(max_depth=5, random_state=42), \n",
    "        'params': {\n",
    "            'max_depth': [None, 1, 2, 3, 4, 5, 6, 7, 8, 9, 10], \n",
    "            'min_samples_split': [2, 3, 4, 5], \n",
    "        }\n",
    "    }\n",
    "}"
   ]
  },
  {
   "cell_type": "code",
   "execution_count": 311,
   "id": "862b2924-c63e-4123-937f-6e5d36fb284c",
   "metadata": {},
   "outputs": [
    {
     "name": "stdout",
     "output_type": "stream",
     "text": [
      "Fitting 5 folds for each of 80 candidates, totalling 400 fits\n",
      "Fitting 5 folds for each of 6 candidates, totalling 30 fits\n",
      "Fitting 5 folds for each of 44 candidates, totalling 220 fits\n"
     ]
    }
   ],
   "source": [
    "scores = []\n",
    "\n",
    "for model_name, mp in model_params.items():\n",
    "    clf = GridSearchCV(mp['model'], mp['params'], cv=5, return_train_score=False, verbose=1)\n",
    "    clf.fit(X_train, y_train)\n",
    "    scores.append({\n",
    "        'model': model_name, \n",
    "        'best_score': clf.best_score_, \n",
    "        'best_params': clf.best_params_, \n",
    "        'best_estimator': clf.best_estimator_\n",
    "    })"
   ]
  },
  {
   "cell_type": "code",
   "execution_count": 312,
   "id": "522fe8df-255e-42e3-a6c9-5928d2af8c43",
   "metadata": {},
   "outputs": [
    {
     "data": {
      "text/plain": [
       "[{'model': 'knn',\n",
       "  'best_score': 0.8069612704789405,\n",
       "  'best_params': {'algorithm': 'kd_tree',\n",
       "   'n_neighbors': 5,\n",
       "   'weights': 'uniform'},\n",
       "  'best_estimator': KNeighborsClassifier(algorithm='kd_tree')},\n",
       " {'model': 'logistic_regression',\n",
       "  'best_score': 0.8260435628648548,\n",
       "  'best_params': {'C': 1, 'penalty': 'l1'},\n",
       "  'best_estimator': LogisticRegression(C=1, penalty='l1', random_state=42, solver='liblinear')},\n",
       " {'model': 'tree',\n",
       "  'best_score': 0.8204067541271736,\n",
       "  'best_params': {'max_depth': 3, 'min_samples_split': 2},\n",
       "  'best_estimator': DecisionTreeClassifier(max_depth=3, random_state=42)}]"
      ]
     },
     "execution_count": 312,
     "metadata": {},
     "output_type": "execute_result"
    }
   ],
   "source": [
    "scores"
   ]
  },
  {
   "cell_type": "markdown",
   "id": "c53bd25e-b037-4238-a103-5f86a8d2f329",
   "metadata": {},
   "source": [
    "## Доп"
   ]
  },
  {
   "cell_type": "markdown",
   "id": "4d8db48a-27a0-43ee-80aa-132f956ab27d",
   "metadata": {},
   "source": [
    "### Полиномы Чебышева"
   ]
  },
  {
   "cell_type": "markdown",
   "id": "bc299b42-ca58-419c-8a33-f0aea266f2d9",
   "metadata": {},
   "source": [
    "x = -1:0.01:1;\n",
    "T = [ones(size(x)); x];\n",
    "for n = 3:6\n",
    "    T(n, :) = 2*x.*T(n - 1, :) - T(n - 2, :);\n",
    "end\n",
    "plot(x, T)"
   ]
  },
  {
   "cell_type": "code",
   "execution_count": 59,
   "id": "83ec9077-8b46-4cae-8c5d-c560791bd349",
   "metadata": {},
   "outputs": [],
   "source": [
    "x = np.arange(-1, 1.01, 0.01, dtype=float)\n",
    "T = np.vstack([np.ones_like(x), x])\n",
    "\n",
    "for n in range(2, 7):\n",
    "    T_n = 2 * x * T[n - 1, :] - T[n - 2, :]\n",
    "    T = np.vstack([T, T_n])"
   ]
  },
  {
   "cell_type": "code",
   "execution_count": 60,
   "id": "e6a0453c-73b9-4585-a99c-13ee97ea4cdf",
   "metadata": {},
   "outputs": [
    {
     "data": {
      "image/png": "[encoded data removed]",
      "text/plain": [
       "<Figure size 432x288 with 1 Axes>"
      ]
     },
     "metadata": {
      "needs_background": "light"
     },
     "output_type": "display_data"
    }
   ],
   "source": [
    "plt.plot(x, T.T)\n",
    "plt.xlabel('x')\n",
    "plt.ylabel('T_n(x)')\n",
    "plt.title('Полиномы Чебышева')\n",
    "plt.legend([f'T_{n}(x)' for n in range(T.shape[0])])\n",
    "plt.show()"
   ]
  },
  {
   "cell_type": "markdown",
   "id": "b3e9ddbf-e5cb-4082-b4be-64a336651c5e",
   "metadata": {},
   "source": [
    "MLPClassifier -разобраться и рассказать\n",
    "\n",
    "MLPClassifier в библиотеке scikit-learn представляет собой классификатор на основе многослойного персептрона (MLP), который является видом искусственной нейронной сети. MLP является мощным классом алгоритмов машинного обучения, способных моделировать сложные нелинейные отображения между входными и выходными данными."
   ]
  },
  {
   "cell_type": "code",
   "execution_count": 32,
   "id": "5ffc73a7-27df-4d0d-b7bb-ed20a77d55e6",
   "metadata": {},
   "outputs": [],
   "source": [
    "from sklearn.neural_network import MLPClassifier, MLPRegressor\n",
    "from sklearn import metrics\n",
    "from sklearn import datasets"
   ]
  },
  {
   "cell_type": "markdown",
   "id": "3f5cf6b0-8742-454e-b783-2c28b04a46fa",
   "metadata": {},
   "source": [
    "### Classification"
   ]
  },
  {
   "cell_type": "code",
   "execution_count": 36,
   "id": "53a07743-29eb-4cb4-9d3b-70e28b4a4fc7",
   "metadata": {},
   "outputs": [],
   "source": [
    "X, y = datasets.make_classification(n_features = 5, n_classes = 2, n_samples = 100) "
   ]
  },
  {
   "cell_type": "code",
   "execution_count": 37,
   "id": "8cc8e63f-40b3-4cfd-a816-64e081843fca",
   "metadata": {},
   "outputs": [],
   "source": [
    "X_train, X_test, y_train, y_test = train_test_split(X, y)"
   ]
  },
  {
   "cell_type": "code",
   "execution_count": 38,
   "id": "4f1624fe-c1a0-4ad7-9690-28c5deef1f8d",
   "metadata": {},
   "outputs": [
    {
     "data": {
      "text/plain": [
       "MLPClassifier(max_iter=5000)"
      ]
     },
     "execution_count": 38,
     "metadata": {},
     "output_type": "execute_result"
    }
   ],
   "source": [
    "model = MLPClassifier(max_iter = 5000)\n",
    "model.fit(X_train, y_train)"
   ]
  },
  {
   "cell_type": "code",
   "execution_count": 39,
   "id": "88d1bf53-7b4c-4617-a97c-cc6202401396",
   "metadata": {},
   "outputs": [],
   "source": [
    "y_pred = model.predict(X_test)"
   ]
  },
  {
   "cell_type": "code",
   "execution_count": 40,
   "id": "6277aa63-a00f-430b-8844-263622128de3",
   "metadata": {},
   "outputs": [
    {
     "data": {
      "text/plain": [
       "0.92"
      ]
     },
     "execution_count": 40,
     "metadata": {},
     "output_type": "execute_result"
    }
   ],
   "source": [
    "accuracy_score(y_test, y_pred)"
   ]
  },
  {
   "cell_type": "code",
   "execution_count": 41,
   "id": "08e31e01-f21d-4fed-834d-719fe26b6627",
   "metadata": {},
   "outputs": [
    {
     "data": {
      "text/plain": [
       "array([[12,  1],\n",
       "       [ 1, 11]], dtype=int64)"
      ]
     },
     "execution_count": 41,
     "metadata": {},
     "output_type": "execute_result"
    }
   ],
   "source": [
    "metrics.confusion_matrix(y_test, y_pred)"
   ]
  },
  {
   "cell_type": "code",
   "execution_count": 42,
   "id": "3790e683-2664-42e7-a9ea-087adb5e635c",
   "metadata": {},
   "outputs": [
    {
     "data": {
      "text/plain": [
       "array([0, 1])"
      ]
     },
     "execution_count": 42,
     "metadata": {},
     "output_type": "execute_result"
    }
   ],
   "source": [
    "model.classes_"
   ]
  },
  {
   "cell_type": "code",
   "execution_count": 46,
   "id": "f8894e30-9e42-4b0e-ae5b-e2ed5c2246f8",
   "metadata": {},
   "outputs": [
    {
     "data": {
      "text/plain": [
       "0.07415656073701873"
      ]
     },
     "execution_count": 46,
     "metadata": {},
     "output_type": "execute_result"
    }
   ],
   "source": [
    "# model.coefs_\n",
    "model.loss_"
   ]
  },
  {
   "cell_type": "code",
   "execution_count": 47,
   "id": "0102e959-8c34-4a0b-a85f-e394b5e993a9",
   "metadata": {},
   "outputs": [
    {
     "data": {
      "text/plain": [
       "1235"
      ]
     },
     "execution_count": 47,
     "metadata": {},
     "output_type": "execute_result"
    }
   ],
   "source": [
    "model.n_iter_"
   ]
  },
  {
   "cell_type": "code",
   "execution_count": 48,
   "id": "164dfa9b-a549-4ae3-9bb7-97516e1bf027",
   "metadata": {},
   "outputs": [
    {
     "data": {
      "text/plain": [
       "'logistic'"
      ]
     },
     "execution_count": 48,
     "metadata": {},
     "output_type": "execute_result"
    }
   ],
   "source": [
    "model.out_activation_"
   ]
  },
  {
   "cell_type": "code",
   "execution_count": 51,
   "id": "47806f59-82f6-485f-aa96-858230c4628a",
   "metadata": {},
   "outputs": [
    {
     "data": {
      "text/plain": [
       "0.92"
      ]
     },
     "execution_count": 51,
     "metadata": {},
     "output_type": "execute_result"
    }
   ],
   "source": [
    "model.score(X_test, y_test)"
   ]
  },
  {
   "cell_type": "markdown",
   "id": "5ff9759e-8fbb-450d-8684-a01ab55690d1",
   "metadata": {},
   "source": [
    "* hidden_layer_sizes - tuple, length = n_layers-2, значение по умолчанию (100,) i-й элемент представляет количество нейронов в i-м скрытом слое.\n",
    "\n",
    "* активация - {'identity', 'logistic', 'tanh', 'relu'}, функция активации по умолчанию 'relu' скрытого слоя: 'identity', активация без операции, полезна для достижения линейных узких мест, return f (x) = x ; 'Logistic', функция логистической сигмоиды, возвращает f (x) = 1 / (1 + exp (-x)); 'tanh', гиперболическая функция tan, возвращает f (x) = tanh (x); 'relu' , Линейная единичная функция после выпрямления возвращает f (x) = max (0, x)\n",
    "\n",
    "* solver - {‘Lbfgs’, ‘sgd’, «adam»}, по умолчанию «adam». Решатель для оптимизации веса: «lbfgs» - оптимизатор семейства квазиньютоновских методов, «sgd» относится к стохастическому градиентному спуску. «Адам» относится к оптимизатору на основе стохастического градиента, предложенному Кингмой, Дидериком и Джимми Ба. Примечание: решатель по умолчанию \"adam\" хорошо работает с временем обучения и оценками проверки на относительно больших наборах данных (содержащих тысячи обучающих выборок или более). Однако для небольших наборов данных «lbfgs» может сходиться быстрее и работать лучше.\n",
    "\n",
    "* learning_rate - {'Constant', 'invscaling', 'adaptive'}, по умолчанию 'constant'. Используется для обновления веса. Используется только когда solver = 'sgd'. 'Constant' - это постоянная скорость обучения, заданная 'learning_rate_init'; ' invscaling »использует индекс обратного масштабирования« power_t »для постепенного уменьшения скорости обучения learning_rate_ на каждом временном шаге« t »,ffective_learning_rate = learning_rate_init / pow (t, power_t); до тех пор, пока потери в обучении продолжают уменьшаться,« адаптивный »будет поддерживать скорость обучения на уровне \"learning_rate_init\".\n",
    "\n",
    "* max_iter - int, необязательный, значение по умолчанию 200. Максимальное количество итераций. Решатель выполняет итерации до сходимости (определяется по 'tol') или до числа итераций."
   ]
  },
  {
   "cell_type": "code",
   "execution_count": null,
   "id": "ea49887d-1cdc-4cac-afb2-6657cf1c39b3",
   "metadata": {},
   "outputs": [],
   "source": []
  },
  {
   "cell_type": "markdown",
   "id": "7450f3a4-ebd2-45e8-8711-444b6affd942",
   "metadata": {},
   "source": [
    "### Regression"
   ]
  },
  {
   "cell_type": "code",
   "execution_count": 30,
   "id": "a97f3cee-97b3-4ae1-bc26-9544c406fc04",
   "metadata": {},
   "outputs": [],
   "source": [
    "X, y = datasets.make_regression(n_features = 5, n_samples = 100) "
   ]
  },
  {
   "cell_type": "code",
   "execution_count": 31,
   "id": "473e0f06-3c07-4680-ac27-aeced6b1b2fa",
   "metadata": {},
   "outputs": [],
   "source": [
    "X_train, X_test, y_train, y_test = train_test_split(X, y)"
   ]
  },
  {
   "cell_type": "code",
   "execution_count": 33,
   "id": "bac05b0d-2c9c-4ee4-8a4d-c3bf40845d5c",
   "metadata": {},
   "outputs": [
    {
     "data": {
      "text/plain": [
       "MLPRegressor(max_iter=500000)"
      ]
     },
     "execution_count": 33,
     "metadata": {},
     "output_type": "execute_result"
    }
   ],
   "source": [
    "model = MLPRegressor(max_iter = 500000)\n",
    "model.fit(X_train, y_train)"
   ]
  },
  {
   "cell_type": "code",
   "execution_count": 34,
   "id": "3c37dee6-5cab-459f-94ae-e9705752fc90",
   "metadata": {},
   "outputs": [],
   "source": [
    "y_pred = model.predict(X_test)"
   ]
  },
  {
   "cell_type": "code",
   "execution_count": 35,
   "id": "bfec8da8-eb86-4c6f-8113-e8edbbe53128",
   "metadata": {},
   "outputs": [
    {
     "data": {
      "text/plain": [
       "2.8005124093007265"
      ]
     },
     "execution_count": 35,
     "metadata": {},
     "output_type": "execute_result"
    }
   ],
   "source": [
    "metrics.mean_squared_error(y_test, y_pred)"
   ]
  },
  {
   "cell_type": "code",
   "execution_count": null,
   "id": "4239a3c8-715e-4f12-a7d1-bbd89d4c3287",
   "metadata": {},
   "outputs": [],
   "source": []
  },
  {
   "cell_type": "code",
   "execution_count": 1,
   "id": "d84fef81-d617-44b5-a742-2d6468b91e5c",
   "metadata": {},
   "outputs": [
    {
     "name": "stdout",
     "output_type": "stream",
     "text": [
      "Automatically created module for IPython interactive environment\n",
      "Iteration 1, loss = 0.32009978\n",
      "Iteration 2, loss = 0.15347534\n",
      "Iteration 3, loss = 0.11544755\n",
      "Iteration 4, loss = 0.09279764\n",
      "Iteration 5, loss = 0.07889367\n",
      "Iteration 6, loss = 0.07170497\n",
      "Iteration 7, loss = 0.06282111\n",
      "Iteration 8, loss = 0.05530788\n",
      "Iteration 9, loss = 0.04960484\n",
      "Iteration 10, loss = 0.04645355\n",
      "Training set score: 0.986800\n",
      "Test set score: 0.970000\n"
     ]
    },
    {
     "data": {
      "image/png": "[encoded data removed]",
      "text/plain": [
       "<Figure size 432x288 with 16 Axes>"
      ]
     },
     "metadata": {},
     "output_type": "display_data"
    }
   ],
   "source": [
    "import warnings\n",
    "\n",
    "import matplotlib.pyplot as plt\n",
    "from sklearn.datasets import fetch_openml\n",
    "from sklearn.exceptions import ConvergenceWarning\n",
    "from sklearn.neural_network import MLPClassifier\n",
    "\n",
    "print(__doc__)\n",
    "\n",
    "# Load data from https://www.openml.org/d/554\n",
    "X, y = fetch_openml('mnist_784', version=1, return_X_y=True)\n",
    "X = X / 255.\n",
    "\n",
    "# rescale the data, use the traditional train/test split\n",
    "X_train, X_test = X[:60000], X[60000:]\n",
    "y_train, y_test = y[:60000], y[60000:]\n",
    "\n",
    "mlp = MLPClassifier(hidden_layer_sizes=(50,), max_iter=10, alpha=1e-4,\n",
    "                    solver='sgd', verbose=10, random_state=1,\n",
    "                    learning_rate_init=.1)\n",
    "\n",
    "# this example won't converge because of CI's time constraints, so we catch the\n",
    "# warning and are ignore it here\n",
    "with warnings.catch_warnings():\n",
    "    warnings.filterwarnings(\"ignore\", category=ConvergenceWarning,\n",
    "                            module=\"sklearn\")\n",
    "    mlp.fit(X_train, y_train)\n",
    "\n",
    "print(\"Training set score: %f\" % mlp.score(X_train, y_train))\n",
    "print(\"Test set score: %f\" % mlp.score(X_test, y_test))\n",
    "\n",
    "fig, axes = plt.subplots(4, 4)\n",
    "# use global min / max to ensure all weights are shown on the same scale\n",
    "vmin, vmax = mlp.coefs_[0].min(), mlp.coefs_[0].max()\n",
    "for coef, ax in zip(mlp.coefs_[0].T, axes.ravel()):\n",
    "    ax.matshow(coef.reshape(28, 28), cmap=plt.cm.gray, vmin=.5 * vmin,\n",
    "               vmax=.5 * vmax)\n",
    "    ax.set_xticks(())\n",
    "    ax.set_yticks(())\n",
    "\n",
    "plt.show()"
   ]
  },
  {
   "cell_type": "code",
   "execution_count": null,
   "id": "74e194fd-0d2c-4df6-9287-509d5749a77d",
   "metadata": {},
   "outputs": [],
   "source": []
  },
  {
   "cell_type": "code",
   "execution_count": null,
   "id": "a0488773-9c0a-4c80-9bfc-5a491a8b89e4",
   "metadata": {},
   "outputs": [],
   "source": []
  },
  {
   "cell_type": "code",
   "execution_count": null,
   "id": "65de75c9-1c52-43ef-a859-be076223eca0",
   "metadata": {},
   "outputs": [],
   "source": []
  },
  {
   "cell_type": "code",
   "execution_count": null,
   "id": "5123c840-bae1-4f57-80a6-5ffe0bde68ce",
   "metadata": {},
   "outputs": [],
   "source": []
  },
  {
   "cell_type": "code",
   "execution_count": null,
   "id": "4c79e061-b599-4c91-8b4c-f87ec6372691",
   "metadata": {},
   "outputs": [],
   "source": []
  },
  {
   "cell_type": "code",
   "execution_count": null,
   "id": "f29af7de-7745-450b-b536-4bca7bd2fcbe",
   "metadata": {},
   "outputs": [],
   "source": []
  },
  {
   "cell_type": "code",
   "execution_count": null,
   "id": "79f1afb8-f883-4938-ae56-943ce47c3305",
   "metadata": {},
   "outputs": [],
   "source": []
  },
  {
   "cell_type": "code",
   "execution_count": null,
   "id": "2856d0b3-1959-43ae-8f6a-56ab0702eb71",
   "metadata": {},
   "outputs": [],
   "source": []
  },
  {
   "cell_type": "code",
   "execution_count": null,
   "id": "f7e324f1-b8d0-435e-be3e-5c2f7d839ec4",
   "metadata": {},
   "outputs": [],
   "source": []
  },
  {
   "cell_type": "markdown",
   "id": "5599cc05-30bc-4cba-8915-63e301b62e7f",
   "metadata": {},
   "source": [
    "#### Пример\n",
    "\n",
    "1. \"Кошки любят молоко\"\n",
    "2. \"Кошки любят лазить по деревьям\"\n",
    "\n",
    "Тогда:\n",
    "- TF(\"кошки\", документ 1) = 1/3, потому что \"кошки\" встречается один раз из трех слов.\n",
    "- IDF(\"кошки\", корпус) = log(2/2) + 1 = 1, потому что \"кошки\" встречается в обоих документах.\n",
    "- TF-IDF(\"кошки\", документ 1, корпус) = (1/3) * 1 = 1/3\n",
    "\n",
    "Таким образом, вектор для документа \"Кошки любят молоко\" может быть [1/3, 0, 0, 1/3, 1/3], где каждый элемент представляет TF-IDF для каждого слова в корпусе (слова: \"кошки\", \"любят\", \"молоко\", \"лазить\", \"деревьям\").\n",
    "\n",
    "Это TF-IDF векторизация позволяет учесть как частоту слова в конкретном документе, так и его важность в контексте всего корпуса документов."
   ]
  }
 ],
 "metadata": {
  "kernelspec": {
   "display_name": "Python 3 (ipykernel)",
   "language": "python",
   "name": "python3"
  },
  "language_info": {
   "codemirror_mode": {
    "name": "ipython",
    "version": 3
   },
   "file_extension": ".py",
   "mimetype": "text/x-python",
   "name": "python",
   "nbconvert_exporter": "python",
   "pygments_lexer": "ipython3",
   "version": "3.9.7"
  }
 },
 "nbformat": 4,
 "nbformat_minor": 5
}
